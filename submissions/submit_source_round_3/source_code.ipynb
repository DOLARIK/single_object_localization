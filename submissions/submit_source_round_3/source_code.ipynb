{
 "cells": [
  {
   "cell_type": "markdown",
   "metadata": {},
   "source": [
    "# Importing Necessary Libraries"
   ]
  },
  {
   "cell_type": "code",
   "execution_count": 2,
   "metadata": {},
   "outputs": [
    {
     "name": "stderr",
     "output_type": "stream",
     "text": [
      "C:\\Users\\npl\\Anaconda3\\lib\\site-packages\\h5py\\__init__.py:36: FutureWarning: Conversion of the second argument of issubdtype from `float` to `np.floating` is deprecated. In future, it will be treated as `np.float64 == np.dtype(float).type`.\n",
      "  from ._conv import register_converters as _register_converters\n",
      "Using TensorFlow backend.\n"
     ]
    }
   ],
   "source": [
    "import numpy as np\n",
    "import cv2\n",
    "import os\n",
    "import matplotlib.pyplot as plt\n",
    "import pickle\n",
    "import xlrd\n",
    "import tensorflow as tf\n",
    "import keras\n",
    "from keras.models import Sequential\n",
    "from keras.layers import Dense, Conv2D, MaxPooling2D, Dropout, Activation, Flatten\n",
    "from keras.layers.normalization import BatchNormalization\n",
    "import keras.backend as K\n",
    "from keras.models import load_model\n",
    "import keras\n",
    "from keras.models import Model\n",
    "from keras.layers import Input, Conv2D, MaxPooling2D, Dense, Flatten, Conv3D, BatchNormalization, Add, ReLU, AveragePooling2D, ZeroPadding2D, Dropout\n",
    "import time\n",
    "\n",
    "%matplotlib inline"
   ]
  },
  {
   "cell_type": "markdown",
   "metadata": {},
   "source": [
    "# Data Preparation"
   ]
  },
  {
   "cell_type": "markdown",
   "metadata": {},
   "source": [
    "## Defining some funcitons"
   ]
  },
  {
   "cell_type": "code",
   "execution_count": 3,
   "metadata": {},
   "outputs": [],
   "source": [
    "def process(image):\n",
    "    \n",
    "    image_og = image\n",
    "    image = cv2.cvtColor(image, cv2.COLOR_BGR2GRAY)\n",
    "    some = cv2.resize(image, (100, 100))/255\n",
    "    some = some.reshape(1, 100, 100, 1)\n",
    "    \n",
    "    return some\n",
    "\n",
    "# Simplifying the 'pickling' process as we'll need this quite often\n",
    "def pickleIn(name):    \n",
    "    # 'name' - name of the file we wish to load (should be a string, eg. 'train_batch.pickle')\n",
    "    pickle_in = open(name,'rb')\n",
    "    return pickle.load(pickle_in)\n",
    "\n",
    "def pickleOut(name, to_be_stored):\n",
    "    # 'name' - name of the file we wish to store (should be a string, eg. 'train_batch.pickle')\n",
    "    # 'to_be_stored' - the variable of which we'll be making the \"pickle\" \n",
    "    pickle_out = open(name,'wb')\n",
    "    pickle.dump(to_be_stored, pickle_out)\n",
    "    pickle_out.close"
   ]
  },
  {
   "cell_type": "markdown",
   "metadata": {},
   "source": [
    "Below have we provided 4 variables - *'x_train', 'y_train', 'x_valid', 'y_valid'*\n",
    "\n",
    "'x_train' and 'x_valid' are 4D Tensors\n",
    "'y_train' and 'y_valid' are 2D Tensors\n",
    "\n",
    "All of them are initialized with '0'\n",
    "\n",
    "Now to train the model we have to feed it with actual 12000 images in the form of x_train (pre-processed) and 2000 images in x_valid and their respective labels in y_train and y_labels\n",
    "\n",
    "*Kindly refer Approach_text.pdf to know how to make the image labels*"
   ]
  },
  {
   "cell_type": "code",
   "execution_count": null,
   "metadata": {},
   "outputs": [],
   "source": [
    "x_train = np.zeros((12000,100,100,1))\n",
    "y_train = np.zeros((12000,4))\n",
    "x_valid = np.zeros((2000,100,100,1))\n",
    "y_valid = np.zeros((2000,4))"
   ]
  },
  {
   "cell_type": "markdown",
   "metadata": {},
   "source": [
    "Google drive link to *d2c_data.tar* - https://drive.google.com/open?id=1RVoKzP6IeulTmuLRg6cgsoVEr3RcJAe-\n",
    "\n",
    "It containes -\n",
    "    *x_train.pickle*\n",
    "    *y_train.pickle*\n",
    "    *x_valid.pickle*\n",
    "    *y_valid.pickle*"
   ]
  },
  {
   "cell_type": "code",
   "execution_count": 5,
   "metadata": {},
   "outputs": [],
   "source": [
    "# Write your code here or use this code of mine #\n",
    "\n",
    "# the Training Files\n",
    "x_train = pickleIn('x_train.pickle')\n",
    "y_train = pickleIn('y_train.pickle')\n",
    "x_valid = pickleIn('x_valid.pickle')\n",
    "y_valid = pickleIn('y_valid.pickle')"
   ]
  },
  {
   "cell_type": "markdown",
   "metadata": {},
   "source": [
    "# Training Phase"
   ]
  },
  {
   "cell_type": "markdown",
   "metadata": {},
   "source": [
    "## EITHER we can DIRECTLY LOAD the MODEL OR skip to 'Building our Model'"
   ]
  },
  {
   "cell_type": "markdown",
   "metadata": {},
   "source": [
    "We have stored the weights in the file named *model_0028.h5*\n",
    "\n",
    "and here is the google drive link to the model - https://drive.google.com/file/d/1WlQhOJZz4EEMkm8B6Y83trPUUEfya83C/view?usp=sharing"
   ]
  },
  {
   "cell_type": "code",
   "execution_count": 4,
   "metadata": {},
   "outputs": [],
   "source": [
    "model = load_model('model_0028.h5')"
   ]
  },
  {
   "cell_type": "markdown",
   "metadata": {},
   "source": [
    "## Building our Model"
   ]
  },
  {
   "cell_type": "code",
   "execution_count": null,
   "metadata": {},
   "outputs": [],
   "source": [
    "input_ = Input(shape = (100,100,1))\n",
    "\n",
    "layer = ZeroPadding2D(padding=(1, 1), data_format=None)(input_)\n",
    "\n",
    "layer = Conv2D(5, kernel_size=(2, 2), activation='relu')(layer)\n",
    "layer = Conv2D(5, (2, 2), activation='relu')(layer)\n",
    "layer_1 = BatchNormalization()(layer)\n",
    "\n",
    "layer = ZeroPadding2D(padding=(1, 1), data_format=None)(layer_1)\n",
    "\n",
    "layer = Conv2D(10, (2, 2), activation='relu')(layer)\n",
    "layer = Conv2D(10, (2, 2), activation='relu')(layer)\n",
    "layer = BatchNormalization()(layer)\n",
    "\n",
    "#Residual_1\n",
    "res_layer_1 = Conv2D(5, (1, 1), activation = 'relu')(layer)\n",
    "res_layer_1 = BatchNormalization()(res_layer_1)\n",
    "res_layer_1 = keras.layers.add([layer_1, res_layer_1])\n",
    "res_layer_1 = BatchNormalization()(res_layer_1)\n",
    "\n",
    "layer = AveragePooling2D(pool_size=(2, 2))(res_layer_1)\n",
    "\n",
    "layer = Conv2D(15, (2, 2), activation='relu')(layer)\n",
    "layer = Conv2D(15, (2, 2), activation='relu')(layer)\n",
    "layer_2 = BatchNormalization()(layer)\n",
    "\n",
    "layer = ZeroPadding2D(padding=(1, 1), data_format=None)(layer_2)\n",
    "\n",
    "layer = Conv2D(20, (2, 2), activation='relu')(layer)\n",
    "layer = Conv2D(20, (2, 2), activation='relu')(layer)\n",
    "layer = BatchNormalization()(layer)\n",
    "\n",
    "#Residual_2\n",
    "res_layer_2 = Conv2D(15, (1, 1), activation = 'relu')(layer)\n",
    "res_layer_2 = BatchNormalization()(res_layer_2)\n",
    "res_layer_2 = keras.layers.add([layer_2, res_layer_2])\n",
    "res_layer_2 = Dropout(.2)(res_layer_2)\n",
    "res_layer_2 = BatchNormalization()(res_layer_2)\n",
    "\n",
    "layer = AveragePooling2D(pool_size=(2, 2))(res_layer_2)\n",
    "\n",
    "layer = Conv2D(20, (2, 2), activation='relu')(layer)\n",
    "layer = Conv2D(20, (2, 2), activation='relu')(layer)\n",
    "layer_3 = BatchNormalization()(layer)\n",
    "\n",
    "layer = Conv2D(20, (3, 3), activation='relu')(layer_3)\n",
    "layer = Conv2D(20, (3, 3), activation='relu')(layer)\n",
    "\n",
    "\n",
    "layer = Dropout(0.2)(layer)\n",
    "layer = BatchNormalization()(layer)\n",
    "\n",
    "layer_4 = AveragePooling2D(pool_size=(2, 2))(layer)\n",
    "\n",
    "layer = Flatten()(layer_4)\n",
    "\n",
    "layer_7 = Dense(500, activation='relu')(layer)\n",
    "layer_8 = Dense(500, activation='relu')(layer_7)\n",
    "\n",
    "layer = Dropout(0.5)(layer_8)\n",
    "\n",
    "box = Dense(4)(layer)\n",
    "\n"
   ]
  },
  {
   "cell_type": "markdown",
   "metadata": {},
   "source": [
    "## Compliling Our Model"
   ]
  },
  {
   "cell_type": "code",
   "execution_count": null,
   "metadata": {},
   "outputs": [],
   "source": [
    "model = Model(inputs = input_, outputs = box)\n",
    "\n",
    "model.compile(loss=keras.losses.mean_squared_error,\n",
    "              optimizer=keras.optimizers.Adam(),\n",
    "              metrics=['accuracy'])"
   ]
  },
  {
   "cell_type": "markdown",
   "metadata": {},
   "source": [
    "## Training the Model"
   ]
  },
  {
   "cell_type": "code",
   "execution_count": null,
   "metadata": {},
   "outputs": [],
   "source": [
    "epochs = 100\n",
    "batch_size = 480\n",
    "\n",
    "model.fit(x_train_augment, y_train_augment,\n",
    "          batch_size=batch_size,\n",
    "          epochs=epochs,\n",
    "          verbose=1,\n",
    "          class_weight=[1,1,10,10],\n",
    "          validation_data=(x_test_augment, y_test_augment))\n",
    "\n",
    "score = model.evaluate(x_test_augment, y_test_augment, verbose=0)\n",
    "\n",
    "print('Test loss:', score[0])\n",
    "print('Test accuracy:', score[1])"
   ]
  },
  {
   "cell_type": "markdown",
   "metadata": {},
   "source": [
    "# Prediction Phase"
   ]
  },
  {
   "cell_type": "markdown",
   "metadata": {},
   "source": [
    "## Test Data Preparation"
   ]
  },
  {
   "cell_type": "markdown",
   "metadata": {},
   "source": [
    "*x_test* is also a 4D Tensor of size *(Number, 100, 100, 1)* where *Number* is the number of test samples one plans to give to the model to predict "
   ]
  },
  {
   "cell_type": "code",
   "execution_count": null,
   "metadata": {},
   "outputs": [],
   "source": [
    "Number = #Enter a number here#\n",
    "\n",
    "x_test = np.zeros((Number, 100, 100, 1))"
   ]
  },
  {
   "cell_type": "code",
   "execution_count": null,
   "metadata": {},
   "outputs": [],
   "source": [
    "for i in range(Number):\n",
    "    \n",
    "    im_loc = 'C:/location/example' # here will the location of images go in\n",
    "    \n",
    "    x_test[i,:,:,:] = process(cv2.imread(im_loc))"
   ]
  },
  {
   "cell_type": "code",
   "execution_count": 30,
   "metadata": {},
   "outputs": [],
   "source": [
    "pred = model.predict(x_test[0:2,:,:,:])"
   ]
  },
  {
   "cell_type": "code",
   "execution_count": 31,
   "metadata": {},
   "outputs": [
    {
     "name": "stdout",
     "output_type": "stream",
     "text": [
      "[[0.5267871  0.5094267  0.35535783 0.66509175]\n",
      " [0.50417024 0.52293444 0.7433772  0.43731084]]\n"
     ]
    }
   ],
   "source": [
    "print(pred)"
   ]
  },
  {
   "cell_type": "markdown",
   "metadata": {},
   "source": [
    "## Defining Some Functions "
   ]
  },
  {
   "cell_type": "markdown",
   "metadata": {},
   "source": [
    "***iou*** would be used to calculate the Intersection over Union for bounding boxes"
   ]
  },
  {
   "cell_type": "code",
   "execution_count": null,
   "metadata": {},
   "outputs": [],
   "source": [
    "def iou(y_true, y_pred):\n",
    "\n",
    "    x_t = y_true[0]\n",
    "    y_t = y_true[1]\n",
    "    w_t = y_true[2]\n",
    "    h_t = y_true[3]\n",
    "\n",
    "    # Calculating the Co-ordinates from Center and Length Values (Actual Square)\n",
    "    x1_t = ((2*x_t) - w_t)/2\n",
    "    y1_t = ((2*y_t) - h_t)/2\n",
    "    x2_t = ((2*x_t) + w_t)/2\n",
    "    y2_t = ((2*y_t) + h_t)/2\n",
    "\n",
    "    x_p = y_pred[0]\n",
    "    y_p = y_pred[1]\n",
    "    w_p = y_pred[2]\n",
    "    h_p = y_pred[3]\n",
    "\n",
    "    # Calculating the Co-ordinates from center and length values (Prediction Square)\n",
    "    x1_p = ((2*x_p) - w_p)/2\n",
    "    y1_p = ((2*y_p) - h_p)/2\n",
    "    x2_p = ((2*x_p) + w_p)/2\n",
    "    y2_p = ((2*y_p) + h_p)/2\n",
    "\n",
    "    # Calculating the co-ordinates of intersecting square\n",
    "    x1 = max(x1_t,x1_p)\n",
    "    y1 = max(y1_t,y1_p)\n",
    "    x2 = min(x2_t,x2_p)\n",
    "    y2 = min(y2_t,y2_p)\n",
    "\n",
    "    # Area of Intersection\n",
    "    I_area = (x2-x1)*(y2-y1)\n",
    "\n",
    "    true_area = (x2_t-x1_t)*(y2_t-y1_t)\n",
    "    pred_area = (x2_p-x1_p)*(y2_p-y1_p)\n",
    "\n",
    "    # Union of both regions\n",
    "    U_area = true_area + pred_area - I_area\n",
    "\n",
    "    # Intersection over Union\n",
    "    IOU = I_area/U_area\n",
    "\n",
    "    return IOU"
   ]
  },
  {
   "cell_type": "markdown",
   "metadata": {},
   "source": [
    "If given the location of a particular image then we can use the following definition over the image"
   ]
  },
  {
   "cell_type": "code",
   "execution_count": 5,
   "metadata": {},
   "outputs": [],
   "source": [
    "def predict_1x100x100x1(image):\n",
    "    \n",
    "    some = image[i,:,:,:]\n",
    "\n",
    "    plt.imshow(some.reshape(100,100))\n",
    "    plt.plot(100*pred[i,0],100*pred[i,1],'ro')\n",
    "\n",
    "    x1_ = 100*((2*pred[i,0]) - pred[i,2])/2\n",
    "    y1_ = 100*((2*pred[i,1]) - pred[i,3])/2\n",
    "    x2_ = 100*((2*pred[i,0]) + pred[i,2])/2\n",
    "    y2_ = 100*((2*pred[i,1]) + pred[i,3])/2\n",
    "\n",
    "    plt.plot(x1_,y1_,'ro')\n",
    "    plt.plot(x2_,y2_,'ro')\n",
    "    plt.plot(x1_,y2_,'ro')\n",
    "    plt.plot(x2_,y1_,'ro')\n",
    "    \n",
    "def predict_640x480x3(image, model):\n",
    "    \n",
    "    # image - is the original image without any preprocessing step\n",
    "    # model - is the model we used to train\n",
    "    start = time.time()\n",
    "    pred = model.predict(process(image))\n",
    "    end = time.time()\n",
    "\n",
    "    x1_ = 640*((2*pred[0,0]) - pred[0,2])/2\n",
    "    y1_ = 480*((2*pred[0,1]) - pred[0,3])/2\n",
    "    x2_ = 640*((2*pred[0,0]) + pred[0,2])/2\n",
    "    y2_ = 480*((2*pred[0,1]) + pred[0,3])/2\n",
    "    \n",
    "    cv2.rectangle(image, (int(x1_),int(y1_)), (int(x2_),int(y2_)),(0,0,255),3)\n",
    "    \n",
    "    plt.imshow(cv2.cvtColor(image, cv2.COLOR_BGR2RGB))\n",
    "\n",
    "    print(\"Time taken: {} seconds\".format(end - start))\n"
   ]
  },
  {
   "cell_type": "code",
   "execution_count": 6,
   "metadata": {},
   "outputs": [
    {
     "name": "stdout",
     "output_type": "stream",
     "text": [
      "__________________________________________________________________________________________________\n",
      "Layer (type)                    Output Shape         Param #     Connected to                     \n",
      "==================================================================================================\n",
      "input_2 (InputLayer)            (None, 100, 100, 1)  0                                            \n",
      "__________________________________________________________________________________________________\n",
      "zero_padding2d_4 (ZeroPadding2D (None, 102, 102, 1)  0           input_2[0][0]                    \n",
      "__________________________________________________________________________________________________\n",
      "conv2d_15 (Conv2D)              (None, 101, 101, 5)  25          zero_padding2d_4[0][0]           \n",
      "__________________________________________________________________________________________________\n",
      "conv2d_16 (Conv2D)              (None, 100, 100, 5)  105         conv2d_15[0][0]                  \n",
      "__________________________________________________________________________________________________\n",
      "batch_normalization_11 (BatchNo (None, 100, 100, 5)  20          conv2d_16[0][0]                  \n",
      "__________________________________________________________________________________________________\n",
      "zero_padding2d_5 (ZeroPadding2D (None, 102, 102, 5)  0           batch_normalization_11[0][0]     \n",
      "__________________________________________________________________________________________________\n",
      "conv2d_17 (Conv2D)              (None, 101, 101, 10) 210         zero_padding2d_5[0][0]           \n",
      "__________________________________________________________________________________________________\n",
      "conv2d_18 (Conv2D)              (None, 100, 100, 10) 410         conv2d_17[0][0]                  \n",
      "__________________________________________________________________________________________________\n",
      "batch_normalization_12 (BatchNo (None, 100, 100, 10) 40          conv2d_18[0][0]                  \n",
      "__________________________________________________________________________________________________\n",
      "conv2d_19 (Conv2D)              (None, 100, 100, 5)  55          batch_normalization_12[0][0]     \n",
      "__________________________________________________________________________________________________\n",
      "batch_normalization_13 (BatchNo (None, 100, 100, 5)  20          conv2d_19[0][0]                  \n",
      "__________________________________________________________________________________________________\n",
      "add_3 (Add)                     (None, 100, 100, 5)  0           batch_normalization_11[0][0]     \n",
      "                                                                 batch_normalization_13[0][0]     \n",
      "__________________________________________________________________________________________________\n",
      "batch_normalization_14 (BatchNo (None, 100, 100, 5)  20          add_3[0][0]                      \n",
      "__________________________________________________________________________________________________\n",
      "average_pooling2d_4 (AveragePoo (None, 50, 50, 5)    0           batch_normalization_14[0][0]     \n",
      "__________________________________________________________________________________________________\n",
      "conv2d_20 (Conv2D)              (None, 49, 49, 15)   315         average_pooling2d_4[0][0]        \n",
      "__________________________________________________________________________________________________\n",
      "conv2d_21 (Conv2D)              (None, 48, 48, 15)   915         conv2d_20[0][0]                  \n",
      "__________________________________________________________________________________________________\n",
      "batch_normalization_15 (BatchNo (None, 48, 48, 15)   60          conv2d_21[0][0]                  \n",
      "__________________________________________________________________________________________________\n",
      "zero_padding2d_6 (ZeroPadding2D (None, 50, 50, 15)   0           batch_normalization_15[0][0]     \n",
      "__________________________________________________________________________________________________\n",
      "conv2d_22 (Conv2D)              (None, 49, 49, 20)   1220        zero_padding2d_6[0][0]           \n",
      "__________________________________________________________________________________________________\n",
      "conv2d_23 (Conv2D)              (None, 48, 48, 20)   1620        conv2d_22[0][0]                  \n",
      "__________________________________________________________________________________________________\n",
      "batch_normalization_16 (BatchNo (None, 48, 48, 20)   80          conv2d_23[0][0]                  \n",
      "__________________________________________________________________________________________________\n",
      "conv2d_24 (Conv2D)              (None, 48, 48, 15)   315         batch_normalization_16[0][0]     \n",
      "__________________________________________________________________________________________________\n",
      "batch_normalization_17 (BatchNo (None, 48, 48, 15)   60          conv2d_24[0][0]                  \n",
      "__________________________________________________________________________________________________\n",
      "add_4 (Add)                     (None, 48, 48, 15)   0           batch_normalization_15[0][0]     \n",
      "                                                                 batch_normalization_17[0][0]     \n",
      "__________________________________________________________________________________________________\n",
      "dropout_4 (Dropout)             (None, 48, 48, 15)   0           add_4[0][0]                      \n",
      "__________________________________________________________________________________________________\n",
      "batch_normalization_18 (BatchNo (None, 48, 48, 15)   60          dropout_4[0][0]                  \n",
      "__________________________________________________________________________________________________\n",
      "average_pooling2d_5 (AveragePoo (None, 24, 24, 15)   0           batch_normalization_18[0][0]     \n",
      "__________________________________________________________________________________________________\n",
      "conv2d_25 (Conv2D)              (None, 23, 23, 20)   1220        average_pooling2d_5[0][0]        \n",
      "__________________________________________________________________________________________________\n",
      "conv2d_26 (Conv2D)              (None, 22, 22, 20)   1620        conv2d_25[0][0]                  \n",
      "__________________________________________________________________________________________________\n",
      "batch_normalization_19 (BatchNo (None, 22, 22, 20)   80          conv2d_26[0][0]                  \n",
      "__________________________________________________________________________________________________\n",
      "conv2d_27 (Conv2D)              (None, 20, 20, 20)   3620        batch_normalization_19[0][0]     \n",
      "__________________________________________________________________________________________________\n",
      "conv2d_28 (Conv2D)              (None, 18, 18, 20)   3620        conv2d_27[0][0]                  \n",
      "__________________________________________________________________________________________________\n",
      "dropout_5 (Dropout)             (None, 18, 18, 20)   0           conv2d_28[0][0]                  \n",
      "__________________________________________________________________________________________________\n",
      "batch_normalization_20 (BatchNo (None, 18, 18, 20)   80          dropout_5[0][0]                  \n",
      "__________________________________________________________________________________________________\n",
      "average_pooling2d_6 (AveragePoo (None, 9, 9, 20)     0           batch_normalization_20[0][0]     \n",
      "__________________________________________________________________________________________________\n",
      "flatten_2 (Flatten)             (None, 1620)         0           average_pooling2d_6[0][0]        \n",
      "__________________________________________________________________________________________________\n",
      "dense_4 (Dense)                 (None, 500)          810500      flatten_2[0][0]                  \n",
      "__________________________________________________________________________________________________\n",
      "dense_5 (Dense)                 (None, 500)          250500      dense_4[0][0]                    \n",
      "__________________________________________________________________________________________________\n",
      "dropout_6 (Dropout)             (None, 500)          0           dense_5[0][0]                    \n",
      "__________________________________________________________________________________________________\n",
      "dense_6 (Dense)                 (None, 4)            2004        dropout_6[0][0]                  \n",
      "==================================================================================================\n",
      "Total params: 1,078,794\n",
      "Trainable params: 1,078,534\n",
      "Non-trainable params: 260\n",
      "__________________________________________________________________________________________________\n"
     ]
    }
   ],
   "source": [
    "model.summary()"
   ]
  },
  {
   "cell_type": "markdown",
   "metadata": {},
   "source": [
    "# Writing into *test.csv*"
   ]
  },
  {
   "cell_type": "code",
   "execution_count": null,
   "metadata": {},
   "outputs": [],
   "source": [
    "pred_submit = model_1.predict(x_submit) "
   ]
  },
  {
   "cell_type": "markdown",
   "metadata": {},
   "source": [
    "We first wrote the prediction values in *submit.xls* then copied the cells in *test.csv* and uploaded it on the portal"
   ]
  },
  {
   "cell_type": "code",
   "execution_count": null,
   "metadata": {},
   "outputs": [],
   "source": [
    "import xlwt\n",
    "\n",
    "wb = xlwt.Workbook()\n",
    "\n",
    "ws = wb.add_sheet(\"Sheet1\")\n",
    "\n",
    "ws.write(0,0,\"x1\")\n",
    "ws.write(0,1,\"x2\")\n",
    "ws.write(0,2,\"y1\")\n",
    "ws.write(0,3,\"y2\")\n",
    "\n",
    "for i in range(12815):\n",
    "    \n",
    "    x1_ = 640*((2*pred_submit[i,0]) - pred_submit[i,2])/2\n",
    "    y1_ = 480*((2*pred_submit[i,1]) - pred_submit[i,3])/2\n",
    "    x2_ = 640*((2*pred_submit[i,0]) + pred_submit[i,2])/2\n",
    "    y2_ = 480*((2*pred_submit[i,1]) + pred_submit[i,3])/2\n",
    "    \n",
    "    ws.write(i+1,0,x1_)\n",
    "    ws.write(i+1,1,x2_)\n",
    "    ws.write(i+1,2,y1_)\n",
    "    ws.write(i+1,3,y2_)\n",
    "    \n",
    "wb.save(\"submit.xls\")"
   ]
  },
  {
   "cell_type": "code",
   "execution_count": 67,
   "metadata": {},
   "outputs": [],
   "source": [
    "import cv2"
   ]
  },
  {
   "cell_type": "markdown",
   "metadata": {},
   "source": [
    "## Working of *predict_640x480x3(image, model)*\n",
    "\n",
    "- read an *image* from computer and then feed it, along with the *model*\n",
    "- it will output an image with bounding box co-ordinates marked over it"
   ]
  },
  {
   "cell_type": "code",
   "execution_count": 15,
   "metadata": {},
   "outputs": [
    {
     "name": "stdout",
     "output_type": "stream",
     "text": [
      "0.07207155227661133\n"
     ]
    },
    {
     "data": {
      "image/png": "[encoded data removed]",
      "text/plain": [
       "<matplotlib.figure.Figure at 0x26c245e97f0>"
      ]
     },
     "metadata": {},
     "output_type": "display_data"
    }
   ],
   "source": [
    "name = \"1478971286066Soie9thNov20162288.png\"\n",
    "loc = [\"C:\\\\Users\\\\npl\\\\Desktop\\\\Divyanshu\\\\Competition\\\\Dare2Complete\\\\Round_2\\\\images\\\\\",name]\n",
    "loc = ''.join(loc)\n",
    "image = cv2.imread(loc)\n",
    "\n",
    "# Evaluator can give any image location the above is just an example...\n",
    "# but the model has to either be trained or loaded from Google drive link\n",
    "\n",
    "predict_640x480x3(image, model)"
   ]
  }
 ],
 "metadata": {
  "kernelspec": {
   "display_name": "Python 3",
   "language": "python",
   "name": "python3"
  },
  "language_info": {
   "codemirror_mode": {
    "name": "ipython",
    "version": 3
   },
   "file_extension": ".py",
   "mimetype": "text/x-python",
   "name": "python",
   "nbconvert_exporter": "python",
   "pygments_lexer": "ipython3",
   "version": "3.6.4"
  }
 },
 "nbformat": 4,
 "nbformat_minor": 2
}
