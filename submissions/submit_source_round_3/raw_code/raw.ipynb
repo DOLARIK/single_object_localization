{
 "cells": [
  {
   "cell_type": "markdown",
   "metadata": {
    "colab_type": "text",
    "id": "lsvnDBWLcc7Y"
   },
   "source": []
  },
  {
   "cell_type": "code",
   "execution_count": 1,
   "metadata": {
    "colab": {
     "base_uri": "https://localhost:8080/",
     "height": 365
    },
    "colab_type": "code",
    "executionInfo": {
     "elapsed": 15896,
     "status": "ok",
     "timestamp": 1551188813414,
     "user": {
      "displayName": "DIVYANK PANDEY",
      "photoUrl": "",
      "userId": "07089478650029820120"
     },
     "user_tz": -330
    },
    "id": "cTzqJp8Es0nf",
    "outputId": "6e5fcb69-2ba2-4f79-aaa1-a2fa057a0541"
   },
   "outputs": [
    {
     "name": "stdout",
     "output_type": "stream",
     "text": [
      "Collecting PyDrive\n",
      "\u001b[?25l  Downloading https://files.pythonhosted.org/packages/52/e0/0e64788e5dd58ce2d6934549676243dc69d982f198524be9b99e9c2a4fd5/PyDrive-1.3.1.tar.gz (987kB)\n",
      "\r",
      "\u001b[K    1% |▎                               | 10kB 17.6MB/s eta 0:00:01\r",
      "\u001b[K    2% |▋                               | 20kB 2.1MB/s eta 0:00:01\r",
      "\u001b[K    3% |█                               | 30kB 3.1MB/s eta 0:00:01\r",
      "\u001b[K    4% |█▎                              | 40kB 2.1MB/s eta 0:00:01\r",
      "\u001b[K    5% |█▋                              | 51kB 2.6MB/s eta 0:00:01\r",
      "\u001b[K    6% |██                              | 61kB 3.1MB/s eta 0:00:01\r",
      "\u001b[K    7% |██▎                             | 71kB 3.6MB/s eta 0:00:01\r",
      "\u001b[K    8% |██▋                             | 81kB 4.0MB/s eta 0:00:01\r",
      "\u001b[K    9% |███                             | 92kB 4.5MB/s eta 0:00:01\r",
      "\u001b[K    10% |███▎                            | 102kB 3.5MB/s eta 0:00:01\r",
      "\u001b[K    11% |███▋                            | 112kB 3.5MB/s eta 0:00:01\r",
      "\u001b[K    12% |████                            | 122kB 5.0MB/s eta 0:00:01\r",
      "\u001b[K    13% |████▎                           | 133kB 5.0MB/s eta 0:00:01\r",
      "\u001b[K    14% |████▋                           | 143kB 9.2MB/s eta 0:00:01\r",
      "\u001b[K    15% |█████                           | 153kB 9.2MB/s eta 0:00:01\r",
      "\u001b[K    16% |█████▎                          | 163kB 9.2MB/s eta 0:00:01\r",
      "\u001b[K    17% |█████▋                          | 174kB 9.1MB/s eta 0:00:01\r",
      "\u001b[K    18% |██████                          | 184kB 9.1MB/s eta 0:00:01\r",
      "\u001b[K    19% |██████▎                         | 194kB 9.1MB/s eta 0:00:01\r",
      "\u001b[K    20% |██████▋                         | 204kB 36.3MB/s eta 0:00:01\r",
      "\u001b[K    21% |███████                         | 215kB 10.4MB/s eta 0:00:01\r",
      "\u001b[K    22% |███████▎                        | 225kB 10.5MB/s eta 0:00:01\r",
      "\u001b[K    23% |███████▋                        | 235kB 10.2MB/s eta 0:00:01\r",
      "\u001b[K    24% |████████                        | 245kB 10.1MB/s eta 0:00:01\r",
      "\u001b[K    25% |████████▎                       | 256kB 10.1MB/s eta 0:00:01\r",
      "\u001b[K    26% |████████▋                       | 266kB 9.8MB/s eta 0:00:01\r",
      "\u001b[K    27% |█████████                       | 276kB 10.1MB/s eta 0:00:01\r",
      "\u001b[K    29% |█████████▎                      | 286kB 10.1MB/s eta 0:00:01\r",
      "\u001b[K    30% |█████████▋                      | 296kB 10.0MB/s eta 0:00:01\r",
      "\u001b[K    31% |██████████                      | 307kB 10.1MB/s eta 0:00:01\r",
      "\u001b[K    32% |██████████▎                     | 317kB 34.2MB/s eta 0:00:01\r",
      "\u001b[K    33% |██████████▋                     | 327kB 33.7MB/s eta 0:00:01\r",
      "\u001b[K    34% |███████████                     | 337kB 37.6MB/s eta 0:00:01\r",
      "\u001b[K    35% |███████████▎                    | 348kB 36.5MB/s eta 0:00:01\r",
      "\u001b[K    36% |███████████▋                    | 358kB 37.2MB/s eta 0:00:01\r",
      "\u001b[K    37% |████████████                    | 368kB 40.6MB/s eta 0:00:01\r",
      "\u001b[K    38% |████████████▎                   | 378kB 39.9MB/s eta 0:00:01\r",
      "\u001b[K    39% |████████████▋                   | 389kB 40.4MB/s eta 0:00:01\r",
      "\u001b[K    40% |█████████████                   | 399kB 13.6MB/s eta 0:00:01\r",
      "\u001b[K    41% |█████████████▎                  | 409kB 13.5MB/s eta 0:00:01\r",
      "\u001b[K    42% |█████████████▋                  | 419kB 13.4MB/s eta 0:00:01\r",
      "\u001b[K    43% |██████████████                  | 430kB 13.3MB/s eta 0:00:01\r",
      "\u001b[K    44% |██████████████▎                 | 440kB 13.3MB/s eta 0:00:01\r",
      "\u001b[K    45% |██████████████▋                 | 450kB 13.3MB/s eta 0:00:01\r",
      "\u001b[K    46% |███████████████                 | 460kB 13.2MB/s eta 0:00:01\r",
      "\u001b[K    47% |███████████████▎                | 471kB 13.3MB/s eta 0:00:01\r",
      "\u001b[K    48% |███████████████▋                | 481kB 13.3MB/s eta 0:00:01\r",
      "\u001b[K    49% |████████████████                | 491kB 13.3MB/s eta 0:00:01\r",
      "\u001b[K    50% |████████████████▎               | 501kB 38.6MB/s eta 0:00:01\r",
      "\u001b[K    51% |████████████████▋               | 512kB 38.2MB/s eta 0:00:01\r",
      "\u001b[K    52% |█████████████████               | 522kB 38.7MB/s eta 0:00:01\r",
      "\u001b[K    53% |█████████████████▎              | 532kB 40.1MB/s eta 0:00:01\r",
      "\u001b[K    54% |█████████████████▋              | 542kB 40.6MB/s eta 0:00:01\r",
      "\u001b[K    55% |██████████████████              | 552kB 44.4MB/s eta 0:00:01\r",
      "\u001b[K    57% |██████████████████▎             | 563kB 45.7MB/s eta 0:00:01\r",
      "\u001b[K    58% |██████████████████▋             | 573kB 44.0MB/s eta 0:00:01\r",
      "\u001b[K    59% |███████████████████             | 583kB 44.0MB/s eta 0:00:01\r",
      "\u001b[K    60% |███████████████████▎            | 593kB 43.0MB/s eta 0:00:01\r",
      "\u001b[K    61% |███████████████████▋            | 604kB 43.4MB/s eta 0:00:01\r",
      "\u001b[K    62% |████████████████████            | 614kB 45.6MB/s eta 0:00:01\r",
      "\u001b[K    63% |████████████████████▎           | 624kB 45.6MB/s eta 0:00:01\r",
      "\u001b[K    64% |████████████████████▋           | 634kB 45.6MB/s eta 0:00:01\r",
      "\u001b[K    65% |█████████████████████           | 645kB 44.5MB/s eta 0:00:01\r",
      "\u001b[K    66% |█████████████████████▎          | 655kB 44.1MB/s eta 0:00:01\r",
      "\u001b[K    67% |█████████████████████▋          | 665kB 36.6MB/s eta 0:00:01\r",
      "\u001b[K    68% |██████████████████████          | 675kB 37.5MB/s eta 0:00:01\r",
      "\u001b[K    69% |██████████████████████▎         | 686kB 37.8MB/s eta 0:00:01\r",
      "\u001b[K    70% |██████████████████████▋         | 696kB 38.7MB/s eta 0:00:01\r",
      "\u001b[K    71% |███████████████████████         | 706kB 37.8MB/s eta 0:00:01\r",
      "\u001b[K    72% |███████████████████████▎        | 716kB 38.1MB/s eta 0:00:01\r",
      "\u001b[K    73% |███████████████████████▋        | 727kB 38.2MB/s eta 0:00:01\r",
      "\u001b[K    74% |████████████████████████        | 737kB 37.8MB/s eta 0:00:01\r",
      "\u001b[K    75% |████████████████████████▎       | 747kB 38.6MB/s eta 0:00:01\r",
      "\u001b[K    76% |████████████████████████▋       | 757kB 26.1MB/s eta 0:00:01\r",
      "\u001b[K    77% |████████████████████████▉       | 768kB 29.3MB/s eta 0:00:01\r",
      "\u001b[K    78% |█████████████████████████▏      | 778kB 29.0MB/s eta 0:00:01\r",
      "\u001b[K    79% |█████████████████████████▌      | 788kB 28.8MB/s eta 0:00:01\r",
      "\u001b[K    80% |█████████████████████████▉      | 798kB 28.8MB/s eta 0:00:01\r",
      "\u001b[K    81% |██████████████████████████▏     | 808kB 28.9MB/s eta 0:00:01\r",
      "\u001b[K    82% |██████████████████████████▌     | 819kB 28.0MB/s eta 0:00:01\r",
      "\u001b[K    83% |██████████████████████████▉     | 829kB 28.0MB/s eta 0:00:01\r",
      "\u001b[K    85% |███████████████████████████▏    | 839kB 28.2MB/s eta 0:00:01\r",
      "\u001b[K    86% |███████████████████████████▌    | 849kB 28.1MB/s eta 0:00:01\r",
      "\u001b[K    87% |███████████████████████████▉    | 860kB 40.0MB/s eta 0:00:01\r",
      "\u001b[K    88% |████████████████████████████▏   | 870kB 39.7MB/s eta 0:00:01\r",
      "\u001b[K    89% |████████████████████████████▌   | 880kB 40.7MB/s eta 0:00:01\r",
      "\u001b[K    90% |████████████████████████████▉   | 890kB 40.8MB/s eta 0:00:01\r",
      "\u001b[K    91% |█████████████████████████████▏  | 901kB 40.2MB/s eta 0:00:01\r",
      "\u001b[K    92% |█████████████████████████████▌  | 911kB 40.8MB/s eta 0:00:01\r",
      "\u001b[K    93% |█████████████████████████████▉  | 921kB 43.0MB/s eta 0:00:01\r",
      "\u001b[K    94% |██████████████████████████████▏ | 931kB 43.5MB/s eta 0:00:01\r",
      "\u001b[K    95% |██████████████████████████████▌ | 942kB 42.9MB/s eta 0:00:01\r",
      "\u001b[K    96% |██████████████████████████████▉ | 952kB 42.7MB/s eta 0:00:01\r",
      "\u001b[K    97% |███████████████████████████████▏| 962kB 47.0MB/s eta 0:00:01\r",
      "\u001b[K    98% |███████████████████████████████▌| 972kB 48.2MB/s eta 0:00:01\r",
      "\u001b[K    99% |███████████████████████████████▉| 983kB 47.0MB/s eta 0:00:01\r",
      "\u001b[K    100% |████████████████████████████████| 993kB 20.1MB/s \n",
      "\u001b[?25hRequirement already satisfied: google-api-python-client>=1.2 in /usr/local/lib/python3.6/dist-packages (from PyDrive) (1.6.7)\n",
      "Requirement already satisfied: oauth2client>=4.0.0 in /usr/local/lib/python3.6/dist-packages (from PyDrive) (4.1.3)\n",
      "Requirement already satisfied: PyYAML>=3.0 in /usr/local/lib/python3.6/dist-packages (from PyDrive) (3.13)\n",
      "Requirement already satisfied: uritemplate<4dev,>=3.0.0 in /usr/local/lib/python3.6/dist-packages (from google-api-python-client>=1.2->PyDrive) (3.0.0)\n",
      "Requirement already satisfied: httplib2<1dev,>=0.9.2 in /usr/local/lib/python3.6/dist-packages (from google-api-python-client>=1.2->PyDrive) (0.11.3)\n",
      "Requirement already satisfied: six<2dev,>=1.6.1 in /usr/local/lib/python3.6/dist-packages (from google-api-python-client>=1.2->PyDrive) (1.11.0)\n",
      "Requirement already satisfied: rsa>=3.1.4 in /usr/local/lib/python3.6/dist-packages (from oauth2client>=4.0.0->PyDrive) (4.0)\n",
      "Requirement already satisfied: pyasn1-modules>=0.0.5 in /usr/local/lib/python3.6/dist-packages (from oauth2client>=4.0.0->PyDrive) (0.2.4)\n",
      "Requirement already satisfied: pyasn1>=0.1.7 in /usr/local/lib/python3.6/dist-packages (from oauth2client>=4.0.0->PyDrive) (0.4.5)\n",
      "Building wheels for collected packages: PyDrive\n",
      "  Building wheel for PyDrive (setup.py) ... \u001b[?25ldone\n",
      "\u001b[?25h  Stored in directory: /root/.cache/pip/wheels/fa/d2/9a/d3b6b506c2da98289e5d417215ce34b696db856643bad779f4\n",
      "Successfully built PyDrive\n",
      "Installing collected packages: PyDrive\n",
      "Successfully installed PyDrive-1.3.1\n"
     ]
    }
   ],
   "source": [
    "!pip install PyDrive"
   ]
  },
  {
   "cell_type": "code",
   "execution_count": 0,
   "metadata": {
    "colab": {},
    "colab_type": "code",
    "id": "0VaxktTRtFcU"
   },
   "outputs": [],
   "source": [
    "import os\n",
    "from pydrive.auth import GoogleAuth\n",
    "from pydrive.drive import GoogleDrive\n",
    "from google.colab import auth\n",
    "from oauth2client.client import GoogleCredentials"
   ]
  },
  {
   "cell_type": "code",
   "execution_count": 0,
   "metadata": {
    "colab": {},
    "colab_type": "code",
    "id": "NkNfnqpvtILG"
   },
   "outputs": [],
   "source": [
    "auth.authenticate_user()\n",
    "gauth = GoogleAuth()\n",
    "gauth.credentials = GoogleCredentials.get_application_default()\n",
    "drive = GoogleDrive(gauth)"
   ]
  },
  {
   "cell_type": "markdown",
   "metadata": {
    "colab_type": "text",
    "id": "TlkiFpRSJ6JN"
   },
   "source": []
  },
  {
   "cell_type": "code",
   "execution_count": 4,
   "metadata": {
    "colab": {
     "base_uri": "https://localhost:8080/",
     "height": 35
    },
    "colab_type": "code",
    "executionInfo": {
     "elapsed": 8450,
     "status": "ok",
     "timestamp": 1551188888172,
     "user": {
      "displayName": "DIVYANK PANDEY",
      "photoUrl": "",
      "userId": "07089478650029820120"
     },
     "user_tz": -330
    },
    "id": "qIi3FjbY53Wu",
    "outputId": "a63c0fdf-3060-4dd4-a533-eae1aa434ceb"
   },
   "outputs": [
    {
     "name": "stdout",
     "output_type": "stream",
     "text": [
      "adc.json  sample_data\n"
     ]
    }
   ],
   "source": [
    "!ls"
   ]
  },
  {
   "cell_type": "code",
   "execution_count": 0,
   "metadata": {
    "colab": {},
    "colab_type": "code",
    "id": "LK4y4uJwtM8U"
   },
   "outputs": [],
   "source": [
    "download = drive.CreateFile({'id': '1RVoKzP6IeulTmuLRg6cgsoVEr3RcJAe-'})\n",
    "download.GetContentFile('d2c_data.tar')\n"
   ]
  },
  {
   "cell_type": "markdown",
   "metadata": {
    "colab_type": "text",
    "id": "AzNR4MY8cXMg"
   },
   "source": [
    "# Loading Images and Normalization"
   ]
  },
  {
   "cell_type": "markdown",
   "metadata": {
    "colab_type": "text",
    "id": "m4YBdKRgcay8"
   },
   "source": []
  },
  {
   "cell_type": "code",
   "execution_count": 14,
   "metadata": {
    "colab": {
     "base_uri": "https://localhost:8080/",
     "height": 54
    },
    "colab_type": "code",
    "executionInfo": {
     "elapsed": 13888,
     "status": "ok",
     "timestamp": 1551194652295,
     "user": {
      "displayName": "DIVYANK PANDEY",
      "photoUrl": "",
      "userId": "07089478650029820120"
     },
     "user_tz": -330
    },
    "id": "beiIHcDVs1TZ",
    "outputId": "d91008ee-36bf-4eed-b051-31fb54d84fb9"
   },
   "outputs": [
    {
     "name": "stdout",
     "output_type": "stream",
     "text": [
      "adc.json      sample_data    x_train.pickle  y_train.pickle\n",
      "d2c_data.tar  x_test.pickle  y_test.pickle\n"
     ]
    }
   ],
   "source": [
    "!ls"
   ]
  },
  {
   "cell_type": "markdown",
   "metadata": {
    "colab_type": "text",
    "id": "9rkg46m8cXMj"
   },
   "source": [
    "### Importing Necessary Libraries"
   ]
  },
  {
   "cell_type": "code",
   "execution_count": 0,
   "metadata": {
    "colab": {},
    "colab_type": "code",
    "id": "t5hnObFAcXMk"
   },
   "outputs": [],
   "source": [
    "import numpy as np\n",
    "import cv2\n",
    "import os\n",
    "import matplotlib.pyplot as plt\n",
    "import pickle\n",
    "import xlrd"
   ]
  },
  {
   "cell_type": "markdown",
   "metadata": {
    "colab_type": "text",
    "id": "X04gme1wcXMp"
   },
   "source": [
    "## Reading 'training.csv'"
   ]
  },
  {
   "cell_type": "markdown",
   "metadata": {
    "colab_type": "text",
    "id": "GkKnxXaycXMq"
   },
   "source": [
    "#### Make a set of Image Names and their corresponding Bounding Box Coordinates"
   ]
  },
  {
   "cell_type": "code",
   "execution_count": 0,
   "metadata": {
    "colab": {
     "base_uri": "https://localhost:8080/"
    },
    "colab_type": "code",
    "executionInfo": {
     "elapsed": 1232,
     "status": "error",
     "timestamp": 1549678890096,
     "user": {
      "displayName": "DIVYANSHU GUPTA",
      "photoUrl": "",
      "userId": "10844866931117318382"
     },
     "user_tz": -330
    },
    "id": "_a8vWhS4cXMs",
    "outputId": "bcee4779-a1ce-4d9a-f728-d47e18b7dcf5"
   },
   "outputs": [
    {
     "ename": "FileNotFoundError",
     "evalue": "ignored",
     "output_type": "error",
     "traceback": [
      "\u001b[0;31m---------------------------------------------------------------------------\u001b[0m",
      "\u001b[0;31mFileNotFoundError\u001b[0m                         Traceback (most recent call last)",
      "\u001b[0;32m<ipython-input-26-717fe5f66ebf>\u001b[0m in \u001b[0;36m<module>\u001b[0;34m()\u001b[0m\n\u001b[1;32m      7\u001b[0m \u001b[0mdata_loc\u001b[0m \u001b[0;34m=\u001b[0m \u001b[0;34m[\u001b[0m\u001b[0mparent\u001b[0m\u001b[0;34m,\u001b[0m\u001b[0;34m'/training.xlsx'\u001b[0m\u001b[0;34m]\u001b[0m\u001b[0;34m\u001b[0m\u001b[0;34m\u001b[0m\u001b[0m\n\u001b[1;32m      8\u001b[0m \u001b[0mdata_loc\u001b[0m \u001b[0;34m=\u001b[0m \u001b[0;34m''\u001b[0m\u001b[0;34m.\u001b[0m\u001b[0mjoin\u001b[0m\u001b[0;34m(\u001b[0m\u001b[0mdata_loc\u001b[0m\u001b[0;34m)\u001b[0m\u001b[0;34m\u001b[0m\u001b[0;34m\u001b[0m\u001b[0m\n\u001b[0;32m----> 9\u001b[0;31m \u001b[0mdata\u001b[0m \u001b[0;34m=\u001b[0m \u001b[0mxlrd\u001b[0m\u001b[0;34m.\u001b[0m\u001b[0mopen_workbook\u001b[0m\u001b[0;34m(\u001b[0m\u001b[0mdata_loc\u001b[0m\u001b[0;34m)\u001b[0m\u001b[0;34m\u001b[0m\u001b[0;34m\u001b[0m\u001b[0m\n\u001b[0m\u001b[1;32m     10\u001b[0m \u001b[0msheet\u001b[0m \u001b[0;34m=\u001b[0m \u001b[0mdata\u001b[0m\u001b[0;34m.\u001b[0m\u001b[0msheet_by_index\u001b[0m\u001b[0;34m(\u001b[0m\u001b[0;36m0\u001b[0m\u001b[0;34m)\u001b[0m \u001b[0;31m# This will allow us to extract out the image names from 'training.csv'\u001b[0m\u001b[0;34m\u001b[0m\u001b[0;34m\u001b[0m\u001b[0m\n\u001b[1;32m     11\u001b[0m \u001b[0;34m\u001b[0m\u001b[0m\n",
      "\u001b[0;32m/usr/local/lib/python3.6/dist-packages/xlrd/__init__.py\u001b[0m in \u001b[0;36mopen_workbook\u001b[0;34m(filename, logfile, verbosity, use_mmap, file_contents, encoding_override, formatting_info, on_demand, ragged_rows)\u001b[0m\n\u001b[1;32m    114\u001b[0m         \u001b[0mpeek\u001b[0m \u001b[0;34m=\u001b[0m \u001b[0mfile_contents\u001b[0m\u001b[0;34m[\u001b[0m\u001b[0;34m:\u001b[0m\u001b[0mpeeksz\u001b[0m\u001b[0;34m]\u001b[0m\u001b[0;34m\u001b[0m\u001b[0;34m\u001b[0m\u001b[0m\n\u001b[1;32m    115\u001b[0m     \u001b[0;32melse\u001b[0m\u001b[0;34m:\u001b[0m\u001b[0;34m\u001b[0m\u001b[0;34m\u001b[0m\u001b[0m\n\u001b[0;32m--> 116\u001b[0;31m         \u001b[0;32mwith\u001b[0m \u001b[0mopen\u001b[0m\u001b[0;34m(\u001b[0m\u001b[0mfilename\u001b[0m\u001b[0;34m,\u001b[0m \u001b[0;34m\"rb\"\u001b[0m\u001b[0;34m)\u001b[0m \u001b[0;32mas\u001b[0m \u001b[0mf\u001b[0m\u001b[0;34m:\u001b[0m\u001b[0;34m\u001b[0m\u001b[0;34m\u001b[0m\u001b[0m\n\u001b[0m\u001b[1;32m    117\u001b[0m             \u001b[0mpeek\u001b[0m \u001b[0;34m=\u001b[0m \u001b[0mf\u001b[0m\u001b[0;34m.\u001b[0m\u001b[0mread\u001b[0m\u001b[0;34m(\u001b[0m\u001b[0mpeeksz\u001b[0m\u001b[0;34m)\u001b[0m\u001b[0;34m\u001b[0m\u001b[0;34m\u001b[0m\u001b[0m\n\u001b[1;32m    118\u001b[0m     \u001b[0;32mif\u001b[0m \u001b[0mpeek\u001b[0m \u001b[0;34m==\u001b[0m \u001b[0;34mb\"PK\\x03\\x04\"\u001b[0m\u001b[0;34m:\u001b[0m \u001b[0;31m# a ZIP file\u001b[0m\u001b[0;34m\u001b[0m\u001b[0;34m\u001b[0m\u001b[0m\n",
      "\u001b[0;31mFileNotFoundError\u001b[0m: [Errno 2] No such file or directory: '//training.xlsx'"
     ]
    }
   ],
   "source": [
    "# To get their (images) locations\n",
    "folder = os.getcwd()\n",
    "parent = os.path.abspath(os.path.join(folder, os.pardir))\n",
    "im_loc = [parent, '/images']\n",
    "im_loc = ''.join(im_loc)\n",
    "\n",
    "# To get the location of 'training.csv'\n",
    "data_loc = [parent,'/training.xlsx']\n",
    "data_loc = ''.join(data_loc)\n",
    "data = xlrd.open_workbook(data_loc)\n",
    "sheet = data.sheet_by_index(0) # This will allow us to extract out the image names from 'training.csv'\n",
    "\n",
    "train = []\n",
    "image_stack = []\n",
    "box_stack = []\n",
    "\n",
    "for i in range(sheet.nrows-1):\n",
    "\n",
    "    image = sheet.cell_value(i+1,0)\n",
    "    img_loc = ''.join([im_loc,'/',image])\n",
    "\n",
    "    exists = os.path.isfile(img_loc)\n",
    "\n",
    "    # Since we'll later resize the images from 640x480 to 100x100, we have to modify the coordinates accordingly\n",
    "    sx = 100 \n",
    "    sy = 100\n",
    "\n",
    "    x1 = int(np.ceil(((sx/640))*int(sheet.cell_value(i+1,1))))\n",
    "    x2 = int(np.ceil(((sx/640))*int(sheet.cell_value(i+1,2))))\n",
    "    y1 = int(np.ceil(((sy/480))*int(sheet.cell_value(i+1,3))))\n",
    "    y2 = int(np.ceil(((sy/480))*int(sheet.cell_value(i+1,4))))\n",
    "    \n",
    "    #Converting the box corner coordinates into center coordinates and box width & height\n",
    "    w = x2-x1\n",
    "    h = y2-y1\n",
    "    x = (x1+x2)/2\n",
    "    y = (y1+y2)/2\n",
    "    \n",
    "    target = [x,y,w,h]\n",
    "    \n",
    "    if exists: # Checking if any such image actually xists in the 'images' folder so to save ourselves from future distress\n",
    "        image_name_stack.append(image)\n",
    "        box_stack.append(target)\n",
    "        train.append(image, target)\n",
    "\n",
    "        # Just for Progress Check\n",
    "        if np.remainder(i,1000)==0:\n",
    "            print(\"{} Images swooped\".format(i))"
   ]
  },
  {
   "cell_type": "code",
   "execution_count": 0,
   "metadata": {
    "colab": {},
    "colab_type": "code",
    "id": "tHKurawJcXMv"
   },
   "outputs": [],
   "source": [
    "# Simplifying the 'pickling' process as we'll need this quite often\n",
    "def pickleIn(name):    \n",
    "    # 'name' - name of the file we wish to load (should be a string, eg. 'train_batch.pickle')\n",
    "    pickle_in = open(name,'rb')\n",
    "    return pickle.load(pickle_in)\n",
    "\n",
    "def pickleOut(name, to_be_stored):\n",
    "    # 'name' - name of the file we wish to store (should be a string, eg. 'train_batch.pickle')\n",
    "    # 'to_be_stored' - the variable of which we'll be making the \"pickle\" \n",
    "    pickle_out = open(name,'wb')\n",
    "    pickle.dump(to_be_stored, pickle_out)\n",
    "    pickle_out.close"
   ]
  },
  {
   "cell_type": "code",
   "execution_count": 0,
   "metadata": {
    "colab": {},
    "colab_type": "code",
    "id": "XrZPxoKccXMy"
   },
   "outputs": [],
   "source": [
    "pickleOut('train.pickle', train) # Makes a pickle out of the variable 'train' and stores into local storage"
   ]
  },
  {
   "cell_type": "markdown",
   "metadata": {
    "colab_type": "text",
    "id": "jmB0zVsgcXM1"
   },
   "source": [
    "## Loading Images and Noramlization"
   ]
  },
  {
   "cell_type": "code",
   "execution_count": 0,
   "metadata": {
    "colab": {
     "base_uri": "https://localhost:8080/",
     "height": 231
    },
    "colab_type": "code",
    "executionInfo": {
     "elapsed": 1075,
     "status": "error",
     "timestamp": 1549678879471,
     "user": {
      "displayName": "DIVYANSHU GUPTA",
      "photoUrl": "",
      "userId": "10844866931117318382"
     },
     "user_tz": -330
    },
    "id": "k0pMEoQ4cXM2",
    "outputId": "6cc05e6f-e71d-4309-e1e8-10c005312be5"
   },
   "outputs": [
    {
     "ename": "NameError",
     "evalue": "ignored",
     "output_type": "error",
     "traceback": [
      "\u001b[0;31m---------------------------------------------------------------------------\u001b[0m",
      "\u001b[0;31mNameError\u001b[0m                                 Traceback (most recent call last)",
      "\u001b[0;32m<ipython-input-25-16f3da32c8d9>\u001b[0m in \u001b[0;36m<module>\u001b[0;34m()\u001b[0m\n\u001b[1;32m      6\u001b[0m \u001b[0mi\u001b[0m \u001b[0;34m=\u001b[0m \u001b[0;36m0\u001b[0m\u001b[0;34m\u001b[0m\u001b[0;34m\u001b[0m\u001b[0m\n\u001b[1;32m      7\u001b[0m \u001b[0;34m\u001b[0m\u001b[0m\n\u001b[0;32m----> 8\u001b[0;31m \u001b[0;32mfor\u001b[0m \u001b[0mimage\u001b[0m\u001b[0;34m,\u001b[0m \u001b[0mtarget\u001b[0m \u001b[0;32min\u001b[0m \u001b[0mtrain\u001b[0m\u001b[0;34m:\u001b[0m\u001b[0;34m\u001b[0m\u001b[0;34m\u001b[0m\u001b[0m\n\u001b[0m\u001b[1;32m      9\u001b[0m     \u001b[0mim_loc\u001b[0m \u001b[0;34m=\u001b[0m \u001b[0;34m[\u001b[0m\u001b[0mloc\u001b[0m\u001b[0;34m,\u001b[0m \u001b[0mimage\u001b[0m\u001b[0;34m]\u001b[0m\u001b[0;34m\u001b[0m\u001b[0;34m\u001b[0m\u001b[0m\n\u001b[1;32m     10\u001b[0m     \u001b[0mim_loc\u001b[0m \u001b[0;34m=\u001b[0m \u001b[0;34m''\u001b[0m\u001b[0;34m.\u001b[0m\u001b[0mjoin\u001b[0m\u001b[0;34m(\u001b[0m\u001b[0mim_loc\u001b[0m\u001b[0;34m)\u001b[0m\u001b[0;34m\u001b[0m\u001b[0;34m\u001b[0m\u001b[0m\n",
      "\u001b[0;31mNameError\u001b[0m: name 'train' is not defined"
     ]
    }
   ],
   "source": [
    "loc = \"C:\\\\Users\\\\npl\\\\Desktop\\\\Divyanshu\\\\Competition\\\\Dare2Complete\\\\Round_2\\\\images\\\\\"\n",
    "\n",
    "X = [] # To store all the training Images\n",
    "y = [] # To store all the training targets\n",
    "\n",
    "i = 0\n",
    "\n",
    "for image, target in train:\n",
    "    im_loc = [loc, image] \n",
    "    im_loc = ''.join(im_loc)\n",
    "    \n",
    "    im = cv2.imread(im_loc, cv2.IMREAD_GRAYSCALE) # Reads the images as grayscale\n",
    "    im = cv2.resize(im, (100,100)) # Resize from 640x480 to 100x100\n",
    "    \n",
    "    X.append(im/255) # Append images into X while also normalizing them (by dividing by 255)\n",
    "    y.append(target) # Append targets into y\n",
    "    \n",
    "    i += 1     \n",
    "\n",
    "    if np.remainder(i, 500) == 0:\n",
    "        print(i)"
   ]
  },
  {
   "cell_type": "markdown",
   "metadata": {
    "colab_type": "text",
    "id": "JYDhpEcWcXM6"
   },
   "source": [
    "#### 'Pickling' of dataset into storage"
   ]
  },
  {
   "cell_type": "markdown",
   "metadata": {
    "colab_type": "text",
    "id": "Vw_HDNKjcXM7"
   },
   "source": [
    "##### Pickling is done in smaller chunks so that whole RAM isn't used up at once by this particular process. "
   ]
  },
  {
   "cell_type": "code",
   "execution_count": 0,
   "metadata": {
    "colab": {},
    "colab_type": "code",
    "id": "a_6oYiJxcXM8"
   },
   "outputs": [],
   "source": [
    "pickleOut('X[0_2000].pickle',X[0:2000])"
   ]
  },
  {
   "cell_type": "code",
   "execution_count": 0,
   "metadata": {
    "colab": {},
    "colab_type": "code",
    "id": "R3SffUK5cXNB"
   },
   "outputs": [],
   "source": [
    "pickleOut('X[2000_4000].pickle',X[2000:4000])"
   ]
  },
  {
   "cell_type": "code",
   "execution_count": 0,
   "metadata": {
    "colab": {},
    "colab_type": "code",
    "id": "ap7FN-pPcXNJ"
   },
   "outputs": [],
   "source": [
    "pickleOut('X[4000_6000].pickle',X[4000:6000])"
   ]
  },
  {
   "cell_type": "code",
   "execution_count": 0,
   "metadata": {
    "colab": {},
    "colab_type": "code",
    "id": "pvjUrmodcXNN"
   },
   "outputs": [],
   "source": [
    "pickleOut('X[6000_8000].pickle',X[6000:8000])"
   ]
  },
  {
   "cell_type": "code",
   "execution_count": 0,
   "metadata": {
    "colab": {},
    "colab_type": "code",
    "id": "J-R19CB1cXNS"
   },
   "outputs": [],
   "source": [
    "pickleOut('X[8000_10000].pickle',X[8000:10000])"
   ]
  },
  {
   "cell_type": "code",
   "execution_count": 0,
   "metadata": {
    "colab": {},
    "colab_type": "code",
    "id": "oUaMd0VmcXNU"
   },
   "outputs": [],
   "source": [
    "pickleOut('X[10000_12000].pickle',X[10000:12000])"
   ]
  },
  {
   "cell_type": "code",
   "execution_count": 0,
   "metadata": {
    "colab": {},
    "colab_type": "code",
    "id": "O6nznoEjcXNX"
   },
   "outputs": [],
   "source": [
    "pickleOut('X[12000_14000].pickle',X[12000:14000])"
   ]
  },
  {
   "cell_type": "code",
   "execution_count": 0,
   "metadata": {
    "colab": {},
    "colab_type": "code",
    "id": "a4qjKCJwcXNZ"
   },
   "outputs": [],
   "source": [
    "pickleOut('y.pickle',y)"
   ]
  },
  {
   "cell_type": "markdown",
   "metadata": {
    "colab_type": "text",
    "id": "rZ-GRVf2cXNc"
   },
   "source": [
    "# Training"
   ]
  },
  {
   "cell_type": "markdown",
   "metadata": {
    "colab_type": "text",
    "id": "Nnao4niLcXNd"
   },
   "source": [
    "### Importing Necessary Libraries"
   ]
  },
  {
   "cell_type": "code",
   "execution_count": 6,
   "metadata": {
    "colab": {
     "base_uri": "https://localhost:8080/",
     "height": 35
    },
    "colab_type": "code",
    "executionInfo": {
     "elapsed": 3343,
     "status": "ok",
     "timestamp": 1551188911200,
     "user": {
      "displayName": "DIVYANK PANDEY",
      "photoUrl": "",
      "userId": "07089478650029820120"
     },
     "user_tz": -330
    },
    "id": "ns84WUQzcXNe",
    "outputId": "69ec173d-1bd2-4424-e562-835708b63058"
   },
   "outputs": [
    {
     "name": "stderr",
     "output_type": "stream",
     "text": [
      "Using TensorFlow backend.\n"
     ]
    }
   ],
   "source": [
    "import tensorflow as tf\n",
    "import keras\n",
    "from keras.models import Sequential\n",
    "from keras.layers import Dense, Conv2D, MaxPooling2D, Dropout, Activation, Flatten\n",
    "from keras.layers.normalization import BatchNormalization\n",
    "import keras.backend as K"
   ]
  },
  {
   "cell_type": "markdown",
   "metadata": {
    "colab_type": "text",
    "id": "2PPGk7XacXNj"
   },
   "source": [
    "### Loading X and Y from 'X_and_y.tar'"
   ]
  },
  {
   "cell_type": "code",
   "execution_count": 0,
   "metadata": {
    "colab": {},
    "colab_type": "code",
    "id": "BoyvicxYcXNm"
   },
   "outputs": [],
   "source": [
    "!tar -x -f d2c_data.tar"
   ]
  },
  {
   "cell_type": "code",
   "execution_count": 0,
   "metadata": {
    "colab": {},
    "colab_type": "code",
    "id": "csKKUIkocXNq"
   },
   "outputs": [],
   "source": [
    "''\n",
    "X = []\n",
    "for i in range(7):\n",
    "    name = [loc,'X[',str(2000*i),'_',str(2000*(i+1)),'].pickle']\n",
    "    name = ''.join(name)\n",
    "    X.append(pickleIn(name))\n",
    "    print('Batch {} appended'.format(i))\n",
    "    \n",
    "yloc = [loc, 'y.pickle']\n",
    "yloc = ''.join(yloc)\n",
    "y = pickleIn(yloc)    "
   ]
  },
  {
   "cell_type": "code",
   "execution_count": 0,
   "metadata": {
    "colab": {},
    "colab_type": "code",
    "collapsed": true,
    "id": "eLdiUQ6PcXNv",
    "outputId": "2253b69b-c142-4723-83d9-b1462d461984"
   },
   "outputs": [
    {
     "name": "stdout",
     "output_type": "stream",
     "text": [
      "[0.50703125, 0.578125, 0.35156250000000006, 0.7354166666666666]\n"
     ]
    },
    {
     "data": {
      "text/plain": [
       "<matplotlib.image.AxesImage at 0x1aaec4632b0>"
      ]
     },
     "execution_count": 39,
     "metadata": {
      "tags": []
     },
     "output_type": "execute_result"
    },
    {
     "data": {
      "image/png": "[encoded data removed]",
      "text/plain": [
       "<matplotlib.figure.Figure at 0x1aaea61ee48>"
      ]
     },
     "metadata": {
      "tags": []
     },
     "output_type": "display_data"
    }
   ],
   "source": [
    "%matplotlib inline\n",
    "print(y[13999])\n",
    "plt.imshow(X[6][0].reshape(100,100),cmap='gray')"
   ]
  },
  {
   "cell_type": "markdown",
   "metadata": {
    "colab_type": "text",
    "id": "o7mspBB7cXNz"
   },
   "source": [
    "## Train-Test Set Preparation"
   ]
  },
  {
   "cell_type": "markdown",
   "metadata": {
    "colab_type": "text",
    "id": "rbOK5W1zcXN0"
   },
   "source": [
    "### Making of 4-D Array to store images"
   ]
  },
  {
   "cell_type": "code",
   "execution_count": 0,
   "metadata": {
    "colab": {},
    "colab_type": "code",
    "id": "U0MLSK_dcXN1"
   },
   "outputs": [],
   "source": [
    "Whole = np.zeros((14000,100,100,1))"
   ]
  },
  {
   "cell_type": "code",
   "execution_count": 0,
   "metadata": {
    "colab": {},
    "colab_type": "code",
    "id": "7XVCylhEcXN4"
   },
   "outputs": [],
   "source": [
    "k = 0\n",
    "for i in range(7):\n",
    "    for j in range(2000):\n",
    "        Whole[k,:,:,:] = X[i][j].reshape(100,100,1)\n",
    "        k += 1"
   ]
  },
  {
   "cell_type": "code",
   "execution_count": 0,
   "metadata": {
    "colab": {},
    "colab_type": "code",
    "collapsed": true,
    "id": "zSSle7ltcXN6",
    "outputId": "78b9cb29-68d8-4b31-d8e2-2db242de655d"
   },
   "outputs": [
    {
     "name": "stdout",
     "output_type": "stream",
     "text": [
      "0.6251694117647058\n"
     ]
    },
    {
     "data": {
      "image/png": "[encoded data removed]",
      "text/plain": [
       "<matplotlib.figure.Figure at 0x1aaea61e2e8>"
      ]
     },
     "metadata": {
      "tags": []
     },
     "output_type": "display_data"
    }
   ],
   "source": [
    "%matplotlib inline\n",
    "plt.imshow(X[0][0].reshape(100,100))\n",
    "print(np.mean(Whole[0,:,:,:]))"
   ]
  },
  {
   "cell_type": "code",
   "execution_count": 0,
   "metadata": {
    "colab": {},
    "colab_type": "code",
    "id": "7KZddg9qcXN-"
   },
   "outputs": [],
   "source": [
    "pickleOut('Whole_4D.pickle', Whole)"
   ]
  },
  {
   "cell_type": "code",
   "execution_count": 0,
   "metadata": {
    "colab": {},
    "colab_type": "code",
    "id": "APmiCZqIcXOA"
   },
   "outputs": [],
   "source": [
    "Whole = pickleIn('Whole_4D.pickle')"
   ]
  },
  {
   "cell_type": "code",
   "execution_count": 0,
   "metadata": {
    "colab": {},
    "colab_type": "code",
    "id": "EOvT-UBIcXOD"
   },
   "outputs": [],
   "source": [
    "y = pickleIn('y.pickle')"
   ]
  },
  {
   "cell_type": "markdown",
   "metadata": {
    "colab_type": "text",
    "id": "EWNgGvXTcXOG"
   },
   "source": [
    "### Converting 'y' from 'list' to 'NumPy array' "
   ]
  },
  {
   "cell_type": "code",
   "execution_count": 0,
   "metadata": {
    "colab": {},
    "colab_type": "code",
    "id": "LRLj2BGXcXOH"
   },
   "outputs": [],
   "source": [
    "y_ = np.zeros((14000, 4))\n",
    "\n",
    "for i in range(14000):\n",
    "    y_[i,0] = y[i][0]\n",
    "    y_[i,1] = y[i][1]\n",
    "    y_[i,2] = y[i][2]\n",
    "    y_[i,3] = y[i][3]"
   ]
  },
  {
   "cell_type": "code",
   "execution_count": 0,
   "metadata": {
    "colab": {},
    "colab_type": "code",
    "id": "Cb2ewku7cXOK"
   },
   "outputs": [],
   "source": [
    "x_train = Whole[0:12000, :,:,:]\n",
    "x_test = Whole[12000:14000, :,:,:]\n",
    "y_train = y_[0:12000,:] \n",
    "y_test = y_[12000:14000,:]"
   ]
  },
  {
   "cell_type": "code",
   "execution_count": 0,
   "metadata": {
    "colab": {},
    "colab_type": "code",
    "id": "pgIRIp4OcXON",
    "outputId": "28015e13-16b6-483b-8613-69a3ad20edd6"
   },
   "outputs": [
    {
     "data": {
      "text/plain": [
       "(2000, 4)"
      ]
     },
     "execution_count": 28,
     "metadata": {
      "tags": []
     },
     "output_type": "execute_result"
    }
   ],
   "source": [
    "y_test.shape"
   ]
  },
  {
   "cell_type": "markdown",
   "metadata": {
    "colab_type": "text",
    "id": "opt_BLvdcXOS"
   },
   "source": [
    "### Storing Train-Test Set in Local Memory"
   ]
  },
  {
   "cell_type": "code",
   "execution_count": 0,
   "metadata": {
    "colab": {},
    "colab_type": "code",
    "id": "h9FqOzWEcXOT"
   },
   "outputs": [],
   "source": [
    "pickleOut('x_train.pickle', x_train)\n",
    "pickleOut('y_train.pickle', y_train)\n",
    "pickleOut('x_test.pickle',  x_test)\n",
    "pickleOut('y_test.pickle',  y_test)"
   ]
  },
  {
   "cell_type": "code",
   "execution_count": 0,
   "metadata": {
    "colab": {},
    "colab_type": "code",
    "id": "eNk83uyLt9uv"
   },
   "outputs": [],
   "source": [
    "x_train = pickleIn('x_train.pickle')\n",
    "y_train = pickleIn('y_train.pickle')\n",
    "x_test = pickleIn('x_test.pickle')\n",
    "y_test = pickleIn('y_test.pickle')"
   ]
  },
  {
   "cell_type": "code",
   "execution_count": 17,
   "metadata": {
    "colab": {
     "base_uri": "https://localhost:8080/",
     "height": 54
    },
    "colab_type": "code",
    "executionInfo": {
     "elapsed": 13861,
     "status": "ok",
     "timestamp": 1551194826625,
     "user": {
      "displayName": "DIVYANK PANDEY",
      "photoUrl": "",
      "userId": "07089478650029820120"
     },
     "user_tz": -330
    },
    "id": "a90efY2uYZwN",
    "outputId": "f328b9c4-ff55-47c0-a06d-34b74f06765f"
   },
   "outputs": [
    {
     "name": "stdout",
     "output_type": "stream",
     "text": [
      "adc.json      sample_data    x_train.pickle  y_train.pickle\n",
      "d2c_data.tar  x_test.pickle  y_test.pickle\n"
     ]
    }
   ],
   "source": [
    "!ls\n"
   ]
  },
  {
   "cell_type": "markdown",
   "metadata": {
    "colab_type": "text",
    "id": "OlqrAn1tcXOW"
   },
   "source": [
    "## Our Model(s)"
   ]
  },
  {
   "cell_type": "markdown",
   "metadata": {
    "colab_type": "text",
    "id": "mBV8ESEtcXOX"
   },
   "source": [
    "###### Potential IOU Procedures\n",
    "\n",
    "###### Number 1 (Mine)\n",
    "'''\n",
    "Custom Metrics for keras\n",
    "\n",
    "def iou(y_true, y_pred):\n",
    "   \n",
    "    x_t = tf.constant(y_true[0])\n",
    "    y_t = tf.constant(y_true[1])\n",
    "    w_t = tf.constant(y_true[2])\n",
    "    h_t = tf.constant(y_true[3])\n",
    "    \n",
    "    # Calculating the Co-ordinates from Center and Length Values (Actual Square)\n",
    "    x1_t = tf.math.divide(tf.math.subtract(tf.math.multiply(2,x_t),w_t),2)\n",
    "    y1_t = tf.math.divide(tf.math.subtract(tf.math.multiply(2,y_t),h_t),2)\n",
    "    x2_t = tf.math.divide(tf.math.add(tf.math.multiply(2,x_t),w_t),2)\n",
    "    y2_t = tf.math.divide(tf.math.add(tf.math.multiply(2,h_t),h_t),2)\n",
    "    \n",
    "    x_p = tf.constant(y_pred[0])\n",
    "    y_p = tf.constant(y_pred[1])\n",
    "    w_p = tf.constant(y_pred[2])\n",
    "    h_p = tf.constant(y_pred[3])\n",
    "    \n",
    "    # Calculating the Co-ordinates from center and length values (Prediction Square)\n",
    "    x1_p = tf.math.divide(tf.math.subtract(tf.math.multiply(2,x_p),w_p),2)\n",
    "    y1_p = tf.math.divide(tf.math.subtract(tf.math.multiply(2,y_p),h_p),2)\n",
    "    x2_p = tf.math.divide(tf.math.add(tf.math.multiply(2,x_p),w_p),2)\n",
    "    y2_p = tf.math.divide(tf.math.add(tf.math.multiply(2,h_p),h_p),2)\n",
    "    \n",
    "    # Calculating the co-ordinates of intersecting square\n",
    "    x1 = tf.maximum((x1_t, x1_p), axis=None, keepdims=False)\n",
    "    y1 = tf.maximum((y1_t, y1_p), axis=None, keepdims=False)\n",
    "    x2 = tf.minimum((x2_t, x2_p), axis=None, keepdims=False)\n",
    "    y2 = tf.minimum((y2_t, y2_p), axis=None, keepdims=False)\n",
    "    \n",
    "    # Area of Intersection\n",
    "    I_area = tf.math.multiply(tf.math.subtract(x2,x1),tf.math.subtract(y2-y1))\n",
    "    \n",
    "    true_area = tf.math.multiply(tf.math.subtract(x2_t,x1_t),tf.math.subtract(y2_t,y1_t))\n",
    "    pred_area = tf.math.multiply(tf.math.subtract(x2_p,x1_p),tf.math.subtract(y2_p,y1_p))\n",
    "    \n",
    "    # Union of both regions\n",
    "    U_area = tf.math.subtract(tf.math.add(true_area, pred_area), I_area)\n",
    "        \n",
    "    # Intersection over Union\n",
    "    IOU = tf.math.divide(I_area,U_area)\n",
    "    \n",
    "    return IOU\n",
    "    \n",
    "    \n",
    "'''\n",
    "\n",
    "###### Number 2 (Chepa hai!!)\n",
    "'''\n",
    "def castF(x):\n",
    "    return K.cast(x, K.floatx())\n",
    "\n",
    "def castB(x):\n",
    "    return K.cast(x, bool)\n",
    "\n",
    "def iou_loss_core(true,pred):  #this can be used as a loss if you make it negative\n",
    "    intersection = true * pred\n",
    "    notTrue = 1 - true\n",
    "    union = true + (notTrue * pred)\n",
    "\n",
    "    return (K.sum(intersection, axis=-1) + K.epsilon()) / (K.sum(union, axis=-1) + K.epsilon())\n",
    "\n",
    "def competitionMetric2(true, pred): #any shape can go - can't be a loss function\n",
    "\n",
    "    tresholds = [0.5 + (i*.05)  for i in range(10)]\n",
    "\n",
    "    #flattened images (batch, pixels)\n",
    "    true = K.batch_flatten(true)\n",
    "    pred = K.batch_flatten(pred)\n",
    "    pred = castF(K.greater(pred, 0.5))\n",
    "\n",
    "    #total white pixels - (batch,)\n",
    "    trueSum = K.sum(true, axis=-1)\n",
    "    predSum = K.sum(pred, axis=-1)\n",
    "\n",
    "    #has mask or not per image - (batch,)\n",
    "    true1 = castF(K.greater(trueSum, 1))    \n",
    "    pred1 = castF(K.greater(predSum, 1))\n",
    "\n",
    "    #to get images that have mask in both true and pred\n",
    "    truePositiveMask = castB(true1 * pred1)\n",
    "\n",
    "    #separating only the possible true positives to check iou\n",
    "    testTrue = tf.boolean_mask(true, truePositiveMask)\n",
    "    testPred = tf.boolean_mask(pred, truePositiveMask)\n",
    "\n",
    "    #getting iou and threshold comparisons\n",
    "    iou = iou_loss_core(testTrue,testPred) \n",
    "    truePositives = [castF(K.greater(iou, tres)) for tres in tresholds]\n",
    "\n",
    "    #mean of thressholds for true positives and total sum\n",
    "    truePositives = K.mean(K.stack(truePositives, axis=-1), axis=-1)\n",
    "    truePositives = K.sum(truePositives)\n",
    "\n",
    "    #to get images that don't have mask in both true and pred\n",
    "    trueNegatives = (1-true1) * (1 - pred1) # = 1 -true1 - pred1 + true1*pred1\n",
    "    trueNegatives = K.sum(trueNegatives) \n",
    "\n",
    "    return (truePositives + trueNegatives) / castF(K.shape(true)[0])\n",
    "'''"
   ]
  },
  {
   "cell_type": "markdown",
   "metadata": {
    "colab_type": "text",
    "id": "bX-99HlccXOY"
   },
   "source": [
    "### Chepa Hua Model!! ('model')"
   ]
  },
  {
   "cell_type": "code",
   "execution_count": 0,
   "metadata": {
    "colab": {
     "base_uri": "https://localhost:8080/",
     "height": 238
    },
    "colab_type": "code",
    "executionInfo": {
     "elapsed": 5553,
     "status": "error",
     "timestamp": 1549911403243,
     "user": {
      "displayName": "DIVYANSHU GUPTA",
      "photoUrl": "",
      "userId": "10844866931117318382"
     },
     "user_tz": -330
    },
    "id": "PC4RrZTmcXOZ",
    "outputId": "30ee5907-1072-4d72-a749-8a859e3a0542"
   },
   "outputs": [
    {
     "ename": "TypeError",
     "evalue": "ignored",
     "output_type": "error",
     "traceback": [
      "\u001b[0;31m---------------------------------------------------------------------------\u001b[0m",
      "\u001b[0;31mTypeError\u001b[0m                                 Traceback (most recent call last)",
      "\u001b[0;32m<ipython-input-18-6052efe42c71>\u001b[0m in \u001b[0;36m<module>\u001b[0;34m()\u001b[0m\n\u001b[1;32m      2\u001b[0m model.add(Conv2D(5, kernel_size=(2, 2),\n\u001b[1;32m      3\u001b[0m                  \u001b[0mactivation\u001b[0m\u001b[0;34m=\u001b[0m\u001b[0;34m'relu'\u001b[0m\u001b[0;34m,\u001b[0m\u001b[0;34m\u001b[0m\u001b[0;34m\u001b[0m\u001b[0m\n\u001b[0;32m----> 4\u001b[0;31m                  input_shape=(100,100,1)), padding = 'same')\n\u001b[0m\u001b[1;32m      5\u001b[0m \u001b[0mmodel\u001b[0m\u001b[0;34m.\u001b[0m\u001b[0madd\u001b[0m\u001b[0;34m(\u001b[0m\u001b[0mConv2D\u001b[0m\u001b[0;34m(\u001b[0m\u001b[0;36m5\u001b[0m\u001b[0;34m,\u001b[0m \u001b[0;34m(\u001b[0m\u001b[0;36m2\u001b[0m\u001b[0;34m,\u001b[0m \u001b[0;36m2\u001b[0m\u001b[0;34m)\u001b[0m\u001b[0;34m,\u001b[0m \u001b[0mactivation\u001b[0m\u001b[0;34m=\u001b[0m\u001b[0;34m'relu'\u001b[0m\u001b[0;34m,\u001b[0m \u001b[0mpadding\u001b[0m \u001b[0;34m=\u001b[0m \u001b[0;34m'same'\u001b[0m\u001b[0;34m)\u001b[0m\u001b[0;34m)\u001b[0m\u001b[0;34m\u001b[0m\u001b[0;34m\u001b[0m\u001b[0m\n\u001b[1;32m      6\u001b[0m \u001b[0mmodel\u001b[0m\u001b[0;34m.\u001b[0m\u001b[0madd\u001b[0m\u001b[0;34m(\u001b[0m\u001b[0mBatchNormalization\u001b[0m\u001b[0;34m(\u001b[0m\u001b[0;34m)\u001b[0m\u001b[0;34m)\u001b[0m\u001b[0;34m\u001b[0m\u001b[0;34m\u001b[0m\u001b[0m\n",
      "\u001b[0;31mTypeError\u001b[0m: add() got an unexpected keyword argument 'padding'"
     ]
    }
   ],
   "source": [
    "model = Sequential()\n",
    "model.add(Conv2D(5, kernel_size=(2, 2),\n",
    "                 activation='relu',\n",
    "                 input_shape=(100,100,1)))\n",
    "model.add(Conv2D(5, (2, 2), activation='relu'))\n",
    "model.add(ZeroPadding)\n",
    "model.add(BatchNormalization())\n",
    "model.add(Conv2D(10, (2, 2), activation='relu'))\n",
    "model.add(Conv2D(10, (2, 2), activation='relu'))\n",
    "model.add(BatchNormalization())\n",
    "model.add(Conv2D(10, (2, 2), activation='relu'))\n",
    "model.add(Conv2D(10, (2, 2), activation='relu'))\n",
    "model.add(BatchNormalization())\n",
    "model.add(Conv2D(10, (2, 2), activation='relu'))\n",
    "model.add(Conv2D(10, (2, 2), activation='relu'))\n",
    "model.add(BatchNormalization())\n",
    "model.add(Conv2D(20, (3, 3), activation='relu'))\n",
    "model.add(Conv2D(20, (3, 3), activation='relu'))\n",
    "model.add(MaxPooling2D(pool_size=(2, 2)))\n",
    "model.add(Conv2D(15, (3, 3), activation='relu'))\n",
    "model.add(MaxPooling2D(pool_size=(2, 2)))\n",
    "model.add(Conv2D(30, (3, 3), activation='relu'))\n",
    "model.add(Conv2D(30, (3, 3), activation='relu'))\n",
    "model.add(MaxPooling2D(pool_size=(2, 2)))\n",
    "model.add(Dropout(0.2))\n",
    "model.add(Flatten())\n",
    "model.add(Dense(1600, activation='relu'))\n",
    "model.add(Dropout(0.5))\n",
    "model.add(Dense(4))\n",
    "\n",
    "batch_size = 120\n",
    "epochs = 50\n",
    "\n",
    "model.compile(loss=keras.losses.mean_squared_error,\n",
    "              optimizer=keras.optimizers.Adam(),\n",
    "              metrics=['accuracy'])\n",
    "\n",
    "model.fit(x_train, y_train,\n",
    "          batch_size=batch_size,\n",
    "          epochs=epochs,\n",
    "          verbose=1,\n",
    "          validation_data=(x_test, y_test))\n",
    "score = model.evaluate(x_test, y_test, verbose=0)\n",
    "print('Test loss:', score[0])\n",
    "print('Test accuracy:', score[1])"
   ]
  },
  {
   "cell_type": "code",
   "execution_count": 0,
   "metadata": {
    "colab": {},
    "colab_type": "code",
    "id": "4StvB0qLQBSE"
   },
   "outputs": [],
   "source": [
    "model.save('model_0046.h5')"
   ]
  },
  {
   "cell_type": "code",
   "execution_count": 0,
   "metadata": {
    "colab": {
     "base_uri": "https://localhost:8080/",
     "height": 34
    },
    "colab_type": "code",
    "executionInfo": {
     "elapsed": 1085,
     "status": "ok",
     "timestamp": 1549780601933,
     "user": {
      "displayName": "DIVYANSHU GUPTA",
      "photoUrl": "",
      "userId": "10844866931117318382"
     },
     "user_tz": -330
    },
    "id": "LZRiSDz2HrQ6",
    "outputId": "1ae38bc6-bce8-47db-b3ff-5c526fd8232e"
   },
   "outputs": [
    {
     "name": "stdout",
     "output_type": "stream",
     "text": [
      "0.529822362397252\n"
     ]
    }
   ],
   "source": [
    "print(iou(y_test[1],s[1]))"
   ]
  },
  {
   "cell_type": "code",
   "execution_count": 0,
   "metadata": {
    "colab": {
     "base_uri": "https://localhost:8080/",
     "height": 108
    },
    "colab_type": "code",
    "executionInfo": {
     "elapsed": 4294,
     "status": "ok",
     "timestamp": 1549803018212,
     "user": {
      "displayName": "DIVYANSHU GUPTA",
      "photoUrl": "",
      "userId": "10844866931117318382"
     },
     "user_tz": -330
    },
    "id": "RSCjKssZQXwC",
    "outputId": "e4f8fb6d-a8f4-4335-b5f4-9eda4daa06de"
   },
   "outputs": [
    {
     "name": "stdout",
     "output_type": "stream",
     "text": [
      "adc.json\t   x_train_100c_1.pickle  x_train_100c.pickle\n",
      "d2c_data_100c.tar  x_train_100c_2.pickle  x_train.pickle\n",
      "d2c_data.tar\t   x_train_100c_3.pickle  x_valid_100c.pickle\n",
      "sample_data\t   x_train_100c_4.pickle  y_test.pickle\n",
      "x_test.pickle\t   x_train_100c_5.pickle  y_train.pickle\n"
     ]
    }
   ],
   "source": [
    "!ls\n"
   ]
  },
  {
   "cell_type": "code",
   "execution_count": 0,
   "metadata": {
    "colab": {},
    "colab_type": "code",
    "id": "gXRwYWCUQcCP"
   },
   "outputs": [],
   "source": [
    "file5 = drive.CreateFile({'title': 'model_0046.h5'})\n",
    "file5.SetContentFile('model_0046.h5')\n",
    "file5.Upload()"
   ]
  },
  {
   "cell_type": "markdown",
   "metadata": {
    "colab_type": "text",
    "id": "_ZVnAeQTcXOd"
   },
   "source": [
    "We'll be trying out different types of models via exploring their depth and architectures and see which one gives us best results"
   ]
  },
  {
   "cell_type": "code",
   "execution_count": 0,
   "metadata": {
    "colab": {},
    "colab_type": "code",
    "id": "huMXbQ_mRrt-"
   },
   "outputs": [],
   "source": [
    "pred = model.predict(x_test[0:10,:,:,:])"
   ]
  },
  {
   "cell_type": "code",
   "execution_count": 0,
   "metadata": {
    "colab": {
     "base_uri": "https://localhost:8080/",
     "height": 285
    },
    "colab_type": "code",
    "executionInfo": {
     "elapsed": 2426,
     "status": "ok",
     "timestamp": 1549716839299,
     "user": {
      "displayName": "DIVYANSHU GUPTA",
      "photoUrl": "",
      "userId": "10844866931117318382"
     },
     "user_tz": -330
    },
    "id": "4zi-AdZGRy5l",
    "outputId": "9104fbef-c43d-447c-8d28-a4a3c24c5360"
   },
   "outputs": [
    {
     "data": {
      "text/plain": [
       "[<matplotlib.lines.Line2D at 0x7ff51aaedef0>]"
      ]
     },
     "execution_count": 31,
     "metadata": {
      "tags": []
     },
     "output_type": "execute_result"
    },
    {
     "data": {
      "image/png": "[encoded data removed]",
      "text/plain": [
       "<Figure size 432x288 with 1 Axes>"
      ]
     },
     "metadata": {
      "tags": []
     },
     "output_type": "display_data"
    }
   ],
   "source": [
    "%matplotlib inline\n",
    "\n",
    "i = 6\n",
    "\n",
    "some = x_test[i,:,:,:]\n",
    "\n",
    "plt.imshow(some.reshape(100,100))\n",
    "plt.plot(100*pred[i,0],100*pred[i,1],'ro')\n",
    "\n",
    "x1_ = 100*((2*pred[i,0]) - pred[i,2])/2\n",
    "y1_ = 100*((2*pred[i,1]) - pred[i,3])/2\n",
    "x2_ = 100*((2*pred[i,0]) + pred[i,2])/2\n",
    "y2_ = 100*((2*pred[i,1]) + pred[i,3])/2\n",
    "\n",
    "plt.plot(x1_,y1_,'ro')\n",
    "plt.plot(x2_,y2_,'ro')\n",
    "plt.plot(x1_,y2_,'ro')\n",
    "plt.plot(x2_,y1_,'ro')\n",
    "\n",
    "plt.plot(100*y_test[i,0],100*y_test[i,1],'b*')\n",
    "\n",
    "x1_ = 100*((2*y_test[i,0]) - y_test[i,2])/2\n",
    "y1_ = 100*((2*y_test[i,1]) - y_test[i,3])/2\n",
    "x2_ = 100*((2*y_test[i,0]) + y_test[i,2])/2\n",
    "y2_ = 100*((2*y_test[i,1]) + y_test[i,3])/2\n",
    "\n",
    "plt.plot(x1_,y1_,'b*')\n",
    "plt.plot(x2_,y2_,'b*')\n",
    "plt.plot(x1_,y2_,'b*')\n",
    "plt.plot(x2_,y1_,'b*')"
   ]
  },
  {
   "cell_type": "code",
   "execution_count": 0,
   "metadata": {
    "colab": {},
    "colab_type": "code",
    "id": "d8GCtO-nzOXu"
   },
   "outputs": [],
   "source": [
    "download = drive.CreateFile({'id': '1GZtU-q93cU4woolBU7fCvtw4iLfOaoQo'})\n",
    "download.GetContentFile('model_0054.h5')"
   ]
  },
  {
   "cell_type": "code",
   "execution_count": 0,
   "metadata": {
    "colab": {},
    "colab_type": "code",
    "id": "YyvNGU5PyoTm"
   },
   "outputs": [],
   "source": [
    "from keras.models import load_model\n",
    "\n",
    "model_1 = load_model('model_0046.h5')"
   ]
  },
  {
   "cell_type": "code",
   "execution_count": 0,
   "metadata": {
    "colab": {
     "base_uri": "https://localhost:8080/",
     "height": 476
    },
    "colab_type": "code",
    "executionInfo": {
     "elapsed": 1188,
     "status": "ok",
     "timestamp": 1549775668703,
     "user": {
      "displayName": "DIVYANSHU GUPTA",
      "photoUrl": "",
      "userId": "10844866931117318382"
     },
     "user_tz": -330
    },
    "id": "jm8SyfgM0-FP",
    "outputId": "d76aa3a0-62f8-42b4-cba6-b283be72c69f"
   },
   "outputs": [
    {
     "name": "stdout",
     "output_type": "stream",
     "text": [
      "_________________________________________________________________\n",
      "Layer (type)                 Output Shape              Param #   \n",
      "=================================================================\n",
      "conv2d_1 (Conv2D)            (None, 98, 98, 16)        160       \n",
      "_________________________________________________________________\n",
      "conv2d_2 (Conv2D)            (None, 96, 96, 32)        4640      \n",
      "_________________________________________________________________\n",
      "conv2d_3 (Conv2D)            (None, 94, 94, 64)        18496     \n",
      "_________________________________________________________________\n",
      "conv2d_4 (Conv2D)            (None, 94, 94, 128)       8320      \n",
      "_________________________________________________________________\n",
      "max_pooling2d_1 (MaxPooling2 (None, 47, 47, 128)       0         \n",
      "_________________________________________________________________\n",
      "dropout_1 (Dropout)          (None, 47, 47, 128)       0         \n",
      "_________________________________________________________________\n",
      "flatten_1 (Flatten)          (None, 282752)            0         \n",
      "_________________________________________________________________\n",
      "dense_1 (Dense)              (None, 256)               72384768  \n",
      "_________________________________________________________________\n",
      "dropout_2 (Dropout)          (None, 256)               0         \n",
      "_________________________________________________________________\n",
      "dense_2 (Dense)              (None, 4)                 1028      \n",
      "=================================================================\n",
      "Total params: 72,417,412\n",
      "Trainable params: 72,417,412\n",
      "Non-trainable params: 0\n",
      "_________________________________________________________________\n"
     ]
    }
   ],
   "source": [
    "model_1.summary()"
   ]
  },
  {
   "cell_type": "code",
   "execution_count": 0,
   "metadata": {
    "colab": {},
    "colab_type": "code",
    "id": "c9aP7cGG1BvI"
   },
   "outputs": [],
   "source": [
    "pred = model_1.predict(x_test)"
   ]
  },
  {
   "cell_type": "code",
   "execution_count": 0,
   "metadata": {
    "colab": {},
    "colab_type": "code",
    "id": "ymKAS3wx1MgW"
   },
   "outputs": [],
   "source": [
    "def iou(y_true, y_pred):\n",
    "\n",
    "  x_t = y_true[0]\n",
    "  y_t = y_true[1]\n",
    "  w_t = y_true[2]\n",
    "  h_t = y_true[3]\n",
    "\n",
    "  # Calculating the Co-ordinates from Center and Length Values (Actual Square)\n",
    "  x1_t = ((2*x_t) - w_t)/2\n",
    "  y1_t = ((2*y_t) - h_t)/2\n",
    "  x2_t = ((2*x_t) + w_t)/2\n",
    "  y2_t = ((2*y_t) + h_t)/2\n",
    "\n",
    "  x_p = y_pred[0]\n",
    "  y_p = y_pred[1]\n",
    "  w_p = y_pred[2]\n",
    "  h_p = y_pred[3]\n",
    "\n",
    "  # Calculating the Co-ordinates from center and length values (Prediction Square)\n",
    "  x1_p = ((2*x_p) - w_p)/2\n",
    "  y1_p = ((2*y_p) - h_p)/2\n",
    "  x2_p = ((2*x_p) + w_p)/2\n",
    "  y2_p = ((2*y_p) + h_p)/2\n",
    "\n",
    "  # Calculating the co-ordinates of intersecting square\n",
    "  x1 = max(x1_t,x1_p)\n",
    "  y1 = max(y1_t,y1_p)\n",
    "  x2 = min(x2_t,x2_p)\n",
    "  y2 = min(y2_t,y2_p)\n",
    "\n",
    "  # Area of Intersection\n",
    "  I_area = (x2-x1)*(y2-y1)\n",
    "\n",
    "  true_area = (x2_t-x1_t)*(y2_t-y1_t)\n",
    "  pred_area = (x2_p-x1_p)*(y2_p-y1_p)\n",
    "\n",
    "  # Union of both regions\n",
    "  U_area = true_area + pred_area - I_area\n",
    "\n",
    "  # Intersection over Union\n",
    "  IOU = I_area/U_area\n",
    "\n",
    "  return IOU"
   ]
  },
  {
   "cell_type": "code",
   "execution_count": 0,
   "metadata": {
    "colab": {
     "base_uri": "https://localhost:8080/",
     "height": 35
    },
    "colab_type": "code",
    "executionInfo": {
     "elapsed": 2504,
     "status": "ok",
     "timestamp": 1551174705288,
     "user": {
      "displayName": "DIVYANK PANDEY",
      "photoUrl": "",
      "userId": "07089478650029820120"
     },
     "user_tz": -330
    },
    "id": "S0nuvCLN3KKC",
    "outputId": "7d37e609-a7b5-4f80-86de-a3e4728599c0"
   },
   "outputs": [
    {
     "name": "stdout",
     "output_type": "stream",
     "text": [
      "0.8539564250402693\n"
     ]
    }
   ],
   "source": [
    "IOU = np.zeros((8000,1))\n",
    "\n",
    "for i in range(8000):\n",
    "  IOU[i,0] = iou(y_test_augment[i,:], pred[i,:])\n",
    "  \n",
    "print(np.mean(IOU))"
   ]
  },
  {
   "cell_type": "code",
   "execution_count": 0,
   "metadata": {
    "colab": {},
    "colab_type": "code",
    "id": "6NMbUc_d33VE"
   },
   "outputs": [],
   "source": [
    "pred_train = model_1.predict(x_train)"
   ]
  },
  {
   "cell_type": "code",
   "execution_count": 0,
   "metadata": {
    "colab": {
     "base_uri": "https://localhost:8080/",
     "height": 34
    },
    "colab_type": "code",
    "executionInfo": {
     "elapsed": 1226,
     "status": "ok",
     "timestamp": 1549776547835,
     "user": {
      "displayName": "DIVYANSHU GUPTA",
      "photoUrl": "",
      "userId": "10844866931117318382"
     },
     "user_tz": -330
    },
    "id": "AxvrSe7S4Lvc",
    "outputId": "ebbf5a13-50d6-4965-ad91-010c2c47ba6e"
   },
   "outputs": [
    {
     "name": "stdout",
     "output_type": "stream",
     "text": [
      "0.8230882491287156\n"
     ]
    }
   ],
   "source": [
    "IOU_train = np.zeros((12000,1))\n",
    "\n",
    "for i in range(12000):\n",
    "  IOU_train[i,0] = iou(y_train[i,:], pred_train[i,:])\n",
    "  \n",
    "print(np.mean(IOU_train))"
   ]
  },
  {
   "cell_type": "markdown",
   "metadata": {
    "colab_type": "text",
    "id": "__tqry6bcXOe"
   },
   "source": [
    "### LeNet-5 ( 'model1' )"
   ]
  },
  {
   "cell_type": "code",
   "execution_count": 0,
   "metadata": {
    "colab": {},
    "colab_type": "code",
    "id": "tQie_St2cXOf"
   },
   "outputs": [],
   "source": []
  },
  {
   "cell_type": "markdown",
   "metadata": {
    "colab_type": "text",
    "id": "4-7CJ7hCVwwo"
   },
   "source": [
    "# Rang Birangi Duniya"
   ]
  },
  {
   "cell_type": "code",
   "execution_count": 0,
   "metadata": {
    "colab": {},
    "colab_type": "code",
    "id": "bOxOLQq8VuQX"
   },
   "outputs": [],
   "source": [
    "download = drive.CreateFile({'id': '1vQ4kSlnovnVS0Cqtjk3vDtEazdHVYJ3x'})\n",
    "download.GetContentFile('d2c_data_100c.tar')"
   ]
  },
  {
   "cell_type": "code",
   "execution_count": 0,
   "metadata": {
    "colab": {},
    "colab_type": "code",
    "id": "E_CFWJs_Wv8F"
   },
   "outputs": [],
   "source": [
    "!tar -x -f d2c_data_100c.tar"
   ]
  },
  {
   "cell_type": "code",
   "execution_count": 0,
   "metadata": {
    "colab": {},
    "colab_type": "code",
    "id": "_S-wt2VrX2Rm"
   },
   "outputs": [],
   "source": [
    "x_train_100c = np.zeros((13500,100,100,3))\n",
    "for i in range(5):\n",
    "  if i < 4:\n",
    "    name  = ['x_train_100c_',str(i+1),'.pickle']\n",
    "    name = ''.join(name)\n",
    "    x_train_100c[i*3000:(i+1)*3000, :,:,:] = pickleIn(name)\n",
    "  else:\n",
    "    name  = ['x_train_100c_',str(i+1),'.pickle']\n",
    "    name = ''.join(name)\n",
    "    x_train_100c[i*3000:13500, :,:,:] = pickleIn(name)\n",
    "    "
   ]
  },
  {
   "cell_type": "code",
   "execution_count": 0,
   "metadata": {
    "colab": {},
    "colab_type": "code",
    "id": "vBstfdqxaQ8x"
   },
   "outputs": [],
   "source": [
    "x_valid_100c = pickleIn('x_valid_100c.pickle')"
   ]
  },
  {
   "cell_type": "code",
   "execution_count": 0,
   "metadata": {
    "colab": {},
    "colab_type": "code",
    "id": "R4D8zNJPXqSx"
   },
   "outputs": [],
   "source": [
    "y_train = pickleIn('y_train.pickle')\n",
    "y_test = pickleIn('y_test.pickle')\n",
    "\n",
    "y_train_100c = np.zeros((13500,4))\n",
    "y_valid_100c = np.zeros((500,4))\n",
    "\n",
    "y_train_100c[0:12000,:] = y_train\n",
    "y_train_100c[12000:13500,:] = y_test[0:1500,:]\n",
    "\n",
    "y_valid_100c = y_test[1500:2000,:]"
   ]
  },
  {
   "cell_type": "code",
   "execution_count": 0,
   "metadata": {
    "colab": {},
    "colab_type": "code",
    "id": "0OPsJ_Oicysj"
   },
   "outputs": [],
   "source": [
    "pickleOut('x_train_100c.pickle', x_train_100c)"
   ]
  },
  {
   "cell_type": "code",
   "execution_count": 0,
   "metadata": {
    "colab": {},
    "colab_type": "code",
    "id": "vgZv8CIpdFhw"
   },
   "outputs": [],
   "source": [
    "pickleOut('y_train_100c.pickle', y_train_100c)"
   ]
  },
  {
   "cell_type": "code",
   "execution_count": 0,
   "metadata": {
    "colab": {},
    "colab_type": "code",
    "id": "SZBLoy23dFDW"
   },
   "outputs": [],
   "source": [
    "pickleOut('x_valid_100c.pickle', x_valid_100c)"
   ]
  },
  {
   "cell_type": "code",
   "execution_count": 0,
   "metadata": {
    "colab": {},
    "colab_type": "code",
    "id": "N5ijrcSJdE-G"
   },
   "outputs": [],
   "source": [
    "pickleOut('y_valid_100c.pickle', y_valid_100c)"
   ]
  },
  {
   "cell_type": "code",
   "execution_count": 0,
   "metadata": {
    "colab": {},
    "colab_type": "code",
    "id": "GHR7V2t3eT0o"
   },
   "outputs": [],
   "source": [
    "file5 = drive.CreateFile({'title': 'x_train_100c.pickle'})\n",
    "file5.SetContentFile('x_train_100c.pickle')\n",
    "file5.Upload()"
   ]
  },
  {
   "cell_type": "code",
   "execution_count": 0,
   "metadata": {
    "colab": {},
    "colab_type": "code",
    "id": "FUwFPufCebiS"
   },
   "outputs": [],
   "source": [
    "file5 = drive.CreateFile({'title': 'y_train_100c.pickle'})\n",
    "file5.SetContentFile('y_train_100c.pickle')\n",
    "file5.Upload()"
   ]
  },
  {
   "cell_type": "code",
   "execution_count": 0,
   "metadata": {
    "colab": {},
    "colab_type": "code",
    "id": "w2U9p4rnecnL"
   },
   "outputs": [],
   "source": [
    "file5 = drive.CreateFile({'title': 'x_valid_100c.pickle'})\n",
    "file5.SetContentFile('x_valid_100c.pickle')\n",
    "file5.Upload()"
   ]
  },
  {
   "cell_type": "code",
   "execution_count": 0,
   "metadata": {
    "colab": {},
    "colab_type": "code",
    "id": "5GRBpdoXedq0"
   },
   "outputs": [],
   "source": [
    "file5 = drive.CreateFile({'title': 'y_valid_100c.pickle'})\n",
    "file5.SetContentFile('y_valid_100c.pickle')\n",
    "file5.Upload()"
   ]
  },
  {
   "cell_type": "code",
   "execution_count": 0,
   "metadata": {
    "colab": {},
    "colab_type": "code",
    "id": "QhwA7s98a90N"
   },
   "outputs": [],
   "source": [
    "model = Sequential()\n",
    "model.add(Conv2D(16, kernel_size=(3, 3),\n",
    "                 activation='relu',\n",
    "                 input_shape=(100,100,3)))\n",
    "model.add(Conv2D(16, (3, 3), activation='relu'))\n",
    "model.add(MaxPooling2D(pool_size=(2, 2)))\n",
    "model.add(Conv2D(32, (3, 3), activation='relu'))\n",
    "model.add(Conv2D(32, (3, 3), activation='relu'))\n",
    "model.add(MaxPooling2D(pool_size=(2, 2)))\n",
    "model.add(Conv2D(64, (4, 4), activation='relu'))\n",
    "model.add(Conv2D(64, (2, 2), activation='relu'))\n",
    "model.add(Dropout(0.25))\n",
    "model.add(Flatten())\n",
    "model.add(Dense(800, activation='relu'))\n",
    "model.add(Dense(800, activation='relu'))\n",
    "model.add(Dropout(0.5))\n",
    "model.add(Dense(4))\n",
    "\n",
    "batch_size = 135\n",
    "epochs = 50\n",
    "\n",
    "model.compile(loss=keras.losses.mean_squared_error,\n",
    "              optimizer=keras.optimizers.Adam(),\n",
    "              metrics=['accuracy'])\n",
    "\n",
    "model.fit(x_train_100c, y_train_100c,\n",
    "          batch_size=batch_size,\n",
    "          epochs=epochs,\n",
    "          verbose=1,\n",
    "          validation_data=(x_valid_100c, y_valid_100c))\n",
    "score = model.evaluate(x_valid_100c, y_valid_100c, verbose=0)\n",
    "print('Test loss:', score[0])\n",
    "print('Test accuracy:', score[1])"
   ]
  },
  {
   "cell_type": "code",
   "execution_count": 0,
   "metadata": {
    "colab": {},
    "colab_type": "code",
    "id": "1QUAXDwvcNx0"
   },
   "outputs": [],
   "source": [
    "model.fit(x_train_100c, y_train_100c,\n",
    "          batch_size=batch_size,\n",
    "          epochs=epochs,\n",
    "          verbose=1,\n",
    "          validation_data=(x_valid_100c, y_valid_100c))\n",
    "score = model.evaluate(x_valid_100c, y_valid_100c, verbose=0)\n",
    "print('Test loss:', score[0])\n",
    "print('Test accuracy:', score[1])"
   ]
  },
  {
   "cell_type": "code",
   "execution_count": 0,
   "metadata": {
    "colab": {},
    "colab_type": "code",
    "id": "ZawSbCG6o3Fa"
   },
   "outputs": [],
   "source": [
    "model_c.fit(x_train_100c, y_train_100c,\n",
    "          batch_size=batch_size,\n",
    "          epochs=epochs,\n",
    "          verbose=1,\n",
    "          validation_data=(x_valid_100c, y_valid_100c))\n",
    "score = model_c.evaluate(x_valid_100c, y_valid_100c, verbose=0)\n",
    "print('Test loss:', score[0])\n",
    "print('Test accuracy:', score[1])"
   ]
  },
  {
   "cell_type": "code",
   "execution_count": 0,
   "metadata": {
    "colab": {},
    "colab_type": "code",
    "id": "8gN1x5H9sqpl"
   },
   "outputs": [],
   "source": [
    "model.save('model_0055_c.h5')"
   ]
  },
  {
   "cell_type": "code",
   "execution_count": 0,
   "metadata": {
    "colab": {
     "base_uri": "https://localhost:8080/",
     "height": 126
    },
    "colab_type": "code",
    "executionInfo": {
     "elapsed": 7548,
     "status": "ok",
     "timestamp": 1549818252823,
     "user": {
      "displayName": "DIVYANSHU GUPTA",
      "photoUrl": "",
      "userId": "10844866931117318382"
     },
     "user_tz": -330
    },
    "id": "oAqzbq6StP7w",
    "outputId": "153b987d-1e54-4498-e63e-f595671297ac"
   },
   "outputs": [
    {
     "name": "stdout",
     "output_type": "stream",
     "text": [
      "adc.json\t   x_train_100c_1.pickle  x_train.pickle\n",
      "d2c_data_100c.tar  x_train_100c_2.pickle  x_valid_100c.pickle\n",
      "d2c_data.tar\t   x_train_100c_3.pickle  y_test.pickle\n",
      "model_0055_c.h5    x_train_100c_4.pickle  y_train_100c.pickle\n",
      "sample_data\t   x_train_100c_5.pickle  y_train.pickle\n",
      "x_test.pickle\t   x_train_100c.pickle\t  y_valid_100c.pickle\n"
     ]
    }
   ],
   "source": [
    "!ls"
   ]
  },
  {
   "cell_type": "code",
   "execution_count": 0,
   "metadata": {
    "colab": {},
    "colab_type": "code",
    "id": "J9vUwZDQswBB"
   },
   "outputs": [],
   "source": [
    "file5 = drive.CreateFile({'title': 'model_0055_c.h5'})\n",
    "file5.SetContentFile('model_0055_c.h5')\n",
    "file5.Upload()"
   ]
  },
  {
   "cell_type": "code",
   "execution_count": 0,
   "metadata": {
    "colab": {},
    "colab_type": "code",
    "id": "eEXkHZs5tNX7"
   },
   "outputs": [],
   "source": [
    "download = drive.CreateFile({'id': '1oRQhWWpv12bfDLshAqEAV5FnAD62L8hU'})\n",
    "download.GetContentFile('x_train_100c.pickle')"
   ]
  },
  {
   "cell_type": "code",
   "execution_count": 0,
   "metadata": {
    "colab": {},
    "colab_type": "code",
    "id": "gI_rUqeZt9WI"
   },
   "outputs": [],
   "source": [
    "download = drive.CreateFile({'id': '126XjUQ_Q1GqtPqOUtga-lEMslMyr-4d0'})\n",
    "download.GetContentFile('x_valid_100c.pickle')"
   ]
  },
  {
   "cell_type": "code",
   "execution_count": 0,
   "metadata": {
    "colab": {},
    "colab_type": "code",
    "id": "CwwY70lMt-j7"
   },
   "outputs": [],
   "source": [
    "download = drive.CreateFile({'id': '1lIYqHESjnGsMZqRAGsHy-cBd9jDRMO9V'})\n",
    "download.GetContentFile('y_train_100c.pickle')"
   ]
  },
  {
   "cell_type": "code",
   "execution_count": 0,
   "metadata": {
    "colab": {},
    "colab_type": "code",
    "id": "qH2QW9WRt_m8"
   },
   "outputs": [],
   "source": [
    "download = drive.CreateFile({'id': '1Sdx4RLeoEb1rlAWR9HRr2EI7fqrvn7Z4'})\n",
    "download.GetContentFile('y_valid_100c.pickle')"
   ]
  },
  {
   "cell_type": "code",
   "execution_count": 0,
   "metadata": {
    "colab": {
     "base_uri": "https://localhost:8080/",
     "height": 201
    },
    "colab_type": "code",
    "executionInfo": {
     "elapsed": 4519,
     "status": "ok",
     "timestamp": 1549816317516,
     "user": {
      "displayName": "DIVYANSHU GUPTA",
      "photoUrl": "",
      "userId": "10844866931117318382"
     },
     "user_tz": -330
    },
    "id": "V1t2MclMP_We",
    "outputId": "bb8f445d-2714-4e13-9182-0ba21a0e58c0"
   },
   "outputs": [
    {
     "name": "stdout",
     "output_type": "stream",
     "text": [
      "WARNING:tensorflow:From /usr/local/lib/python3.6/dist-packages/tensorflow/python/framework/op_def_library.py:263: colocate_with (from tensorflow.python.framework.ops) is deprecated and will be removed in a future version.\n",
      "Instructions for updating:\n",
      "Colocations handled automatically by placer.\n",
      "WARNING:tensorflow:From /usr/local/lib/python3.6/dist-packages/keras/backend/tensorflow_backend.py:3445: calling dropout (from tensorflow.python.ops.nn_ops) with keep_prob is deprecated and will be removed in a future version.\n",
      "Instructions for updating:\n",
      "Please use `rate` instead of `keep_prob`. Rate should be set to `rate = 1 - keep_prob`.\n",
      "WARNING:tensorflow:From /usr/local/lib/python3.6/dist-packages/tensorflow/python/ops/math_ops.py:3066: to_int32 (from tensorflow.python.ops.math_ops) is deprecated and will be removed in a future version.\n",
      "Instructions for updating:\n",
      "Use tf.cast instead.\n"
     ]
    }
   ],
   "source": [
    "from keras.models import load_model\n",
    "\n",
    "model_c = load_model('model_0055_c.h5')"
   ]
  },
  {
   "cell_type": "code",
   "execution_count": 0,
   "metadata": {
    "colab": {
     "base_uri": "https://localhost:8080/",
     "height": 581
    },
    "colab_type": "code",
    "executionInfo": {
     "elapsed": 2246,
     "status": "ok",
     "timestamp": 1549816332678,
     "user": {
      "displayName": "DIVYANSHU GUPTA",
      "photoUrl": "",
      "userId": "10844866931117318382"
     },
     "user_tz": -330
    },
    "id": "88yCWYM8QDP_",
    "outputId": "2d457b08-005f-4418-c1e5-9e510e0da455"
   },
   "outputs": [
    {
     "name": "stdout",
     "output_type": "stream",
     "text": [
      "_________________________________________________________________\n",
      "Layer (type)                 Output Shape              Param #   \n",
      "=================================================================\n",
      "conv2d_5 (Conv2D)            (None, 98, 98, 5)         140       \n",
      "_________________________________________________________________\n",
      "conv2d_6 (Conv2D)            (None, 96, 96, 10)        460       \n",
      "_________________________________________________________________\n",
      "max_pooling2d_2 (MaxPooling2 (None, 48, 48, 10)        0         \n",
      "_________________________________________________________________\n",
      "conv2d_7 (Conv2D)            (None, 46, 46, 8)         728       \n",
      "_________________________________________________________________\n",
      "conv2d_8 (Conv2D)            (None, 46, 46, 16)        144       \n",
      "_________________________________________________________________\n",
      "max_pooling2d_3 (MaxPooling2 (None, 23, 23, 16)        0         \n",
      "_________________________________________________________________\n",
      "conv2d_9 (Conv2D)            (None, 20, 20, 10)        2570      \n",
      "_________________________________________________________________\n",
      "dropout_3 (Dropout)          (None, 20, 20, 10)        0         \n",
      "_________________________________________________________________\n",
      "flatten_2 (Flatten)          (None, 4000)              0         \n",
      "_________________________________________________________________\n",
      "dense_3 (Dense)              (None, 480)               1920480   \n",
      "_________________________________________________________________\n",
      "dropout_4 (Dropout)          (None, 480)               0         \n",
      "_________________________________________________________________\n",
      "dense_4 (Dense)              (None, 4)                 1924      \n",
      "=================================================================\n",
      "Total params: 1,926,446\n",
      "Trainable params: 1,926,446\n",
      "Non-trainable params: 0\n",
      "_________________________________________________________________\n"
     ]
    }
   ],
   "source": [
    "model_c.summary()"
   ]
  },
  {
   "cell_type": "code",
   "execution_count": 0,
   "metadata": {
    "colab": {},
    "colab_type": "code",
    "id": "88PcWzBKQHgm"
   },
   "outputs": [],
   "source": [
    "pred_c = model_c.predict(x_valid_100c)"
   ]
  },
  {
   "cell_type": "code",
   "execution_count": 0,
   "metadata": {
    "colab": {},
    "colab_type": "code",
    "id": "7rcDnjwMQPt6"
   },
   "outputs": [],
   "source": [
    "x_valid_100c = pickleIn('x_valid_100c.pickle')\n",
    "y_valid_100c = pickleIn('y_valid_100c.pickle')"
   ]
  },
  {
   "cell_type": "code",
   "execution_count": 0,
   "metadata": {
    "colab": {
     "base_uri": "https://localhost:8080/",
     "height": 35
    },
    "colab_type": "code",
    "executionInfo": {
     "elapsed": 2313,
     "status": "ok",
     "timestamp": 1549816568307,
     "user": {
      "displayName": "DIVYANSHU GUPTA",
      "photoUrl": "",
      "userId": "10844866931117318382"
     },
     "user_tz": -330
    },
    "id": "kHQ16NMPQiOH",
    "outputId": "e0f1fe50-7b33-4661-bae7-28ffe98e9cbe"
   },
   "outputs": [
    {
     "name": "stdout",
     "output_type": "stream",
     "text": [
      "0.7646446908931348\n"
     ]
    }
   ],
   "source": [
    "IOU = np.zeros((500,1))\n",
    "\n",
    "for i in range(500):\n",
    "  IOU[i,0] = iou(y_valid_100c[i,:], pred_c[i,:])\n",
    "  \n",
    "print(np.mean(IOU))"
   ]
  },
  {
   "cell_type": "code",
   "execution_count": 0,
   "metadata": {
    "colab": {},
    "colab_type": "code",
    "id": "4sUq49NrQ30x"
   },
   "outputs": [],
   "source": [
    "x_train_100c = pickleIn('x_train_100c.pickle')\n",
    "y_train_100c = pickleIn('y_train_100c.pickle')"
   ]
  },
  {
   "cell_type": "code",
   "execution_count": 0,
   "metadata": {
    "colab": {},
    "colab_type": "code",
    "id": "Yynx8j2KRLgU"
   },
   "outputs": [],
   "source": [
    "pred_pred_c = model_c.predict(x_train_100c)"
   ]
  },
  {
   "cell_type": "code",
   "execution_count": 0,
   "metadata": {
    "colab": {
     "base_uri": "https://localhost:8080/",
     "height": 35
    },
    "colab_type": "code",
    "executionInfo": {
     "elapsed": 2654,
     "status": "ok",
     "timestamp": 1549816684004,
     "user": {
      "displayName": "DIVYANSHU GUPTA",
      "photoUrl": "",
      "userId": "10844866931117318382"
     },
     "user_tz": -330
    },
    "id": "QAwcK3WuRVwY",
    "outputId": "1a6db994-d37c-49cc-8e94-8efa85bc6c15"
   },
   "outputs": [
    {
     "name": "stdout",
     "output_type": "stream",
     "text": [
      "0.8164743406875994\n"
     ]
    }
   ],
   "source": [
    "IOU = np.zeros((13500,1))\n",
    "\n",
    "for i in range(13500):\n",
    "  IOU[i,0] = iou(y_train_100c[i,:], pred_pred_c[i,:])\n",
    "  \n",
    "print(np.mean(IOU))"
   ]
  },
  {
   "cell_type": "code",
   "execution_count": 0,
   "metadata": {
    "colab": {
     "base_uri": "https://localhost:8080/",
     "height": 35
    },
    "colab_type": "code",
    "executionInfo": {
     "elapsed": 2770,
     "status": "ok",
     "timestamp": 1549818173574,
     "user": {
      "displayName": "DIVYANSHU GUPTA",
      "photoUrl": "",
      "userId": "10844866931117318382"
     },
     "user_tz": -330
    },
    "id": "GotUF_N5RdLk",
    "outputId": "4c137e7d-d859-4e9a-bce1-af883b3d70c8"
   },
   "outputs": [
    {
     "name": "stdout",
     "output_type": "stream",
     "text": [
      "0.2857142857142857 0.2857142857142857\n"
     ]
    }
   ],
   "source": [
    "print(iou(np.array((4.5,3.5,3,3)),np.array((5.5,4.5,3,3))), float(4/14))"
   ]
  },
  {
   "cell_type": "code",
   "execution_count": 0,
   "metadata": {
    "colab": {},
    "colab_type": "code",
    "id": "fN8p0mx4XGV9"
   },
   "outputs": [],
   "source": [
    "def Mean_IOU(y_true, y_pred):\n",
    "    nb_classes = K.int_shape(y_pred)[-1]\n",
    "    iou = []\n",
    "    true_pixels = K.argmax(y_true, axis=-1)\n",
    "    pred_pixels = K.argmax(y_pred, axis=-1)\n",
    "    void_labels = K.equal(K.sum(y_true, axis=-1), 0)\n",
    "    for i in range(0, nb_classes): # exclude first label (background) and last label (void)\n",
    "        true_labels = K.equal(true_pixels, i) & ~void_labels\n",
    "        pred_labels = K.equal(pred_pixels, i) & ~void_labels\n",
    "        inter = tf.to_int32(true_labels & pred_labels)\n",
    "        union = tf.to_int32(true_labels | pred_labels)\n",
    "        legal_batches = K.sum(tf.to_int32(true_labels), axis=1)>0\n",
    "        ious = K.sum(inter, axis=1)/K.sum(union, axis=1)\n",
    "        iou.append(K.mean(tf.gather(ious, indices=tf.where(legal_batches)))) # returns average IoU of the same objects\n",
    "    iou = tf.stack(iou)\n",
    "    legal_labels = ~tf.debugging.is_nan(iou)\n",
    "    iou = tf.gather(iou, indices=tf.where(legal_labels))\n",
    "    return K.mean(iou)"
   ]
  },
  {
   "cell_type": "code",
   "execution_count": 0,
   "metadata": {
    "colab": {},
    "colab_type": "code",
    "id": "yOlUs671ZHKF"
   },
   "outputs": [],
   "source": [
    "import keras.backend as K\n",
    "model_c.compile(loss=keras.losses.mean_squared_error,\n",
    "              optimizer=keras.optimizers.Adam(),\n",
    "              metrics=['accuracy'])"
   ]
  },
  {
   "cell_type": "code",
   "execution_count": 0,
   "metadata": {
    "colab": {},
    "colab_type": "code",
    "id": "mW5200PAkh0v"
   },
   "outputs": [],
   "source": []
  },
  {
   "cell_type": "code",
   "execution_count": 0,
   "metadata": {
    "colab": {},
    "colab_type": "code",
    "id": "RcRmGRDzTetK"
   },
   "outputs": [],
   "source": []
  },
  {
   "cell_type": "code",
   "execution_count": 0,
   "metadata": {
    "colab": {},
    "colab_type": "code",
    "id": "1zWZEaB5Tg5l"
   },
   "outputs": [],
   "source": []
  },
  {
   "cell_type": "markdown",
   "metadata": {
    "colab_type": "text",
    "id": "9sNlqy_cTj5U"
   },
   "source": [
    "# Baap Network"
   ]
  },
  {
   "cell_type": "code",
   "execution_count": 0,
   "metadata": {
    "colab": {},
    "colab_type": "code",
    "id": "sRgeRVxzU-2d"
   },
   "outputs": [],
   "source": [
    "import keras\n",
    "from keras.models import Model\n",
    "from keras.layers import Input, Conv2D, MaxPooling2D, Dense, Flatten, Conv3D, BatchNormalization, Add, ReLU, AveragePooling2D, ZeroPadding2D, Dropout"
   ]
  },
  {
   "cell_type": "code",
   "execution_count": 0,
   "metadata": {
    "colab": {},
    "colab_type": "code",
    "id": "ocpqjZ1KTnbt"
   },
   "outputs": [],
   "source": [
    "input_ = Input(shape = (100,100,1))\n",
    "\n",
    "layer = ZeroPadding2D(padding=(1, 1), data_format=None)(input_)\n",
    "\n",
    "layer = Conv2D(5, kernel_size=(2, 2), activation='relu')(layer)\n",
    "layer = Conv2D(5, (2, 2), activation='relu')(layer)\n",
    "layer_1 = BatchNormalization()(layer)\n",
    "\n",
    "layer = ZeroPadding2D(padding=(1, 1), data_format=None)(layer_1)\n",
    "\n",
    "layer = Conv2D(10, (2, 2), activation='relu')(layer)\n",
    "layer = Conv2D(10, (2, 2), activation='relu')(layer)\n",
    "layer = BatchNormalization()(layer)\n",
    "\n",
    "#Residual_1\n",
    "res_layer_1 = Conv2D(5, (1, 1), activation = 'relu')(layer)\n",
    "res_layer_1 = BatchNormalization()(res_layer_1)\n",
    "res_layer_1 = keras.layers.add([layer_1, res_layer_1])\n",
    "res_layer_1 = BatchNormalization()(res_layer_1)\n",
    "\n",
    "layer = AveragePooling2D(pool_size=(2, 2))(res_layer_1)\n",
    "\n",
    "layer = Conv2D(15, (2, 2), activation='relu')(layer)\n",
    "layer = Conv2D(15, (2, 2), activation='relu')(layer)\n",
    "layer_2 = BatchNormalization()(layer)\n",
    "\n",
    "layer = ZeroPadding2D(padding=(1, 1), data_format=None)(layer_2)\n",
    "\n",
    "layer = Conv2D(20, (2, 2), activation='relu')(layer)\n",
    "layer = Conv2D(20, (2, 2), activation='relu')(layer)\n",
    "layer = BatchNormalization()(layer)\n",
    "\n",
    "#Residual_2\n",
    "res_layer_2 = Conv2D(15, (1, 1), activation = 'relu')(layer)\n",
    "res_layer_2 = BatchNormalization()(res_layer_2)\n",
    "res_layer_2 = keras.layers.add([layer_2, res_layer_2])\n",
    "res_layer_2 = Dropout(.2)(res_layer_2)\n",
    "res_layer_2 = BatchNormalization()(res_layer_2)\n",
    "\n",
    "layer = AveragePooling2D(pool_size=(2, 2))(res_layer_2)\n",
    "\n",
    "layer = Conv2D(20, (2, 2), activation='relu')(layer)\n",
    "layer = Conv2D(20, (2, 2), activation='relu')(layer)\n",
    "layer_3 = BatchNormalization()(layer)\n",
    "\n",
    "layer = Conv2D(20, (3, 3), activation='relu')(layer_3)\n",
    "layer = Conv2D(20, (3, 3), activation='relu')(layer)\n",
    "\n",
    "\n",
    "layer = Dropout(0.2)(layer)\n",
    "layer = BatchNormalization()(layer)\n",
    "\n",
    "layer_4 = AveragePooling2D(pool_size=(2, 2))(layer)\n",
    "'''\n",
    "layer = Conv2D(20, (3, 3), activation='relu')(layer_4)\n",
    "layer_5 = Conv2D(20, (3, 3), activation='relu')(layer)\n",
    "\n",
    "layer = Conv2D(15, (3, 3), activation='relu')(layer_5)\n",
    "layer_6 = AveragePooling2D(pool_size=(2, 2))(layer)\n",
    "'''\n",
    "\n",
    "\n",
    "layer = Flatten()(layer_4)\n",
    "\n",
    "layer_7 = Dense(500, activation='relu')(layer)\n",
    "layer_8 = Dense(500, activation='relu')(layer_7)\n",
    "\n",
    "layer = Dropout(0.5)(layer_8)\n",
    "\n",
    "box = Dense(4)(layer)\n",
    "\n",
    "model = Model(inputs = input_, outputs = box)\n",
    "\n",
    "model.compile(loss=keras.losses.mean_squared_error,\n",
    "              optimizer=keras.optimizers.Adam(),\n",
    "              metrics=['accuracy'])"
   ]
  },
  {
   "cell_type": "code",
   "execution_count": 0,
   "metadata": {
    "colab": {
     "base_uri": "https://localhost:8080/",
     "height": 1318
    },
    "colab_type": "code",
    "executionInfo": {
     "elapsed": 627988,
     "status": "error",
     "timestamp": 1551176159110,
     "user": {
      "displayName": "DIVYANK PANDEY",
      "photoUrl": "",
      "userId": "07089478650029820120"
     },
     "user_tz": -330
    },
    "id": "ytkgMCk6U8LK",
    "outputId": "1697b8ce-dec4-4e95-bdac-806e31a068ca"
   },
   "outputs": [
    {
     "name": "stdout",
     "output_type": "stream",
     "text": [
      "Train on 48000 samples, validate on 8000 samples\n",
      "Epoch 1/20\n",
      "48000/48000 [==============================] - 59s 1ms/step - loss: 0.0011 - acc: 0.9314 - val_loss: 0.0029 - val_acc: 0.9139\n",
      "Epoch 2/20\n",
      "48000/48000 [==============================] - 59s 1ms/step - loss: 0.0011 - acc: 0.9316 - val_loss: 0.0029 - val_acc: 0.9100\n",
      "Epoch 3/20\n",
      "48000/48000 [==============================] - 59s 1ms/step - loss: 0.0011 - acc: 0.9314 - val_loss: 0.0030 - val_acc: 0.9108\n",
      "Epoch 4/20\n",
      "48000/48000 [==============================] - 59s 1ms/step - loss: 0.0011 - acc: 0.9317 - val_loss: 0.0029 - val_acc: 0.9104\n",
      "Epoch 5/20\n",
      "48000/48000 [==============================] - 59s 1ms/step - loss: 0.0011 - acc: 0.9320 - val_loss: 0.0029 - val_acc: 0.9109\n",
      "Epoch 6/20\n",
      "48000/48000 [==============================] - 59s 1ms/step - loss: 0.0011 - acc: 0.9343 - val_loss: 0.0029 - val_acc: 0.9110\n",
      "Epoch 7/20\n",
      "48000/48000 [==============================] - 59s 1ms/step - loss: 0.0011 - acc: 0.9334 - val_loss: 0.0029 - val_acc: 0.9094\n",
      "Epoch 8/20\n",
      "48000/48000 [==============================] - 59s 1ms/step - loss: 0.0010 - acc: 0.9318 - val_loss: 0.0029 - val_acc: 0.9148\n",
      "Epoch 9/20\n",
      "48000/48000 [==============================] - 59s 1ms/step - loss: 0.0011 - acc: 0.9336 - val_loss: 0.0029 - val_acc: 0.9124\n",
      "Epoch 10/20\n",
      "48000/48000 [==============================] - 59s 1ms/step - loss: 0.0010 - acc: 0.9329 - val_loss: 0.0029 - val_acc: 0.9149\n",
      "Epoch 11/20\n",
      "31200/48000 [==================>...........] - ETA: 19s - loss: 0.0010 - acc: 0.9322"
     ]
    },
    {
     "ename": "KeyboardInterrupt",
     "evalue": "ignored",
     "output_type": "error",
     "traceback": [
      "\u001b[0;31m---------------------------------------------------------------------------\u001b[0m",
      "\u001b[0;31mKeyboardInterrupt\u001b[0m                         Traceback (most recent call last)",
      "\u001b[0;32m<ipython-input-77-c937a27da059>\u001b[0m in \u001b[0;36m<module>\u001b[0;34m()\u001b[0m\n\u001b[1;32m      7\u001b[0m           \u001b[0mverbose\u001b[0m\u001b[0;34m=\u001b[0m\u001b[0;36m1\u001b[0m\u001b[0;34m,\u001b[0m\u001b[0;34m\u001b[0m\u001b[0;34m\u001b[0m\u001b[0m\n\u001b[1;32m      8\u001b[0m           \u001b[0mclass_weight\u001b[0m\u001b[0;34m=\u001b[0m\u001b[0;34m[\u001b[0m\u001b[0;36m1\u001b[0m\u001b[0;34m,\u001b[0m\u001b[0;36m1\u001b[0m\u001b[0;34m,\u001b[0m\u001b[0;36m10\u001b[0m\u001b[0;34m,\u001b[0m\u001b[0;36m10\u001b[0m\u001b[0;34m]\u001b[0m\u001b[0;34m,\u001b[0m\u001b[0;34m\u001b[0m\u001b[0;34m\u001b[0m\u001b[0m\n\u001b[0;32m----> 9\u001b[0;31m           validation_data=(x_test_augment, y_test_augment))\n\u001b[0m\u001b[1;32m     10\u001b[0m \u001b[0;34m\u001b[0m\u001b[0m\n\u001b[1;32m     11\u001b[0m \u001b[0mscore\u001b[0m \u001b[0;34m=\u001b[0m \u001b[0mmodel\u001b[0m\u001b[0;34m.\u001b[0m\u001b[0mevaluate\u001b[0m\u001b[0;34m(\u001b[0m\u001b[0mx_test_augment\u001b[0m\u001b[0;34m,\u001b[0m \u001b[0my_test_augment\u001b[0m\u001b[0;34m,\u001b[0m \u001b[0mverbose\u001b[0m\u001b[0;34m=\u001b[0m\u001b[0;36m0\u001b[0m\u001b[0;34m)\u001b[0m\u001b[0;34m\u001b[0m\u001b[0;34m\u001b[0m\u001b[0m\n",
      "\u001b[0;32m/usr/local/lib/python3.6/dist-packages/keras/engine/training.py\u001b[0m in \u001b[0;36mfit\u001b[0;34m(self, x, y, batch_size, epochs, verbose, callbacks, validation_split, validation_data, shuffle, class_weight, sample_weight, initial_epoch, steps_per_epoch, validation_steps, **kwargs)\u001b[0m\n\u001b[1;32m   1037\u001b[0m                                         \u001b[0minitial_epoch\u001b[0m\u001b[0;34m=\u001b[0m\u001b[0minitial_epoch\u001b[0m\u001b[0;34m,\u001b[0m\u001b[0;34m\u001b[0m\u001b[0;34m\u001b[0m\u001b[0m\n\u001b[1;32m   1038\u001b[0m                                         \u001b[0msteps_per_epoch\u001b[0m\u001b[0;34m=\u001b[0m\u001b[0msteps_per_epoch\u001b[0m\u001b[0;34m,\u001b[0m\u001b[0;34m\u001b[0m\u001b[0;34m\u001b[0m\u001b[0m\n\u001b[0;32m-> 1039\u001b[0;31m                                         validation_steps=validation_steps)\n\u001b[0m\u001b[1;32m   1040\u001b[0m \u001b[0;34m\u001b[0m\u001b[0m\n\u001b[1;32m   1041\u001b[0m     def evaluate(self, x=None, y=None,\n",
      "\u001b[0;32m/usr/local/lib/python3.6/dist-packages/keras/engine/training_arrays.py\u001b[0m in \u001b[0;36mfit_loop\u001b[0;34m(model, f, ins, out_labels, batch_size, epochs, verbose, callbacks, val_f, val_ins, shuffle, callback_metrics, initial_epoch, steps_per_epoch, validation_steps)\u001b[0m\n\u001b[1;32m    197\u001b[0m                     \u001b[0mins_batch\u001b[0m\u001b[0;34m[\u001b[0m\u001b[0mi\u001b[0m\u001b[0;34m]\u001b[0m \u001b[0;34m=\u001b[0m \u001b[0mins_batch\u001b[0m\u001b[0;34m[\u001b[0m\u001b[0mi\u001b[0m\u001b[0;34m]\u001b[0m\u001b[0;34m.\u001b[0m\u001b[0mtoarray\u001b[0m\u001b[0;34m(\u001b[0m\u001b[0;34m)\u001b[0m\u001b[0;34m\u001b[0m\u001b[0;34m\u001b[0m\u001b[0m\n\u001b[1;32m    198\u001b[0m \u001b[0;34m\u001b[0m\u001b[0m\n\u001b[0;32m--> 199\u001b[0;31m                 \u001b[0mouts\u001b[0m \u001b[0;34m=\u001b[0m \u001b[0mf\u001b[0m\u001b[0;34m(\u001b[0m\u001b[0mins_batch\u001b[0m\u001b[0;34m)\u001b[0m\u001b[0;34m\u001b[0m\u001b[0;34m\u001b[0m\u001b[0m\n\u001b[0m\u001b[1;32m    200\u001b[0m                 \u001b[0mouts\u001b[0m \u001b[0;34m=\u001b[0m \u001b[0mto_list\u001b[0m\u001b[0;34m(\u001b[0m\u001b[0mouts\u001b[0m\u001b[0;34m)\u001b[0m\u001b[0;34m\u001b[0m\u001b[0;34m\u001b[0m\u001b[0m\n\u001b[1;32m    201\u001b[0m                 \u001b[0;32mfor\u001b[0m \u001b[0ml\u001b[0m\u001b[0;34m,\u001b[0m \u001b[0mo\u001b[0m \u001b[0;32min\u001b[0m \u001b[0mzip\u001b[0m\u001b[0;34m(\u001b[0m\u001b[0mout_labels\u001b[0m\u001b[0;34m,\u001b[0m \u001b[0mouts\u001b[0m\u001b[0;34m)\u001b[0m\u001b[0;34m:\u001b[0m\u001b[0;34m\u001b[0m\u001b[0;34m\u001b[0m\u001b[0m\n",
      "\u001b[0;32m/usr/local/lib/python3.6/dist-packages/keras/backend/tensorflow_backend.py\u001b[0m in \u001b[0;36m__call__\u001b[0;34m(self, inputs)\u001b[0m\n\u001b[1;32m   2713\u001b[0m                 \u001b[0;32mreturn\u001b[0m \u001b[0mself\u001b[0m\u001b[0;34m.\u001b[0m\u001b[0m_legacy_call\u001b[0m\u001b[0;34m(\u001b[0m\u001b[0minputs\u001b[0m\u001b[0;34m)\u001b[0m\u001b[0;34m\u001b[0m\u001b[0;34m\u001b[0m\u001b[0m\n\u001b[1;32m   2714\u001b[0m \u001b[0;34m\u001b[0m\u001b[0m\n\u001b[0;32m-> 2715\u001b[0;31m             \u001b[0;32mreturn\u001b[0m \u001b[0mself\u001b[0m\u001b[0;34m.\u001b[0m\u001b[0m_call\u001b[0m\u001b[0;34m(\u001b[0m\u001b[0minputs\u001b[0m\u001b[0;34m)\u001b[0m\u001b[0;34m\u001b[0m\u001b[0;34m\u001b[0m\u001b[0m\n\u001b[0m\u001b[1;32m   2716\u001b[0m         \u001b[0;32melse\u001b[0m\u001b[0;34m:\u001b[0m\u001b[0;34m\u001b[0m\u001b[0;34m\u001b[0m\u001b[0m\n\u001b[1;32m   2717\u001b[0m             \u001b[0;32mif\u001b[0m \u001b[0mpy_any\u001b[0m\u001b[0;34m(\u001b[0m\u001b[0mis_tensor\u001b[0m\u001b[0;34m(\u001b[0m\u001b[0mx\u001b[0m\u001b[0;34m)\u001b[0m \u001b[0;32mfor\u001b[0m \u001b[0mx\u001b[0m \u001b[0;32min\u001b[0m \u001b[0minputs\u001b[0m\u001b[0;34m)\u001b[0m\u001b[0;34m:\u001b[0m\u001b[0;34m\u001b[0m\u001b[0;34m\u001b[0m\u001b[0m\n",
      "\u001b[0;32m/usr/local/lib/python3.6/dist-packages/keras/backend/tensorflow_backend.py\u001b[0m in \u001b[0;36m_call\u001b[0;34m(self, inputs)\u001b[0m\n\u001b[1;32m   2673\u001b[0m             \u001b[0mfetched\u001b[0m \u001b[0;34m=\u001b[0m \u001b[0mself\u001b[0m\u001b[0;34m.\u001b[0m\u001b[0m_callable_fn\u001b[0m\u001b[0;34m(\u001b[0m\u001b[0;34m*\u001b[0m\u001b[0marray_vals\u001b[0m\u001b[0;34m,\u001b[0m \u001b[0mrun_metadata\u001b[0m\u001b[0;34m=\u001b[0m\u001b[0mself\u001b[0m\u001b[0;34m.\u001b[0m\u001b[0mrun_metadata\u001b[0m\u001b[0;34m)\u001b[0m\u001b[0;34m\u001b[0m\u001b[0;34m\u001b[0m\u001b[0m\n\u001b[1;32m   2674\u001b[0m         \u001b[0;32melse\u001b[0m\u001b[0;34m:\u001b[0m\u001b[0;34m\u001b[0m\u001b[0;34m\u001b[0m\u001b[0m\n\u001b[0;32m-> 2675\u001b[0;31m             \u001b[0mfetched\u001b[0m \u001b[0;34m=\u001b[0m \u001b[0mself\u001b[0m\u001b[0;34m.\u001b[0m\u001b[0m_callable_fn\u001b[0m\u001b[0;34m(\u001b[0m\u001b[0;34m*\u001b[0m\u001b[0marray_vals\u001b[0m\u001b[0;34m)\u001b[0m\u001b[0;34m\u001b[0m\u001b[0;34m\u001b[0m\u001b[0m\n\u001b[0m\u001b[1;32m   2676\u001b[0m         \u001b[0;32mreturn\u001b[0m \u001b[0mfetched\u001b[0m\u001b[0;34m[\u001b[0m\u001b[0;34m:\u001b[0m\u001b[0mlen\u001b[0m\u001b[0;34m(\u001b[0m\u001b[0mself\u001b[0m\u001b[0;34m.\u001b[0m\u001b[0moutputs\u001b[0m\u001b[0;34m)\u001b[0m\u001b[0;34m]\u001b[0m\u001b[0;34m\u001b[0m\u001b[0;34m\u001b[0m\u001b[0m\n\u001b[1;32m   2677\u001b[0m \u001b[0;34m\u001b[0m\u001b[0m\n",
      "\u001b[0;32m/usr/local/lib/python3.6/dist-packages/tensorflow/python/client/session.py\u001b[0m in \u001b[0;36m__call__\u001b[0;34m(self, *args, **kwargs)\u001b[0m\n\u001b[1;32m   1437\u001b[0m           ret = tf_session.TF_SessionRunCallable(\n\u001b[1;32m   1438\u001b[0m               \u001b[0mself\u001b[0m\u001b[0;34m.\u001b[0m\u001b[0m_session\u001b[0m\u001b[0;34m.\u001b[0m\u001b[0m_session\u001b[0m\u001b[0;34m,\u001b[0m \u001b[0mself\u001b[0m\u001b[0;34m.\u001b[0m\u001b[0m_handle\u001b[0m\u001b[0;34m,\u001b[0m \u001b[0margs\u001b[0m\u001b[0;34m,\u001b[0m \u001b[0mstatus\u001b[0m\u001b[0;34m,\u001b[0m\u001b[0;34m\u001b[0m\u001b[0;34m\u001b[0m\u001b[0m\n\u001b[0;32m-> 1439\u001b[0;31m               run_metadata_ptr)\n\u001b[0m\u001b[1;32m   1440\u001b[0m         \u001b[0;32mif\u001b[0m \u001b[0mrun_metadata\u001b[0m\u001b[0;34m:\u001b[0m\u001b[0;34m\u001b[0m\u001b[0;34m\u001b[0m\u001b[0m\n\u001b[1;32m   1441\u001b[0m           \u001b[0mproto_data\u001b[0m \u001b[0;34m=\u001b[0m \u001b[0mtf_session\u001b[0m\u001b[0;34m.\u001b[0m\u001b[0mTF_GetBuffer\u001b[0m\u001b[0;34m(\u001b[0m\u001b[0mrun_metadata_ptr\u001b[0m\u001b[0;34m)\u001b[0m\u001b[0;34m\u001b[0m\u001b[0;34m\u001b[0m\u001b[0m\n",
      "\u001b[0;31mKeyboardInterrupt\u001b[0m: "
     ]
    }
   ],
   "source": [
    "epochs = 20\n",
    "batch_size = 480\n",
    "\n",
    "model.fit(x_train_augment, y_train_augment,\n",
    "          batch_size=batch_size,\n",
    "          epochs=epochs,\n",
    "          verbose=1,\n",
    "          class_weight=[1,1,10,10],\n",
    "          validation_data=(x_test_augment, y_test_augment))\n",
    "\n",
    "score = model.evaluate(x_test_augment, y_test_augment, verbose=0)\n",
    "\n",
    "print('Test loss:', score[0])\n",
    "print('Test accuracy:', score[1])"
   ]
  },
  {
   "cell_type": "code",
   "execution_count": 0,
   "metadata": {
    "colab": {},
    "colab_type": "code",
    "id": "kIa_5rCQJK8L"
   },
   "outputs": [],
   "source": [
    "model.save('model_0028_asli.h5')"
   ]
  },
  {
   "cell_type": "code",
   "execution_count": 0,
   "metadata": {
    "colab": {},
    "colab_type": "code",
    "id": "KwI8VKvPJ21_"
   },
   "outputs": [],
   "source": [
    "pred = model.predict(x_test_augment)"
   ]
  },
  {
   "cell_type": "code",
   "execution_count": 0,
   "metadata": {
    "colab": {
     "base_uri": "https://localhost:8080/",
     "height": 35
    },
    "colab_type": "code",
    "executionInfo": {
     "elapsed": 1970,
     "status": "ok",
     "timestamp": 1551175499630,
     "user": {
      "displayName": "DIVYANK PANDEY",
      "photoUrl": "",
      "userId": "07089478650029820120"
     },
     "user_tz": -330
    },
    "id": "9fwwhyCOKbOg",
    "outputId": "32427695-e729-4736-f773-648f1df4bad9"
   },
   "outputs": [
    {
     "name": "stdout",
     "output_type": "stream",
     "text": [
      "0.857094674797773\n"
     ]
    }
   ],
   "source": [
    "IOU = np.zeros((8000,1))\n",
    "\n",
    "for i in range(8000):\n",
    "  IOU[i,0] = iou(y_test_augment[i,:], pred[i,:])\n",
    "  \n",
    "print(np.mean(IOU))"
   ]
  },
  {
   "cell_type": "code",
   "execution_count": 0,
   "metadata": {
    "colab": {},
    "colab_type": "code",
    "id": "nP6pb1MuJmzh"
   },
   "outputs": [],
   "source": [
    "file5 = drive.CreateFile({'title': 'model_0028_asli.h5'})\n",
    "file5.SetContentFile('model_0028_asli.h5')\n",
    "file5.Upload()"
   ]
  },
  {
   "cell_type": "code",
   "execution_count": 0,
   "metadata": {
    "colab": {},
    "colab_type": "code",
    "id": "UJ4vPI4Fb7_D"
   },
   "outputs": [],
   "source": [
    "pred = model.predict(x_train)"
   ]
  },
  {
   "cell_type": "code",
   "execution_count": 0,
   "metadata": {
    "colab": {},
    "colab_type": "code",
    "id": "tBmJPk1pe-Ob"
   },
   "outputs": [],
   "source": [
    "import cv2"
   ]
  },
  {
   "cell_type": "code",
   "execution_count": 0,
   "metadata": {
    "colab": {
     "base_uri": "https://localhost:8080/",
     "height": 366
    },
    "colab_type": "code",
    "executionInfo": {
     "elapsed": 3862,
     "status": "ok",
     "timestamp": 1551117848075,
     "user": {
      "displayName": "DIVYANK PANDEY",
      "photoUrl": "",
      "userId": "07089478650029820120"
     },
     "user_tz": -330
    },
    "id": "HWsECPZ5eKb4",
    "outputId": "833ff052-e3f5-40a7-9686-ea4f4de49023"
   },
   "outputs": [
    {
     "name": "stdout",
     "output_type": "stream",
     "text": [
      "255\n"
     ]
    },
    {
     "data": {
      "image/png": "[encoded data removed]",
      "text/plain": [
       "<Figure size 576x396 with 1 Axes>"
      ]
     },
     "metadata": {
      "tags": []
     },
     "output_type": "display_data"
    }
   ],
   "source": [
    "i = 100\n",
    "img = x_train[i,:,:,:].reshape(100,100)\n",
    "#plt.imshow(img)\n",
    "edge = np.uint8(img*255)\n",
    "img_n = cv2.Canny(edge, 150, 150)\n",
    "plt.imshow(img_n)\n",
    "'''sobelx = cv2.Sobel(edge, cv2.CV_64F,1 ,0)\n",
    "sobely = cv2.Sobel(edge, cv2.CV_64F,1 ,0)'''\n",
    "#plt.imshow(sobelx)\n",
    "'''plt.imshow(sobelx)\n",
    "plt.imshow(sobely)'''\n",
    "print(np.max(img_n))\n"
   ]
  },
  {
   "cell_type": "code",
   "execution_count": 0,
   "metadata": {
    "colab": {
     "base_uri": "https://localhost:8080/",
     "height": 425
    },
    "colab_type": "code",
    "executionInfo": {
     "elapsed": 5332,
     "status": "ok",
     "timestamp": 1551118226910,
     "user": {
      "displayName": "DIVYANK PANDEY",
      "photoUrl": "",
      "userId": "07089478650029820120"
     },
     "user_tz": -330
    },
    "id": "EeJYtioIyCh7",
    "outputId": "4f6f853e-1746-4851-b4c9-183d41233c9f"
   },
   "outputs": [
    {
     "name": "stdout",
     "output_type": "stream",
     "text": [
      "500 Images Swooped\n",
      "1000 Images Swooped\n",
      "1500 Images Swooped\n",
      "2000 Images Swooped\n",
      "2500 Images Swooped\n",
      "3000 Images Swooped\n",
      "3500 Images Swooped\n",
      "4000 Images Swooped\n",
      "4500 Images Swooped\n",
      "5000 Images Swooped\n",
      "5500 Images Swooped\n",
      "6000 Images Swooped\n",
      "6500 Images Swooped\n",
      "7000 Images Swooped\n",
      "7500 Images Swooped\n",
      "8000 Images Swooped\n",
      "8500 Images Swooped\n",
      "9000 Images Swooped\n",
      "9500 Images Swooped\n",
      "10000 Images Swooped\n",
      "10500 Images Swooped\n",
      "11000 Images Swooped\n",
      "11500 Images Swooped\n",
      "12000 Images Swooped\n"
     ]
    }
   ],
   "source": [
    "x_train_new = np.zeros((12000,100,100,2))\n",
    "for i in range(12000):\n",
    "  x_train_new[i,:,:,1] = x_train[i,:,:,0]\n",
    "  \n",
    "  img = x_train[i,:,:,:].reshape(100,100) \n",
    "  edge = cv2.Canny(np.uint8(img*255), 150, 150)/255\n",
    "  \n",
    "  edge = edge.reshape(100,100)\n",
    "  \n",
    "  x_train_new[i,:,:,0] = edge\n",
    "  \n",
    "  if np.remainder(i+1,500)==0:\n",
    "    print(\"{} Images Swooped\".format(i+1))\n",
    "  \n",
    "  "
   ]
  },
  {
   "cell_type": "code",
   "execution_count": 0,
   "metadata": {
    "colab": {
     "base_uri": "https://localhost:8080/",
     "height": 85
    },
    "colab_type": "code",
    "executionInfo": {
     "elapsed": 3458,
     "status": "ok",
     "timestamp": 1551118487640,
     "user": {
      "displayName": "DIVYANK PANDEY",
      "photoUrl": "",
      "userId": "07089478650029820120"
     },
     "user_tz": -330
    },
    "id": "gl70YDkF3MKG",
    "outputId": "af6f0bd6-e1d7-41c0-fcee-65ad6728bd01"
   },
   "outputs": [
    {
     "name": "stdout",
     "output_type": "stream",
     "text": [
      "500 Images Swooped\n",
      "1000 Images Swooped\n",
      "1500 Images Swooped\n",
      "2000 Images Swooped\n"
     ]
    }
   ],
   "source": [
    "x_test_new = np.zeros((2000,100,100,2))\n",
    "for i in range(2000):\n",
    "  x_test_new[i,:,:,1] = x_test[i,:,:,0]\n",
    "  \n",
    "  img = x_test[i,:,:,:].reshape(100,100) \n",
    "  edge = cv2.Canny(np.uint8(img*255), 150, 150)/255\n",
    "  \n",
    "  edge = edge.reshape(100,100)\n",
    "  \n",
    "  x_test_new[i,:,:,0] = edge\n",
    "  \n",
    "  if np.remainder(i+1,500)==0:\n",
    "    print(\"{} Images Swooped\".format(i+1))\n",
    "  \n",
    "  "
   ]
  },
  {
   "cell_type": "code",
   "execution_count": 0,
   "metadata": {
    "colab": {
     "base_uri": "https://localhost:8080/",
     "height": 366
    },
    "colab_type": "code",
    "executionInfo": {
     "elapsed": 3544,
     "status": "ok",
     "timestamp": 1551118290132,
     "user": {
      "displayName": "DIVYANK PANDEY",
      "photoUrl": "",
      "userId": "07089478650029820120"
     },
     "user_tz": -330
    },
    "id": "OIcVE6CKyCez",
    "outputId": "c4015096-d70f-443f-9075-544b5a6ed1f6"
   },
   "outputs": [
    {
     "data": {
      "text/plain": [
       "<matplotlib.image.AxesImage at 0x7f8181658630>"
      ]
     },
     "execution_count": 61,
     "metadata": {
      "tags": []
     },
     "output_type": "execute_result"
    },
    {
     "data": {
      "image/png": "[encoded data removed]",
      "text/plain": [
       "<Figure size 576x396 with 1 Axes>"
      ]
     },
     "metadata": {
      "tags": []
     },
     "output_type": "display_data"
    }
   ],
   "source": [
    "i = 1000\n",
    "plt.imshow(x_train_new[i,:,:,1])"
   ]
  },
  {
   "cell_type": "code",
   "execution_count": 0,
   "metadata": {
    "colab": {},
    "colab_type": "code",
    "id": "U9--aGBQbESo"
   },
   "outputs": [],
   "source": [
    "def iou(y_true, y_pred):\n",
    "\n",
    "  x_t = y_true[0]\n",
    "  y_t = y_true[1]\n",
    "  w_t = y_true[2]\n",
    "  h_t = y_true[3]\n",
    "\n",
    "  # Calculating the Co-ordinates from Center and Length Values (Actual Square)\n",
    "  x1_t = ((2*x_t) - w_t)/2\n",
    "  y1_t = ((2*y_t) - h_t)/2\n",
    "  x2_t = ((2*x_t) + w_t)/2\n",
    "  y2_t = ((2*y_t) + h_t)/2\n",
    "\n",
    "  x_p = y_pred[0]\n",
    "  y_p = y_pred[1]\n",
    "  w_p = y_pred[2]\n",
    "  h_p = y_pred[3]\n",
    "\n",
    "  # Calculating the Co-ordinates from center and length values (Prediction Square)\n",
    "  x1_p = ((2*x_p) - w_p)/2\n",
    "  y1_p = ((2*y_p) - h_p)/2\n",
    "  x2_p = ((2*x_p) + w_p)/2\n",
    "  y2_p = ((2*y_p) + h_p)/2\n",
    "\n",
    "  # Calculating the co-ordinates of intersecting square\n",
    "  x1 = max(x1_t,x1_p)\n",
    "  y1 = max(y1_t,y1_p)\n",
    "  x2 = min(x2_t,x2_p)\n",
    "  y2 = min(y2_t,y2_p)\n",
    "\n",
    "  # Area of Intersection\n",
    "  I_area = (x2-x1)*(y2-y1)\n",
    "\n",
    "  true_area = (x2_t-x1_t)*(y2_t-y1_t)\n",
    "  pred_area = (x2_p-x1_p)*(y2_p-y1_p)\n",
    "\n",
    "  # Union of both regions\n",
    "  U_area = true_area + pred_area - I_area\n",
    "\n",
    "  # Intersection over Union\n",
    "  IOU = I_area/U_area\n",
    "\n",
    "  return IOU"
   ]
  },
  {
   "cell_type": "code",
   "execution_count": 0,
   "metadata": {
    "colab": {
     "base_uri": "https://localhost:8080/",
     "height": 34
    },
    "colab_type": "code",
    "executionInfo": {
     "elapsed": 2076,
     "status": "ok",
     "timestamp": 1551111327453,
     "user": {
      "displayName": "DIVYANK PANDEY",
      "photoUrl": "",
      "userId": "07089478650029820120"
     },
     "user_tz": -330
    },
    "id": "2pX14HekbNqT",
    "outputId": "6ba19ea4-db3e-4c41-b0d0-eece98add371"
   },
   "outputs": [
    {
     "name": "stdout",
     "output_type": "stream",
     "text": [
      "0.8388981133071848\n"
     ]
    }
   ],
   "source": [
    "IOU = np.zeros((12000,1))\n",
    "\n",
    "for i in range(12000):\n",
    "  IOU[i,0] = iou(y_train[i,:], pred[i,:])\n",
    "  \n",
    "print(np.mean(IOU))"
   ]
  },
  {
   "cell_type": "code",
   "execution_count": 0,
   "metadata": {
    "colab": {},
    "colab_type": "code",
    "id": "6VSkDH4PeAd4"
   },
   "outputs": [],
   "source": []
  },
  {
   "cell_type": "code",
   "execution_count": 0,
   "metadata": {
    "colab": {},
    "colab_type": "code",
    "id": "35YahkbhM8DA"
   },
   "outputs": [],
   "source": [
    "pred = model.predict(x_test[0:2])"
   ]
  },
  {
   "cell_type": "code",
   "execution_count": 0,
   "metadata": {
    "colab": {
     "base_uri": "https://localhost:8080/",
     "height": 52
    },
    "colab_type": "code",
    "executionInfo": {
     "elapsed": 4268,
     "status": "ok",
     "timestamp": 1550839125588,
     "user": {
      "displayName": "DIVYANSHU GUPTA",
      "photoUrl": "",
      "userId": "10844866931117318382"
     },
     "user_tz": -330
    },
    "id": "4nYRt4x-NG70",
    "outputId": "72b97733-7483-4cf2-dbdf-1237ff32b169"
   },
   "outputs": [
    {
     "name": "stdout",
     "output_type": "stream",
     "text": [
      "[[0.48346654 0.51633096 0.6494186  0.90200984]\n",
      " [0.4870643  0.49060404 0.20642745 0.7383721 ]]\n"
     ]
    }
   ],
   "source": [
    "print(pred)"
   ]
  },
  {
   "cell_type": "code",
   "execution_count": 0,
   "metadata": {
    "colab": {
     "base_uri": "https://localhost:8080/",
     "height": 34
    },
    "colab_type": "code",
    "executionInfo": {
     "elapsed": 1629,
     "status": "ok",
     "timestamp": 1550839128134,
     "user": {
      "displayName": "DIVYANSHU GUPTA",
      "photoUrl": "",
      "userId": "10844866931117318382"
     },
     "user_tz": -330
    },
    "id": "UsszTcioNMTF",
    "outputId": "7644e595-afe8-49b3-a499-5d4aacfedb35"
   },
   "outputs": [
    {
     "data": {
      "text/plain": [
       "array([0.48346654, 0.51633096, 0.6494186 , 0.90200984], dtype=float32)"
      ]
     },
     "execution_count": 22,
     "metadata": {
      "tags": []
     },
     "output_type": "execute_result"
    }
   ],
   "source": [
    "pred[0]"
   ]
  },
  {
   "cell_type": "code",
   "execution_count": 0,
   "metadata": {
    "colab": {},
    "colab_type": "code",
    "id": "hntl5O7YNdR4"
   },
   "outputs": [],
   "source": [
    "%matplotlib inline"
   ]
  },
  {
   "cell_type": "code",
   "execution_count": 0,
   "metadata": {
    "colab": {
     "base_uri": "https://localhost:8080/",
     "height": 285
    },
    "colab_type": "code",
    "executionInfo": {
     "elapsed": 3604,
     "status": "ok",
     "timestamp": 1550839661210,
     "user": {
      "displayName": "DIVYANSHU GUPTA",
      "photoUrl": "",
      "userId": "10844866931117318382"
     },
     "user_tz": -330
    },
    "id": "rSOx9ZCJNTVP",
    "outputId": "1c86dbe5-265b-4d68-9159-6f5d1f2d50ca"
   },
   "outputs": [
    {
     "data": {
      "text/plain": [
       "<matplotlib.image.AxesImage at 0x7f3ec068aeb8>"
      ]
     },
     "execution_count": 38,
     "metadata": {
      "tags": []
     },
     "output_type": "execute_result"
    },
    {
     "data": {
      "image/png": "[encoded data removed]",
      "text/plain": [
       "<Figure size 432x288 with 1 Axes>"
      ]
     },
     "metadata": {
      "tags": []
     },
     "output_type": "display_data"
    }
   ],
   "source": [
    "frame = convert(x_test[0],pred[0])\n",
    "\n",
    "plt.imshow(frame.reshape(100,100), cmap = 'gray')"
   ]
  },
  {
   "cell_type": "code",
   "execution_count": 0,
   "metadata": {
    "colab": {
     "base_uri": "https://localhost:8080/",
     "height": 285
    },
    "colab_type": "code",
    "executionInfo": {
     "elapsed": 3935,
     "status": "ok",
     "timestamp": 1550839346896,
     "user": {
      "displayName": "DIVYANSHU GUPTA",
      "photoUrl": "",
      "userId": "10844866931117318382"
     },
     "user_tz": -330
    },
    "id": "pudbVHsAN4ut",
    "outputId": "8b10429c-6e76-4888-8f28-2416979cfd7d"
   },
   "outputs": [
    {
     "data": {
      "text/plain": [
       "<matplotlib.image.AxesImage at 0x7f3ec0750eb8>"
      ]
     },
     "execution_count": 33,
     "metadata": {
      "tags": []
     },
     "output_type": "execute_result"
    },
    {
     "data": {
      "image/png": "[encoded data removed]",
      "text/plain": [
       "<Figure size 432x288 with 1 Axes>"
      ]
     },
     "metadata": {
      "tags": []
     },
     "output_type": "display_data"
    }
   ],
   "source": [
    "plt.imshow(x_test[0].reshape(100,100), cmap = 'gray')"
   ]
  },
  {
   "cell_type": "code",
   "execution_count": 0,
   "metadata": {
    "colab": {
     "base_uri": "https://localhost:8080/",
     "height": 285
    },
    "colab_type": "code",
    "executionInfo": {
     "elapsed": 3179,
     "status": "ok",
     "timestamp": 1550839706760,
     "user": {
      "displayName": "DIVYANSHU GUPTA",
      "photoUrl": "",
      "userId": "10844866931117318382"
     },
     "user_tz": -330
    },
    "id": "oluhQqbbOpVl",
    "outputId": "ae644fbc-8907-4b5d-ec48-a139f357b6b5"
   },
   "outputs": [
    {
     "data": {
      "text/plain": [
       "<matplotlib.image.AxesImage at 0x7f3ec065e128>"
      ]
     },
     "execution_count": 40,
     "metadata": {
      "tags": []
     },
     "output_type": "execute_result"
    },
    {
     "data": {
      "image/png": "[encoded data removed]",
      "text/plain": [
       "<Figure size 432x288 with 1 Axes>"
      ]
     },
     "metadata": {
      "tags": []
     },
     "output_type": "display_data"
    }
   ],
   "source": [
    "plt.imshow(convert(frame, model.predict(frame.reshape(1,100,100,1))[0]).reshape(100,100), cmap = 'gray')"
   ]
  },
  {
   "cell_type": "code",
   "execution_count": 0,
   "metadata": {
    "colab": {
     "base_uri": "https://localhost:8080/",
     "height": 34
    },
    "colab_type": "code",
    "executionInfo": {
     "elapsed": 4086,
     "status": "ok",
     "timestamp": 1550839605745,
     "user": {
      "displayName": "DIVYANSHU GUPTA",
      "photoUrl": "",
      "userId": "10844866931117318382"
     },
     "user_tz": -330
    },
    "id": "ixCUwHyYPVDK",
    "outputId": "a1722773-4a0c-4a20-c2b5-0bfc4162b97d"
   },
   "outputs": [
    {
     "name": "stdout",
     "output_type": "stream",
     "text": [
      "0.8753181096985279\n"
     ]
    }
   ],
   "source": [
    "print(\"First \",iou(y_test[0],pred[0]))"
   ]
  },
  {
   "cell_type": "code",
   "execution_count": 0,
   "metadata": {
    "colab": {
     "base_uri": "https://localhost:8080/",
     "height": 34
    },
    "colab_type": "code",
    "executionInfo": {
     "elapsed": 2509,
     "status": "ok",
     "timestamp": 1550839685780,
     "user": {
      "displayName": "DIVYANSHU GUPTA",
      "photoUrl": "",
      "userId": "10844866931117318382"
     },
     "user_tz": -330
    },
    "id": "x7kyixT5PpDZ",
    "outputId": "ce5a666f-ca4c-45b9-ad43-51f205e67259"
   },
   "outputs": [
    {
     "name": "stdout",
     "output_type": "stream",
     "text": [
      "0.8413231810674435\n"
     ]
    }
   ],
   "source": [
    "print(\"Second \",iou(y_test[0],model.predict(frame.reshape(1,100,100,1))[0]))"
   ]
  },
  {
   "cell_type": "code",
   "execution_count": 0,
   "metadata": {
    "colab": {},
    "colab_type": "code",
    "id": "Po0uSf43Uj15"
   },
   "outputs": [],
   "source": [
    "import time"
   ]
  },
  {
   "cell_type": "code",
   "execution_count": 0,
   "metadata": {
    "colab": {
     "base_uri": "https://localhost:8080/",
     "height": 123
    },
    "colab_type": "code",
    "executionInfo": {
     "elapsed": 82528,
     "status": "ok",
     "timestamp": 1550841170406,
     "user": {
      "displayName": "DIVYANSHU GUPTA",
      "photoUrl": "",
      "userId": "10844866931117318382"
     },
     "user_tz": -330
    },
    "id": "mbFqr7hDQKiL",
    "outputId": "3de6d275-edef-4620-d7dd-e3d36c49fda5"
   },
   "outputs": [
    {
     "name": "stdout",
     "output_type": "stream",
     "text": [
      "\n",
      "\n",
      "WIN Percentage: 24.933333333333334%\n",
      "\n",
      "\n",
      "Took 80.41637516021729 seconds to do go over 12000 images TWICE\n"
     ]
    }
   ],
   "source": [
    "n = 12000\n",
    "win_count = 0\n",
    "start = time.time()\n",
    "for i in range(n):\n",
    "  pred = model.predict(x_train[i].reshape(1,100,100,1))\n",
    "  frame = convert(x_train[i],pred[0])\n",
    "  \"\"\"print(\"First \",iou(y_test[i],pred[0]))\n",
    "  print(\"Second \",iou(y_test[i],model.predict(frame.reshape(1,100,100,1))[0]))\n",
    "\n",
    "  print(\"\\n\\n\")\"\"\"\n",
    "  \n",
    "  if iou(y_train[i],pred[0]) > iou(y_train[i],model.predict(frame.reshape(1,100,100,1))[0]):\n",
    "    #print(\"You LOSE by Margin: {} \".format(iou(y_test[i],pred[0]) - iou(y_test[i],model.predict(frame.reshape(1,100,100,1))[0])))\n",
    "    pass\n",
    "  else:\n",
    "    win_count += 1\n",
    "    #print(\"You WIN by Margin: {}\".format(-iou(y_test[i],pred[0]) + iou(y_test[i],model.predict(frame.reshape(1,100,100,1))[0])))\n",
    "    \n",
    "  \n",
    "end = time.time()\n",
    "print(\"\\n\\nWIN Percentage: {}%\".format((win_count/n)*100))\n",
    "\n",
    "print(\"\\n\\nTook {} seconds to do go over {} images TWICE\".format(end-start, n))\n",
    "   \n",
    "\n",
    "    \n",
    "  "
   ]
  },
  {
   "cell_type": "code",
   "execution_count": 0,
   "metadata": {
    "colab": {},
    "colab_type": "code",
    "id": "_RTmrqsXKr0o"
   },
   "outputs": [],
   "source": [
    "def convert(image, coord):\n",
    "  \n",
    "  width = 100\n",
    "  height = 100\n",
    "  \n",
    "  frame = np.ones((width,height,1))\n",
    "  \n",
    "  y_true = coord\n",
    "  x_t = y_true[0]\n",
    "  y_t = y_true[1]\n",
    "  w_t = y_true[2]\n",
    "  h_t = y_true[3]\n",
    "\n",
    "  # Calculating the Co-ordinates from Center and Length Values (Actual Square)\n",
    "  x1_t = int(width*(((2*x_t) - w_t)/2))\n",
    "  y1_t = int(height*(((2*y_t) - h_t)/2))\n",
    "  x2_t = int(width*(((2*x_t) + w_t)/2))\n",
    "  y2_t = int(height*(((2*y_t) + h_t)/2))\n",
    "  \n",
    "  frame = frame.reshape(100,100)\n",
    "  \n",
    "  frame[y1_t:y2_t, x1_t:x2_t] = image.reshape(100,100)[y1_t:y2_t, x1_t:x2_t]\n",
    "  \n",
    "  frame = frame.reshape(100,100,1)\n",
    "  \n",
    "  return frame"
   ]
  },
  {
   "cell_type": "code",
   "execution_count": 0,
   "metadata": {
    "colab": {},
    "colab_type": "code",
    "id": "1z3JDGzWV0w2"
   },
   "outputs": [],
   "source": [
    "epochs = 30\n",
    "batch_size = 120\n",
    "\n",
    "model.fit(x_train, y_train,\n",
    "          batch_size=batch_size,\n",
    "          epochs=epochs,\n",
    "          verbose=1,\n",
    "          validation_data=(x_test, y_test))\n",
    "\n",
    "score = model.evaluate(x_test, y_test, verbose=0)\n",
    "\n",
    "print('Test loss:', score[0])\n",
    "print('Test accuracy:', score[1])"
   ]
  },
  {
   "cell_type": "code",
   "execution_count": 0,
   "metadata": {
    "colab": {},
    "colab_type": "code",
    "id": "mjWjAycTlWHg"
   },
   "outputs": [],
   "source": [
    "epochs = 60\n",
    "batch_size = 120\n",
    "\n",
    "model.fit(x_train, y_train,\n",
    "          batch_size=batch_size,\n",
    "          epochs=epochs,\n",
    "          verbose=1,\n",
    "          validation_data=(x_test, y_test))\n",
    "\n",
    "score = model.evaluate(x_test, y_test, verbose=0)\n",
    "\n",
    "print('Test loss:', score[0])\n",
    "print('Test accuracy:', score[1])"
   ]
  },
  {
   "cell_type": "code",
   "execution_count": 0,
   "metadata": {
    "colab": {
     "base_uri": "https://localhost:8080/",
     "height": 34
    },
    "colab_type": "code",
    "executionInfo": {
     "elapsed": 2921,
     "status": "ok",
     "timestamp": 1550733343140,
     "user": {
      "displayName": "DIVYANSHU GUPTA",
      "photoUrl": "",
      "userId": "10844866931117318382"
     },
     "user_tz": -330
    },
    "id": "5ArwwNH6pyrO",
    "outputId": "bb019b0b-12f5-4dba-d421-ae68d631d57a"
   },
   "outputs": [
    {
     "name": "stdout",
     "output_type": "stream",
     "text": [
      "0.8140635170769276\n"
     ]
    }
   ],
   "source": [
    "pred = model.predict(x_test)\n",
    "\n",
    "IOU = np.zeros((2000,1))\n",
    "\n",
    "for i in range(2000):\n",
    "  IOU[i,0] = iou(y_test[i,:], pred[i,:])\n",
    "  \n",
    "print(np.mean(IOU))"
   ]
  },
  {
   "cell_type": "code",
   "execution_count": 0,
   "metadata": {
    "colab": {
     "base_uri": "https://localhost:8080/",
     "height": 34
    },
    "colab_type": "code",
    "executionInfo": {
     "elapsed": 7611,
     "status": "ok",
     "timestamp": 1550733398860,
     "user": {
      "displayName": "DIVYANSHU GUPTA",
      "photoUrl": "",
      "userId": "10844866931117318382"
     },
     "user_tz": -330
    },
    "id": "ys2Fptja6WiS",
    "outputId": "01450e46-7b2c-42dc-93d5-dd6c34a12046"
   },
   "outputs": [
    {
     "name": "stdout",
     "output_type": "stream",
     "text": [
      "0.860727947936603\n"
     ]
    }
   ],
   "source": [
    "pred = model.predict(x_train)\n",
    "\n",
    "IOU = np.zeros((12000,1))\n",
    "\n",
    "for i in range(12000):\n",
    "  IOU[i,0] = iou(y_train[i,:], pred[i,:])\n",
    "  \n",
    "print(np.mean(IOU))"
   ]
  },
  {
   "cell_type": "markdown",
   "metadata": {
    "colab_type": "text",
    "id": "Cym4rqBFzF9e"
   },
   "source": [
    "# Network of Models"
   ]
  },
  {
   "cell_type": "code",
   "execution_count": 0,
   "metadata": {
    "colab": {},
    "colab_type": "code",
    "id": "ypRkpBHyzKi3"
   },
   "outputs": [],
   "source": [
    "input_ = Input(shape = (100,100,1))\n",
    "\n",
    "# Sub-Model_1\n",
    "\n",
    "layer = Conv2D(5, (5,5), activation = 'relu')(input_)\n",
    "layer = Conv2D(10, (5,5), activation = 'relu')(layer)\n",
    "layer = Conv2D(15, (5,5), activation = 'relu')(layer)\n",
    "layer = BatchNormalization()(layer)\n",
    "\n",
    "layer = AveragePooling2D(pool_size=(2, 2))(layer)\n",
    "\n",
    "layer = Conv2D(10, (5,5), activation = 'relu')(layer)\n",
    "layer = Conv2D(15, (5,5), activation = 'relu')(layer)\n",
    "layer = BatchNormalization()(layer)\n",
    "\n",
    "layer = AveragePooling2D(pool_size=(2, 2))(layer)\n",
    "\n",
    "layer = Conv2D(10, (5,5), activation = 'relu')(layer)\n",
    "layer = Conv2D(15, (5,5), activation = 'relu')(layer)\n",
    "layer = BatchNormalization()(layer)\n",
    "\n",
    "layer = Dropout(.3)(layer)\n",
    "\n",
    "layer = Flatten()(layer)\n",
    "\n",
    "layer = Dense(150, activation = 'relu')(layer)\n",
    "layer_1 = Dense(75, activation = 'relu')(layer)\n",
    "\n",
    "# Sub-Model_2\n",
    "\n",
    "layer = ZeroPadding2D(padding = (1,1))(input_)\n",
    "\n",
    "layer = Conv2D(5, (3,3), activation = 'relu')(layer)\n",
    "layer = Conv2D(10, (3,3), activation = 'relu')(layer)\n",
    "layer = Conv2D(15, (3,3), activation = 'relu')(layer)\n",
    "layer = BatchNormalization()(layer)\n",
    "\n",
    "layer = AveragePooling2D(pool_size=(2, 2))(layer)\n",
    "\n",
    "layer = Conv2D(10, (3,3), activation = 'relu')(layer)\n",
    "layer = Conv2D(15, (3,3), activation = 'relu')(layer)\n",
    "layer = BatchNormalization()(layer)\n",
    "\n",
    "layer = AveragePooling2D(pool_size=(2, 2))(layer)\n",
    "\n",
    "layer = Conv2D(10, (3,3), activation = 'relu')(layer)\n",
    "layer = Conv2D(15, (3,3), activation = 'relu')(layer)\n",
    "layer = BatchNormalization()(layer)\n",
    "layer = Conv2D(10, (3,3), activation = 'relu')(layer)\n",
    "layer = Conv2D(15, (3,3), activation = 'relu')(layer)\n",
    "layer = BatchNormalization()(layer)\n",
    "\n",
    "layer = Dropout(.3)(layer)\n",
    "\n",
    "layer = AveragePooling2D(pool_size=(2, 2))(layer)\n",
    "\n",
    "layer = Flatten()(layer)\n",
    "\n",
    "layer_2 = Dense(300, activation = 'relu')(layer)\n",
    "\n",
    "# Sub-Model_3\n",
    "\n",
    "layer = ZeroPadding2D(padding = (1,1))(input_)\n",
    "\n",
    "layer = Conv2D(5, (3,3), activation = 'relu')(layer)\n",
    "layer = Conv2D(10, (3,3), activation = 'relu')(layer)\n",
    "layer = Conv2D(15, (3,3), activation = 'relu')(layer)\n",
    "layer = BatchNormalization()(layer)\n",
    "\n",
    "## Residual Layer\n",
    "res_layer = ReLU()(layer)\n",
    "res_layer = Conv2D(15, (3,3), activation = 'relu', padding = 'same')(res_layer)\n",
    "layer = keras.layers.add([layer, res_layer])\n",
    "\n",
    "layer = AveragePooling2D(pool_size=(2, 2))(layer)\n",
    "\n",
    "layer = Conv2D(10, (3,3), activation = 'relu')(layer)\n",
    "layer = Conv2D(15, (3,3), activation = 'relu')(layer)\n",
    "layer = BatchNormalization()(layer)\n",
    "\n",
    "layer = AveragePooling2D(pool_size=(2, 2))(layer)\n",
    "\n",
    "layer = Conv2D(10, (3,3), activation = 'relu')(layer)\n",
    "layer = Conv2D(15, (3,3), activation = 'relu')(layer)\n",
    "layer = BatchNormalization()(layer)\n",
    "\n",
    "layer = Conv2D(10, (3,3), activation = 'relu')(layer)\n",
    "layer = Conv2D(15, (3,3), activation = 'relu')(layer)\n",
    "\n",
    "layer = Dropout(.3)(layer)\n",
    "layer = BatchNormalization()(layer)\n",
    "\n",
    "layer = AveragePooling2D(pool_size=(2, 2))(layer)\n",
    "\n",
    "layer = Flatten()(layer)\n",
    "\n",
    "layer_3 = Dense(300, activation = 'relu')(layer)\n",
    "\n",
    "# Merging _2 and _3 last Dense layer\n",
    "layer = keras.layers.add([layer_2, layer_3])\n",
    "layer = Dense(150, activation = 'relu')(layer)\n",
    "layer = Dropout(.3)(layer)\n",
    "layer_2_3 = Dense(75, activation = 'relu')(layer)\n",
    "\n",
    "# Merging _2_3 and _1 last Dense layer\n",
    "layer_1_2_3 = keras.layers.add([layer_1, layer_2_3])\n",
    "\n",
    "# Merging the predictions\n",
    "layer = Dense(25, activation = 'relu')(layer_1_2_3)\n",
    "layer = Dropout(.3)(layer)\n",
    "box = Dense(4)(layer)"
   ]
  },
  {
   "cell_type": "code",
   "execution_count": 0,
   "metadata": {
    "colab": {
     "base_uri": "https://localhost:8080/",
     "height": 244
    },
    "colab_type": "code",
    "executionInfo": {
     "elapsed": 1879,
     "status": "error",
     "timestamp": 1551170267275,
     "user": {
      "displayName": "DIVYANK PANDEY",
      "photoUrl": "",
      "userId": "07089478650029820120"
     },
     "user_tz": -330
    },
    "id": "aTQDcQ0FGqPF",
    "outputId": "d6359de0-858d-4552-952a-ae68a568a683"
   },
   "outputs": [
    {
     "ename": "NameError",
     "evalue": "ignored",
     "output_type": "error",
     "traceback": [
      "\u001b[0;31m---------------------------------------------------------------------------\u001b[0m",
      "\u001b[0;31mNameError\u001b[0m                                 Traceback (most recent call last)",
      "\u001b[0;32m<ipython-input-33-7096ee60e4e9>\u001b[0m in \u001b[0;36m<module>\u001b[0;34m()\u001b[0m\n\u001b[0;32m----> 1\u001b[0;31m \u001b[0mmodel_net\u001b[0m \u001b[0;34m=\u001b[0m \u001b[0mModel\u001b[0m\u001b[0;34m(\u001b[0m\u001b[0minputs\u001b[0m \u001b[0;34m=\u001b[0m \u001b[0minput_\u001b[0m\u001b[0;34m,\u001b[0m \u001b[0moutputs\u001b[0m \u001b[0;34m=\u001b[0m \u001b[0mbox\u001b[0m\u001b[0;34m)\u001b[0m\u001b[0;34m\u001b[0m\u001b[0;34m\u001b[0m\u001b[0m\n\u001b[0m\u001b[1;32m      2\u001b[0m \u001b[0;34m\u001b[0m\u001b[0m\n\u001b[1;32m      3\u001b[0m model_net.compile(loss=keras.losses.mean_squared_error,\n\u001b[1;32m      4\u001b[0m               \u001b[0moptimizer\u001b[0m\u001b[0;34m=\u001b[0m\u001b[0mkeras\u001b[0m\u001b[0;34m.\u001b[0m\u001b[0moptimizers\u001b[0m\u001b[0;34m.\u001b[0m\u001b[0mAdam\u001b[0m\u001b[0;34m(\u001b[0m\u001b[0;34m)\u001b[0m\u001b[0;34m,\u001b[0m\u001b[0;34m\u001b[0m\u001b[0;34m\u001b[0m\u001b[0m\n\u001b[1;32m      5\u001b[0m               metrics=['accuracy'])\n",
      "\u001b[0;31mNameError\u001b[0m: name 'input_' is not defined"
     ]
    }
   ],
   "source": [
    "model_net = Model(inputs = input_, outputs = box)\n",
    "\n",
    "model_net.compile(loss=keras.losses.mean_squared_error,\n",
    "              optimizer=keras.optimizers.Adam(),\n",
    "              metrics=['accuracy'])"
   ]
  },
  {
   "cell_type": "code",
   "execution_count": 0,
   "metadata": {
    "colab": {
     "base_uri": "https://localhost:8080/",
     "height": 2672
    },
    "colab_type": "code",
    "executionInfo": {
     "elapsed": 796,
     "status": "ok",
     "timestamp": 1551137422393,
     "user": {
      "displayName": "DIVYANK PANDEY",
      "photoUrl": "",
      "userId": "07089478650029820120"
     },
     "user_tz": -330
    },
    "id": "cqJh6SCLG-uE",
    "outputId": "e61f4067-6bf8-477a-92f2-48a8586efda0"
   },
   "outputs": [
    {
     "name": "stdout",
     "output_type": "stream",
     "text": [
      "__________________________________________________________________________________________________\n",
      "Layer (type)                    Output Shape         Param #     Connected to                     \n",
      "==================================================================================================\n",
      "input_1 (InputLayer)            (None, 100, 100, 1)  0                                            \n",
      "__________________________________________________________________________________________________\n",
      "zero_padding2d_2 (ZeroPadding2D (None, 102, 102, 1)  0           input_1[0][0]                    \n",
      "__________________________________________________________________________________________________\n",
      "conv2d_17 (Conv2D)              (None, 100, 100, 5)  50          zero_padding2d_2[0][0]           \n",
      "__________________________________________________________________________________________________\n",
      "conv2d_18 (Conv2D)              (None, 98, 98, 10)   460         conv2d_17[0][0]                  \n",
      "__________________________________________________________________________________________________\n",
      "zero_padding2d_1 (ZeroPadding2D (None, 102, 102, 1)  0           input_1[0][0]                    \n",
      "__________________________________________________________________________________________________\n",
      "conv2d_19 (Conv2D)              (None, 96, 96, 15)   1365        conv2d_18[0][0]                  \n",
      "__________________________________________________________________________________________________\n",
      "conv2d_8 (Conv2D)               (None, 100, 100, 5)  50          zero_padding2d_1[0][0]           \n",
      "__________________________________________________________________________________________________\n",
      "batch_normalization_8 (BatchNor (None, 96, 96, 15)   60          conv2d_19[0][0]                  \n",
      "__________________________________________________________________________________________________\n",
      "conv2d_9 (Conv2D)               (None, 98, 98, 10)   460         conv2d_8[0][0]                   \n",
      "__________________________________________________________________________________________________\n",
      "re_lu_1 (ReLU)                  (None, 96, 96, 15)   0           batch_normalization_8[0][0]      \n",
      "__________________________________________________________________________________________________\n",
      "conv2d_10 (Conv2D)              (None, 96, 96, 15)   1365        conv2d_9[0][0]                   \n",
      "__________________________________________________________________________________________________\n",
      "conv2d_20 (Conv2D)              (None, 96, 96, 15)   2040        re_lu_1[0][0]                    \n",
      "__________________________________________________________________________________________________\n",
      "batch_normalization_4 (BatchNor (None, 96, 96, 15)   60          conv2d_10[0][0]                  \n",
      "__________________________________________________________________________________________________\n",
      "add_1 (Add)                     (None, 96, 96, 15)   0           batch_normalization_8[0][0]      \n",
      "                                                                 conv2d_20[0][0]                  \n",
      "__________________________________________________________________________________________________\n",
      "average_pooling2d_3 (AveragePoo (None, 48, 48, 15)   0           batch_normalization_4[0][0]      \n",
      "__________________________________________________________________________________________________\n",
      "average_pooling2d_6 (AveragePoo (None, 48, 48, 15)   0           add_1[0][0]                      \n",
      "__________________________________________________________________________________________________\n",
      "conv2d_11 (Conv2D)              (None, 46, 46, 10)   1360        average_pooling2d_3[0][0]        \n",
      "__________________________________________________________________________________________________\n",
      "conv2d_21 (Conv2D)              (None, 46, 46, 10)   1360        average_pooling2d_6[0][0]        \n",
      "__________________________________________________________________________________________________\n",
      "conv2d_12 (Conv2D)              (None, 44, 44, 15)   1365        conv2d_11[0][0]                  \n",
      "__________________________________________________________________________________________________\n",
      "conv2d_22 (Conv2D)              (None, 44, 44, 15)   1365        conv2d_21[0][0]                  \n",
      "__________________________________________________________________________________________________\n",
      "conv2d_1 (Conv2D)               (None, 96, 96, 5)    130         input_1[0][0]                    \n",
      "__________________________________________________________________________________________________\n",
      "batch_normalization_5 (BatchNor (None, 44, 44, 15)   60          conv2d_12[0][0]                  \n",
      "__________________________________________________________________________________________________\n",
      "batch_normalization_9 (BatchNor (None, 44, 44, 15)   60          conv2d_22[0][0]                  \n",
      "__________________________________________________________________________________________________\n",
      "conv2d_2 (Conv2D)               (None, 92, 92, 10)   1260        conv2d_1[0][0]                   \n",
      "__________________________________________________________________________________________________\n",
      "average_pooling2d_4 (AveragePoo (None, 22, 22, 15)   0           batch_normalization_5[0][0]      \n",
      "__________________________________________________________________________________________________\n",
      "average_pooling2d_7 (AveragePoo (None, 22, 22, 15)   0           batch_normalization_9[0][0]      \n",
      "__________________________________________________________________________________________________\n",
      "conv2d_3 (Conv2D)               (None, 88, 88, 15)   3765        conv2d_2[0][0]                   \n",
      "__________________________________________________________________________________________________\n",
      "conv2d_13 (Conv2D)              (None, 20, 20, 10)   1360        average_pooling2d_4[0][0]        \n",
      "__________________________________________________________________________________________________\n",
      "conv2d_23 (Conv2D)              (None, 20, 20, 10)   1360        average_pooling2d_7[0][0]        \n",
      "__________________________________________________________________________________________________\n",
      "batch_normalization_1 (BatchNor (None, 88, 88, 15)   60          conv2d_3[0][0]                   \n",
      "__________________________________________________________________________________________________\n",
      "conv2d_14 (Conv2D)              (None, 18, 18, 15)   1365        conv2d_13[0][0]                  \n",
      "__________________________________________________________________________________________________\n",
      "conv2d_24 (Conv2D)              (None, 18, 18, 15)   1365        conv2d_23[0][0]                  \n",
      "__________________________________________________________________________________________________\n",
      "average_pooling2d_1 (AveragePoo (None, 44, 44, 15)   0           batch_normalization_1[0][0]      \n",
      "__________________________________________________________________________________________________\n",
      "batch_normalization_6 (BatchNor (None, 18, 18, 15)   60          conv2d_14[0][0]                  \n",
      "__________________________________________________________________________________________________\n",
      "batch_normalization_10 (BatchNo (None, 18, 18, 15)   60          conv2d_24[0][0]                  \n",
      "__________________________________________________________________________________________________\n",
      "conv2d_4 (Conv2D)               (None, 40, 40, 10)   3760        average_pooling2d_1[0][0]        \n",
      "__________________________________________________________________________________________________\n",
      "conv2d_15 (Conv2D)              (None, 16, 16, 10)   1360        batch_normalization_6[0][0]      \n",
      "__________________________________________________________________________________________________\n",
      "conv2d_25 (Conv2D)              (None, 16, 16, 10)   1360        batch_normalization_10[0][0]     \n",
      "__________________________________________________________________________________________________\n",
      "conv2d_5 (Conv2D)               (None, 36, 36, 15)   3765        conv2d_4[0][0]                   \n",
      "__________________________________________________________________________________________________\n",
      "conv2d_16 (Conv2D)              (None, 14, 14, 15)   1365        conv2d_15[0][0]                  \n",
      "__________________________________________________________________________________________________\n",
      "conv2d_26 (Conv2D)              (None, 14, 14, 15)   1365        conv2d_25[0][0]                  \n",
      "__________________________________________________________________________________________________\n",
      "batch_normalization_2 (BatchNor (None, 36, 36, 15)   60          conv2d_5[0][0]                   \n",
      "__________________________________________________________________________________________________\n",
      "batch_normalization_7 (BatchNor (None, 14, 14, 15)   60          conv2d_16[0][0]                  \n",
      "__________________________________________________________________________________________________\n",
      "dropout_3 (Dropout)             (None, 14, 14, 15)   0           conv2d_26[0][0]                  \n",
      "__________________________________________________________________________________________________\n",
      "average_pooling2d_2 (AveragePoo (None, 18, 18, 15)   0           batch_normalization_2[0][0]      \n",
      "__________________________________________________________________________________________________\n",
      "dropout_2 (Dropout)             (None, 14, 14, 15)   0           batch_normalization_7[0][0]      \n",
      "__________________________________________________________________________________________________\n",
      "batch_normalization_11 (BatchNo (None, 14, 14, 15)   60          dropout_3[0][0]                  \n",
      "__________________________________________________________________________________________________\n",
      "conv2d_6 (Conv2D)               (None, 14, 14, 10)   3760        average_pooling2d_2[0][0]        \n",
      "__________________________________________________________________________________________________\n",
      "average_pooling2d_5 (AveragePoo (None, 7, 7, 15)     0           dropout_2[0][0]                  \n",
      "__________________________________________________________________________________________________\n",
      "average_pooling2d_8 (AveragePoo (None, 7, 7, 15)     0           batch_normalization_11[0][0]     \n",
      "__________________________________________________________________________________________________\n",
      "conv2d_7 (Conv2D)               (None, 10, 10, 15)   3765        conv2d_6[0][0]                   \n",
      "__________________________________________________________________________________________________\n",
      "flatten_2 (Flatten)             (None, 735)          0           average_pooling2d_5[0][0]        \n",
      "__________________________________________________________________________________________________\n",
      "flatten_3 (Flatten)             (None, 735)          0           average_pooling2d_8[0][0]        \n",
      "__________________________________________________________________________________________________\n",
      "batch_normalization_3 (BatchNor (None, 10, 10, 15)   60          conv2d_7[0][0]                   \n",
      "__________________________________________________________________________________________________\n",
      "dense_3 (Dense)                 (None, 300)          220800      flatten_2[0][0]                  \n",
      "__________________________________________________________________________________________________\n",
      "dense_4 (Dense)                 (None, 300)          220800      flatten_3[0][0]                  \n",
      "__________________________________________________________________________________________________\n",
      "dropout_1 (Dropout)             (None, 10, 10, 15)   0           batch_normalization_3[0][0]      \n",
      "__________________________________________________________________________________________________\n",
      "add_2 (Add)                     (None, 300)          0           dense_3[0][0]                    \n",
      "                                                                 dense_4[0][0]                    \n",
      "__________________________________________________________________________________________________\n",
      "flatten_1 (Flatten)             (None, 1500)         0           dropout_1[0][0]                  \n",
      "__________________________________________________________________________________________________\n",
      "dense_5 (Dense)                 (None, 150)          45150       add_2[0][0]                      \n",
      "__________________________________________________________________________________________________\n",
      "dense_1 (Dense)                 (None, 150)          225150      flatten_1[0][0]                  \n",
      "__________________________________________________________________________________________________\n",
      "dropout_4 (Dropout)             (None, 150)          0           dense_5[0][0]                    \n",
      "__________________________________________________________________________________________________\n",
      "dense_2 (Dense)                 (None, 75)           11325       dense_1[0][0]                    \n",
      "__________________________________________________________________________________________________\n",
      "dense_6 (Dense)                 (None, 75)           11325       dropout_4[0][0]                  \n",
      "__________________________________________________________________________________________________\n",
      "add_3 (Add)                     (None, 75)           0           dense_2[0][0]                    \n",
      "                                                                 dense_6[0][0]                    \n",
      "__________________________________________________________________________________________________\n",
      "dense_7 (Dense)                 (None, 25)           1900        add_3[0][0]                      \n",
      "__________________________________________________________________________________________________\n",
      "dropout_5 (Dropout)             (None, 25)           0           dense_7[0][0]                    \n",
      "__________________________________________________________________________________________________\n",
      "dense_8 (Dense)                 (None, 4)            104         dropout_5[0][0]                  \n",
      "==================================================================================================\n",
      "Total params: 779,559\n",
      "Trainable params: 779,229\n",
      "Non-trainable params: 330\n",
      "__________________________________________________________________________________________________\n"
     ]
    }
   ],
   "source": [
    "model_net.summary()"
   ]
  },
  {
   "cell_type": "code",
   "execution_count": 0,
   "metadata": {
    "colab": {
     "base_uri": "https://localhost:8080/",
     "height": 244
    },
    "colab_type": "code",
    "executionInfo": {
     "elapsed": 2616,
     "status": "error",
     "timestamp": 1551170245799,
     "user": {
      "displayName": "DIVYANK PANDEY",
      "photoUrl": "",
      "userId": "07089478650029820120"
     },
     "user_tz": -330
    },
    "id": "h2yHeCYYHA-U",
    "outputId": "0170a97d-a71b-42a3-95a5-2cfd3135c0ab"
   },
   "outputs": [
    {
     "ename": "NameError",
     "evalue": "ignored",
     "output_type": "error",
     "traceback": [
      "\u001b[0;31m---------------------------------------------------------------------------\u001b[0m",
      "\u001b[0;31mNameError\u001b[0m                                 Traceback (most recent call last)",
      "\u001b[0;32m<ipython-input-32-269605782e2a>\u001b[0m in \u001b[0;36m<module>\u001b[0;34m()\u001b[0m\n\u001b[1;32m      2\u001b[0m \u001b[0mbatch_size\u001b[0m \u001b[0;34m=\u001b[0m \u001b[0;36m120\u001b[0m\u001b[0;34m\u001b[0m\u001b[0;34m\u001b[0m\u001b[0m\n\u001b[1;32m      3\u001b[0m \u001b[0;34m\u001b[0m\u001b[0m\n\u001b[0;32m----> 4\u001b[0;31m model_net.fit(x_train_augment[:,:,:,0:1], y_train_augment,\n\u001b[0m\u001b[1;32m      5\u001b[0m           \u001b[0mbatch_size\u001b[0m\u001b[0;34m=\u001b[0m\u001b[0mbatch_size\u001b[0m\u001b[0;34m,\u001b[0m\u001b[0;34m\u001b[0m\u001b[0;34m\u001b[0m\u001b[0m\n\u001b[1;32m      6\u001b[0m           \u001b[0mepochs\u001b[0m\u001b[0;34m=\u001b[0m\u001b[0mepochs\u001b[0m\u001b[0;34m,\u001b[0m\u001b[0;34m\u001b[0m\u001b[0;34m\u001b[0m\u001b[0m\n",
      "\u001b[0;31mNameError\u001b[0m: name 'model_net' is not defined"
     ]
    }
   ],
   "source": [
    "epochs = 50\n",
    "batch_size = 120\n",
    "\n",
    "model_net.fit(x_train_augment[:,:,:,0:1], y_train_augment,\n",
    "          batch_size=batch_size,\n",
    "          epochs=epochs,\n",
    "          verbose=1,\n",
    "          validation_data=(x_test_augment[:,:,:,0:1], y_test_augment))\n",
    "\n",
    "score = model_net.evaluate(x_test_augment[:,:,:,0:1], y_test_augment, verbose=0)\n",
    "\n",
    "print('Test loss:', score[0])\n",
    "print('Test accuracy:', score[1])"
   ]
  },
  {
   "cell_type": "code",
   "execution_count": 0,
   "metadata": {
    "colab": {},
    "colab_type": "code",
    "id": "YGkQKDDfHgze"
   },
   "outputs": [],
   "source": []
  },
  {
   "cell_type": "markdown",
   "metadata": {
    "colab_type": "text",
    "id": "_lxEYRm93-dc"
   },
   "source": [
    "# Nayi Shuruwaat"
   ]
  },
  {
   "cell_type": "code",
   "execution_count": 0,
   "metadata": {
    "colab": {},
    "colab_type": "code",
    "id": "-4-leCGU4DdS"
   },
   "outputs": [],
   "source": [
    "download = drive.CreateFile({'id': '1GZtU-q93cU4woolBU7fCvtw4iLfOaoQo'})\n",
    "download.GetContentFile('model_0038_83_1.h5')\n",
    "\n",
    "from keras.models import load_model\n",
    "\n",
    "model_1 = load_model('model_0038_83_1.h5')"
   ]
  },
  {
   "cell_type": "code",
   "execution_count": 0,
   "metadata": {
    "colab": {},
    "colab_type": "code",
    "id": "hTa4XTsrjtp6"
   },
   "outputs": [],
   "source": [
    "def augment(image, angle):\n",
    "  \n",
    "  rows,cols = image.shape\n",
    "  \n",
    "  image = image*255\n",
    "  \n",
    "  M = cv2.getRotationMatrix2D((cols/2,rows/2),angle,1)\n",
    "  \n",
    "  dst = cv2.warpAffine(image,M,(cols,rows))\n",
    "\n",
    "  \n",
    "  return dst"
   ]
  },
  {
   "cell_type": "code",
   "execution_count": 0,
   "metadata": {
    "colab": {
     "base_uri": "https://localhost:8080/",
     "height": 108
    },
    "colab_type": "code",
    "executionInfo": {
     "elapsed": 2252,
     "status": "ok",
     "timestamp": 1551130810042,
     "user": {
      "displayName": "DIVYANK PANDEY",
      "photoUrl": "",
      "userId": "07089478650029820120"
     },
     "user_tz": -330
    },
    "id": "TCWjmKm3lY11",
    "outputId": "2403e786-ee3b-41a1-bdb4-1517a2831425"
   },
   "outputs": [
    {
     "name": "stdout",
     "output_type": "stream",
     "text": [
      "100 100\n",
      "196.0\n",
      "100.0\n",
      "196.0\n"
     ]
    },
    {
     "data": {
      "text/plain": [
       "196.0"
      ]
     },
     "execution_count": 140,
     "metadata": {
      "tags": []
     },
     "output_type": "execute_result"
    }
   ],
   "source": [
    "np.max(augment(x_train[0,:,:,0],90))"
   ]
  },
  {
   "cell_type": "code",
   "execution_count": 0,
   "metadata": {
    "colab": {
     "base_uri": "https://localhost:8080/",
     "height": 367
    },
    "colab_type": "code",
    "executionInfo": {
     "elapsed": 1656,
     "status": "ok",
     "timestamp": 1551130873369,
     "user": {
      "displayName": "DIVYANK PANDEY",
      "photoUrl": "",
      "userId": "07089478650029820120"
     },
     "user_tz": -330
    },
    "id": "x0meTlDsk2sE",
    "outputId": "7a629817-1e24-4e2e-9a32-fb8627db8a23"
   },
   "outputs": [
    {
     "data": {
      "text/plain": [
       "<matplotlib.image.AxesImage at 0x7f8172dd21d0>"
      ]
     },
     "execution_count": 144,
     "metadata": {
      "tags": []
     },
     "output_type": "execute_result"
    },
    {
     "data": {
      "image/png": "[encoded data removed]",
      "text/plain": [
       "<Figure size 576x396 with 1 Axes>"
      ]
     },
     "metadata": {
      "tags": []
     },
     "output_type": "display_data"
    }
   ],
   "source": [
    "plt.imshow(augment(x_train[0].reshape(100,100),270))"
   ]
  },
  {
   "cell_type": "code",
   "execution_count": 0,
   "metadata": {
    "colab": {
     "base_uri": "https://localhost:8080/",
     "height": 454
    },
    "colab_type": "code",
    "executionInfo": {
     "elapsed": 8447,
     "status": "ok",
     "timestamp": 1551134908250,
     "user": {
      "displayName": "DIVYANK PANDEY",
      "photoUrl": "",
      "userId": "07089478650029820120"
     },
     "user_tz": -330
    },
    "id": "RTEUIIK7lFDm",
    "outputId": "210fad69-f3ef-439d-bfdf-9d58af581d99"
   },
   "outputs": [
    {
     "name": "stdout",
     "output_type": "stream",
     "text": [
      "500 Imgaes swooped\n",
      "1000 Imgaes swooped\n",
      "1500 Imgaes swooped\n",
      "2000 Imgaes swooped\n",
      "2500 Imgaes swooped\n",
      "3000 Imgaes swooped\n",
      "3500 Imgaes swooped\n",
      "4000 Imgaes swooped\n",
      "4500 Imgaes swooped\n",
      "5000 Imgaes swooped\n",
      "5500 Imgaes swooped\n",
      "6000 Imgaes swooped\n",
      "6500 Imgaes swooped\n",
      "7000 Imgaes swooped\n",
      "7500 Imgaes swooped\n",
      "8000 Imgaes swooped\n",
      "8500 Imgaes swooped\n",
      "9000 Imgaes swooped\n",
      "9500 Imgaes swooped\n",
      "10000 Imgaes swooped\n",
      "10500 Imgaes swooped\n",
      "11000 Imgaes swooped\n",
      "11500 Imgaes swooped\n",
      "12000 Imgaes swooped\n"
     ]
    }
   ],
   "source": [
    "x_train_augment = np.zeros((48000,100,100,1))\n",
    "\n",
    "for i in range(12000):\n",
    "  \n",
    "  x_train_augment[i,:,:,:] = x_train[i]\n",
    "  x_train_augment[i+12000,:,:,:] = (augment(x_train[i,:,:,0],90)/255).reshape(100,100,1)\n",
    "  x_train_augment[i+24000,:,:,:] = (augment(x_train[i,:,:,0],180)/255).reshape(100,100,1)\n",
    "  x_train_augment[i+36000,:,:,:] = (augment(x_train[i,:,:,0],270)/255).reshape(100,100,1)\n",
    "  \n",
    "  if np.remainder(i+1,500)==0:\n",
    "    print(\"{} Imgaes swooped\".format(i+1))\n",
    "  \n",
    "  "
   ]
  },
  {
   "cell_type": "code",
   "execution_count": 0,
   "metadata": {
    "colab": {
     "base_uri": "https://localhost:8080/",
     "height": 90
    },
    "colab_type": "code",
    "executionInfo": {
     "elapsed": 2399,
     "status": "ok",
     "timestamp": 1551134912395,
     "user": {
      "displayName": "DIVYANK PANDEY",
      "photoUrl": "",
      "userId": "07089478650029820120"
     },
     "user_tz": -330
    },
    "id": "_CT5PEi5oAUJ",
    "outputId": "e6b72f1f-9287-42f3-b289-0854048c40c3"
   },
   "outputs": [
    {
     "name": "stdout",
     "output_type": "stream",
     "text": [
      "500 Imgaes swooped\n",
      "1000 Imgaes swooped\n",
      "1500 Imgaes swooped\n",
      "2000 Imgaes swooped\n"
     ]
    }
   ],
   "source": [
    "x_test_augment = np.zeros((8000,100,100,1))\n",
    "\n",
    "for i in range(2000):\n",
    "  \n",
    "  x_test_augment[i,:,:,:] = x_test[i]\n",
    "  x_test_augment[i+2000,:,:,:] = (augment(x_test[i,:,:,0],90)/255).reshape(100,100,1)\n",
    "  x_test_augment[i+4000,:,:,:] = (augment(x_test[i,:,:,0],180)/255).reshape(100,100,1)\n",
    "  x_test_augment[i+6000,:,:,:] = (augment(x_test[i,:,:,0],270)/255).reshape(100,100,1)\n",
    "  \n",
    "  if np.remainder(i+1,500)==0:\n",
    "    print(\"{} Imgaes swooped\".format(i+1))\n",
    "  \n",
    "  "
   ]
  },
  {
   "cell_type": "code",
   "execution_count": 0,
   "metadata": {
    "colab": {},
    "colab_type": "code",
    "id": "dflAiR-bo-QT"
   },
   "outputs": [],
   "source": [
    "pickleOut(\"x_train_augment_1.pickle\", x_train_augment[0:12000])"
   ]
  },
  {
   "cell_type": "code",
   "execution_count": 0,
   "metadata": {
    "colab": {},
    "colab_type": "code",
    "id": "q_Csm6lHpm4g"
   },
   "outputs": [],
   "source": [
    "pickleOut(\"x_train_augment_2.pickle\", x_train_augment[12000:24000])"
   ]
  },
  {
   "cell_type": "code",
   "execution_count": 0,
   "metadata": {
    "colab": {},
    "colab_type": "code",
    "id": "Rz-_420lpmzi"
   },
   "outputs": [],
   "source": [
    "pickleOut(\"x_train_augment_3.pickle\", x_train_augment[24000:36000])"
   ]
  },
  {
   "cell_type": "code",
   "execution_count": 0,
   "metadata": {
    "colab": {},
    "colab_type": "code",
    "id": "2_kzoL4VpunQ"
   },
   "outputs": [],
   "source": [
    "pickleOut(\"x_train_augment_4.pickle\", x_train_augment[36000:48000])"
   ]
  },
  {
   "cell_type": "code",
   "execution_count": 0,
   "metadata": {
    "colab": {},
    "colab_type": "code",
    "id": "hDrCqo6gpYA8"
   },
   "outputs": [],
   "source": [
    "pickleOut(\"x_test_augment.pickle\", x_test_augment)"
   ]
  },
  {
   "cell_type": "code",
   "execution_count": 0,
   "metadata": {
    "colab": {},
    "colab_type": "code",
    "id": "SGc6u7JnpX1v"
   },
   "outputs": [],
   "source": []
  },
  {
   "cell_type": "code",
   "execution_count": 0,
   "metadata": {
    "colab": {},
    "colab_type": "code",
    "id": "PojSJpJkokve"
   },
   "outputs": [],
   "source": [
    "file5 = drive.CreateFile({'title': 'x_train_augment_1.pickle'})\n",
    "file5.SetContentFile('x_train_augment_1.pickle')\n",
    "file5.Upload()\n",
    "\n"
   ]
  },
  {
   "cell_type": "code",
   "execution_count": 0,
   "metadata": {
    "colab": {},
    "colab_type": "code",
    "id": "H2ABbGVwrH1V"
   },
   "outputs": [],
   "source": [
    "file5 = drive.CreateFile({'title': 'x_train_augment_2.pickle'})\n",
    "file5.SetContentFile('x_train_augment_2.pickle')\n",
    "file5.Upload()\n",
    "\n"
   ]
  },
  {
   "cell_type": "code",
   "execution_count": 0,
   "metadata": {
    "colab": {},
    "colab_type": "code",
    "id": "fytYZTZirHx_"
   },
   "outputs": [],
   "source": [
    "file5 = drive.CreateFile({'title': 'x_train_augment_3.pickle'})\n",
    "file5.SetContentFile('x_train_augment_3.pickle')\n",
    "file5.Upload()\n",
    "\n"
   ]
  },
  {
   "cell_type": "code",
   "execution_count": 0,
   "metadata": {
    "colab": {},
    "colab_type": "code",
    "id": "1vDOjkdXrHvj"
   },
   "outputs": [],
   "source": [
    "file5 = drive.CreateFile({'title': 'x_train_augment_4.pickle'})\n",
    "file5.SetContentFile('x_train_augment_4.pickle')\n",
    "file5.Upload()\n",
    "\n"
   ]
  },
  {
   "cell_type": "code",
   "execution_count": 0,
   "metadata": {
    "colab": {},
    "colab_type": "code",
    "id": "qOXOZNGzrFiL"
   },
   "outputs": [],
   "source": [
    "file5 = drive.CreateFile({'title': 'x_test_augment.pickle'})\n",
    "file5.SetContentFile('x_test_augment.pickle')\n",
    "file5.Upload()"
   ]
  },
  {
   "cell_type": "code",
   "execution_count": 0,
   "metadata": {
    "colab": {},
    "colab_type": "code",
    "id": "Tn1fZmZxrTqZ"
   },
   "outputs": [],
   "source": [
    "def augment_y(coord, angle):\n",
    "  \n",
    "  x = coord[0]\n",
    "  y = coord[1]\n",
    "  w = coord[2]\n",
    "  h = coord[3]\n",
    "  \n",
    "  if angle == 90 or angle == 270:\n",
    "    w_new = h\n",
    "    h_new = w\n",
    "    \n",
    "  if angle == 90:\n",
    "    x_new = y\n",
    "    y_new = 1 - x\n",
    "    \n",
    "  if angle == 180:\n",
    "    x_new = 1 - x\n",
    "    y_new = 1 - y\n",
    "    w_new = w\n",
    "    h_new = h\n",
    "    \n",
    "    \n",
    "  if angle == 270:\n",
    "    x_new = 1 - y\n",
    "    y_new = x\n",
    "  \n",
    "  \n",
    "  coord_new = 0*coord\n",
    "  \n",
    "  coord_new[0] = x_new\n",
    "  coord_new[1] = y_new\n",
    "  coord_new[2] = w_new\n",
    "  coord_new[3] = h_new\n",
    "  \n",
    "  return coord_new"
   ]
  },
  {
   "cell_type": "code",
   "execution_count": 0,
   "metadata": {
    "colab": {},
    "colab_type": "code",
    "id": "EM4375Cmuo5Q"
   },
   "outputs": [],
   "source": [
    "sample_y = augment_y(y_train[0],180)"
   ]
  },
  {
   "cell_type": "code",
   "execution_count": 0,
   "metadata": {
    "colab": {},
    "colab_type": "code",
    "id": "gaqvBxgAvBGi"
   },
   "outputs": [],
   "source": [
    "sample_x = augment(x_train[0,:,:,0],180)"
   ]
  },
  {
   "cell_type": "code",
   "execution_count": 0,
   "metadata": {
    "colab": {},
    "colab_type": "code",
    "id": "XDIScRfivOsq"
   },
   "outputs": [],
   "source": [
    "def draw(sample_x, sample_y):\n",
    "  x_ = sample_y[0]\n",
    "  y_ = sample_y[1]\n",
    "  w_ = sample_y[2]\n",
    "  h_ = sample_y[3]\n",
    "\n",
    "  x1 = int(100*((2*x_) - w_)/2)\n",
    "  y1 = int(100*((2*y_) - h_)/2)\n",
    "  x2 = int(100*((2*x_) + w_)/2)\n",
    "  y2 = int(100*((2*y_) + h_)/2)\n",
    "\n",
    "  #cv2.rectangle(sample_x*255, (x1,y1),(x2,y2),(255),2)\n",
    "  \n",
    "  plt.imshow(sample_x,cmap ='gray')\n",
    "  #plt.hold()\n",
    "  plt.plot(x1,y1,'ro')\n",
    "  plt.plot(x2,y2,'ro')"
   ]
  },
  {
   "cell_type": "code",
   "execution_count": 0,
   "metadata": {
    "colab": {
     "base_uri": "https://localhost:8080/",
     "height": 349
    },
    "colab_type": "code",
    "executionInfo": {
     "elapsed": 1390,
     "status": "ok",
     "timestamp": 1551138424500,
     "user": {
      "displayName": "DIVYANK PANDEY",
      "photoUrl": "",
      "userId": "07089478650029820120"
     },
     "user_tz": -330
    },
    "id": "SH38OvOEwSFB",
    "outputId": "6d4019d2-3cd9-4d39-a384-154988904c9c"
   },
   "outputs": [
    {
     "data": {
      "image/png": "[encoded data removed]",
      "text/plain": [
       "<Figure size 576x396 with 1 Axes>"
      ]
     },
     "metadata": {
      "tags": []
     },
     "output_type": "display_data"
    }
   ],
   "source": [
    "i = 36000\n",
    "j = 140\n",
    "draw(x_train_augment[i+j,:,:,0], y_train_augment[i+j])"
   ]
  },
  {
   "cell_type": "code",
   "execution_count": 0,
   "metadata": {
    "colab": {},
    "colab_type": "code",
    "id": "IGHJRzL_wVzy"
   },
   "outputs": [],
   "source": [
    "def augment(image, angle):\n",
    "  \n",
    "  rows,cols = image.shape\n",
    "  \n",
    "  image = image*255\n",
    "  \n",
    "  M = cv2.getRotationMatrix2D((cols/2,rows/2),angle,1)\n",
    "  \n",
    "  dst = cv2.warpAffine(image,M,(cols,rows))\n",
    "\n",
    "  \n",
    "  return dst"
   ]
  },
  {
   "cell_type": "code",
   "execution_count": 0,
   "metadata": {
    "colab": {
     "base_uri": "https://localhost:8080/",
     "height": 454
    },
    "colab_type": "code",
    "executionInfo": {
     "elapsed": 2322,
     "status": "ok",
     "timestamp": 1551134408119,
     "user": {
      "displayName": "DIVYANK PANDEY",
      "photoUrl": "",
      "userId": "07089478650029820120"
     },
     "user_tz": -330
    },
    "id": "vnMnl8lHyCDI",
    "outputId": "7af5b128-4f49-4255-f120-9d9540d97903"
   },
   "outputs": [
    {
     "name": "stdout",
     "output_type": "stream",
     "text": [
      "500 Imgaes swooped\n",
      "1000 Imgaes swooped\n",
      "1500 Imgaes swooped\n",
      "2000 Imgaes swooped\n",
      "2500 Imgaes swooped\n",
      "3000 Imgaes swooped\n",
      "3500 Imgaes swooped\n",
      "4000 Imgaes swooped\n",
      "4500 Imgaes swooped\n",
      "5000 Imgaes swooped\n",
      "5500 Imgaes swooped\n",
      "6000 Imgaes swooped\n",
      "6500 Imgaes swooped\n",
      "7000 Imgaes swooped\n",
      "7500 Imgaes swooped\n",
      "8000 Imgaes swooped\n",
      "8500 Imgaes swooped\n",
      "9000 Imgaes swooped\n",
      "9500 Imgaes swooped\n",
      "10000 Imgaes swooped\n",
      "10500 Imgaes swooped\n",
      "11000 Imgaes swooped\n",
      "11500 Imgaes swooped\n",
      "12000 Imgaes swooped\n"
     ]
    }
   ],
   "source": [
    "y_train_augment = np.zeros((48000,4))\n",
    "\n",
    "for i in range(12000):\n",
    "  \n",
    "  y_train_augment[i,:] = y_train[i]\n",
    "  y_train_augment[i+12000,:] = (augment_y(y_train[i,:],90))\n",
    "  y_train_augment[i+24000,:] = (augment_y(y_train[i,:],180))\n",
    "  y_train_augment[i+36000,:] = (augment_y(y_train[i,:],270))\n",
    "  \n",
    "  if np.remainder(i+1,500)==0:\n",
    "    print(\"{} Imgaes swooped\".format(i+1))\n",
    "  "
   ]
  },
  {
   "cell_type": "code",
   "execution_count": 0,
   "metadata": {
    "colab": {},
    "colab_type": "code",
    "id": "cOVSiM6ex7pq"
   },
   "outputs": [],
   "source": [
    "pickleOut(\"y_train_augment.pickle\", y_train_augment)"
   ]
  },
  {
   "cell_type": "code",
   "execution_count": 0,
   "metadata": {
    "colab": {},
    "colab_type": "code",
    "id": "GmI6AVitzVtp"
   },
   "outputs": [],
   "source": [
    "file5 = drive.CreateFile({'title': 'y_train_augment.pickle'})\n",
    "file5.SetContentFile('y_train_augment.pickle')\n",
    "file5.Upload()"
   ]
  },
  {
   "cell_type": "code",
   "execution_count": 0,
   "metadata": {
    "colab": {
     "base_uri": "https://localhost:8080/",
     "height": 90
    },
    "colab_type": "code",
    "executionInfo": {
     "elapsed": 1372,
     "status": "ok",
     "timestamp": 1551134439540,
     "user": {
      "displayName": "DIVYANK PANDEY",
      "photoUrl": "",
      "userId": "07089478650029820120"
     },
     "user_tz": -330
    },
    "id": "GLuMjV37zrfp",
    "outputId": "4d362f89-4fe8-41b9-acc0-5d6a902354b7"
   },
   "outputs": [
    {
     "name": "stdout",
     "output_type": "stream",
     "text": [
      "500 Imgaes swooped\n",
      "1000 Imgaes swooped\n",
      "1500 Imgaes swooped\n",
      "2000 Imgaes swooped\n"
     ]
    }
   ],
   "source": [
    "y_test_augment = np.zeros((8000,4))\n",
    "\n",
    "for i in range(2000):\n",
    "  \n",
    "  y_test_augment[i,:] = y_test[i]\n",
    "  y_test_augment[i+2000,:] = (augment_y(y_test[i,:],90))\n",
    "  y_test_augment[i+4000,:] = (augment_y(y_test[i,:],180))\n",
    "  y_test_augment[i+6000,:] = (augment_y(y_test[i,:],270))\n",
    "  \n",
    "  if np.remainder(i+1,500)==0:\n",
    "    print(\"{} Imgaes swooped\".format(i+1))\n",
    "  "
   ]
  },
  {
   "cell_type": "code",
   "execution_count": 0,
   "metadata": {
    "colab": {},
    "colab_type": "code",
    "id": "Ihsz5Uxt0TI8"
   },
   "outputs": [],
   "source": [
    "pickleOut(\"y_test_augment.pickle\", y_test_augment)"
   ]
  },
  {
   "cell_type": "code",
   "execution_count": 0,
   "metadata": {
    "colab": {
     "base_uri": "https://localhost:8080/",
     "height": 335
    },
    "colab_type": "code",
    "executionInfo": {
     "elapsed": 2679,
     "status": "error",
     "timestamp": 1551169661180,
     "user": {
      "displayName": "DIVYANK PANDEY",
      "photoUrl": "",
      "userId": "07089478650029820120"
     },
     "user_tz": -330
    },
    "id": "uPH6chKM0ZPM",
    "outputId": "99a6ebaf-ad4b-404c-9895-823785e7d95a"
   },
   "outputs": [
    {
     "ename": "FileNotFoundError",
     "evalue": "ignored",
     "output_type": "error",
     "traceback": [
      "\u001b[0;31m---------------------------------------------------------------------------\u001b[0m",
      "\u001b[0;31mFileNotFoundError\u001b[0m                         Traceback (most recent call last)",
      "\u001b[0;32m<ipython-input-10-588979e93849>\u001b[0m in \u001b[0;36m<module>\u001b[0;34m()\u001b[0m\n\u001b[1;32m      1\u001b[0m \u001b[0mfile5\u001b[0m \u001b[0;34m=\u001b[0m \u001b[0mdrive\u001b[0m\u001b[0;34m.\u001b[0m\u001b[0mCreateFile\u001b[0m\u001b[0;34m(\u001b[0m\u001b[0;34m{\u001b[0m\u001b[0;34m'title'\u001b[0m\u001b[0;34m:\u001b[0m \u001b[0;34m'y_test_augment.pickle'\u001b[0m\u001b[0;34m}\u001b[0m\u001b[0;34m)\u001b[0m\u001b[0;34m\u001b[0m\u001b[0;34m\u001b[0m\u001b[0m\n\u001b[0;32m----> 2\u001b[0;31m \u001b[0mfile5\u001b[0m\u001b[0;34m.\u001b[0m\u001b[0mSetContentFile\u001b[0m\u001b[0;34m(\u001b[0m\u001b[0;34m'y_test_augment.pickle'\u001b[0m\u001b[0;34m)\u001b[0m\u001b[0;34m\u001b[0m\u001b[0;34m\u001b[0m\u001b[0m\n\u001b[0m\u001b[1;32m      3\u001b[0m \u001b[0mfile5\u001b[0m\u001b[0;34m.\u001b[0m\u001b[0mUpload\u001b[0m\u001b[0;34m(\u001b[0m\u001b[0;34m)\u001b[0m\u001b[0;34m\u001b[0m\u001b[0;34m\u001b[0m\u001b[0m\n",
      "\u001b[0;32m/usr/local/lib/python3.6/dist-packages/pydrive/files.py\u001b[0m in \u001b[0;36mSetContentFile\u001b[0;34m(self, filename)\u001b[0m\n\u001b[1;32m    167\u001b[0m     \u001b[0;34m:\u001b[0m\u001b[0mtype\u001b[0m \u001b[0mfilename\u001b[0m\u001b[0;34m:\u001b[0m \u001b[0mstr\u001b[0m\u001b[0;34m.\u001b[0m\u001b[0;34m\u001b[0m\u001b[0;34m\u001b[0m\u001b[0m\n\u001b[1;32m    168\u001b[0m     \"\"\"\n\u001b[0;32m--> 169\u001b[0;31m     \u001b[0mself\u001b[0m\u001b[0;34m.\u001b[0m\u001b[0mcontent\u001b[0m \u001b[0;34m=\u001b[0m \u001b[0mopen\u001b[0m\u001b[0;34m(\u001b[0m\u001b[0mfilename\u001b[0m\u001b[0;34m,\u001b[0m \u001b[0;34m'rb'\u001b[0m\u001b[0;34m)\u001b[0m\u001b[0;34m\u001b[0m\u001b[0;34m\u001b[0m\u001b[0m\n\u001b[0m\u001b[1;32m    170\u001b[0m     \u001b[0;32mif\u001b[0m \u001b[0mself\u001b[0m\u001b[0;34m.\u001b[0m\u001b[0mget\u001b[0m\u001b[0;34m(\u001b[0m\u001b[0;34m'title'\u001b[0m\u001b[0;34m)\u001b[0m \u001b[0;32mis\u001b[0m \u001b[0;32mNone\u001b[0m\u001b[0;34m:\u001b[0m\u001b[0;34m\u001b[0m\u001b[0;34m\u001b[0m\u001b[0m\n\u001b[1;32m    171\u001b[0m       \u001b[0mself\u001b[0m\u001b[0;34m[\u001b[0m\u001b[0;34m'title'\u001b[0m\u001b[0;34m]\u001b[0m \u001b[0;34m=\u001b[0m \u001b[0mfilename\u001b[0m\u001b[0;34m\u001b[0m\u001b[0;34m\u001b[0m\u001b[0m\n",
      "\u001b[0;31mFileNotFoundError\u001b[0m: [Errno 2] No such file or directory: 'y_test_augment.pickle'"
     ]
    }
   ],
   "source": [
    "file5 = drive.CreateFile({'title': 'y_test_augment.pickle'})\n",
    "file5.SetContentFile('y_test_augment.pickle')\n",
    "file5.Upload()"
   ]
  },
  {
   "cell_type": "code",
   "execution_count": 20,
   "metadata": {
    "colab": {
     "base_uri": "https://localhost:8080/",
     "height": 1625
    },
    "colab_type": "code",
    "executionInfo": {
     "elapsed": 3002,
     "status": "error",
     "timestamp": 1551194922235,
     "user": {
      "displayName": "DIVYANK PANDEY",
      "photoUrl": "",
      "userId": "07089478650029820120"
     },
     "user_tz": -330
    },
    "id": "s6IQ7qfp1cNN",
    "outputId": "295e99a3-b727-4d77-ad1a-1d79a50b9ea4"
   },
   "outputs": [
    {
     "ename": "InvalidConfigError",
     "evalue": "ignored",
     "output_type": "error",
     "traceback": [
      "\u001b[0;31m---------------------------------------------------------------------------\u001b[0m",
      "\u001b[0;31mFileNotFoundError\u001b[0m                         Traceback (most recent call last)",
      "\u001b[0;32m/usr/local/lib/python3.6/dist-packages/oauth2client/clientsecrets.py\u001b[0m in \u001b[0;36m_loadfile\u001b[0;34m(filename)\u001b[0m\n\u001b[1;32m    120\u001b[0m     \u001b[0;32mtry\u001b[0m\u001b[0;34m:\u001b[0m\u001b[0;34m\u001b[0m\u001b[0;34m\u001b[0m\u001b[0m\n\u001b[0;32m--> 121\u001b[0;31m         \u001b[0;32mwith\u001b[0m \u001b[0mopen\u001b[0m\u001b[0;34m(\u001b[0m\u001b[0mfilename\u001b[0m\u001b[0;34m,\u001b[0m \u001b[0;34m'r'\u001b[0m\u001b[0;34m)\u001b[0m \u001b[0;32mas\u001b[0m \u001b[0mfp\u001b[0m\u001b[0;34m:\u001b[0m\u001b[0;34m\u001b[0m\u001b[0;34m\u001b[0m\u001b[0m\n\u001b[0m\u001b[1;32m    122\u001b[0m             \u001b[0mobj\u001b[0m \u001b[0;34m=\u001b[0m \u001b[0mjson\u001b[0m\u001b[0;34m.\u001b[0m\u001b[0mload\u001b[0m\u001b[0;34m(\u001b[0m\u001b[0mfp\u001b[0m\u001b[0;34m)\u001b[0m\u001b[0;34m\u001b[0m\u001b[0;34m\u001b[0m\u001b[0m\n",
      "\u001b[0;31mFileNotFoundError\u001b[0m: [Errno 2] No such file or directory: 'client_secrets.json'",
      "\nDuring handling of the above exception, another exception occurred:\n",
      "\u001b[0;31mInvalidClientSecretsError\u001b[0m                 Traceback (most recent call last)",
      "\u001b[0;32m/usr/local/lib/python3.6/dist-packages/pydrive/auth.py\u001b[0m in \u001b[0;36mLoadClientConfigFile\u001b[0;34m(self, client_config_file)\u001b[0m\n\u001b[1;32m    385\u001b[0m     \u001b[0;32mtry\u001b[0m\u001b[0;34m:\u001b[0m\u001b[0;34m\u001b[0m\u001b[0;34m\u001b[0m\u001b[0m\n\u001b[0;32m--> 386\u001b[0;31m       \u001b[0mclient_type\u001b[0m\u001b[0;34m,\u001b[0m \u001b[0mclient_info\u001b[0m \u001b[0;34m=\u001b[0m \u001b[0mclientsecrets\u001b[0m\u001b[0;34m.\u001b[0m\u001b[0mloadfile\u001b[0m\u001b[0;34m(\u001b[0m\u001b[0mclient_config_file\u001b[0m\u001b[0;34m)\u001b[0m\u001b[0;34m\u001b[0m\u001b[0;34m\u001b[0m\u001b[0m\n\u001b[0m\u001b[1;32m    387\u001b[0m     \u001b[0;32mexcept\u001b[0m \u001b[0mclientsecrets\u001b[0m\u001b[0;34m.\u001b[0m\u001b[0mInvalidClientSecretsError\u001b[0m \u001b[0;32mas\u001b[0m \u001b[0merror\u001b[0m\u001b[0;34m:\u001b[0m\u001b[0;34m\u001b[0m\u001b[0;34m\u001b[0m\u001b[0m\n",
      "\u001b[0;32m/usr/local/lib/python3.6/dist-packages/oauth2client/clientsecrets.py\u001b[0m in \u001b[0;36mloadfile\u001b[0;34m(filename, cache)\u001b[0m\n\u001b[1;32m    164\u001b[0m     \u001b[0;32mif\u001b[0m \u001b[0;32mnot\u001b[0m \u001b[0mcache\u001b[0m\u001b[0;34m:\u001b[0m\u001b[0;34m\u001b[0m\u001b[0;34m\u001b[0m\u001b[0m\n\u001b[0;32m--> 165\u001b[0;31m         \u001b[0;32mreturn\u001b[0m \u001b[0m_loadfile\u001b[0m\u001b[0;34m(\u001b[0m\u001b[0mfilename\u001b[0m\u001b[0;34m)\u001b[0m\u001b[0;34m\u001b[0m\u001b[0;34m\u001b[0m\u001b[0m\n\u001b[0m\u001b[1;32m    166\u001b[0m \u001b[0;34m\u001b[0m\u001b[0m\n",
      "\u001b[0;32m/usr/local/lib/python3.6/dist-packages/oauth2client/clientsecrets.py\u001b[0m in \u001b[0;36m_loadfile\u001b[0;34m(filename)\u001b[0m\n\u001b[1;32m    124\u001b[0m         raise InvalidClientSecretsError('Error opening file', exc.filename,\n\u001b[0;32m--> 125\u001b[0;31m                                         exc.strerror, exc.errno)\n\u001b[0m\u001b[1;32m    126\u001b[0m     \u001b[0;32mreturn\u001b[0m \u001b[0m_validate_clientsecrets\u001b[0m\u001b[0;34m(\u001b[0m\u001b[0mobj\u001b[0m\u001b[0;34m)\u001b[0m\u001b[0;34m\u001b[0m\u001b[0;34m\u001b[0m\u001b[0m\n",
      "\u001b[0;31mInvalidClientSecretsError\u001b[0m: ('Error opening file', 'client_secrets.json', 'No such file or directory', 2)",
      "\nDuring handling of the above exception, another exception occurred:\n",
      "\u001b[0;31mInvalidConfigError\u001b[0m                        Traceback (most recent call last)",
      "\u001b[0;32m<ipython-input-20-6642f0fbebe5>\u001b[0m in \u001b[0;36m<module>\u001b[0;34m()\u001b[0m\n\u001b[1;32m      1\u001b[0m \u001b[0mdownload\u001b[0m \u001b[0;34m=\u001b[0m \u001b[0mdrive\u001b[0m\u001b[0;34m.\u001b[0m\u001b[0mCreateFile\u001b[0m\u001b[0;34m(\u001b[0m\u001b[0;34m{\u001b[0m\u001b[0;34m'id'\u001b[0m\u001b[0;34m:\u001b[0m \u001b[0;34m'1B94DtiC5of0T-H5O9vFKxeEC8e3aLd6_'\u001b[0m\u001b[0;34m}\u001b[0m\u001b[0;34m)\u001b[0m\u001b[0;34m\u001b[0m\u001b[0;34m\u001b[0m\u001b[0m\n\u001b[0;32m----> 2\u001b[0;31m \u001b[0mdownload\u001b[0m\u001b[0;34m.\u001b[0m\u001b[0mGetContentFile\u001b[0m\u001b[0;34m(\u001b[0m\u001b[0;34m'x_test_augment.pickle'\u001b[0m\u001b[0;34m)\u001b[0m\u001b[0;34m\u001b[0m\u001b[0;34m\u001b[0m\u001b[0m\n\u001b[0m",
      "\u001b[0;32m/usr/local/lib/python3.6/dist-packages/pydrive/files.py\u001b[0m in \u001b[0;36mGetContentFile\u001b[0;34m(self, filename, mimetype, remove_bom)\u001b[0m\n\u001b[1;32m    208\u001b[0m                     \u001b[0mtype\u001b[0m\u001b[0;34m(\u001b[0m\u001b[0mself\u001b[0m\u001b[0;34m.\u001b[0m\u001b[0mcontent\u001b[0m\u001b[0;34m)\u001b[0m \u001b[0;32mis\u001b[0m \u001b[0;32mnot\u001b[0m \u001b[0mio\u001b[0m\u001b[0;34m.\u001b[0m\u001b[0mBytesIO\u001b[0m \u001b[0;32mor\u001b[0m\u001b[0;31m \u001b[0m\u001b[0;31m\\\u001b[0m\u001b[0;34m\u001b[0m\u001b[0;34m\u001b[0m\u001b[0m\n\u001b[1;32m    209\u001b[0m                     \u001b[0mself\u001b[0m\u001b[0;34m.\u001b[0m\u001b[0mhas_bom\u001b[0m \u001b[0;34m==\u001b[0m \u001b[0mremove_bom\u001b[0m\u001b[0;34m:\u001b[0m\u001b[0;34m\u001b[0m\u001b[0;34m\u001b[0m\u001b[0m\n\u001b[0;32m--> 210\u001b[0;31m       \u001b[0mself\u001b[0m\u001b[0;34m.\u001b[0m\u001b[0mFetchContent\u001b[0m\u001b[0;34m(\u001b[0m\u001b[0mmimetype\u001b[0m\u001b[0;34m,\u001b[0m \u001b[0mremove_bom\u001b[0m\u001b[0;34m)\u001b[0m\u001b[0;34m\u001b[0m\u001b[0;34m\u001b[0m\u001b[0m\n\u001b[0m\u001b[1;32m    211\u001b[0m     \u001b[0mf\u001b[0m \u001b[0;34m=\u001b[0m \u001b[0mopen\u001b[0m\u001b[0;34m(\u001b[0m\u001b[0mfilename\u001b[0m\u001b[0;34m,\u001b[0m \u001b[0;34m'wb'\u001b[0m\u001b[0;34m)\u001b[0m\u001b[0;34m\u001b[0m\u001b[0;34m\u001b[0m\u001b[0m\n\u001b[1;32m    212\u001b[0m     \u001b[0mf\u001b[0m\u001b[0;34m.\u001b[0m\u001b[0mwrite\u001b[0m\u001b[0;34m(\u001b[0m\u001b[0mself\u001b[0m\u001b[0;34m.\u001b[0m\u001b[0mcontent\u001b[0m\u001b[0;34m.\u001b[0m\u001b[0mgetvalue\u001b[0m\u001b[0;34m(\u001b[0m\u001b[0;34m)\u001b[0m\u001b[0;34m)\u001b[0m\u001b[0;34m\u001b[0m\u001b[0;34m\u001b[0m\u001b[0m\n",
      "\u001b[0;32m/usr/local/lib/python3.6/dist-packages/pydrive/files.py\u001b[0m in \u001b[0;36m_decorated\u001b[0;34m(self, *args, **kwargs)\u001b[0m\n\u001b[1;32m     40\u001b[0m   \u001b[0;32mdef\u001b[0m \u001b[0m_decorated\u001b[0m\u001b[0;34m(\u001b[0m\u001b[0mself\u001b[0m\u001b[0;34m,\u001b[0m \u001b[0;34m*\u001b[0m\u001b[0margs\u001b[0m\u001b[0;34m,\u001b[0m \u001b[0;34m**\u001b[0m\u001b[0mkwargs\u001b[0m\u001b[0;34m)\u001b[0m\u001b[0;34m:\u001b[0m\u001b[0;34m\u001b[0m\u001b[0;34m\u001b[0m\u001b[0m\n\u001b[1;32m     41\u001b[0m     \u001b[0;32mif\u001b[0m \u001b[0;32mnot\u001b[0m \u001b[0mself\u001b[0m\u001b[0;34m.\u001b[0m\u001b[0muploaded\u001b[0m\u001b[0;34m:\u001b[0m\u001b[0;34m\u001b[0m\u001b[0;34m\u001b[0m\u001b[0m\n\u001b[0;32m---> 42\u001b[0;31m       \u001b[0mself\u001b[0m\u001b[0;34m.\u001b[0m\u001b[0mFetchMetadata\u001b[0m\u001b[0;34m(\u001b[0m\u001b[0;34m)\u001b[0m\u001b[0;34m\u001b[0m\u001b[0;34m\u001b[0m\u001b[0m\n\u001b[0m\u001b[1;32m     43\u001b[0m     \u001b[0;32mreturn\u001b[0m \u001b[0mdecoratee\u001b[0m\u001b[0;34m(\u001b[0m\u001b[0mself\u001b[0m\u001b[0;34m,\u001b[0m \u001b[0;34m*\u001b[0m\u001b[0margs\u001b[0m\u001b[0;34m,\u001b[0m \u001b[0;34m**\u001b[0m\u001b[0mkwargs\u001b[0m\u001b[0;34m)\u001b[0m\u001b[0;34m\u001b[0m\u001b[0;34m\u001b[0m\u001b[0m\n\u001b[1;32m     44\u001b[0m   \u001b[0;32mreturn\u001b[0m \u001b[0m_decorated\u001b[0m\u001b[0;34m\u001b[0m\u001b[0;34m\u001b[0m\u001b[0m\n",
      "\u001b[0;32m/usr/local/lib/python3.6/dist-packages/pydrive/auth.py\u001b[0m in \u001b[0;36m_decorated\u001b[0;34m(self, *args, **kwargs)\u001b[0m\n\u001b[1;32m     55\u001b[0m         \u001b[0mself\u001b[0m\u001b[0;34m.\u001b[0m\u001b[0mauth\u001b[0m\u001b[0;34m.\u001b[0m\u001b[0mServiceAuth\u001b[0m\u001b[0;34m(\u001b[0m\u001b[0;34m)\u001b[0m\u001b[0;34m\u001b[0m\u001b[0;34m\u001b[0m\u001b[0m\n\u001b[1;32m     56\u001b[0m       \u001b[0;32melse\u001b[0m\u001b[0;34m:\u001b[0m\u001b[0;34m\u001b[0m\u001b[0;34m\u001b[0m\u001b[0m\n\u001b[0;32m---> 57\u001b[0;31m         \u001b[0mself\u001b[0m\u001b[0;34m.\u001b[0m\u001b[0mauth\u001b[0m\u001b[0;34m.\u001b[0m\u001b[0mLocalWebserverAuth\u001b[0m\u001b[0;34m(\u001b[0m\u001b[0;34m)\u001b[0m\u001b[0;34m\u001b[0m\u001b[0;34m\u001b[0m\u001b[0m\n\u001b[0m\u001b[1;32m     58\u001b[0m \u001b[0;34m\u001b[0m\u001b[0m\n\u001b[1;32m     59\u001b[0m     \u001b[0;31m# Initialise service if not built yet.\u001b[0m\u001b[0;34m\u001b[0m\u001b[0;34m\u001b[0m\u001b[0;34m\u001b[0m\u001b[0m\n",
      "\u001b[0;32m/usr/local/lib/python3.6/dist-packages/pydrive/auth.py\u001b[0m in \u001b[0;36m_decorated\u001b[0;34m(self, *args, **kwargs)\u001b[0m\n\u001b[1;32m    111\u001b[0m       \u001b[0mself\u001b[0m\u001b[0;34m.\u001b[0m\u001b[0mLoadCredentials\u001b[0m\u001b[0;34m(\u001b[0m\u001b[0;34m)\u001b[0m\u001b[0;34m\u001b[0m\u001b[0;34m\u001b[0m\u001b[0m\n\u001b[1;32m    112\u001b[0m     \u001b[0;32mif\u001b[0m \u001b[0mself\u001b[0m\u001b[0;34m.\u001b[0m\u001b[0mflow\u001b[0m \u001b[0;32mis\u001b[0m \u001b[0;32mNone\u001b[0m\u001b[0;34m:\u001b[0m\u001b[0;34m\u001b[0m\u001b[0;34m\u001b[0m\u001b[0m\n\u001b[0;32m--> 113\u001b[0;31m       \u001b[0mself\u001b[0m\u001b[0;34m.\u001b[0m\u001b[0mGetFlow\u001b[0m\u001b[0;34m(\u001b[0m\u001b[0;34m)\u001b[0m\u001b[0;34m\u001b[0m\u001b[0;34m\u001b[0m\u001b[0m\n\u001b[0m\u001b[1;32m    114\u001b[0m     \u001b[0;32mif\u001b[0m \u001b[0mself\u001b[0m\u001b[0;34m.\u001b[0m\u001b[0mcredentials\u001b[0m \u001b[0;32mis\u001b[0m \u001b[0;32mNone\u001b[0m\u001b[0;34m:\u001b[0m\u001b[0;34m\u001b[0m\u001b[0;34m\u001b[0m\u001b[0m\n\u001b[1;32m    115\u001b[0m       \u001b[0mcode\u001b[0m \u001b[0;34m=\u001b[0m \u001b[0mdecoratee\u001b[0m\u001b[0;34m(\u001b[0m\u001b[0mself\u001b[0m\u001b[0;34m,\u001b[0m \u001b[0;34m*\u001b[0m\u001b[0margs\u001b[0m\u001b[0;34m,\u001b[0m \u001b[0;34m**\u001b[0m\u001b[0mkwargs\u001b[0m\u001b[0;34m)\u001b[0m\u001b[0;34m\u001b[0m\u001b[0;34m\u001b[0m\u001b[0m\n",
      "\u001b[0;32m/usr/local/lib/python3.6/dist-packages/pydrive/auth.py\u001b[0m in \u001b[0;36mGetFlow\u001b[0;34m(self)\u001b[0m\n\u001b[1;32m    441\u001b[0m     if not all(config in self.client_config \\\n\u001b[1;32m    442\u001b[0m                for config in self.CLIENT_CONFIGS_LIST):\n\u001b[0;32m--> 443\u001b[0;31m       \u001b[0mself\u001b[0m\u001b[0;34m.\u001b[0m\u001b[0mLoadClientConfig\u001b[0m\u001b[0;34m(\u001b[0m\u001b[0;34m)\u001b[0m\u001b[0;34m\u001b[0m\u001b[0;34m\u001b[0m\u001b[0m\n\u001b[0m\u001b[1;32m    444\u001b[0m     constructor_kwargs = {\n\u001b[1;32m    445\u001b[0m         \u001b[0;34m'redirect_uri'\u001b[0m\u001b[0;34m:\u001b[0m \u001b[0mself\u001b[0m\u001b[0;34m.\u001b[0m\u001b[0mclient_config\u001b[0m\u001b[0;34m[\u001b[0m\u001b[0;34m'redirect_uri'\u001b[0m\u001b[0;34m]\u001b[0m\u001b[0;34m,\u001b[0m\u001b[0;34m\u001b[0m\u001b[0;34m\u001b[0m\u001b[0m\n",
      "\u001b[0;32m/usr/local/lib/python3.6/dist-packages/pydrive/auth.py\u001b[0m in \u001b[0;36mLoadClientConfig\u001b[0;34m(self, backend)\u001b[0m\n\u001b[1;32m    364\u001b[0m         \u001b[0;32mraise\u001b[0m \u001b[0mInvalidConfigError\u001b[0m\u001b[0;34m(\u001b[0m\u001b[0;34m'Please specify client config backend'\u001b[0m\u001b[0;34m)\u001b[0m\u001b[0;34m\u001b[0m\u001b[0;34m\u001b[0m\u001b[0m\n\u001b[1;32m    365\u001b[0m     \u001b[0;32mif\u001b[0m \u001b[0mbackend\u001b[0m \u001b[0;34m==\u001b[0m \u001b[0;34m'file'\u001b[0m\u001b[0;34m:\u001b[0m\u001b[0;34m\u001b[0m\u001b[0;34m\u001b[0m\u001b[0m\n\u001b[0;32m--> 366\u001b[0;31m       \u001b[0mself\u001b[0m\u001b[0;34m.\u001b[0m\u001b[0mLoadClientConfigFile\u001b[0m\u001b[0;34m(\u001b[0m\u001b[0;34m)\u001b[0m\u001b[0;34m\u001b[0m\u001b[0;34m\u001b[0m\u001b[0m\n\u001b[0m\u001b[1;32m    367\u001b[0m     \u001b[0;32melif\u001b[0m \u001b[0mbackend\u001b[0m \u001b[0;34m==\u001b[0m \u001b[0;34m'settings'\u001b[0m\u001b[0;34m:\u001b[0m\u001b[0;34m\u001b[0m\u001b[0;34m\u001b[0m\u001b[0m\n\u001b[1;32m    368\u001b[0m       \u001b[0mself\u001b[0m\u001b[0;34m.\u001b[0m\u001b[0mLoadClientConfigSettings\u001b[0m\u001b[0;34m(\u001b[0m\u001b[0;34m)\u001b[0m\u001b[0;34m\u001b[0m\u001b[0;34m\u001b[0m\u001b[0m\n",
      "\u001b[0;32m/usr/local/lib/python3.6/dist-packages/pydrive/auth.py\u001b[0m in \u001b[0;36mLoadClientConfigFile\u001b[0;34m(self, client_config_file)\u001b[0m\n\u001b[1;32m    386\u001b[0m       \u001b[0mclient_type\u001b[0m\u001b[0;34m,\u001b[0m \u001b[0mclient_info\u001b[0m \u001b[0;34m=\u001b[0m \u001b[0mclientsecrets\u001b[0m\u001b[0;34m.\u001b[0m\u001b[0mloadfile\u001b[0m\u001b[0;34m(\u001b[0m\u001b[0mclient_config_file\u001b[0m\u001b[0;34m)\u001b[0m\u001b[0;34m\u001b[0m\u001b[0;34m\u001b[0m\u001b[0m\n\u001b[1;32m    387\u001b[0m     \u001b[0;32mexcept\u001b[0m \u001b[0mclientsecrets\u001b[0m\u001b[0;34m.\u001b[0m\u001b[0mInvalidClientSecretsError\u001b[0m \u001b[0;32mas\u001b[0m \u001b[0merror\u001b[0m\u001b[0;34m:\u001b[0m\u001b[0;34m\u001b[0m\u001b[0;34m\u001b[0m\u001b[0m\n\u001b[0;32m--> 388\u001b[0;31m       \u001b[0;32mraise\u001b[0m \u001b[0mInvalidConfigError\u001b[0m\u001b[0;34m(\u001b[0m\u001b[0;34m'Invalid client secrets file %s'\u001b[0m \u001b[0;34m%\u001b[0m \u001b[0merror\u001b[0m\u001b[0;34m)\u001b[0m\u001b[0;34m\u001b[0m\u001b[0;34m\u001b[0m\u001b[0m\n\u001b[0m\u001b[1;32m    389\u001b[0m     if not client_type in (clientsecrets.TYPE_WEB,\n\u001b[1;32m    390\u001b[0m                            clientsecrets.TYPE_INSTALLED):\n",
      "\u001b[0;31mInvalidConfigError\u001b[0m: Invalid client secrets file ('Error opening file', 'client_secrets.json', 'No such file or directory', 2)"
     ]
    }
   ],
   "source": [
    "download = drive.CreateFile({'id': '1B94DtiC5of0T-H5O9vFKxeEC8e3aLd6_'})\n",
    "download.GetContentFile('x_test_augment.pickle')\n"
   ]
  },
  {
   "cell_type": "code",
   "execution_count": 0,
   "metadata": {
    "colab": {},
    "colab_type": "code",
    "id": "8NTsL3uE1cKG"
   },
   "outputs": [],
   "source": [
    "download = drive.CreateFile({'id': '1CeAX5A0n_DZKPIAx8UkYKELZv7l7knP6'})\n",
    "download.GetContentFile('x_train_augment_1.pickle')\n"
   ]
  },
  {
   "cell_type": "code",
   "execution_count": 0,
   "metadata": {
    "colab": {},
    "colab_type": "code",
    "id": "ZBrCDlLpbRVI"
   },
   "outputs": [],
   "source": []
  },
  {
   "cell_type": "code",
   "execution_count": 0,
   "metadata": {
    "colab": {},
    "colab_type": "code",
    "id": "FhO6ZD6a1cHm"
   },
   "outputs": [],
   "source": [
    "download = drive.CreateFile({'id': '1f42puyFLvPb6KOKQ_4oAVAB-1roeTtVS'})\n",
    "download.GetContentFile('x_train_augment_2.pickle')\n"
   ]
  },
  {
   "cell_type": "code",
   "execution_count": 0,
   "metadata": {
    "colab": {},
    "colab_type": "code",
    "id": "awcezPO11cEb"
   },
   "outputs": [],
   "source": [
    "download = drive.CreateFile({'id': '1FCmYv3mW-UZjhwtb_2_KU_TT5A7nIFQR'})\n",
    "download.GetContentFile('x_train_augment_3.pickle')\n"
   ]
  },
  {
   "cell_type": "code",
   "execution_count": 0,
   "metadata": {
    "colab": {},
    "colab_type": "code",
    "id": "Y7JBHWYv1cBe"
   },
   "outputs": [],
   "source": [
    "download = drive.CreateFile({'id': '1rBXW_AunXaWA-LR0KMRql1zcYVZzjkjU'})\n",
    "download.GetContentFile('x_train_augment_4.pickle')\n"
   ]
  },
  {
   "cell_type": "code",
   "execution_count": 0,
   "metadata": {
    "colab": {},
    "colab_type": "code",
    "id": "eoGHvGnE8gRO"
   },
   "outputs": [],
   "source": [
    "download = drive.CreateFile({'id': '1CxlBGwO1PvU5X29DyhB_WfEMPCbcHqUq'})\n",
    "download.GetContentFile('y_test_augment.pickle')"
   ]
  },
  {
   "cell_type": "code",
   "execution_count": 0,
   "metadata": {
    "colab": {},
    "colab_type": "code",
    "id": "UMNYYUKg8gA0"
   },
   "outputs": [],
   "source": [
    "download = drive.CreateFile({'id': '13MoAdZrwWS8haMlLaIe13Nc5xMPNSXXz'})\n",
    "download.GetContentFile('y_train_augment.pickle')"
   ]
  },
  {
   "cell_type": "code",
   "execution_count": 0,
   "metadata": {
    "colab": {},
    "colab_type": "code",
    "id": "VonJ5-_x7swz"
   },
   "outputs": [],
   "source": [
    "download = drive.CreateFile({'id': '1Ed81aWjZ_tH_CdjbC7j2RddalnuWYpmh'})\n",
    "download.GetContentFile('model_0038_83_1.h5')"
   ]
  },
  {
   "cell_type": "code",
   "execution_count": 0,
   "metadata": {
    "colab": {},
    "colab_type": "code",
    "id": "HgKueLHk0fz2"
   },
   "outputs": [],
   "source": [
    "x_train_augment_new = np.zeros((48000,100,100,2))\n",
    "for i in range(12000):\n",
    "  x_train_augment_new[i,:,:,1] = x_train_augment[i,:,:,0]\n",
    "  \n",
    "  img = x_train_augment[i,:,:,:].reshape(100,100) \n",
    "  edge = cv2.Canny(np.uint8(img*255), 150, 150)/255\n",
    "  \n",
    "  edge = edge.reshape(100,100)\n",
    "  \n",
    "  x_train_augment_new[i,:,:,0] = edge\n",
    "  \n",
    "  if np.remainder(i+1,500)==0:\n",
    "    print(\"{} Images Swooped\".format(i+1))\n",
    "  \n",
    "  "
   ]
  },
  {
   "cell_type": "code",
   "execution_count": 0,
   "metadata": {
    "colab": {},
    "colab_type": "code",
    "id": "iV2D0vQg284i"
   },
   "outputs": [],
   "source": [
    "for i in range(12000:24000):\n",
    "  x_train_augment_new[i,:,:,1] = x_train_augment[i,:,:,0]\n",
    "  \n",
    "  img = x_train_augment[i,:,:,:].reshape(100,100) \n",
    "  edge = cv2.Canny(np.uint8(img*255), 150, 150)/255\n",
    "  \n",
    "  edge = edge.reshape(100,100)\n",
    "  \n",
    "  x_train_augment_new[i,:,:,0] = edge\n",
    "  \n",
    "  if np.remainder(i+1,500)==0:\n",
    "    print(\"{} Images Swooped\".format(i+1))\n",
    "  \n"
   ]
  },
  {
   "cell_type": "code",
   "execution_count": 0,
   "metadata": {
    "colab": {},
    "colab_type": "code",
    "id": "ayAha7pa28xf"
   },
   "outputs": [],
   "source": [
    "for i in range(24000:36000):\n",
    "  x_train_augment_new[i,:,:,1] = x_train_augment[i,:,:,0]\n",
    "  \n",
    "  img = x_train_augment[i,:,:,:].reshape(100,100) \n",
    "  edge = cv2.Canny(np.uint8(img*255), 150, 150)/255\n",
    "  \n",
    "  edge = edge.reshape(100,100)\n",
    "  \n",
    "  x_train_augment_new[i,:,:,0] = edge\n",
    "  \n",
    "  if np.remainder(i+1,500)==0:\n",
    "    print(\"{} Images Swooped\".format(i+1))\n",
    "  \n"
   ]
  },
  {
   "cell_type": "code",
   "execution_count": 0,
   "metadata": {
    "colab": {},
    "colab_type": "code",
    "id": "gEsrE_S628rn"
   },
   "outputs": [],
   "source": [
    "for i in range(36000:48000):\n",
    "  x_train_augment_new[i,:,:,1] = x_train_augment[i,:,:,0]\n",
    "  \n",
    "  img = x_train_augment[i,:,:,:].reshape(100,100) \n",
    "  edge = cv2.Canny(np.uint8(img*255), 150, 150)/255\n",
    "  \n",
    "  edge = edge.reshape(100,100)\n",
    "  \n",
    "  x_train_augment_new[i,:,:,0] = edge\n",
    "  \n",
    "  if np.remainder(i+1,500)==0:\n",
    "    print(\"{} Images Swooped\".format(i+1))\n",
    "  \n"
   ]
  },
  {
   "cell_type": "code",
   "execution_count": 0,
   "metadata": {
    "colab": {
     "base_uri": "https://localhost:8080/",
     "height": 308
    },
    "colab_type": "code",
    "executionInfo": {
     "elapsed": 3130,
     "status": "ok",
     "timestamp": 1551135411249,
     "user": {
      "displayName": "DIVYANK PANDEY",
      "photoUrl": "",
      "userId": "07089478650029820120"
     },
     "user_tz": -330
    },
    "id": "CYlwPN5n1DwV",
    "outputId": "dedd7b19-be17-478d-beb6-5d1ab0422a0a"
   },
   "outputs": [
    {
     "name": "stdout",
     "output_type": "stream",
     "text": [
      "500 Images Swooped\n",
      "1000 Images Swooped\n",
      "1500 Images Swooped\n",
      "2000 Images Swooped\n",
      "2500 Images Swooped\n",
      "3000 Images Swooped\n",
      "3500 Images Swooped\n",
      "4000 Images Swooped\n",
      "4500 Images Swooped\n",
      "5000 Images Swooped\n",
      "5500 Images Swooped\n",
      "6000 Images Swooped\n",
      "6500 Images Swooped\n",
      "7000 Images Swooped\n",
      "7500 Images Swooped\n",
      "8000 Images Swooped\n"
     ]
    }
   ],
   "source": [
    "for i in range(8000):\n",
    "  x_test_augment_new[i,:,:,1] = x_test_augment[i,:,:,0]\n",
    "  \n",
    "  img = x_test_augment[i,:,:,:].reshape(100,100) \n",
    "  edge = cv2.Canny(np.uint8(img*255), 150, 150)/255\n",
    "  \n",
    "  edge = edge.reshape(100,100)\n",
    "  \n",
    "  x_test_augment_new[i,:,:,0] = edge\n",
    "  \n",
    "  if np.remainder(i+1,500)==0:\n",
    "    print(\"{} Images Swooped\".format(i+1))\n",
    "  \n"
   ]
  },
  {
   "cell_type": "code",
   "execution_count": 0,
   "metadata": {
    "colab": {},
    "colab_type": "code",
    "id": "AwWU3l2K3wcV"
   },
   "outputs": [],
   "source": [
    "x_test_augment_new = np.zeros((8000,100,100,2))"
   ]
  },
  {
   "cell_type": "code",
   "execution_count": 0,
   "metadata": {
    "colab": {},
    "colab_type": "code",
    "id": "I0nrcE9Z3-1A"
   },
   "outputs": [],
   "source": [
    "x_train_augment = np.zeros((48000,100,100,1))"
   ]
  },
  {
   "cell_type": "code",
   "execution_count": 0,
   "metadata": {
    "colab": {},
    "colab_type": "code",
    "id": "v8dYVHVQ6zPf"
   },
   "outputs": [],
   "source": [
    "x_train_augment[0:12000] = pickleIn(\"x_train_augment_1.pickle\")"
   ]
  },
  {
   "cell_type": "code",
   "execution_count": 0,
   "metadata": {
    "colab": {},
    "colab_type": "code",
    "id": "b6k6vjDO679I"
   },
   "outputs": [],
   "source": [
    "x_train_augment[12000:24000] = pickleIn(\"x_train_augment_2.pickle\")"
   ]
  },
  {
   "cell_type": "code",
   "execution_count": 0,
   "metadata": {
    "colab": {},
    "colab_type": "code",
    "id": "3xYdpL6p7Zdd"
   },
   "outputs": [],
   "source": [
    "x_train_augment[24000:36000] = pickleIn(\"x_train_augment_3.pickle\")"
   ]
  },
  {
   "cell_type": "code",
   "execution_count": 0,
   "metadata": {
    "colab": {},
    "colab_type": "code",
    "id": "YeJlqrCK7rSN"
   },
   "outputs": [],
   "source": [
    "x_train_augment[36000:48000] = pickleIn(\"x_train_augment_4.pickle\")"
   ]
  },
  {
   "cell_type": "code",
   "execution_count": 0,
   "metadata": {
    "colab": {},
    "colab_type": "code",
    "id": "Kwc-uR_G7ysa"
   },
   "outputs": [],
   "source": [
    "x_test_augment = np.zeros((8000,100,100,1))"
   ]
  },
  {
   "cell_type": "code",
   "execution_count": 0,
   "metadata": {
    "colab": {},
    "colab_type": "code",
    "id": "JVgTK2QP8IRx"
   },
   "outputs": [],
   "source": [
    "x_test_augment = pickleIn(\"x_test_augment.pickle\")"
   ]
  },
  {
   "cell_type": "code",
   "execution_count": 0,
   "metadata": {
    "colab": {},
    "colab_type": "code",
    "id": "YfsrqNiw8R2M"
   },
   "outputs": [],
   "source": [
    "y_train_augment = np.zeros((48000, 4))\n",
    "y_test_augment = np.zeros((8000, 4))"
   ]
  },
  {
   "cell_type": "code",
   "execution_count": 0,
   "metadata": {
    "colab": {},
    "colab_type": "code",
    "id": "gSfJ_AOs9W59"
   },
   "outputs": [],
   "source": [
    "y_train_augment = pickleIn(\"y_train_augment.pickle\")\n",
    "y_test_augment = pickleIn(\"y_test_augment.pickle\")"
   ]
  },
  {
   "cell_type": "code",
   "execution_count": 0,
   "metadata": {
    "colab": {
     "base_uri": "https://localhost:8080/",
     "height": 90
    },
    "colab_type": "code",
    "executionInfo": {
     "elapsed": 10379,
     "status": "ok",
     "timestamp": 1551169876114,
     "user": {
      "displayName": "DIVYANK PANDEY",
      "photoUrl": "",
      "userId": "07089478650029820120"
     },
     "user_tz": -330
    },
    "id": "HLpEOXxI-ngX",
    "outputId": "1d91417a-af87-4f73-ac25-237256d093d6"
   },
   "outputs": [
    {
     "name": "stdout",
     "output_type": "stream",
     "text": [
      "adc.json\t       x_train_augment_1.pickle  y_test_augment.pickle\n",
      "d2c_data.tar\t       x_train_augment_2.pickle  y_train_augment.pickle\n",
      "sample_data\t       x_train_augment_3.pickle\n",
      "x_test_augment.pickle  x_train_augment_4.pickle\n"
     ]
    }
   ],
   "source": [
    "!ls"
   ]
  },
  {
   "cell_type": "code",
   "execution_count": 0,
   "metadata": {
    "colab": {
     "base_uri": "https://localhost:8080/",
     "height": 219
    },
    "colab_type": "code",
    "executionInfo": {
     "elapsed": 12046,
     "status": "ok",
     "timestamp": 1551170040061,
     "user": {
      "displayName": "DIVYANK PANDEY",
      "photoUrl": "",
      "userId": "07089478650029820120"
     },
     "user_tz": -330
    },
    "id": "4ciOWYey9uXF",
    "outputId": "0be3f267-7d11-4924-d487-6ead1ec6f091"
   },
   "outputs": [
    {
     "name": "stderr",
     "output_type": "stream",
     "text": [
      "Using TensorFlow backend.\n"
     ]
    },
    {
     "name": "stdout",
     "output_type": "stream",
     "text": [
      "WARNING:tensorflow:From /usr/local/lib/python3.6/dist-packages/tensorflow/python/framework/op_def_library.py:263: colocate_with (from tensorflow.python.framework.ops) is deprecated and will be removed in a future version.\n",
      "Instructions for updating:\n",
      "Colocations handled automatically by placer.\n",
      "WARNING:tensorflow:From /usr/local/lib/python3.6/dist-packages/keras/backend/tensorflow_backend.py:3445: calling dropout (from tensorflow.python.ops.nn_ops) with keep_prob is deprecated and will be removed in a future version.\n",
      "Instructions for updating:\n",
      "Please use `rate` instead of `keep_prob`. Rate should be set to `rate = 1 - keep_prob`.\n",
      "WARNING:tensorflow:From /usr/local/lib/python3.6/dist-packages/tensorflow/python/ops/math_ops.py:3066: to_int32 (from tensorflow.python.ops.math_ops) is deprecated and will be removed in a future version.\n",
      "Instructions for updating:\n",
      "Use tf.cast instead.\n"
     ]
    }
   ],
   "source": [
    "from keras.models import load_model\n",
    "\n",
    "model_1 = load_model('model_0038_83_1.h5')"
   ]
  },
  {
   "cell_type": "code",
   "execution_count": 0,
   "metadata": {
    "colab": {
     "base_uri": "https://localhost:8080/",
     "height": 244
    },
    "colab_type": "code",
    "executionInfo": {
     "elapsed": 5271,
     "status": "error",
     "timestamp": 1551170116740,
     "user": {
      "displayName": "DIVYANK PANDEY",
      "photoUrl": "",
      "userId": "07089478650029820120"
     },
     "user_tz": -330
    },
    "id": "8o8adfBZ-roy",
    "outputId": "8c661b91-5f69-45fa-b7c0-66d97d5d7769"
   },
   "outputs": [
    {
     "ename": "NameError",
     "evalue": "ignored",
     "output_type": "error",
     "traceback": [
      "\u001b[0;31m---------------------------------------------------------------------------\u001b[0m",
      "\u001b[0;31mNameError\u001b[0m                                 Traceback (most recent call last)",
      "\u001b[0;32m<ipython-input-30-baa9ab02af52>\u001b[0m in \u001b[0;36m<module>\u001b[0;34m()\u001b[0m\n\u001b[0;32m----> 1\u001b[0;31m \u001b[0mmodel\u001b[0m \u001b[0;34m=\u001b[0m \u001b[0mSequential\u001b[0m\u001b[0;34m(\u001b[0m\u001b[0;34m)\u001b[0m\u001b[0;34m\u001b[0m\u001b[0;34m\u001b[0m\u001b[0m\n\u001b[0m\u001b[1;32m      2\u001b[0m \u001b[0mmodel\u001b[0m\u001b[0;34m.\u001b[0m\u001b[0madd\u001b[0m\u001b[0;34m(\u001b[0m\u001b[0mZeroPadding2D\u001b[0m\u001b[0;34m(\u001b[0m\u001b[0mpadding\u001b[0m \u001b[0;34m=\u001b[0m \u001b[0;34m(\u001b[0m\u001b[0;36m1\u001b[0m\u001b[0;34m,\u001b[0m\u001b[0;36m1\u001b[0m\u001b[0;34m)\u001b[0m\u001b[0;34m)\u001b[0m\u001b[0;34m)\u001b[0m\u001b[0;34m\u001b[0m\u001b[0;34m\u001b[0m\u001b[0m\n\u001b[1;32m      3\u001b[0m \u001b[0;32mfor\u001b[0m \u001b[0mlayer\u001b[0m \u001b[0;32min\u001b[0m \u001b[0mmodel_1\u001b[0m\u001b[0;34m.\u001b[0m\u001b[0mlayers\u001b[0m\u001b[0;34m[\u001b[0m\u001b[0;36m2\u001b[0m\u001b[0;34m:\u001b[0m\u001b[0;34m-\u001b[0m\u001b[0;36m3\u001b[0m\u001b[0;34m]\u001b[0m\u001b[0;34m:\u001b[0m\u001b[0;34m\u001b[0m\u001b[0;34m\u001b[0m\u001b[0m\n\u001b[1;32m      4\u001b[0m   \u001b[0mmodel\u001b[0m\u001b[0;34m.\u001b[0m\u001b[0madd\u001b[0m\u001b[0;34m(\u001b[0m\u001b[0mlayer\u001b[0m\u001b[0;34m)\u001b[0m\u001b[0;34m\u001b[0m\u001b[0;34m\u001b[0m\u001b[0m\n\u001b[1;32m      5\u001b[0m \u001b[0;34m\u001b[0m\u001b[0m\n",
      "\u001b[0;31mNameError\u001b[0m: name 'Sequential' is not defined"
     ]
    }
   ],
   "source": [
    "model = Sequential()\n",
    "model.add(ZeroPadding2D(padding = (1,1)))\n",
    "for layer in model_1.layers[2:-3]:\n",
    "  model.add(layer)\n",
    "  "
   ]
  },
  {
   "cell_type": "code",
   "execution_count": 7,
   "metadata": {
    "colab": {
     "base_uri": "https://localhost:8080/",
     "height": 183
    },
    "colab_type": "code",
    "executionInfo": {
     "elapsed": 8789,
     "status": "ok",
     "timestamp": 1551188979089,
     "user": {
      "displayName": "DIVYANK PANDEY",
      "photoUrl": "",
      "userId": "07089478650029820120"
     },
     "user_tz": -330
    },
    "id": "bGPDDFgqEIW6",
    "outputId": "361cb0f8-891b-487a-e7b8-f8a99ec8e2ff"
   },
   "outputs": [
    {
     "name": "stdout",
     "output_type": "stream",
     "text": [
      "WARNING:tensorflow:From /usr/local/lib/python3.6/dist-packages/tensorflow/python/framework/op_def_library.py:263: colocate_with (from tensorflow.python.framework.ops) is deprecated and will be removed in a future version.\n",
      "Instructions for updating:\n",
      "Colocations handled automatically by placer.\n",
      "WARNING:tensorflow:From /usr/local/lib/python3.6/dist-packages/keras/backend/tensorflow_backend.py:3445: calling dropout (from tensorflow.python.ops.nn_ops) with keep_prob is deprecated and will be removed in a future version.\n",
      "Instructions for updating:\n",
      "Please use `rate` instead of `keep_prob`. Rate should be set to `rate = 1 - keep_prob`.\n",
      "Downloading data from https://github.com/fchollet/deep-learning-models/releases/download/v0.6/mobilenet_1_0_224_tf.h5\n",
      "17227776/17225924 [==============================] - 0s 0us/step\n"
     ]
    }
   ],
   "source": [
    "model = keras.applications.mobilenet.MobileNet()"
   ]
  },
  {
   "cell_type": "code",
   "execution_count": 8,
   "metadata": {
    "colab": {
     "base_uri": "https://localhost:8080/",
     "height": 3526
    },
    "colab_type": "code",
    "executionInfo": {
     "elapsed": 3409,
     "status": "ok",
     "timestamp": 1551189002994,
     "user": {
      "displayName": "DIVYANK PANDEY",
      "photoUrl": "",
      "userId": "07089478650029820120"
     },
     "user_tz": -330
    },
    "id": "-P01N21z_Ekl",
    "outputId": "d12d7838-08c4-46fd-92c6-173219195539"
   },
   "outputs": [
    {
     "name": "stdout",
     "output_type": "stream",
     "text": [
      "_________________________________________________________________\n",
      "Layer (type)                 Output Shape              Param #   \n",
      "=================================================================\n",
      "input_1 (InputLayer)         (None, 224, 224, 3)       0         \n",
      "_________________________________________________________________\n",
      "conv1_pad (ZeroPadding2D)    (None, 225, 225, 3)       0         \n",
      "_________________________________________________________________\n",
      "conv1 (Conv2D)               (None, 112, 112, 32)      864       \n",
      "_________________________________________________________________\n",
      "conv1_bn (BatchNormalization (None, 112, 112, 32)      128       \n",
      "_________________________________________________________________\n",
      "conv1_relu (ReLU)            (None, 112, 112, 32)      0         \n",
      "_________________________________________________________________\n",
      "conv_dw_1 (DepthwiseConv2D)  (None, 112, 112, 32)      288       \n",
      "_________________________________________________________________\n",
      "conv_dw_1_bn (BatchNormaliza (None, 112, 112, 32)      128       \n",
      "_________________________________________________________________\n",
      "conv_dw_1_relu (ReLU)        (None, 112, 112, 32)      0         \n",
      "_________________________________________________________________\n",
      "conv_pw_1 (Conv2D)           (None, 112, 112, 64)      2048      \n",
      "_________________________________________________________________\n",
      "conv_pw_1_bn (BatchNormaliza (None, 112, 112, 64)      256       \n",
      "_________________________________________________________________\n",
      "conv_pw_1_relu (ReLU)        (None, 112, 112, 64)      0         \n",
      "_________________________________________________________________\n",
      "conv_pad_2 (ZeroPadding2D)   (None, 113, 113, 64)      0         \n",
      "_________________________________________________________________\n",
      "conv_dw_2 (DepthwiseConv2D)  (None, 56, 56, 64)        576       \n",
      "_________________________________________________________________\n",
      "conv_dw_2_bn (BatchNormaliza (None, 56, 56, 64)        256       \n",
      "_________________________________________________________________\n",
      "conv_dw_2_relu (ReLU)        (None, 56, 56, 64)        0         \n",
      "_________________________________________________________________\n",
      "conv_pw_2 (Conv2D)           (None, 56, 56, 128)       8192      \n",
      "_________________________________________________________________\n",
      "conv_pw_2_bn (BatchNormaliza (None, 56, 56, 128)       512       \n",
      "_________________________________________________________________\n",
      "conv_pw_2_relu (ReLU)        (None, 56, 56, 128)       0         \n",
      "_________________________________________________________________\n",
      "conv_dw_3 (DepthwiseConv2D)  (None, 56, 56, 128)       1152      \n",
      "_________________________________________________________________\n",
      "conv_dw_3_bn (BatchNormaliza (None, 56, 56, 128)       512       \n",
      "_________________________________________________________________\n",
      "conv_dw_3_relu (ReLU)        (None, 56, 56, 128)       0         \n",
      "_________________________________________________________________\n",
      "conv_pw_3 (Conv2D)           (None, 56, 56, 128)       16384     \n",
      "_________________________________________________________________\n",
      "conv_pw_3_bn (BatchNormaliza (None, 56, 56, 128)       512       \n",
      "_________________________________________________________________\n",
      "conv_pw_3_relu (ReLU)        (None, 56, 56, 128)       0         \n",
      "_________________________________________________________________\n",
      "conv_pad_4 (ZeroPadding2D)   (None, 57, 57, 128)       0         \n",
      "_________________________________________________________________\n",
      "conv_dw_4 (DepthwiseConv2D)  (None, 28, 28, 128)       1152      \n",
      "_________________________________________________________________\n",
      "conv_dw_4_bn (BatchNormaliza (None, 28, 28, 128)       512       \n",
      "_________________________________________________________________\n",
      "conv_dw_4_relu (ReLU)        (None, 28, 28, 128)       0         \n",
      "_________________________________________________________________\n",
      "conv_pw_4 (Conv2D)           (None, 28, 28, 256)       32768     \n",
      "_________________________________________________________________\n",
      "conv_pw_4_bn (BatchNormaliza (None, 28, 28, 256)       1024      \n",
      "_________________________________________________________________\n",
      "conv_pw_4_relu (ReLU)        (None, 28, 28, 256)       0         \n",
      "_________________________________________________________________\n",
      "conv_dw_5 (DepthwiseConv2D)  (None, 28, 28, 256)       2304      \n",
      "_________________________________________________________________\n",
      "conv_dw_5_bn (BatchNormaliza (None, 28, 28, 256)       1024      \n",
      "_________________________________________________________________\n",
      "conv_dw_5_relu (ReLU)        (None, 28, 28, 256)       0         \n",
      "_________________________________________________________________\n",
      "conv_pw_5 (Conv2D)           (None, 28, 28, 256)       65536     \n",
      "_________________________________________________________________\n",
      "conv_pw_5_bn (BatchNormaliza (None, 28, 28, 256)       1024      \n",
      "_________________________________________________________________\n",
      "conv_pw_5_relu (ReLU)        (None, 28, 28, 256)       0         \n",
      "_________________________________________________________________\n",
      "conv_pad_6 (ZeroPadding2D)   (None, 29, 29, 256)       0         \n",
      "_________________________________________________________________\n",
      "conv_dw_6 (DepthwiseConv2D)  (None, 14, 14, 256)       2304      \n",
      "_________________________________________________________________\n",
      "conv_dw_6_bn (BatchNormaliza (None, 14, 14, 256)       1024      \n",
      "_________________________________________________________________\n",
      "conv_dw_6_relu (ReLU)        (None, 14, 14, 256)       0         \n",
      "_________________________________________________________________\n",
      "conv_pw_6 (Conv2D)           (None, 14, 14, 512)       131072    \n",
      "_________________________________________________________________\n",
      "conv_pw_6_bn (BatchNormaliza (None, 14, 14, 512)       2048      \n",
      "_________________________________________________________________\n",
      "conv_pw_6_relu (ReLU)        (None, 14, 14, 512)       0         \n",
      "_________________________________________________________________\n",
      "conv_dw_7 (DepthwiseConv2D)  (None, 14, 14, 512)       4608      \n",
      "_________________________________________________________________\n",
      "conv_dw_7_bn (BatchNormaliza (None, 14, 14, 512)       2048      \n",
      "_________________________________________________________________\n",
      "conv_dw_7_relu (ReLU)        (None, 14, 14, 512)       0         \n",
      "_________________________________________________________________\n",
      "conv_pw_7 (Conv2D)           (None, 14, 14, 512)       262144    \n",
      "_________________________________________________________________\n",
      "conv_pw_7_bn (BatchNormaliza (None, 14, 14, 512)       2048      \n",
      "_________________________________________________________________\n",
      "conv_pw_7_relu (ReLU)        (None, 14, 14, 512)       0         \n",
      "_________________________________________________________________\n",
      "conv_dw_8 (DepthwiseConv2D)  (None, 14, 14, 512)       4608      \n",
      "_________________________________________________________________\n",
      "conv_dw_8_bn (BatchNormaliza (None, 14, 14, 512)       2048      \n",
      "_________________________________________________________________\n",
      "conv_dw_8_relu (ReLU)        (None, 14, 14, 512)       0         \n",
      "_________________________________________________________________\n",
      "conv_pw_8 (Conv2D)           (None, 14, 14, 512)       262144    \n",
      "_________________________________________________________________\n",
      "conv_pw_8_bn (BatchNormaliza (None, 14, 14, 512)       2048      \n",
      "_________________________________________________________________\n",
      "conv_pw_8_relu (ReLU)        (None, 14, 14, 512)       0         \n",
      "_________________________________________________________________\n",
      "conv_dw_9 (DepthwiseConv2D)  (None, 14, 14, 512)       4608      \n",
      "_________________________________________________________________\n",
      "conv_dw_9_bn (BatchNormaliza (None, 14, 14, 512)       2048      \n",
      "_________________________________________________________________\n",
      "conv_dw_9_relu (ReLU)        (None, 14, 14, 512)       0         \n",
      "_________________________________________________________________\n",
      "conv_pw_9 (Conv2D)           (None, 14, 14, 512)       262144    \n",
      "_________________________________________________________________\n",
      "conv_pw_9_bn (BatchNormaliza (None, 14, 14, 512)       2048      \n",
      "_________________________________________________________________\n",
      "conv_pw_9_relu (ReLU)        (None, 14, 14, 512)       0         \n",
      "_________________________________________________________________\n",
      "conv_dw_10 (DepthwiseConv2D) (None, 14, 14, 512)       4608      \n",
      "_________________________________________________________________\n",
      "conv_dw_10_bn (BatchNormaliz (None, 14, 14, 512)       2048      \n",
      "_________________________________________________________________\n",
      "conv_dw_10_relu (ReLU)       (None, 14, 14, 512)       0         \n",
      "_________________________________________________________________\n",
      "conv_pw_10 (Conv2D)          (None, 14, 14, 512)       262144    \n",
      "_________________________________________________________________\n",
      "conv_pw_10_bn (BatchNormaliz (None, 14, 14, 512)       2048      \n",
      "_________________________________________________________________\n",
      "conv_pw_10_relu (ReLU)       (None, 14, 14, 512)       0         \n",
      "_________________________________________________________________\n",
      "conv_dw_11 (DepthwiseConv2D) (None, 14, 14, 512)       4608      \n",
      "_________________________________________________________________\n",
      "conv_dw_11_bn (BatchNormaliz (None, 14, 14, 512)       2048      \n",
      "_________________________________________________________________\n",
      "conv_dw_11_relu (ReLU)       (None, 14, 14, 512)       0         \n",
      "_________________________________________________________________\n",
      "conv_pw_11 (Conv2D)          (None, 14, 14, 512)       262144    \n",
      "_________________________________________________________________\n",
      "conv_pw_11_bn (BatchNormaliz (None, 14, 14, 512)       2048      \n",
      "_________________________________________________________________\n",
      "conv_pw_11_relu (ReLU)       (None, 14, 14, 512)       0         \n",
      "_________________________________________________________________\n",
      "conv_pad_12 (ZeroPadding2D)  (None, 15, 15, 512)       0         \n",
      "_________________________________________________________________\n",
      "conv_dw_12 (DepthwiseConv2D) (None, 7, 7, 512)         4608      \n",
      "_________________________________________________________________\n",
      "conv_dw_12_bn (BatchNormaliz (None, 7, 7, 512)         2048      \n",
      "_________________________________________________________________\n",
      "conv_dw_12_relu (ReLU)       (None, 7, 7, 512)         0         \n",
      "_________________________________________________________________\n",
      "conv_pw_12 (Conv2D)          (None, 7, 7, 1024)        524288    \n",
      "_________________________________________________________________\n",
      "conv_pw_12_bn (BatchNormaliz (None, 7, 7, 1024)        4096      \n",
      "_________________________________________________________________\n",
      "conv_pw_12_relu (ReLU)       (None, 7, 7, 1024)        0         \n",
      "_________________________________________________________________\n",
      "conv_dw_13 (DepthwiseConv2D) (None, 7, 7, 1024)        9216      \n",
      "_________________________________________________________________\n",
      "conv_dw_13_bn (BatchNormaliz (None, 7, 7, 1024)        4096      \n",
      "_________________________________________________________________\n",
      "conv_dw_13_relu (ReLU)       (None, 7, 7, 1024)        0         \n",
      "_________________________________________________________________\n",
      "conv_pw_13 (Conv2D)          (None, 7, 7, 1024)        1048576   \n",
      "_________________________________________________________________\n",
      "conv_pw_13_bn (BatchNormaliz (None, 7, 7, 1024)        4096      \n",
      "_________________________________________________________________\n",
      "conv_pw_13_relu (ReLU)       (None, 7, 7, 1024)        0         \n",
      "_________________________________________________________________\n",
      "global_average_pooling2d_1 ( (None, 1024)              0         \n",
      "_________________________________________________________________\n",
      "reshape_1 (Reshape)          (None, 1, 1, 1024)        0         \n",
      "_________________________________________________________________\n",
      "dropout (Dropout)            (None, 1, 1, 1024)        0         \n",
      "_________________________________________________________________\n",
      "conv_preds (Conv2D)          (None, 1, 1, 1000)        1025000   \n",
      "_________________________________________________________________\n",
      "act_softmax (Activation)     (None, 1, 1, 1000)        0         \n",
      "_________________________________________________________________\n",
      "reshape_2 (Reshape)          (None, 1000)              0         \n",
      "=================================================================\n",
      "Total params: 4,253,864\n",
      "Trainable params: 4,231,976\n",
      "Non-trainable params: 21,888\n",
      "_________________________________________________________________\n"
     ]
    }
   ],
   "source": [
    "model.summary()"
   ]
  },
  {
   "cell_type": "code",
   "execution_count": 0,
   "metadata": {
    "colab": {},
    "colab_type": "code",
    "id": "SvVL8NQ_Ebzr"
   },
   "outputs": [],
   "source": []
  }
 ],
 "metadata": {
  "accelerator": "GPU",
  "colab": {
   "collapsed_sections": [
    "__tqry6bcXOe",
    "4-7CJ7hCVwwo"
   ],
   "name": "Copy of Object Localization Training.ipynb",
   "provenance": [
    {
     "file_id": "0B6vErPMqmd_4OU1mUVhSVXRjX29MRjRnTlF3bUhvZFpLR3Bj",
     "timestamp": 1551109971044
    }
   ],
   "version": "0.3.2"
  },
  "kernelspec": {
   "display_name": "Python 3",
   "language": "python",
   "name": "python3"
  },
  "language_info": {
   "codemirror_mode": {
    "name": "ipython",
    "version": 3
   },
   "file_extension": ".py",
   "mimetype": "text/x-python",
   "name": "python",
   "nbconvert_exporter": "python",
   "pygments_lexer": "ipython3",
   "version": "3.6.4"
  }
 },
 "nbformat": 4,
 "nbformat_minor": 1
}
