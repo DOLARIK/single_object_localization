{
 "cells": [
  {
   "cell_type": "code",
   "execution_count": 23,
   "metadata": {
    "colab": {
     "base_uri": "https://localhost:8080/",
     "height": 187
    },
    "colab_type": "code",
    "executionInfo": {
     "elapsed": 13772,
     "status": "ok",
     "timestamp": 1549909673631,
     "user": {
      "displayName": "DIVYANK PANDEY",
      "photoUrl": "",
      "userId": "07089478650029820120"
     },
     "user_tz": -330
    },
    "id": "w_NEubcjJ_zU",
    "outputId": "d4e6093d-3767-419c-ea9b-fb638331561a"
   },
   "outputs": [
    {
     "name": "stdout",
     "output_type": "stream",
     "text": [
      "Requirement already satisfied: PyDrive in /usr/local/lib/python3.6/dist-packages (1.3.1)\n",
      "Requirement already satisfied: google-api-python-client>=1.2 in /usr/local/lib/python3.6/dist-packages (from PyDrive) (1.6.7)\n",
      "Requirement already satisfied: oauth2client>=4.0.0 in /usr/local/lib/python3.6/dist-packages (from PyDrive) (4.1.3)\n",
      "Requirement already satisfied: PyYAML>=3.0 in /usr/local/lib/python3.6/dist-packages (from PyDrive) (3.13)\n",
      "Requirement already satisfied: httplib2<1dev,>=0.9.2 in /usr/local/lib/python3.6/dist-packages (from google-api-python-client>=1.2->PyDrive) (0.11.3)\n",
      "Requirement already satisfied: uritemplate<4dev,>=3.0.0 in /usr/local/lib/python3.6/dist-packages (from google-api-python-client>=1.2->PyDrive) (3.0.0)\n",
      "Requirement already satisfied: six<2dev,>=1.6.1 in /usr/local/lib/python3.6/dist-packages (from google-api-python-client>=1.2->PyDrive) (1.11.0)\n",
      "Requirement already satisfied: pyasn1>=0.1.7 in /usr/local/lib/python3.6/dist-packages (from oauth2client>=4.0.0->PyDrive) (0.4.5)\n",
      "Requirement already satisfied: pyasn1-modules>=0.0.5 in /usr/local/lib/python3.6/dist-packages (from oauth2client>=4.0.0->PyDrive) (0.2.4)\n",
      "Requirement already satisfied: rsa>=3.1.4 in /usr/local/lib/python3.6/dist-packages (from oauth2client>=4.0.0->PyDrive) (4.0)\n"
     ]
    }
   ],
   "source": [
    "!pip install PyDrive\n"
   ]
  },
  {
   "cell_type": "code",
   "execution_count": 0,
   "metadata": {
    "colab": {},
    "colab_type": "code",
    "id": "tzKG6mUOJeff"
   },
   "outputs": [],
   "source": [
    "\n",
    "import os\n",
    "from pydrive.auth import GoogleAuth\n",
    "from pydrive.drive import GoogleDrive\n",
    "from google.colab import auth\n",
    "from oauth2client.client import GoogleCredentials"
   ]
  },
  {
   "cell_type": "code",
   "execution_count": 0,
   "metadata": {
    "colab": {},
    "colab_type": "code",
    "id": "yg0MgFMCJeT_"
   },
   "outputs": [],
   "source": [
    "auth.authenticate_user()\n",
    "gauth = GoogleAuth()\n",
    "gauth.credentials = GoogleCredentials.get_application_default()\n",
    "drive = GoogleDrive(gauth)"
   ]
  },
  {
   "cell_type": "code",
   "execution_count": 0,
   "metadata": {
    "colab": {},
    "colab_type": "code",
    "id": "AeLapNN1JdyR"
   },
   "outputs": [],
   "source": [
    "\n",
    "download = drive.CreateFile({'id': '1RVoKzP6IeulTmuLRg6cgsoVEr3RcJAe-'})\n",
    "download.GetContentFile('d2c_data.tar')"
   ]
  },
  {
   "cell_type": "code",
   "execution_count": 0,
   "metadata": {
    "colab": {},
    "colab_type": "code",
    "id": "jQtjAFTMUF-P"
   },
   "outputs": [],
   "source": []
  },
  {
   "cell_type": "code",
   "execution_count": 27,
   "metadata": {
    "colab": {
     "base_uri": "https://localhost:8080/",
     "height": 51
    },
    "colab_type": "code",
    "executionInfo": {
     "elapsed": 9999,
     "status": "ok",
     "timestamp": 1549909730854,
     "user": {
      "displayName": "DIVYANK PANDEY",
      "photoUrl": "",
      "userId": "07089478650029820120"
     },
     "user_tz": -330
    },
    "id": "ptRCMW6JK4Ws",
    "outputId": "024fe3c2-8663-4bb1-e6ce-c95fe5555cfb"
   },
   "outputs": [
    {
     "name": "stdout",
     "output_type": "stream",
     "text": [
      "adc.json      my_mode4.h5  x_test.pickle   y_test.pickle\n",
      "d2c_data.tar  sample_data  x_train.pickle  y_train.pickle\n"
     ]
    }
   ],
   "source": [
    "!ls"
   ]
  },
  {
   "cell_type": "markdown",
   "metadata": {
    "colab_type": "text",
    "id": "a5eIlTw97mKk"
   },
   "source": []
  },
  {
   "cell_type": "markdown",
   "metadata": {
    "colab_type": "text",
    "id": "6BRnxQ7XxfN3"
   },
   "source": [
    "# Loading Images and Normalization"
   ]
  },
  {
   "cell_type": "markdown",
   "metadata": {
    "colab_type": "text",
    "id": "zzub7mThxfN5"
   },
   "source": [
    "### Importing Necessary Libraries"
   ]
  },
  {
   "cell_type": "code",
   "execution_count": 0,
   "metadata": {
    "colab": {},
    "colab_type": "code",
    "id": "Bg8WaglKxfN7"
   },
   "outputs": [],
   "source": [
    "import numpy as np\n",
    "import cv2\n",
    "import os\n",
    "import matplotlib.pyplot as plt\n",
    "import pickle\n",
    "import xlrd"
   ]
  },
  {
   "cell_type": "markdown",
   "metadata": {
    "colab_type": "text",
    "id": "WUpDGI2_xfN_"
   },
   "source": [
    "## Reading 'training.csv'"
   ]
  },
  {
   "cell_type": "markdown",
   "metadata": {
    "colab_type": "text",
    "id": "UDz_4KGQxfOB"
   },
   "source": [
    "#### Make a set of Image Names and their corresponding Bounding Box Coordinates"
   ]
  },
  {
   "cell_type": "code",
   "execution_count": 0,
   "metadata": {
    "colab": {
     "base_uri": "https://localhost:8080/",
     "height": 370
    },
    "colab_type": "code",
    "executionInfo": {
     "elapsed": 1442,
     "status": "error",
     "timestamp": 1549700572292,
     "user": {
      "displayName": "DIVYANK PANDEY",
      "photoUrl": "",
      "userId": "07089478650029820120"
     },
     "user_tz": -330
    },
    "id": "TiVF4ymHxfOC",
    "outputId": "87d3a360-4505-4355-a3a6-5c099caeb5dc"
   },
   "outputs": [
    {
     "ename": "FileNotFoundError",
     "evalue": "ignored",
     "output_type": "error",
     "traceback": [
      "\u001b[0;31m---------------------------------------------------------------------------\u001b[0m",
      "\u001b[0;31mFileNotFoundError\u001b[0m                         Traceback (most recent call last)",
      "\u001b[0;32m<ipython-input-7-717fe5f66ebf>\u001b[0m in \u001b[0;36m<module>\u001b[0;34m()\u001b[0m\n\u001b[1;32m      7\u001b[0m \u001b[0mdata_loc\u001b[0m \u001b[0;34m=\u001b[0m \u001b[0;34m[\u001b[0m\u001b[0mparent\u001b[0m\u001b[0;34m,\u001b[0m\u001b[0;34m'/training.xlsx'\u001b[0m\u001b[0;34m]\u001b[0m\u001b[0;34m\u001b[0m\u001b[0;34m\u001b[0m\u001b[0m\n\u001b[1;32m      8\u001b[0m \u001b[0mdata_loc\u001b[0m \u001b[0;34m=\u001b[0m \u001b[0;34m''\u001b[0m\u001b[0;34m.\u001b[0m\u001b[0mjoin\u001b[0m\u001b[0;34m(\u001b[0m\u001b[0mdata_loc\u001b[0m\u001b[0;34m)\u001b[0m\u001b[0;34m\u001b[0m\u001b[0;34m\u001b[0m\u001b[0m\n\u001b[0;32m----> 9\u001b[0;31m \u001b[0mdata\u001b[0m \u001b[0;34m=\u001b[0m \u001b[0mxlrd\u001b[0m\u001b[0;34m.\u001b[0m\u001b[0mopen_workbook\u001b[0m\u001b[0;34m(\u001b[0m\u001b[0mdata_loc\u001b[0m\u001b[0;34m)\u001b[0m\u001b[0;34m\u001b[0m\u001b[0;34m\u001b[0m\u001b[0m\n\u001b[0m\u001b[1;32m     10\u001b[0m \u001b[0msheet\u001b[0m \u001b[0;34m=\u001b[0m \u001b[0mdata\u001b[0m\u001b[0;34m.\u001b[0m\u001b[0msheet_by_index\u001b[0m\u001b[0;34m(\u001b[0m\u001b[0;36m0\u001b[0m\u001b[0;34m)\u001b[0m \u001b[0;31m# This will allow us to extract out the image names from 'training.csv'\u001b[0m\u001b[0;34m\u001b[0m\u001b[0;34m\u001b[0m\u001b[0m\n\u001b[1;32m     11\u001b[0m \u001b[0;34m\u001b[0m\u001b[0m\n",
      "\u001b[0;32m/usr/local/lib/python3.6/dist-packages/xlrd/__init__.py\u001b[0m in \u001b[0;36mopen_workbook\u001b[0;34m(filename, logfile, verbosity, use_mmap, file_contents, encoding_override, formatting_info, on_demand, ragged_rows)\u001b[0m\n\u001b[1;32m    114\u001b[0m         \u001b[0mpeek\u001b[0m \u001b[0;34m=\u001b[0m \u001b[0mfile_contents\u001b[0m\u001b[0;34m[\u001b[0m\u001b[0;34m:\u001b[0m\u001b[0mpeeksz\u001b[0m\u001b[0;34m]\u001b[0m\u001b[0;34m\u001b[0m\u001b[0;34m\u001b[0m\u001b[0m\n\u001b[1;32m    115\u001b[0m     \u001b[0;32melse\u001b[0m\u001b[0;34m:\u001b[0m\u001b[0;34m\u001b[0m\u001b[0;34m\u001b[0m\u001b[0m\n\u001b[0;32m--> 116\u001b[0;31m         \u001b[0;32mwith\u001b[0m \u001b[0mopen\u001b[0m\u001b[0;34m(\u001b[0m\u001b[0mfilename\u001b[0m\u001b[0;34m,\u001b[0m \u001b[0;34m\"rb\"\u001b[0m\u001b[0;34m)\u001b[0m \u001b[0;32mas\u001b[0m \u001b[0mf\u001b[0m\u001b[0;34m:\u001b[0m\u001b[0;34m\u001b[0m\u001b[0;34m\u001b[0m\u001b[0m\n\u001b[0m\u001b[1;32m    117\u001b[0m             \u001b[0mpeek\u001b[0m \u001b[0;34m=\u001b[0m \u001b[0mf\u001b[0m\u001b[0;34m.\u001b[0m\u001b[0mread\u001b[0m\u001b[0;34m(\u001b[0m\u001b[0mpeeksz\u001b[0m\u001b[0;34m)\u001b[0m\u001b[0;34m\u001b[0m\u001b[0;34m\u001b[0m\u001b[0m\n\u001b[1;32m    118\u001b[0m     \u001b[0;32mif\u001b[0m \u001b[0mpeek\u001b[0m \u001b[0;34m==\u001b[0m \u001b[0;34mb\"PK\\x03\\x04\"\u001b[0m\u001b[0;34m:\u001b[0m \u001b[0;31m# a ZIP file\u001b[0m\u001b[0;34m\u001b[0m\u001b[0;34m\u001b[0m\u001b[0m\n",
      "\u001b[0;31mFileNotFoundError\u001b[0m: [Errno 2] No such file or directory: '//training.xlsx'"
     ]
    }
   ],
   "source": [
    "# To get their (images) locations\n",
    "folder = os.getcwd()\n",
    "parent = os.path.abspath(os.path.join(folder, os.pardir))\n",
    "im_loc = [parent, '/images']\n",
    "im_loc = ''.join(im_loc)\n",
    "\n",
    "# To get the location of 'training.csv'\n",
    "data_loc = [parent,'/training.xlsx']\n",
    "data_loc = ''.join(data_loc)\n",
    "data = xlrd.open_workbook(data_loc)\n",
    "sheet = data.sheet_by_index(0) # This will allow us to extract out the image names from 'training.csv'\n",
    "\n",
    "train = []\n",
    "image_stack = []\n",
    "box_stack = []\n",
    "\n",
    "for i in range(sheet.nrows-1):\n",
    "\n",
    "    image = sheet.cell_value(i+1,0)\n",
    "    img_loc = ''.join([im_loc,'/',image])\n",
    "\n",
    "    exists = os.path.isfile(img_loc)\n",
    "\n",
    "    # Since we'll later resize the images from 640x480 to 100x100, we have to modify the coordinates accordingly\n",
    "    sx = 100 \n",
    "    sy = 100\n",
    "\n",
    "    x1 = int(np.ceil(((sx/640))*int(sheet.cell_value(i+1,1))))\n",
    "    x2 = int(np.ceil(((sx/640))*int(sheet.cell_value(i+1,2))))\n",
    "    y1 = int(np.ceil(((sy/480))*int(sheet.cell_value(i+1,3))))\n",
    "    y2 = int(np.ceil(((sy/480))*int(sheet.cell_value(i+1,4))))\n",
    "    \n",
    "    #Converting the box corner coordinates into center coordinates and box width & height\n",
    "    w = x2-x1\n",
    "    h = y2-y1\n",
    "    x = (x1+x2)/2\n",
    "    y = (y1+y2)/2\n",
    "    \n",
    "    target = [x,y,w,h]\n",
    "    \n",
    "    if exists: # Checking if any such image actually xists in the 'images' folder so to save ourselves from future distress\n",
    "        image_name_stack.append(image)\n",
    "        box_stack.append(target)\n",
    "        train.append(image, target)\n",
    "\n",
    "        # Just for Progress Check\n",
    "        if np.remainder(i,1000)==0:\n",
    "            print(\"{} Images swooped\".format(i))"
   ]
  },
  {
   "cell_type": "code",
   "execution_count": 0,
   "metadata": {
    "colab": {},
    "colab_type": "code",
    "id": "e3hJhjCPxfOG"
   },
   "outputs": [],
   "source": [
    "# Simplifying the 'pickling' process as we'll need this quite often\n",
    "def pickleIn(name):    \n",
    "    # 'name' - name of the file we wish to load (should be a string, eg. 'train_batch.pickle')\n",
    "    pickle_in = open(name,'rb')\n",
    "    return pickle.load(pickle_in)\n",
    "\n",
    "def pickleOut(name, to_be_stored):\n",
    "    # 'name' - name of the file we wish to store (should be a string, eg. 'train_batch.pickle')\n",
    "    # 'to_be_stored' - the variable of which we'll be making the \"pickle\" \n",
    "    pickle_out = open(name,'wb')\n",
    "    pickle.dump(to_be_stored, pickle_out)\n",
    "    pickle_out.close"
   ]
  },
  {
   "cell_type": "code",
   "execution_count": 0,
   "metadata": {
    "colab": {
     "base_uri": "https://localhost:8080/",
     "height": 163
    },
    "colab_type": "code",
    "executionInfo": {
     "elapsed": 939,
     "status": "error",
     "timestamp": 1549700584614,
     "user": {
      "displayName": "DIVYANK PANDEY",
      "photoUrl": "",
      "userId": "07089478650029820120"
     },
     "user_tz": -330
    },
    "id": "wkQkwvqRxfOK",
    "outputId": "18f2f89b-b77c-45b4-8a21-062d2bf61ae0"
   },
   "outputs": [
    {
     "ename": "NameError",
     "evalue": "ignored",
     "output_type": "error",
     "traceback": [
      "\u001b[0;31m---------------------------------------------------------------------------\u001b[0m",
      "\u001b[0;31mNameError\u001b[0m                                 Traceback (most recent call last)",
      "\u001b[0;32m<ipython-input-9-9adf271cc7f2>\u001b[0m in \u001b[0;36m<module>\u001b[0;34m()\u001b[0m\n\u001b[0;32m----> 1\u001b[0;31m \u001b[0mpickleOut\u001b[0m\u001b[0;34m(\u001b[0m\u001b[0;34m'train.pickle'\u001b[0m\u001b[0;34m,\u001b[0m \u001b[0mtrain\u001b[0m\u001b[0;34m)\u001b[0m \u001b[0;31m# Makes a pickle out of the variable 'train' and stores into local storage\u001b[0m\u001b[0;34m\u001b[0m\u001b[0;34m\u001b[0m\u001b[0m\n\u001b[0m",
      "\u001b[0;31mNameError\u001b[0m: name 'train' is not defined"
     ]
    }
   ],
   "source": [
    "pickleOut('train.pickle', train) # Makes a pickle out of the variable 'train' and stores into local storage"
   ]
  },
  {
   "cell_type": "markdown",
   "metadata": {
    "colab_type": "text",
    "id": "x0sBFu0BxfOO"
   },
   "source": [
    "## Loading Images and Noramlization"
   ]
  },
  {
   "cell_type": "code",
   "execution_count": 0,
   "metadata": {
    "colab": {
     "base_uri": "https://localhost:8080/",
     "height": 231
    },
    "colab_type": "code",
    "executionInfo": {
     "elapsed": 1451,
     "status": "error",
     "timestamp": 1549660159510,
     "user": {
      "displayName": "DIVYANK PANDEY",
      "photoUrl": "",
      "userId": "07089478650029820120"
     },
     "user_tz": -330
    },
    "id": "_WFGdN90xfOP",
    "outputId": "6323ad09-8ab2-4316-9224-0fb85105de9c"
   },
   "outputs": [
    {
     "ename": "NameError",
     "evalue": "ignored",
     "output_type": "error",
     "traceback": [
      "\u001b[0;31m---------------------------------------------------------------------------\u001b[0m",
      "\u001b[0;31mNameError\u001b[0m                                 Traceback (most recent call last)",
      "\u001b[0;32m<ipython-input-27-16f3da32c8d9>\u001b[0m in \u001b[0;36m<module>\u001b[0;34m()\u001b[0m\n\u001b[1;32m      6\u001b[0m \u001b[0mi\u001b[0m \u001b[0;34m=\u001b[0m \u001b[0;36m0\u001b[0m\u001b[0;34m\u001b[0m\u001b[0;34m\u001b[0m\u001b[0m\n\u001b[1;32m      7\u001b[0m \u001b[0;34m\u001b[0m\u001b[0m\n\u001b[0;32m----> 8\u001b[0;31m \u001b[0;32mfor\u001b[0m \u001b[0mimage\u001b[0m\u001b[0;34m,\u001b[0m \u001b[0mtarget\u001b[0m \u001b[0;32min\u001b[0m \u001b[0mtrain\u001b[0m\u001b[0;34m:\u001b[0m\u001b[0;34m\u001b[0m\u001b[0;34m\u001b[0m\u001b[0m\n\u001b[0m\u001b[1;32m      9\u001b[0m     \u001b[0mim_loc\u001b[0m \u001b[0;34m=\u001b[0m \u001b[0;34m[\u001b[0m\u001b[0mloc\u001b[0m\u001b[0;34m,\u001b[0m \u001b[0mimage\u001b[0m\u001b[0;34m]\u001b[0m\u001b[0;34m\u001b[0m\u001b[0;34m\u001b[0m\u001b[0m\n\u001b[1;32m     10\u001b[0m     \u001b[0mim_loc\u001b[0m \u001b[0;34m=\u001b[0m \u001b[0;34m''\u001b[0m\u001b[0;34m.\u001b[0m\u001b[0mjoin\u001b[0m\u001b[0;34m(\u001b[0m\u001b[0mim_loc\u001b[0m\u001b[0;34m)\u001b[0m\u001b[0;34m\u001b[0m\u001b[0;34m\u001b[0m\u001b[0m\n",
      "\u001b[0;31mNameError\u001b[0m: name 'train' is not defined"
     ]
    }
   ],
   "source": [
    "loc = \"C:\\\\Users\\\\npl\\\\Desktop\\\\Divyanshu\\\\Competition\\\\Dare2Complete\\\\Round_2\\\\images\\\\\"\n",
    "\n",
    "X = [] # To store all the training Images\n",
    "y = [] # To store all the training targets\n",
    "\n",
    "i = 0\n",
    "\n",
    "for image, target in train:\n",
    "    im_loc = [loc, image] \n",
    "    im_loc = ''.join(im_loc)\n",
    "    \n",
    "    im = cv2.imread(im_loc, cv2.IMREAD_GRAYSCALE) # Reads the images as grayscale\n",
    "    im = cv2.resize(im, (100,100)) # Resize from 640x480 to 100x100\n",
    "    \n",
    "    X.append(im/255) # Append images into X while also normalizing them (by dividing by 255)\n",
    "    y.append(target) # Append targets into y\n",
    "    \n",
    "    i += 1     \n",
    "\n",
    "    if np.remainder(i, 500) == 0:\n",
    "        print(i)"
   ]
  },
  {
   "cell_type": "markdown",
   "metadata": {
    "colab_type": "text",
    "id": "N0gKX4H5xfOS"
   },
   "source": [
    "#### 'Pickling' of dataset into storage"
   ]
  },
  {
   "cell_type": "markdown",
   "metadata": {
    "colab_type": "text",
    "id": "fesF0D_MxfOU"
   },
   "source": [
    "##### Pickling is done in smaller chunks so that whole RAM isn't used up at once by this particular process. "
   ]
  },
  {
   "cell_type": "code",
   "execution_count": 0,
   "metadata": {
    "colab": {},
    "colab_type": "code",
    "id": "odUcBA7dxfOU"
   },
   "outputs": [],
   "source": [
    "pickleOut('X[0_2000].pickle',X[0:2000])"
   ]
  },
  {
   "cell_type": "code",
   "execution_count": 0,
   "metadata": {
    "colab": {},
    "colab_type": "code",
    "id": "j-rJWRlLxfOa"
   },
   "outputs": [],
   "source": [
    "pickleOut('X[2000_4000].pickle',X[2000:4000])"
   ]
  },
  {
   "cell_type": "code",
   "execution_count": 0,
   "metadata": {
    "colab": {},
    "colab_type": "code",
    "id": "yIYd95HJxfOe"
   },
   "outputs": [],
   "source": [
    "pickleOut('X[4000_6000].pickle',X[4000:6000])"
   ]
  },
  {
   "cell_type": "code",
   "execution_count": 0,
   "metadata": {
    "colab": {},
    "colab_type": "code",
    "id": "ghhz8w-2xfOi"
   },
   "outputs": [],
   "source": [
    "pickleOut('X[6000_8000].pickle',X[6000:8000])"
   ]
  },
  {
   "cell_type": "code",
   "execution_count": 0,
   "metadata": {
    "colab": {},
    "colab_type": "code",
    "id": "ONbSb_K0xfOl"
   },
   "outputs": [],
   "source": [
    "pickleOut('X[8000_10000].pickle',X[8000:10000])"
   ]
  },
  {
   "cell_type": "code",
   "execution_count": 0,
   "metadata": {
    "colab": {},
    "colab_type": "code",
    "id": "n34PJw7gxfOo"
   },
   "outputs": [],
   "source": [
    "pickleOut('X[10000_12000].pickle',X[10000:12000])"
   ]
  },
  {
   "cell_type": "code",
   "execution_count": 0,
   "metadata": {
    "colab": {},
    "colab_type": "code",
    "id": "u6wBXd-DxfOr"
   },
   "outputs": [],
   "source": [
    "pickleOut('X[12000_14000].pickle',X[12000:14000])"
   ]
  },
  {
   "cell_type": "code",
   "execution_count": 0,
   "metadata": {
    "colab": {},
    "colab_type": "code",
    "id": "Z4L2yPZexfOu"
   },
   "outputs": [],
   "source": [
    "pickleOut('y.pickle',y)"
   ]
  },
  {
   "cell_type": "markdown",
   "metadata": {
    "colab_type": "text",
    "id": "RsBB698MxfOx"
   },
   "source": [
    "# Training"
   ]
  },
  {
   "cell_type": "markdown",
   "metadata": {
    "colab_type": "text",
    "id": "84-TGePexfOx"
   },
   "source": [
    "### Importing Necessary Libraries"
   ]
  },
  {
   "cell_type": "code",
   "execution_count": 0,
   "metadata": {
    "colab": {},
    "colab_type": "code",
    "id": "IxVS1UuSxfOz"
   },
   "outputs": [],
   "source": [
    "import tensorflow as tf\n",
    "import keras\n",
    "from keras.models import Sequential\n",
    "from keras.layers import Dense, Conv2D, MaxPooling2D, Dropout, Activation, Flatten,ZeroPadding2D, Convolution2D, AveragePooling2D\n",
    "from keras import regularizers\n",
    "import keras.backend as K"
   ]
  },
  {
   "cell_type": "markdown",
   "metadata": {
    "colab_type": "text",
    "id": "WaH8V50JxfO5"
   },
   "source": [
    "### Loading X and Y from 'X_and_y.tar'"
   ]
  },
  {
   "cell_type": "code",
   "execution_count": 0,
   "metadata": {
    "colab": {},
    "colab_type": "code",
    "id": "qJc9DPV7xfO8"
   },
   "outputs": [],
   "source": [
    "!tar -x -f d2c_data.tar"
   ]
  },
  {
   "cell_type": "code",
   "execution_count": 32,
   "metadata": {
    "colab": {
     "base_uri": "https://localhost:8080/",
     "height": 51
    },
    "colab_type": "code",
    "executionInfo": {
     "elapsed": 6054,
     "status": "ok",
     "timestamp": 1549909801714,
     "user": {
      "displayName": "DIVYANK PANDEY",
      "photoUrl": "",
      "userId": "07089478650029820120"
     },
     "user_tz": -330
    },
    "id": "mL7qpgCFEa5G",
    "outputId": "b56734f8-ee90-4afe-af47-1ca61ed66532"
   },
   "outputs": [
    {
     "name": "stdout",
     "output_type": "stream",
     "text": [
      "adc.json      my_mode4.h5  x_test.pickle   y_test.pickle\n",
      "d2c_data.tar  sample_data  x_train.pickle  y_train.pickle\n"
     ]
    }
   ],
   "source": [
    "!ls"
   ]
  },
  {
   "cell_type": "code",
   "execution_count": 0,
   "metadata": {
    "colab": {
     "base_uri": "https://localhost:8080/",
     "height": 51
    },
    "colab_type": "code",
    "executionInfo": {
     "elapsed": 5796,
     "status": "ok",
     "timestamp": 1549886190114,
     "user": {
      "displayName": "DIVYANK PANDEY",
      "photoUrl": "",
      "userId": "07089478650029820120"
     },
     "user_tz": -330
    },
    "id": "xaa5gs6qLLlH",
    "outputId": "21a48ca9-ba7e-4b67-a93d-16e24ce3afba"
   },
   "outputs": [
    {
     "name": "stdout",
     "output_type": "stream",
     "text": [
      "adc.json      sample_data    x_train.pickle  y_train.pickle\n",
      "d2c_data.tar  x_test.pickle  y_test.pickle\n"
     ]
    }
   ],
   "source": [
    "!ls"
   ]
  },
  {
   "cell_type": "code",
   "execution_count": 0,
   "metadata": {
    "colab": {
     "base_uri": "https://localhost:8080/",
     "height": 350
    },
    "colab_type": "code",
    "collapsed": true,
    "executionInfo": {
     "elapsed": 2837,
     "status": "error",
     "timestamp": 1549701828785,
     "user": {
      "displayName": "DIVYANK PANDEY",
      "photoUrl": "",
      "userId": "07089478650029820120"
     },
     "user_tz": -330
    },
    "id": "zWC77F0PxfPB",
    "outputId": "4bb1f1d4-6ea6-45e1-dd86-24fc9fb1a1b4"
   },
   "outputs": [
    {
     "ename": "FileNotFoundError",
     "evalue": "ignored",
     "output_type": "error",
     "traceback": [
      "\u001b[0;31m---------------------------------------------------------------------------\u001b[0m",
      "\u001b[0;31mFileNotFoundError\u001b[0m                         Traceback (most recent call last)",
      "\u001b[0;32m<ipython-input-16-afa0bd991c51>\u001b[0m in \u001b[0;36m<module>\u001b[0;34m()\u001b[0m\n\u001b[1;32m      5\u001b[0m     \u001b[0mname\u001b[0m \u001b[0;34m=\u001b[0m \u001b[0;34m[\u001b[0m\u001b[0mloc\u001b[0m\u001b[0;34m,\u001b[0m\u001b[0;34m'X['\u001b[0m\u001b[0;34m,\u001b[0m\u001b[0mstr\u001b[0m\u001b[0;34m(\u001b[0m\u001b[0;36m2000\u001b[0m\u001b[0;34m*\u001b[0m\u001b[0mi\u001b[0m\u001b[0;34m)\u001b[0m\u001b[0;34m,\u001b[0m\u001b[0;34m'_'\u001b[0m\u001b[0;34m,\u001b[0m\u001b[0mstr\u001b[0m\u001b[0;34m(\u001b[0m\u001b[0;36m2000\u001b[0m\u001b[0;34m*\u001b[0m\u001b[0;34m(\u001b[0m\u001b[0mi\u001b[0m\u001b[0;34m+\u001b[0m\u001b[0;36m1\u001b[0m\u001b[0;34m)\u001b[0m\u001b[0;34m)\u001b[0m\u001b[0;34m,\u001b[0m\u001b[0;34m'].pickle'\u001b[0m\u001b[0;34m]\u001b[0m\u001b[0;34m\u001b[0m\u001b[0;34m\u001b[0m\u001b[0m\n\u001b[1;32m      6\u001b[0m     \u001b[0mname\u001b[0m \u001b[0;34m=\u001b[0m \u001b[0;34m''\u001b[0m\u001b[0;34m.\u001b[0m\u001b[0mjoin\u001b[0m\u001b[0;34m(\u001b[0m\u001b[0mname\u001b[0m\u001b[0;34m)\u001b[0m\u001b[0;34m\u001b[0m\u001b[0;34m\u001b[0m\u001b[0m\n\u001b[0;32m----> 7\u001b[0;31m     \u001b[0mX\u001b[0m\u001b[0;34m.\u001b[0m\u001b[0mappend\u001b[0m\u001b[0;34m(\u001b[0m\u001b[0mpickleIn\u001b[0m\u001b[0;34m(\u001b[0m\u001b[0mname\u001b[0m\u001b[0;34m)\u001b[0m\u001b[0;34m)\u001b[0m\u001b[0;34m\u001b[0m\u001b[0;34m\u001b[0m\u001b[0m\n\u001b[0m\u001b[1;32m      8\u001b[0m     \u001b[0mprint\u001b[0m\u001b[0;34m(\u001b[0m\u001b[0;34m'Batch {} appended'\u001b[0m\u001b[0;34m.\u001b[0m\u001b[0mformat\u001b[0m\u001b[0;34m(\u001b[0m\u001b[0mi\u001b[0m\u001b[0;34m)\u001b[0m\u001b[0;34m)\u001b[0m\u001b[0;34m\u001b[0m\u001b[0;34m\u001b[0m\u001b[0m\n\u001b[1;32m      9\u001b[0m \u001b[0;34m\u001b[0m\u001b[0m\n",
      "\u001b[0;32m<ipython-input-13-4ff948d06d76>\u001b[0m in \u001b[0;36mpickleIn\u001b[0;34m(name)\u001b[0m\n\u001b[1;32m      1\u001b[0m \u001b[0;32mdef\u001b[0m \u001b[0mpickleIn\u001b[0m\u001b[0;34m(\u001b[0m\u001b[0mname\u001b[0m\u001b[0;34m)\u001b[0m\u001b[0;34m:\u001b[0m\u001b[0;34m\u001b[0m\u001b[0;34m\u001b[0m\u001b[0m\n\u001b[1;32m      2\u001b[0m     \u001b[0;31m# 'name' - name of the file we wish to load (should be a string, eg. 'train_batch.pickle')\u001b[0m\u001b[0;34m\u001b[0m\u001b[0;34m\u001b[0m\u001b[0;34m\u001b[0m\u001b[0m\n\u001b[0;32m----> 3\u001b[0;31m     \u001b[0mpickle_in\u001b[0m \u001b[0;34m=\u001b[0m \u001b[0mopen\u001b[0m\u001b[0;34m(\u001b[0m\u001b[0mname\u001b[0m\u001b[0;34m,\u001b[0m\u001b[0;34m'rb'\u001b[0m\u001b[0;34m)\u001b[0m\u001b[0;34m\u001b[0m\u001b[0;34m\u001b[0m\u001b[0m\n\u001b[0m\u001b[1;32m      4\u001b[0m     \u001b[0;32mreturn\u001b[0m \u001b[0mpickle\u001b[0m\u001b[0;34m.\u001b[0m\u001b[0mload\u001b[0m\u001b[0;34m(\u001b[0m\u001b[0mpickle_in\u001b[0m\u001b[0;34m)\u001b[0m\u001b[0;34m\u001b[0m\u001b[0;34m\u001b[0m\u001b[0m\n\u001b[1;32m      5\u001b[0m \u001b[0;34m\u001b[0m\u001b[0m\n",
      "\u001b[0;31mFileNotFoundError\u001b[0m: [Errno 2] No such file or directory: 'X[0_2000].pickle'"
     ]
    }
   ],
   "source": [
    "loc = ''\n",
    "\n",
    "X = []\n",
    "for i in range(7):\n",
    "    name = [loc,'X[',str(2000*i),'_',str(2000*(i+1)),'].pickle']\n",
    "    name = ''.join(name)\n",
    "    X.append(pickleIn(name))\n",
    "    print('Batch {} appended'.format(i))\n",
    "    \n",
    "yloc = [loc, 'y.pickle'].p\n",
    "\n",
    "yloc = ''.join(yloc)\n",
    "y = pickleIn(yloc)    "
   ]
  },
  {
   "cell_type": "code",
   "execution_count": 0,
   "metadata": {
    "colab": {
     "base_uri": "https://localhost:8080/",
     "height": 197
    },
    "colab_type": "code",
    "collapsed": true,
    "executionInfo": {
     "elapsed": 1437,
     "status": "error",
     "timestamp": 1549660253172,
     "user": {
      "displayName": "DIVYANK PANDEY",
      "photoUrl": "",
      "userId": "07089478650029820120"
     },
     "user_tz": -330
    },
    "id": "Bbsj2HpUxfPF",
    "outputId": "56e9fb33-76a7-4cc1-864b-39d07bb11b36"
   },
   "outputs": [
    {
     "ename": "IndexError",
     "evalue": "ignored",
     "output_type": "error",
     "traceback": [
      "\u001b[0;31m---------------------------------------------------------------------------\u001b[0m",
      "\u001b[0;31mIndexError\u001b[0m                                Traceback (most recent call last)",
      "\u001b[0;32m<ipython-input-37-bd8630dcce36>\u001b[0m in \u001b[0;36m<module>\u001b[0;34m()\u001b[0m\n\u001b[1;32m      1\u001b[0m \u001b[0mget_ipython\u001b[0m\u001b[0;34m(\u001b[0m\u001b[0;34m)\u001b[0m\u001b[0;34m.\u001b[0m\u001b[0mmagic\u001b[0m\u001b[0;34m(\u001b[0m\u001b[0;34m'matplotlib inline'\u001b[0m\u001b[0;34m)\u001b[0m\u001b[0;34m\u001b[0m\u001b[0;34m\u001b[0m\u001b[0m\n\u001b[0;32m----> 2\u001b[0;31m \u001b[0mprint\u001b[0m\u001b[0;34m(\u001b[0m\u001b[0my\u001b[0m\u001b[0;34m[\u001b[0m\u001b[0;36m13999\u001b[0m\u001b[0;34m]\u001b[0m\u001b[0;34m)\u001b[0m\u001b[0;34m\u001b[0m\u001b[0;34m\u001b[0m\u001b[0m\n\u001b[0m\u001b[1;32m      3\u001b[0m \u001b[0mplt\u001b[0m\u001b[0;34m.\u001b[0m\u001b[0mimshow\u001b[0m\u001b[0;34m(\u001b[0m\u001b[0mX\u001b[0m\u001b[0;34m[\u001b[0m\u001b[0;36m6\u001b[0m\u001b[0;34m]\u001b[0m\u001b[0;34m[\u001b[0m\u001b[0;36m0\u001b[0m\u001b[0;34m]\u001b[0m\u001b[0;34m.\u001b[0m\u001b[0mreshape\u001b[0m\u001b[0;34m(\u001b[0m\u001b[0;36m100\u001b[0m\u001b[0;34m,\u001b[0m\u001b[0;36m100\u001b[0m\u001b[0;34m)\u001b[0m\u001b[0;34m,\u001b[0m\u001b[0mcmap\u001b[0m\u001b[0;34m=\u001b[0m\u001b[0;34m'gray'\u001b[0m\u001b[0;34m)\u001b[0m\u001b[0;34m\u001b[0m\u001b[0;34m\u001b[0m\u001b[0m\n",
      "\u001b[0;31mIndexError\u001b[0m: list index out of range"
     ]
    }
   ],
   "source": [
    "%matplotlib inline\n",
    "print(y[13999])\n",
    "plt.imshow(X[6][0].reshape(100,100),cmap='gray')"
   ]
  },
  {
   "cell_type": "markdown",
   "metadata": {
    "colab_type": "text",
    "id": "0KQsQMLcxfPK"
   },
   "source": [
    "## Train-Test Set Preparation"
   ]
  },
  {
   "cell_type": "markdown",
   "metadata": {
    "colab_type": "text",
    "id": "eUkdN2JOxfPL"
   },
   "source": [
    "### Making of 4-D Array to store images"
   ]
  },
  {
   "cell_type": "code",
   "execution_count": 0,
   "metadata": {
    "colab": {},
    "colab_type": "code",
    "id": "vIdjJNlcxfPM"
   },
   "outputs": [],
   "source": [
    "Whole = np.zeros((14000,100,100,1))"
   ]
  },
  {
   "cell_type": "code",
   "execution_count": 0,
   "metadata": {
    "colab": {
     "base_uri": "https://localhost:8080/",
     "height": 214
    },
    "colab_type": "code",
    "executionInfo": {
     "elapsed": 1721,
     "status": "error",
     "timestamp": 1549660247819,
     "user": {
      "displayName": "DIVYANK PANDEY",
      "photoUrl": "",
      "userId": "07089478650029820120"
     },
     "user_tz": -330
    },
    "id": "MKxA5zShxfPO",
    "outputId": "9b1625a8-dfd0-4bc2-8921-e0a7927cc183"
   },
   "outputs": [
    {
     "ename": "IndexError",
     "evalue": "ignored",
     "output_type": "error",
     "traceback": [
      "\u001b[0;31m---------------------------------------------------------------------------\u001b[0m",
      "\u001b[0;31mIndexError\u001b[0m                                Traceback (most recent call last)",
      "\u001b[0;32m<ipython-input-36-351a665eb4fb>\u001b[0m in \u001b[0;36m<module>\u001b[0;34m()\u001b[0m\n\u001b[1;32m      2\u001b[0m \u001b[0;32mfor\u001b[0m \u001b[0mi\u001b[0m \u001b[0;32min\u001b[0m \u001b[0mrange\u001b[0m\u001b[0;34m(\u001b[0m\u001b[0;36m7\u001b[0m\u001b[0;34m)\u001b[0m\u001b[0;34m:\u001b[0m\u001b[0;34m\u001b[0m\u001b[0;34m\u001b[0m\u001b[0m\n\u001b[1;32m      3\u001b[0m     \u001b[0;32mfor\u001b[0m \u001b[0mj\u001b[0m \u001b[0;32min\u001b[0m \u001b[0mrange\u001b[0m\u001b[0;34m(\u001b[0m\u001b[0;36m2000\u001b[0m\u001b[0;34m)\u001b[0m\u001b[0;34m:\u001b[0m\u001b[0;34m\u001b[0m\u001b[0;34m\u001b[0m\u001b[0m\n\u001b[0;32m----> 4\u001b[0;31m         \u001b[0mWhole\u001b[0m\u001b[0;34m[\u001b[0m\u001b[0mk\u001b[0m\u001b[0;34m,\u001b[0m\u001b[0;34m:\u001b[0m\u001b[0;34m,\u001b[0m\u001b[0;34m:\u001b[0m\u001b[0;34m,\u001b[0m\u001b[0;34m:\u001b[0m\u001b[0;34m]\u001b[0m \u001b[0;34m=\u001b[0m \u001b[0mX\u001b[0m\u001b[0;34m[\u001b[0m\u001b[0mi\u001b[0m\u001b[0;34m]\u001b[0m\u001b[0;34m[\u001b[0m\u001b[0mj\u001b[0m\u001b[0;34m]\u001b[0m\u001b[0;34m.\u001b[0m\u001b[0mreshape\u001b[0m\u001b[0;34m(\u001b[0m\u001b[0;36m100\u001b[0m\u001b[0;34m,\u001b[0m\u001b[0;36m100\u001b[0m\u001b[0;34m,\u001b[0m\u001b[0;36m1\u001b[0m\u001b[0;34m)\u001b[0m\u001b[0;34m\u001b[0m\u001b[0;34m\u001b[0m\u001b[0m\n\u001b[0m\u001b[1;32m      5\u001b[0m         \u001b[0mk\u001b[0m \u001b[0;34m+=\u001b[0m \u001b[0;36m1\u001b[0m\u001b[0;34m\u001b[0m\u001b[0;34m\u001b[0m\u001b[0m\n",
      "\u001b[0;31mIndexError\u001b[0m: list index out of range"
     ]
    }
   ],
   "source": [
    "k = 0\n",
    "for i in range(7):\n",
    "    for j in range(2000):\n",
    "        Whole[k,:,:,:] = X[i][j].reshape(100,100,1)\n",
    "        k += 1"
   ]
  },
  {
   "cell_type": "code",
   "execution_count": 0,
   "metadata": {
    "colab": {},
    "colab_type": "code",
    "collapsed": true,
    "id": "djmrMLD6xfPS",
    "outputId": "36d1026f-151b-4227-e71d-12c07156e9f1"
   },
   "outputs": [
    {
     "name": "stdout",
     "output_type": "stream",
     "text": [
      "0.6251694117647058\n"
     ]
    },
    {
     "data": {
      "image/png": "[encoded data removed]",
      "text/plain": [
       "<matplotlib.figure.Figure at 0x1aaea61e2e8>"
      ]
     },
     "metadata": {
      "tags": []
     },
     "output_type": "display_data"
    }
   ],
   "source": [
    "%matplotlib inline\n",
    "plt.imshow(X[0][0].reshape(100,100))\n",
    "print(np.mean(Whole[0,:,:,:]))"
   ]
  },
  {
   "cell_type": "code",
   "execution_count": 0,
   "metadata": {
    "colab": {
     "base_uri": "https://localhost:8080/",
     "height": 163
    },
    "colab_type": "code",
    "executionInfo": {
     "elapsed": 1400,
     "status": "error",
     "timestamp": 1549660237709,
     "user": {
      "displayName": "DIVYANK PANDEY",
      "photoUrl": "",
      "userId": "07089478650029820120"
     },
     "user_tz": -330
    },
    "id": "cwDh3xV1xfPV",
    "outputId": "e58617f0-20e4-4b2c-cf48-cc9acc56b64e"
   },
   "outputs": [
    {
     "ename": "NameError",
     "evalue": "ignored",
     "output_type": "error",
     "traceback": [
      "\u001b[0;31m---------------------------------------------------------------------------\u001b[0m",
      "\u001b[0;31mNameError\u001b[0m                                 Traceback (most recent call last)",
      "\u001b[0;32m<ipython-input-34-ebb87ee05089>\u001b[0m in \u001b[0;36m<module>\u001b[0;34m()\u001b[0m\n\u001b[0;32m----> 1\u001b[0;31m \u001b[0mpickleOut\u001b[0m\u001b[0;34m(\u001b[0m\u001b[0;34m'Whole_4D.pickle'\u001b[0m\u001b[0;34m,\u001b[0m \u001b[0mWhole\u001b[0m\u001b[0;34m)\u001b[0m\u001b[0;34m\u001b[0m\u001b[0;34m\u001b[0m\u001b[0m\n\u001b[0m",
      "\u001b[0;31mNameError\u001b[0m: name 'Whole' is not defined"
     ]
    }
   ],
   "source": [
    "pickleOut('Whole_4D.pickle', Whole)"
   ]
  },
  {
   "cell_type": "code",
   "execution_count": 0,
   "metadata": {
    "colab": {},
    "colab_type": "code",
    "id": "1u9BkOzHxfPY"
   },
   "outputs": [],
   "source": [
    "Whole = pickleIn('Whole_4D.pickle')"
   ]
  },
  {
   "cell_type": "code",
   "execution_count": 0,
   "metadata": {
    "colab": {
     "base_uri": "https://localhost:8080/",
     "height": 282
    },
    "colab_type": "code",
    "executionInfo": {
     "elapsed": 1475,
     "status": "error",
     "timestamp": 1549660233183,
     "user": {
      "displayName": "DIVYANK PANDEY",
      "photoUrl": "",
      "userId": "07089478650029820120"
     },
     "user_tz": -330
    },
    "id": "a6VwsWi_xfPb",
    "outputId": "ecde82e4-e042-473c-d562-8f61b04497b1"
   },
   "outputs": [
    {
     "ename": "FileNotFoundError",
     "evalue": "ignored",
     "output_type": "error",
     "traceback": [
      "\u001b[0;31m---------------------------------------------------------------------------\u001b[0m",
      "\u001b[0;31mFileNotFoundError\u001b[0m                         Traceback (most recent call last)",
      "\u001b[0;32m<ipython-input-33-ab32e932c260>\u001b[0m in \u001b[0;36m<module>\u001b[0;34m()\u001b[0m\n\u001b[0;32m----> 1\u001b[0;31m \u001b[0my\u001b[0m \u001b[0;34m=\u001b[0m \u001b[0mpickleIn\u001b[0m\u001b[0;34m(\u001b[0m\u001b[0;34m'y.pickle'\u001b[0m\u001b[0;34m)\u001b[0m\u001b[0;34m\u001b[0m\u001b[0;34m\u001b[0m\u001b[0m\n\u001b[0m",
      "\u001b[0;32m<ipython-input-25-4ff948d06d76>\u001b[0m in \u001b[0;36mpickleIn\u001b[0;34m(name)\u001b[0m\n\u001b[1;32m      1\u001b[0m \u001b[0;32mdef\u001b[0m \u001b[0mpickleIn\u001b[0m\u001b[0;34m(\u001b[0m\u001b[0mname\u001b[0m\u001b[0;34m)\u001b[0m\u001b[0;34m:\u001b[0m\u001b[0;34m\u001b[0m\u001b[0;34m\u001b[0m\u001b[0m\n\u001b[1;32m      2\u001b[0m     \u001b[0;31m# 'name' - name of the file we wish to load (should be a string, eg. 'train_batch.pickle')\u001b[0m\u001b[0;34m\u001b[0m\u001b[0;34m\u001b[0m\u001b[0;34m\u001b[0m\u001b[0m\n\u001b[0;32m----> 3\u001b[0;31m     \u001b[0mpickle_in\u001b[0m \u001b[0;34m=\u001b[0m \u001b[0mopen\u001b[0m\u001b[0;34m(\u001b[0m\u001b[0mname\u001b[0m\u001b[0;34m,\u001b[0m\u001b[0;34m'rb'\u001b[0m\u001b[0;34m)\u001b[0m\u001b[0;34m\u001b[0m\u001b[0;34m\u001b[0m\u001b[0m\n\u001b[0m\u001b[1;32m      4\u001b[0m     \u001b[0;32mreturn\u001b[0m \u001b[0mpickle\u001b[0m\u001b[0;34m.\u001b[0m\u001b[0mload\u001b[0m\u001b[0;34m(\u001b[0m\u001b[0mpickle_in\u001b[0m\u001b[0;34m)\u001b[0m\u001b[0;34m\u001b[0m\u001b[0;34m\u001b[0m\u001b[0m\n\u001b[1;32m      5\u001b[0m \u001b[0;34m\u001b[0m\u001b[0m\n",
      "\u001b[0;31mFileNotFoundError\u001b[0m: [Errno 2] No such file or directory: 'y.pickle'"
     ]
    }
   ],
   "source": [
    "y = pickleIn('y.pickle')"
   ]
  },
  {
   "cell_type": "markdown",
   "metadata": {
    "colab_type": "text",
    "id": "P_W0-H0qxfPd"
   },
   "source": [
    "### Converting 'y' from 'list' to 'NumPy array' "
   ]
  },
  {
   "cell_type": "code",
   "execution_count": 0,
   "metadata": {
    "colab": {
     "base_uri": "https://localhost:8080/",
     "height": 231
    },
    "colab_type": "code",
    "executionInfo": {
     "elapsed": 1392,
     "status": "error",
     "timestamp": 1549660890911,
     "user": {
      "displayName": "DIVYANK PANDEY",
      "photoUrl": "",
      "userId": "07089478650029820120"
     },
     "user_tz": -330
    },
    "id": "DmrQiyxixfPe",
    "outputId": "fd900d68-cae1-4e89-bf19-876df3c51f8b"
   },
   "outputs": [
    {
     "ename": "IndexError",
     "evalue": "ignored",
     "output_type": "error",
     "traceback": [
      "\u001b[0;31m---------------------------------------------------------------------------\u001b[0m",
      "\u001b[0;31mIndexError\u001b[0m                                Traceback (most recent call last)",
      "\u001b[0;32m<ipython-input-49-82541a99f660>\u001b[0m in \u001b[0;36m<module>\u001b[0;34m()\u001b[0m\n\u001b[1;32m      2\u001b[0m \u001b[0;34m\u001b[0m\u001b[0m\n\u001b[1;32m      3\u001b[0m \u001b[0;32mfor\u001b[0m \u001b[0mi\u001b[0m \u001b[0;32min\u001b[0m \u001b[0mrange\u001b[0m\u001b[0;34m(\u001b[0m\u001b[0;36m14000\u001b[0m\u001b[0;34m)\u001b[0m\u001b[0;34m:\u001b[0m\u001b[0;34m\u001b[0m\u001b[0;34m\u001b[0m\u001b[0m\n\u001b[0;32m----> 4\u001b[0;31m     \u001b[0my_\u001b[0m\u001b[0;34m[\u001b[0m\u001b[0mi\u001b[0m\u001b[0;34m,\u001b[0m\u001b[0;36m0\u001b[0m\u001b[0;34m]\u001b[0m \u001b[0;34m=\u001b[0m \u001b[0my\u001b[0m\u001b[0;34m[\u001b[0m\u001b[0mi\u001b[0m\u001b[0;34m]\u001b[0m\u001b[0;34m[\u001b[0m\u001b[0;36m0\u001b[0m\u001b[0;34m]\u001b[0m\u001b[0;34m\u001b[0m\u001b[0;34m\u001b[0m\u001b[0m\n\u001b[0m\u001b[1;32m      5\u001b[0m     \u001b[0my_\u001b[0m\u001b[0;34m[\u001b[0m\u001b[0mi\u001b[0m\u001b[0;34m,\u001b[0m\u001b[0;36m1\u001b[0m\u001b[0;34m]\u001b[0m \u001b[0;34m=\u001b[0m \u001b[0my\u001b[0m\u001b[0;34m[\u001b[0m\u001b[0mi\u001b[0m\u001b[0;34m]\u001b[0m\u001b[0;34m[\u001b[0m\u001b[0;36m1\u001b[0m\u001b[0;34m]\u001b[0m\u001b[0;34m\u001b[0m\u001b[0;34m\u001b[0m\u001b[0m\n\u001b[1;32m      6\u001b[0m     \u001b[0my_\u001b[0m\u001b[0;34m[\u001b[0m\u001b[0mi\u001b[0m\u001b[0;34m,\u001b[0m\u001b[0;36m2\u001b[0m\u001b[0;34m]\u001b[0m \u001b[0;34m=\u001b[0m \u001b[0my\u001b[0m\u001b[0;34m[\u001b[0m\u001b[0mi\u001b[0m\u001b[0;34m]\u001b[0m\u001b[0;34m[\u001b[0m\u001b[0;36m2\u001b[0m\u001b[0;34m]\u001b[0m\u001b[0;34m\u001b[0m\u001b[0;34m\u001b[0m\u001b[0m\n",
      "\u001b[0;31mIndexError\u001b[0m: list index out of range"
     ]
    }
   ],
   "source": [
    "y_ = np.zeros((14000, 4))\n",
    "\n",
    "for i in range(14000):\n",
    "    y_[i,0] = y[i][0]\n",
    "    y_[i,1] = y[i][1]\n",
    "    y_[i,2] = y[i][2]\n",
    "    y_[i,3] = y[i][3]"
   ]
  },
  {
   "cell_type": "code",
   "execution_count": 0,
   "metadata": {
    "colab": {
     "base_uri": "https://localhost:8080/",
     "height": 214
    },
    "colab_type": "code",
    "executionInfo": {
     "elapsed": 2305,
     "status": "error",
     "timestamp": 1549736592270,
     "user": {
      "displayName": "DIVYANK PANDEY",
      "photoUrl": "",
      "userId": "07089478650029820120"
     },
     "user_tz": -330
    },
    "id": "br1lVfBFxfPi",
    "outputId": "84efa422-2a99-4800-8deb-bc4b6a323ab8"
   },
   "outputs": [
    {
     "ename": "NameError",
     "evalue": "ignored",
     "output_type": "error",
     "traceback": [
      "\u001b[0;31m---------------------------------------------------------------------------\u001b[0m",
      "\u001b[0;31mNameError\u001b[0m                                 Traceback (most recent call last)",
      "\u001b[0;32m<ipython-input-19-fe17e18e2827>\u001b[0m in \u001b[0;36m<module>\u001b[0;34m()\u001b[0m\n\u001b[0;32m----> 1\u001b[0;31m \u001b[0mx_train\u001b[0m \u001b[0;34m=\u001b[0m \u001b[0mWhole\u001b[0m\u001b[0;34m[\u001b[0m\u001b[0;36m0\u001b[0m\u001b[0;34m:\u001b[0m\u001b[0;36m12000\u001b[0m\u001b[0;34m,\u001b[0m \u001b[0;34m:\u001b[0m\u001b[0;34m,\u001b[0m\u001b[0;34m:\u001b[0m\u001b[0;34m,\u001b[0m\u001b[0;34m:\u001b[0m\u001b[0;34m]\u001b[0m\u001b[0;34m\u001b[0m\u001b[0;34m\u001b[0m\u001b[0m\n\u001b[0m\u001b[1;32m      2\u001b[0m \u001b[0mx_test\u001b[0m \u001b[0;34m=\u001b[0m \u001b[0mWhole\u001b[0m\u001b[0;34m[\u001b[0m\u001b[0;36m12000\u001b[0m\u001b[0;34m:\u001b[0m\u001b[0;36m14000\u001b[0m\u001b[0;34m,\u001b[0m \u001b[0;34m:\u001b[0m\u001b[0;34m,\u001b[0m\u001b[0;34m:\u001b[0m\u001b[0;34m,\u001b[0m\u001b[0;34m:\u001b[0m\u001b[0;34m]\u001b[0m\u001b[0;34m\u001b[0m\u001b[0;34m\u001b[0m\u001b[0m\n\u001b[1;32m      3\u001b[0m \u001b[0my_train\u001b[0m \u001b[0;34m=\u001b[0m \u001b[0my_\u001b[0m\u001b[0;34m[\u001b[0m\u001b[0;36m0\u001b[0m\u001b[0;34m:\u001b[0m\u001b[0;36m12000\u001b[0m\u001b[0;34m,\u001b[0m\u001b[0;34m:\u001b[0m\u001b[0;34m]\u001b[0m\u001b[0;34m\u001b[0m\u001b[0;34m\u001b[0m\u001b[0m\n\u001b[1;32m      4\u001b[0m \u001b[0my_test\u001b[0m \u001b[0;34m=\u001b[0m \u001b[0my_\u001b[0m\u001b[0;34m[\u001b[0m\u001b[0;36m12000\u001b[0m\u001b[0;34m:\u001b[0m\u001b[0;36m14000\u001b[0m\u001b[0;34m,\u001b[0m\u001b[0;34m:\u001b[0m\u001b[0;34m]\u001b[0m\u001b[0;34m\u001b[0m\u001b[0;34m\u001b[0m\u001b[0m\n",
      "\u001b[0;31mNameError\u001b[0m: name 'Whole' is not defined"
     ]
    }
   ],
   "source": [
    "x_train = Whole[0:12000, :,:,:]\n",
    "x_test = Whole[12000:14000, :,:,:]\n",
    "y_train = y_[0:12000,:] \n",
    "y_test = y_[12000:14000,:]"
   ]
  },
  {
   "cell_type": "code",
   "execution_count": 0,
   "metadata": {
    "colab": {
     "base_uri": "https://localhost:8080/",
     "height": 34
    },
    "colab_type": "code",
    "executionInfo": {
     "elapsed": 1675,
     "status": "ok",
     "timestamp": 1549660264460,
     "user": {
      "displayName": "DIVYANK PANDEY",
      "photoUrl": "",
      "userId": "07089478650029820120"
     },
     "user_tz": -330
    },
    "id": "Ga1pSbFuxfPk",
    "outputId": "bec2682b-a68b-48a2-8f73-0f2ea06d0a29"
   },
   "outputs": [
    {
     "data": {
      "text/plain": [
       "(2000, 4)"
      ]
     },
     "execution_count": 39,
     "metadata": {
      "tags": []
     },
     "output_type": "execute_result"
    }
   ],
   "source": [
    "y_test.shape"
   ]
  },
  {
   "cell_type": "markdown",
   "metadata": {
    "colab_type": "text",
    "id": "MmkZdVDHxfPo"
   },
   "source": [
    "### Storing Train-Test Set in Local Memory"
   ]
  },
  {
   "cell_type": "code",
   "execution_count": 0,
   "metadata": {
    "colab": {
     "base_uri": "https://localhost:8080/",
     "height": 214
    },
    "colab_type": "code",
    "executionInfo": {
     "elapsed": 2415,
     "status": "error",
     "timestamp": 1549736601038,
     "user": {
      "displayName": "DIVYANK PANDEY",
      "photoUrl": "",
      "userId": "07089478650029820120"
     },
     "user_tz": -330
    },
    "id": "U85jCoYxxfPp",
    "outputId": "76a3c209-1f34-4c4d-f34f-e0c80d897e2e"
   },
   "outputs": [
    {
     "ename": "NameError",
     "evalue": "ignored",
     "output_type": "error",
     "traceback": [
      "\u001b[0;31m---------------------------------------------------------------------------\u001b[0m",
      "\u001b[0;31mNameError\u001b[0m                                 Traceback (most recent call last)",
      "\u001b[0;32m<ipython-input-20-6b3c9346ea10>\u001b[0m in \u001b[0;36m<module>\u001b[0;34m()\u001b[0m\n\u001b[0;32m----> 1\u001b[0;31m \u001b[0mpickleOut\u001b[0m\u001b[0;34m(\u001b[0m\u001b[0;34m'x_train.pickle'\u001b[0m\u001b[0;34m,\u001b[0m \u001b[0mx_train\u001b[0m\u001b[0;34m)\u001b[0m\u001b[0;34m\u001b[0m\u001b[0;34m\u001b[0m\u001b[0m\n\u001b[0m\u001b[1;32m      2\u001b[0m \u001b[0mpickleOut\u001b[0m\u001b[0;34m(\u001b[0m\u001b[0;34m'y_train.pickle'\u001b[0m\u001b[0;34m,\u001b[0m \u001b[0my_train\u001b[0m\u001b[0;34m)\u001b[0m\u001b[0;34m\u001b[0m\u001b[0;34m\u001b[0m\u001b[0m\n\u001b[1;32m      3\u001b[0m \u001b[0mpickleOut\u001b[0m\u001b[0;34m(\u001b[0m\u001b[0;34m'x_test.pickle'\u001b[0m\u001b[0;34m,\u001b[0m  \u001b[0mx_test\u001b[0m\u001b[0;34m)\u001b[0m\u001b[0;34m\u001b[0m\u001b[0;34m\u001b[0m\u001b[0m\n\u001b[1;32m      4\u001b[0m \u001b[0mpickleOut\u001b[0m\u001b[0;34m(\u001b[0m\u001b[0;34m'y_test.pickle'\u001b[0m\u001b[0;34m,\u001b[0m  \u001b[0my_test\u001b[0m\u001b[0;34m)\u001b[0m\u001b[0;34m\u001b[0m\u001b[0;34m\u001b[0m\u001b[0m\n",
      "\u001b[0;31mNameError\u001b[0m: name 'x_train' is not defined"
     ]
    }
   ],
   "source": [
    "pickleOut('x_train.pickle', x_train)\n",
    "pickleOut('y_train.pickle', y_train)\n",
    "pickleOut('x_test.pickle',  x_test)\n",
    "pickleOut('y_test.pickle',  y_test)"
   ]
  },
  {
   "cell_type": "code",
   "execution_count": 0,
   "metadata": {
    "colab": {},
    "colab_type": "code",
    "id": "Aji4OQF7Lsly"
   },
   "outputs": [],
   "source": [
    "x_train = pickleIn('x_train.pickle')\n",
    "y_train = pickleIn('y_train.pickle')\n",
    "x_test  = pickleIn('x_test.pickle')\n",
    "y_test = pickleIn('y_test.pickle')"
   ]
  },
  {
   "cell_type": "code",
   "execution_count": 0,
   "metadata": {
    "colab": {},
    "colab_type": "code",
    "id": "SG5iQ93EnRQy"
   },
   "outputs": [],
   "source": [
    "x_train_new = np.zeros((13500,100,100,1))\n",
    "y_train_new = np.zeros((13500,4))\n",
    "x_test_new = np.zeros((500,100,100,1))\n",
    "y_test_new = np.zeros((500,4))\n",
    "\n",
    "x_train_new[0:12000,:,:,:] = x_train\n",
    "x_train_new[12000:13500,:,:,:] = x_test[0:1500,:,:,:]\n",
    "\n",
    "x_test_new = x_test[1500:2000,:,:,:]\n",
    "\n",
    "y_train_new[0:12000,:] = y_train\n",
    "y_train_new[12000:13500,:] = y_test[0:1500,:]\n",
    "\n",
    "y_test_new = y_test[1500:2000,:]\n"
   ]
  },
  {
   "cell_type": "code",
   "execution_count": 0,
   "metadata": {
    "colab": {
     "base_uri": "https://localhost:8080/",
     "height": 34
    },
    "colab_type": "code",
    "executionInfo": {
     "elapsed": 2384,
     "status": "ok",
     "timestamp": 1549789232348,
     "user": {
      "displayName": "DIVYANK PANDEY",
      "photoUrl": "",
      "userId": "07089478650029820120"
     },
     "user_tz": -330
    },
    "id": "i0Aa1NRGoruY",
    "outputId": "c3a8e01b-f506-4896-8026-dba581f73efd"
   },
   "outputs": [
    {
     "data": {
      "text/plain": [
       "(13500, 100, 100, 1)"
      ]
     },
     "execution_count": 29,
     "metadata": {
      "tags": []
     },
     "output_type": "execute_result"
    }
   ],
   "source": []
  },
  {
   "cell_type": "code",
   "execution_count": 35,
   "metadata": {
    "colab": {
     "base_uri": "https://localhost:8080/",
     "height": 51
    },
    "colab_type": "code",
    "executionInfo": {
     "elapsed": 10675,
     "status": "ok",
     "timestamp": 1549909847925,
     "user": {
      "displayName": "DIVYANK PANDEY",
      "photoUrl": "",
      "userId": "07089478650029820120"
     },
     "user_tz": -330
    },
    "id": "oKuMqf_rgA_V",
    "outputId": "302e1ad8-fb82-4c44-e978-11e4d6ad86a0"
   },
   "outputs": [
    {
     "name": "stdout",
     "output_type": "stream",
     "text": [
      "adc.json      my_mode4.h5  x_test.pickle   y_test.pickle\n",
      "d2c_data.tar  sample_data  x_train.pickle  y_train.pickle\n"
     ]
    }
   ],
   "source": [
    "!ls"
   ]
  },
  {
   "cell_type": "markdown",
   "metadata": {
    "colab_type": "text",
    "id": "IRBNfD2VxfPt"
   },
   "source": [
    "## Our Model(s)"
   ]
  },
  {
   "cell_type": "markdown",
   "metadata": {
    "colab_type": "text",
    "id": "y3AVfC6LxfPt"
   },
   "source": [
    "###### Potential IOU Procedures\n",
    "\n",
    "###### Number 1 (Mine)\n",
    "'''\n",
    "Custom Metrics for keras\n",
    "def iou(y_true, y_pred):\n",
    "   \n",
    "    x_t = tf.constant(y_true[0])\n",
    "    y_t = tf.constant(y_true[1])\n",
    "    w_t = tf.constant(y_true[2])\n",
    "    h_t = tf.constant(y_true[3])\n",
    "    \n",
    "    # Calculating the Co-ordinates from Center and Length Values (Actual Square)\n",
    "    x1_t = tf.math.divide(tf.math.subtract(tf.math.multiply(2,x_t),w_t),2)\n",
    "    y1_t = tf.math.divide(tf.math.subtract(tf.math.multiply(2,y_t),h_t),2)\n",
    "    x2_t = tf.math.divide(tf.math.add(tf.math.multiply(2,x_t),w_t),2)\n",
    "    y2_t = tf.math.divide(tf.math.add(tf.math.multiply(2,h_t),h_t),2)\n",
    "    \n",
    "    x_p = tf.constant(y_pred[0])\n",
    "    y_p = tf.constant(y_pred[1])\n",
    "    w_p = tf.constant(y_pred[2])\n",
    "    h_p = tf.constant(y_pred[3])\n",
    "    \n",
    "    # Calculating the Co-ordinates from center and length values (Prediction Square)\n",
    "    x1_p = tf.math.divide(tf.math.subtract(tf.math.multiply(2,x_p),w_p),2)\n",
    "    y1_p = tf.math.divide(tf.math.subtract(tf.math.multiply(2,y_p),h_p),2)\n",
    "    x2_p = tf.math.divide(tf.math.add(tf.math.multiply(2,x_p),w_p),2)\n",
    "    y2_p = tf.math.divide(tf.math.add(tf.math.multiply(2,h_p),h_p),2)\n",
    "    \n",
    "    # Calculating the co-ordinates of intersecting square\n",
    "    x1 = tf.maximum((x1_t, x1_p), axis=None, keepdims=False)\n",
    "    y1 = tf.maximum((y1_t, y1_p), axis=None, keepdims=False)\n",
    "    x2 = tf.minimum((x2_t, x2_p), axis=None, keepdims=False)\n",
    "    y2 = tf.minimum((y2_t, y2_p), axis=None, keepdims=False)\n",
    "    \n",
    "    # Area of Intersection\n",
    "    I_area = tf.math.multiply(tf.math.subtract(x2,x1),tf.math.subtract(y2-y1))\n",
    "    \n",
    "    true_area = tf.math.multiply(tf.math.subtract(x2_t,x1_t),tf.math.subtract(y2_t,y1_t))\n",
    "    pred_area = tf.math.multiply(tf.math.subtract(x2_p,x1_p),tf.math.subtract(y2_p,y1_p))\n",
    "    \n",
    "    # Union of both regions\n",
    "    U_area = tf.math.subtract(tf.math.add(true_area, pred_area), I_area)\n",
    "        \n",
    "    # Intersection over Union\n",
    "    IOU = tf.math.divide(I_area,U_area)\n",
    "    \n",
    "    return IOU\n",
    "    \n",
    "    \n",
    "'''\n",
    "\n",
    "###### Number 2 \n",
    "'''\n",
    "def castF(x):\n",
    "    return K.cast(x, K.floatx())\n",
    "\n",
    "def castB(x):\n",
    "    return K.cast(x, bool)\n",
    "\n",
    "def iou_loss_core(true,pred):  #this can be used as a loss if you make it negative\n",
    "    intersection = true * pred\n",
    "    notTrue = 1 - true\n",
    "    union = true + (notTrue * pred)\n",
    "\n",
    "    return (K.sum(intersection, axis=-1) + K.epsilon()) / (K.sum(union, axis=-1) + K.epsilon())\n",
    "\n",
    "def competitionMetric2(true, pred): #any shape can go - can't be a loss function\n",
    "\n",
    "    tresholds = [0.5 + (i*.05)  for i in range(10)]\n",
    "\n",
    "    #flattened images (batch, pixels)\n",
    "    true = K.batch_flatten(true)\n",
    "    pred = K.batch_flatten(pred)\n",
    "    pred = castF(K.greater(pred, 0.5))\n",
    "\n",
    "    #total white pixels - (batch,)\n",
    "    trueSum = K.sum(true, axis=-1)\n",
    "    predSum = K.sum(pred, axis=-1)\n",
    "\n",
    "    #has mask or not per image - (batch,)\n",
    "    true1 = castF(K.greater(trueSum, 1))    \n",
    "    pred1 = castF(K.greater(predSum, 1))\n",
    "\n",
    "    #to get images that have mask in both true and pred\n",
    "    truePositiveMask = castB(true1 * pred1)\n",
    "\n",
    "    #separating only the possible true positives to check iou\n",
    "    testTrue = tf.boolean_mask(true, truePositiveMask)\n",
    "    testPred = tf.boolean_mask(pred, truePositiveMask)\n",
    "\n",
    "    #getting iou and threshold comparisons\n",
    "    iou = iou_loss_core(testTrue,testPred) \n",
    "    truePositives = [castF(K.greater(iou, tres)) for tres in tresholds]\n",
    "\n",
    "    #mean of thressholds for true positives and total sum\n",
    "    truePositives = K.mean(K.stack(truePositives, axis=-1), axis=-1)\n",
    "    truePositives = K.sum(truePositives)\n",
    "\n",
    "    #to get images that don't have mask in both true and pred\n",
    "    trueNegatives = (1-true1) * (1 - pred1) # = 1 -true1 - pred1 + true1*pred1\n",
    "    trueNegatives = K.sum(trueNegatives) \n",
    "\n",
    "    return (truePositives + trueNegatives) / castF(K.shape(true)[0])\n",
    "'''"
   ]
  },
  {
   "cell_type": "markdown",
   "metadata": {
    "colab_type": "text",
    "id": "CoksGxbjxfPu"
   },
   "source": [
    "### Model!! ('model')"
   ]
  },
  {
   "cell_type": "markdown",
   "metadata": {
    "colab_type": "text",
    "id": "zBJ_37oKrzZG"
   },
   "source": [
    " ''',kernel_regularizer=regularizers.l2(0.01),\n",
    "                activity_regularizer=regularizers.l1(0.01)))'''"
   ]
  },
  {
   "cell_type": "code",
   "execution_count": 0,
   "metadata": {
    "colab": {},
    "colab_type": "code",
    "id": "sCz3YXPbsmZG"
   },
   "outputs": [],
   "source": [
    "from keras.layers.normalization import BatchNormalization\n",
    "\n",
    "# instantiate model\n",
    "model = Sequential()\n",
    "\n",
    "# we can think of this chunk as the input layer\n",
    "model.add(Dense(64, input_dim=14, init='uniform'))\n",
    "model.add(BatchNormalization())\n",
    "model.add(Activation('relu'))\n",
    "model.add(Dropout(0.5))\n",
    "\n",
    "# we can think of this chunk as the hidden layer    \n",
    "model.add(Dense(64, init='uniform'))\n",
    "model.add(BatchNormalization())\n",
    "model.add(Activation('relu'))\n",
    "model.add(Dropout(0.5))\n",
    "\n",
    "# we can think of this chunk as the output layer\n",
    "model.add(Dense(2, init='uniform'))\n",
    "model.add(BatchNormalization())\n",
    "model.add(Dense(4))\n",
    "\n",
    "# setting up the optimization of our weights \n",
    "sgd = SGD(lr=0.1, decay=1e-6, momentum=0.9, nesterov=True)\n",
    "model.compile(loss='binary_crossentropy', optimizer=sgd)\n",
    "\n",
    "# running the fitting\n",
    "model.fit(X_train, y_train, nb_epoch=20, batch_size=16, show_accuracy=True, validation_split=0.2, verbose = 2)"
   ]
  },
  {
   "cell_type": "code",
   "execution_count": 0,
   "metadata": {
    "colab": {},
    "colab_type": "code",
    "id": "6iAit-mNUkUf"
   },
   "outputs": [],
   "source": [
    "# conv3\n",
    "    for i in range(4):\n",
    "        # down-sampling is performed by conv3_1, conv4_1, and conv5_1 with a stride of 2\n",
    "        strides = (2, 2) if i == 0 else (1, 1)\n",
    "        x = residual_block(x, 256, 512, _strides=strides)\n",
    "\n",
    "    # conv4\n",
    "    for i in range(6):\n",
    "        strides = (2, 2) if i == 0 else (1, 1)\n",
    "        x = residual_block(x, 512, 1024, _strides=strides)\n",
    "\n",
    "    # conv5\n",
    "    for i in range(3):\n",
    "        strides = (2, 2) if i == 0 else (1, 1)\n",
    "        x = residual_block(x, 1024, 2048, _strides=strides)\n",
    "\n",
    "        "
   ]
  },
  {
   "cell_type": "code",
   "execution_count": 0,
   "metadata": {
    "colab": {
     "base_uri": "https://localhost:8080/",
     "height": 208
    },
    "colab_type": "code",
    "executionInfo": {
     "elapsed": 2410,
     "status": "error",
     "timestamp": 1549893442153,
     "user": {
      "displayName": "DIVYANK PANDEY",
      "photoUrl": "",
      "userId": "07089478650029820120"
     },
     "user_tz": -330
    },
    "id": "Jr9LlXY4xa17",
    "outputId": "4de5a539-0dc8-44be-f013-03a6ac179939"
   },
   "outputs": [
    {
     "name": "stdout",
     "output_type": "stream",
     "text": [
      "Train on 13500 samples, validate on 500 samples\n",
      "Epoch 1/30\n",
      "13500/13500 [==============================] - 77s 6ms/step - loss: 8.6673 - acc: 0.3337 - val_loss: 0.1737 - val_acc: 0.4300\n",
      "Epoch 2/30\n",
      "13500/13500 [==============================] - 56s 4ms/step - loss: 0.0254 - acc: 0.5117 - val_loss: 0.0185 - val_acc: 0.6060\n",
      "Epoch 3/30\n",
      "13500/13500 [==============================] - 56s 4ms/step - loss: 0.0161 - acc: 0.6455 - val_loss: 0.0160 - val_acc: 0.6380\n",
      "Epoch 4/30\n",
      "13500/13500 [==============================] - 56s 4ms/step - loss: 0.0150 - acc: 0.6669 - val_loss: 0.0147 - val_acc: 0.6880\n",
      "Epoch 5/30\n",
      " 4320/13500 [========>.....................] - ETA: 37s - loss: 0.0146 - acc: 0.6896"
     ]
    }
   ],
   "source": [
    "from keras import layers\n",
    "from keras import models\n",
    "\n",
    "\n",
    "#\n",
    "# image dimensions\n",
    "#\n",
    "\n",
    "img_height = 100\n",
    "img_width = 100\n",
    "img_channels = 1\n",
    "\n",
    "#\n",
    "# network params\n",
    "#\n",
    "\n",
    "cardinality = 32\n",
    "\n",
    "\n",
    "def residual_network(x):\n",
    "    \"\"\"\n",
    "    ResNeXt by default. For ResNet set `cardinality` = 1 above.\n",
    "    \n",
    "    \"\"\"\n",
    "    def add_common_layers(y):\n",
    "        y = layers.BatchNormalization()(y)\n",
    "        y = layers.LeakyReLU()(y)\n",
    "\n",
    "        return y\n",
    "\n",
    "    def grouped_convolution(y, nb_channels, _strides):\n",
    "        # when `cardinality` == 1 this is just a standard convolution\n",
    "        if cardinality == 1:\n",
    "            return layers.Conv2D(nb_channels, kernel_size=(3, 3), strides=_strides, padding='same')(y)\n",
    "        \n",
    "        assert not nb_channels % cardinality\n",
    "        _d = nb_channels // cardinality\n",
    "\n",
    "        # in a grouped convolution layer, input and output channels are divided into `cardinality` groups,\n",
    "        # and convolutions are separately performed within each group\n",
    "        groups = []\n",
    "        for j in range(cardinality):\n",
    "            group = layers.Lambda(lambda z: z[:, :, :, j * _d:j * _d + _d])(y)\n",
    "            groups.append(layers.Conv2D(_d, kernel_size=(3, 3), strides=_strides, padding='same')(group))\n",
    "            \n",
    "        # the grouped convolutional layer concatenates them as the outputs of the layer\n",
    "        y = layers.concatenate(groups)\n",
    "\n",
    "        return y\n",
    "\n",
    "    def residual_block(y, nb_channels_in, nb_channels_out, _strides=(1, 1), _project_shortcut=False):\n",
    "        \"\"\"\n",
    "        Our network consists of a stack of residual blocks. These blocks have the same topology,\n",
    "        and are subject to two simple rules:\n",
    "        - If producing spatial maps of the same size, the blocks share the same hyper-parameters (width and filter sizes).\n",
    "        - Each time the spatial map is down-sampled by a factor of 2, the width of the blocks is multiplied by a factor of 2.\n",
    "        \"\"\"\n",
    "        shortcut = y\n",
    "\n",
    "        # we modify the residual building block as a bottleneck design to make the network more economical\n",
    "        y = layers.Conv2D(nb_channels_in, kernel_size=(1, 1), strides=(1, 1), padding='same')(y)\n",
    "        y = add_common_layers(y)\n",
    "\n",
    "        # ResNeXt (identical to ResNet when `cardinality` == 1)\n",
    "        y = grouped_convolution(y, nb_channels_in, _strides=_strides)\n",
    "        y = add_common_layers(y)\n",
    "\n",
    "        y = layers.Conv2D(nb_channels_out, kernel_size=(1, 1), strides=(1, 1), padding='same')(y)\n",
    "        # batch normalization is employed after aggregating the transformations and before adding to the shortcut\n",
    "        y = layers.BatchNormalization()(y)\n",
    "\n",
    "        # identity shortcuts used directly when the input and output are of the same dimensions\n",
    "        if _project_shortcut or _strides != (1, 1):\n",
    "            # when the dimensions increase projection shortcut is used to match dimensions (done by 1×1 convolutions)\n",
    "            # when the shortcuts go across feature maps of two sizes, they are performed with a stride of 2\n",
    "            shortcut = layers.Conv2D(nb_channels_out, kernel_size=(1, 1), strides=_strides, padding='same')(shortcut)\n",
    "            shortcut = layers.BatchNormalization()(shortcut)\n",
    "\n",
    "        y = layers.add([shortcut, y])\n",
    "\n",
    "        # relu is performed right after each batch normalization,\n",
    "        # expect for the output of the block where relu is performed after the adding to the shortcut\n",
    "        y = layers.LeakyReLU()(y)\n",
    "\n",
    "        return y\n",
    "\n",
    "    # conv1\n",
    "    x = layers.Conv2D(64, kernel_size=(3, 3), strides=(2, 2), padding='same')(x)\n",
    "    x = add_common_layers(x)\n",
    "\n",
    "    # conv2\n",
    "    x = layers.MaxPool2D(pool_size=(3, 3), strides=(2, 2), padding='same')(x)\n",
    "    for i in range(3):\n",
    "        project_shortcut = True if i == 0 else False\n",
    "        x = residual_block(x, 128, 256, _project_shortcut=project_shortcut)\n",
    "    #conv3\n",
    "    x = layers.Conv2D(256, kernel_size=(3, 3), strides=(2, 2), padding='same')(x)\n",
    "\n",
    "    \n",
    "\n",
    "    x = layers.GlobalAveragePooling2D()(x)\n",
    "    x = layers.Dense(4)(x)\n",
    "\n",
    "    return x\n",
    "\n",
    "\n",
    "image_tensor = layers.Input(shape=(img_height, img_width, img_channels))\n",
    "network_output = residual_network(image_tensor)\n",
    "  \n",
    "model = models.Model(inputs=[image_tensor], outputs=[network_output])\n",
    "model.compile(loss=keras.losses.mean_squared_error,\n",
    "              optimizer=keras.optimizers.Adam(lr=0.001, beta_1=0.95, beta_2=0.999, epsilon=.00000001, decay=0.0, amsgrad=False),\n",
    "              metrics=['accuracy'])\n",
    "\n",
    "model.fit(x_train_new, y_train_new,\n",
    "          batch_size=120,\n",
    "          epochs=30,\n",
    "          verbose=1,\n",
    "          validation_data=(x_test_new, y_test_new))\n",
    "score = model.evaluate(x_test_new, y_test_new, verbose=0)\n",
    "print('Test loss:', score[0])\n",
    "print('Test accuracy:', score[1])"
   ]
  },
  {
   "cell_type": "code",
   "execution_count": 0,
   "metadata": {
    "colab": {},
    "colab_type": "code",
    "id": "bvvmS3X5-eIS"
   },
   "outputs": [],
   "source": [
    "model.fit(x_train_new, y_train_new,\n",
    "          batch_size=120,\n",
    "          epochs=15,\n",
    "          verbose=1,\n",
    "          validation_data=(x_test_new, y_test_new))\n",
    "score = model.evaluate(x_test_new, y_test_new, verbose=0)\n",
    "print('Test loss:', score[0])\n",
    "print('Test accuracy:', score[1])"
   ]
  },
  {
   "cell_type": "code",
   "execution_count": 39,
   "metadata": {
    "colab": {
     "base_uri": "https://localhost:8080/",
     "height": 897
    },
    "colab_type": "code",
    "collapsed": true,
    "executionInfo": {
     "elapsed": 16,
     "status": "error",
     "timestamp": 1549912978664,
     "user": {
      "displayName": "DIVYANK PANDEY",
      "photoUrl": "",
      "userId": "07089478650029820120"
     },
     "user_tz": -330
    },
    "id": "6V2mi6SYxfPw",
    "outputId": "dc2f6186-364a-403c-9776-4c2293e4b155"
   },
   "outputs": [
    {
     "name": "stdout",
     "output_type": "stream",
     "text": [
      "13500/13500 [==============================] - 13s 950us/step - loss: 0.0095 - acc: 0.7979 - val_loss: 0.0130 - val_acc: 0.8140\n",
      "Epoch 46/50\n",
      "  240/13500 [..............................] - ETA: 12s - loss: 0.0088 - acc: 0.8125"
     ]
    },
    {
     "ename": "KeyboardInterrupt",
     "evalue": "ignored",
     "output_type": "error",
     "traceback": [
      "\u001b[0;31m---------------------------------------------------------------------------\u001b[0m",
      "\u001b[0;31mKeyboardInterrupt\u001b[0m                         Traceback (most recent call last)",
      "\u001b[0;32m<ipython-input-39-e6020792cd70>\u001b[0m in \u001b[0;36m<module>\u001b[0;34m()\u001b[0m\n\u001b[1;32m     34\u001b[0m           \u001b[0mepochs\u001b[0m\u001b[0;34m=\u001b[0m\u001b[0mepochs\u001b[0m\u001b[0;34m,\u001b[0m\u001b[0;34m\u001b[0m\u001b[0;34m\u001b[0m\u001b[0m\n\u001b[1;32m     35\u001b[0m           \u001b[0mverbose\u001b[0m\u001b[0;34m=\u001b[0m\u001b[0;36m1\u001b[0m\u001b[0;34m,\u001b[0m\u001b[0;34m\u001b[0m\u001b[0;34m\u001b[0m\u001b[0m\n\u001b[0;32m---> 36\u001b[0;31m           validation_data=(x_test_new, y_test_new))\n\u001b[0m\u001b[1;32m     37\u001b[0m \u001b[0mscore\u001b[0m \u001b[0;34m=\u001b[0m \u001b[0mmodel\u001b[0m\u001b[0;34m.\u001b[0m\u001b[0mevaluate\u001b[0m\u001b[0;34m(\u001b[0m\u001b[0mx_test_new\u001b[0m\u001b[0;34m,\u001b[0m \u001b[0my_test_new\u001b[0m\u001b[0;34m,\u001b[0m \u001b[0mverbose\u001b[0m\u001b[0;34m=\u001b[0m\u001b[0;36m0\u001b[0m\u001b[0;34m)\u001b[0m\u001b[0;34m\u001b[0m\u001b[0;34m\u001b[0m\u001b[0m\n\u001b[1;32m     38\u001b[0m \u001b[0mprint\u001b[0m\u001b[0;34m(\u001b[0m\u001b[0;34m'Test loss:'\u001b[0m\u001b[0;34m,\u001b[0m \u001b[0mscore\u001b[0m\u001b[0;34m[\u001b[0m\u001b[0;36m0\u001b[0m\u001b[0;34m]\u001b[0m\u001b[0;34m)\u001b[0m\u001b[0;34m\u001b[0m\u001b[0;34m\u001b[0m\u001b[0m\n",
      "\u001b[0;32m/usr/local/lib/python3.6/dist-packages/keras/engine/training.py\u001b[0m in \u001b[0;36mfit\u001b[0;34m(self, x, y, batch_size, epochs, verbose, callbacks, validation_split, validation_data, shuffle, class_weight, sample_weight, initial_epoch, steps_per_epoch, validation_steps, **kwargs)\u001b[0m\n\u001b[1;32m   1037\u001b[0m                                         \u001b[0minitial_epoch\u001b[0m\u001b[0;34m=\u001b[0m\u001b[0minitial_epoch\u001b[0m\u001b[0;34m,\u001b[0m\u001b[0;34m\u001b[0m\u001b[0;34m\u001b[0m\u001b[0m\n\u001b[1;32m   1038\u001b[0m                                         \u001b[0msteps_per_epoch\u001b[0m\u001b[0;34m=\u001b[0m\u001b[0msteps_per_epoch\u001b[0m\u001b[0;34m,\u001b[0m\u001b[0;34m\u001b[0m\u001b[0;34m\u001b[0m\u001b[0m\n\u001b[0;32m-> 1039\u001b[0;31m                                         validation_steps=validation_steps)\n\u001b[0m\u001b[1;32m   1040\u001b[0m \u001b[0;34m\u001b[0m\u001b[0m\n\u001b[1;32m   1041\u001b[0m     def evaluate(self, x=None, y=None,\n",
      "\u001b[0;32m/usr/local/lib/python3.6/dist-packages/keras/engine/training_arrays.py\u001b[0m in \u001b[0;36mfit_loop\u001b[0;34m(model, f, ins, out_labels, batch_size, epochs, verbose, callbacks, val_f, val_ins, shuffle, callback_metrics, initial_epoch, steps_per_epoch, validation_steps)\u001b[0m\n\u001b[1;32m    197\u001b[0m                     \u001b[0mins_batch\u001b[0m\u001b[0;34m[\u001b[0m\u001b[0mi\u001b[0m\u001b[0;34m]\u001b[0m \u001b[0;34m=\u001b[0m \u001b[0mins_batch\u001b[0m\u001b[0;34m[\u001b[0m\u001b[0mi\u001b[0m\u001b[0;34m]\u001b[0m\u001b[0;34m.\u001b[0m\u001b[0mtoarray\u001b[0m\u001b[0;34m(\u001b[0m\u001b[0;34m)\u001b[0m\u001b[0;34m\u001b[0m\u001b[0;34m\u001b[0m\u001b[0m\n\u001b[1;32m    198\u001b[0m \u001b[0;34m\u001b[0m\u001b[0m\n\u001b[0;32m--> 199\u001b[0;31m                 \u001b[0mouts\u001b[0m \u001b[0;34m=\u001b[0m \u001b[0mf\u001b[0m\u001b[0;34m(\u001b[0m\u001b[0mins_batch\u001b[0m\u001b[0;34m)\u001b[0m\u001b[0;34m\u001b[0m\u001b[0;34m\u001b[0m\u001b[0m\n\u001b[0m\u001b[1;32m    200\u001b[0m                 \u001b[0mouts\u001b[0m \u001b[0;34m=\u001b[0m \u001b[0mto_list\u001b[0m\u001b[0;34m(\u001b[0m\u001b[0mouts\u001b[0m\u001b[0;34m)\u001b[0m\u001b[0;34m\u001b[0m\u001b[0;34m\u001b[0m\u001b[0m\n\u001b[1;32m    201\u001b[0m                 \u001b[0;32mfor\u001b[0m \u001b[0ml\u001b[0m\u001b[0;34m,\u001b[0m \u001b[0mo\u001b[0m \u001b[0;32min\u001b[0m \u001b[0mzip\u001b[0m\u001b[0;34m(\u001b[0m\u001b[0mout_labels\u001b[0m\u001b[0;34m,\u001b[0m \u001b[0mouts\u001b[0m\u001b[0;34m)\u001b[0m\u001b[0;34m:\u001b[0m\u001b[0;34m\u001b[0m\u001b[0;34m\u001b[0m\u001b[0m\n",
      "\u001b[0;32m/usr/local/lib/python3.6/dist-packages/keras/backend/tensorflow_backend.py\u001b[0m in \u001b[0;36m__call__\u001b[0;34m(self, inputs)\u001b[0m\n\u001b[1;32m   2713\u001b[0m                 \u001b[0;32mreturn\u001b[0m \u001b[0mself\u001b[0m\u001b[0;34m.\u001b[0m\u001b[0m_legacy_call\u001b[0m\u001b[0;34m(\u001b[0m\u001b[0minputs\u001b[0m\u001b[0;34m)\u001b[0m\u001b[0;34m\u001b[0m\u001b[0;34m\u001b[0m\u001b[0m\n\u001b[1;32m   2714\u001b[0m \u001b[0;34m\u001b[0m\u001b[0m\n\u001b[0;32m-> 2715\u001b[0;31m             \u001b[0;32mreturn\u001b[0m \u001b[0mself\u001b[0m\u001b[0;34m.\u001b[0m\u001b[0m_call\u001b[0m\u001b[0;34m(\u001b[0m\u001b[0minputs\u001b[0m\u001b[0;34m)\u001b[0m\u001b[0;34m\u001b[0m\u001b[0;34m\u001b[0m\u001b[0m\n\u001b[0m\u001b[1;32m   2716\u001b[0m         \u001b[0;32melse\u001b[0m\u001b[0;34m:\u001b[0m\u001b[0;34m\u001b[0m\u001b[0;34m\u001b[0m\u001b[0m\n\u001b[1;32m   2717\u001b[0m             \u001b[0;32mif\u001b[0m \u001b[0mpy_any\u001b[0m\u001b[0;34m(\u001b[0m\u001b[0mis_tensor\u001b[0m\u001b[0;34m(\u001b[0m\u001b[0mx\u001b[0m\u001b[0;34m)\u001b[0m \u001b[0;32mfor\u001b[0m \u001b[0mx\u001b[0m \u001b[0;32min\u001b[0m \u001b[0minputs\u001b[0m\u001b[0;34m)\u001b[0m\u001b[0;34m:\u001b[0m\u001b[0;34m\u001b[0m\u001b[0;34m\u001b[0m\u001b[0m\n",
      "\u001b[0;32m/usr/local/lib/python3.6/dist-packages/keras/backend/tensorflow_backend.py\u001b[0m in \u001b[0;36m_call\u001b[0;34m(self, inputs)\u001b[0m\n\u001b[1;32m   2673\u001b[0m             \u001b[0mfetched\u001b[0m \u001b[0;34m=\u001b[0m \u001b[0mself\u001b[0m\u001b[0;34m.\u001b[0m\u001b[0m_callable_fn\u001b[0m\u001b[0;34m(\u001b[0m\u001b[0;34m*\u001b[0m\u001b[0marray_vals\u001b[0m\u001b[0;34m,\u001b[0m \u001b[0mrun_metadata\u001b[0m\u001b[0;34m=\u001b[0m\u001b[0mself\u001b[0m\u001b[0;34m.\u001b[0m\u001b[0mrun_metadata\u001b[0m\u001b[0;34m)\u001b[0m\u001b[0;34m\u001b[0m\u001b[0;34m\u001b[0m\u001b[0m\n\u001b[1;32m   2674\u001b[0m         \u001b[0;32melse\u001b[0m\u001b[0;34m:\u001b[0m\u001b[0;34m\u001b[0m\u001b[0;34m\u001b[0m\u001b[0m\n\u001b[0;32m-> 2675\u001b[0;31m             \u001b[0mfetched\u001b[0m \u001b[0;34m=\u001b[0m \u001b[0mself\u001b[0m\u001b[0;34m.\u001b[0m\u001b[0m_callable_fn\u001b[0m\u001b[0;34m(\u001b[0m\u001b[0;34m*\u001b[0m\u001b[0marray_vals\u001b[0m\u001b[0;34m)\u001b[0m\u001b[0;34m\u001b[0m\u001b[0;34m\u001b[0m\u001b[0m\n\u001b[0m\u001b[1;32m   2676\u001b[0m         \u001b[0;32mreturn\u001b[0m \u001b[0mfetched\u001b[0m\u001b[0;34m[\u001b[0m\u001b[0;34m:\u001b[0m\u001b[0mlen\u001b[0m\u001b[0;34m(\u001b[0m\u001b[0mself\u001b[0m\u001b[0;34m.\u001b[0m\u001b[0moutputs\u001b[0m\u001b[0;34m)\u001b[0m\u001b[0;34m]\u001b[0m\u001b[0;34m\u001b[0m\u001b[0;34m\u001b[0m\u001b[0m\n\u001b[1;32m   2677\u001b[0m \u001b[0;34m\u001b[0m\u001b[0m\n",
      "\u001b[0;32m/usr/local/lib/python3.6/dist-packages/tensorflow/python/client/session.py\u001b[0m in \u001b[0;36m__call__\u001b[0;34m(self, *args, **kwargs)\u001b[0m\n\u001b[1;32m   1437\u001b[0m           ret = tf_session.TF_SessionRunCallable(\n\u001b[1;32m   1438\u001b[0m               \u001b[0mself\u001b[0m\u001b[0;34m.\u001b[0m\u001b[0m_session\u001b[0m\u001b[0;34m.\u001b[0m\u001b[0m_session\u001b[0m\u001b[0;34m,\u001b[0m \u001b[0mself\u001b[0m\u001b[0;34m.\u001b[0m\u001b[0m_handle\u001b[0m\u001b[0;34m,\u001b[0m \u001b[0margs\u001b[0m\u001b[0;34m,\u001b[0m \u001b[0mstatus\u001b[0m\u001b[0;34m,\u001b[0m\u001b[0;34m\u001b[0m\u001b[0;34m\u001b[0m\u001b[0m\n\u001b[0;32m-> 1439\u001b[0;31m               run_metadata_ptr)\n\u001b[0m\u001b[1;32m   1440\u001b[0m         \u001b[0;32mif\u001b[0m \u001b[0mrun_metadata\u001b[0m\u001b[0;34m:\u001b[0m\u001b[0;34m\u001b[0m\u001b[0;34m\u001b[0m\u001b[0m\n\u001b[1;32m   1441\u001b[0m           \u001b[0mproto_data\u001b[0m \u001b[0;34m=\u001b[0m \u001b[0mtf_session\u001b[0m\u001b[0;34m.\u001b[0m\u001b[0mTF_GetBuffer\u001b[0m\u001b[0;34m(\u001b[0m\u001b[0mrun_metadata_ptr\u001b[0m\u001b[0;34m)\u001b[0m\u001b[0;34m\u001b[0m\u001b[0;34m\u001b[0m\u001b[0m\n",
      "\u001b[0;31mKeyboardInterrupt\u001b[0m: "
     ]
    }
   ],
   "source": [
    "from keras.layers.normalization import BatchNormalization\n",
    "\n",
    "\n",
    "model = Sequential()\n",
    "model.add(Conv2D(5, kernel_size=(3, 3),\n",
    "                 activation='relu',\n",
    "                 input_shape=(100,100,1)))\n",
    "model.add(Conv2D(5, (3, 3), activation='relu'))\n",
    "model.add(Conv2D(10, (3, 3), activation = 'relu'))\n",
    "model.add(BatchNormalization())\n",
    "model.add(Conv2D(10, (3, 3), activation = 'relu'))\n",
    "model.add(MaxPooling2D(pool_size=(2, 2)))\n",
    "model.add(Conv2D(15, (3, 3), activation = 'relu'))\n",
    "model.add(BatchNormalization())\n",
    "model.add(Conv2D(20, (3, 3), activation = 'relu'))\n",
    "model.add(Dropout(0.25))\n",
    "model.add(Conv2D(15, (2, 2), activation = 'relu'))\n",
    "model.add(MaxPooling2D(pool_size=(2, 2)))\n",
    "model.add(Conv2D(10, (1, 1), activation = 'relu'))\n",
    "model.add(Dropout(0.25))\n",
    "model.add(Flatten())\n",
    "model.add(Dropout(0.5))\n",
    "model.add(Dense(4))\n",
    "\n",
    "batch_size = 120\n",
    "epochs = 50\n",
    "\n",
    "model.compile(loss=keras.losses.mean_squared_error,\n",
    "              optimizer=keras.optimizers.Adam(lr=0.0001, beta_1=0.9, beta_2=0.999, epsilon=.00000001, decay=0.0, amsgrad=False),\n",
    "              metrics=['accuracy'])\n",
    "\n",
    "model.fit(x_train_new, y_train_new,\n",
    "          batch_size=batch_size,\n",
    "          epochs=epochs,\n",
    "          verbose=1,\n",
    "          validation_data=(x_test_new, y_test_new))\n",
    "score = model.evaluate(x_test_new, y_test_new, verbose=0)\n",
    "print('Test loss:', score[0])\n",
    "print('Test accuracy:', score[1])"
   ]
  },
  {
   "cell_type": "code",
   "execution_count": 130,
   "metadata": {
    "colab": {
     "base_uri": "https://localhost:8080/",
     "height": 1768
    },
    "colab_type": "code",
    "executionInfo": {
     "elapsed": 2008386,
     "status": "ok",
     "timestamp": 1549931433998,
     "user": {
      "displayName": "DIVYANK PANDEY",
      "photoUrl": "",
      "userId": "07089478650029820120"
     },
     "user_tz": -330
    },
    "id": "s7RlLJysBmr6",
    "outputId": "a0aadb7a-7c9e-4733-deb3-52cee42b6062"
   },
   "outputs": [
    {
     "name": "stdout",
     "output_type": "stream",
     "text": [
      "Train on 13500 samples, validate on 500 samples\n",
      "Epoch 1/50\n",
      "13500/13500 [==============================] - 66s 5ms/step - loss: 0.0419 - acc: 0.6564 - val_loss: 0.0100 - val_acc: 0.8060\n",
      "Epoch 2/50\n",
      "13500/13500 [==============================] - 40s 3ms/step - loss: 0.0116 - acc: 0.7804 - val_loss: 0.0090 - val_acc: 0.8380\n",
      "Epoch 3/50\n",
      "13500/13500 [==============================] - 39s 3ms/step - loss: 0.0105 - acc: 0.8019 - val_loss: 0.0098 - val_acc: 0.8300\n",
      "Epoch 4/50\n",
      "13500/13500 [==============================] - 39s 3ms/step - loss: 0.0094 - acc: 0.8162 - val_loss: 0.0077 - val_acc: 0.8460\n",
      "Epoch 5/50\n",
      "13500/13500 [==============================] - 39s 3ms/step - loss: 0.0087 - acc: 0.8292 - val_loss: 0.0072 - val_acc: 0.8520\n",
      "Epoch 6/50\n",
      "13500/13500 [==============================] - 39s 3ms/step - loss: 0.0081 - acc: 0.8279 - val_loss: 0.0069 - val_acc: 0.8480\n",
      "Epoch 7/50\n",
      "13500/13500 [==============================] - 39s 3ms/step - loss: 0.0078 - acc: 0.8387 - val_loss: 0.0067 - val_acc: 0.8480\n",
      "Epoch 8/50\n",
      "13500/13500 [==============================] - 39s 3ms/step - loss: 0.0074 - acc: 0.8431 - val_loss: 0.0066 - val_acc: 0.8140\n",
      "Epoch 9/50\n",
      "13500/13500 [==============================] - 39s 3ms/step - loss: 0.0069 - acc: 0.8492 - val_loss: 0.0060 - val_acc: 0.8620\n",
      "Epoch 10/50\n",
      "13500/13500 [==============================] - 39s 3ms/step - loss: 0.0064 - acc: 0.8572 - val_loss: 0.0058 - val_acc: 0.8660\n",
      "Epoch 11/50\n",
      "13500/13500 [==============================] - 39s 3ms/step - loss: 0.0061 - acc: 0.8629 - val_loss: 0.0077 - val_acc: 0.8740\n",
      "Epoch 12/50\n",
      "13500/13500 [==============================] - 39s 3ms/step - loss: 0.0059 - acc: 0.8637 - val_loss: 0.0054 - val_acc: 0.8740\n",
      "Epoch 13/50\n",
      "13500/13500 [==============================] - 39s 3ms/step - loss: 0.0056 - acc: 0.8659 - val_loss: 0.0055 - val_acc: 0.8800\n",
      "Epoch 14/50\n",
      "13500/13500 [==============================] - 40s 3ms/step - loss: 0.0053 - acc: 0.8700 - val_loss: 0.0052 - val_acc: 0.8780\n",
      "Epoch 15/50\n",
      "13500/13500 [==============================] - 39s 3ms/step - loss: 0.0052 - acc: 0.8710 - val_loss: 0.0053 - val_acc: 0.8720\n",
      "Epoch 16/50\n",
      "13500/13500 [==============================] - 39s 3ms/step - loss: 0.0052 - acc: 0.8744 - val_loss: 0.0052 - val_acc: 0.8880\n",
      "Epoch 17/50\n",
      "13500/13500 [==============================] - 39s 3ms/step - loss: 0.0049 - acc: 0.8751 - val_loss: 0.0053 - val_acc: 0.8940\n",
      "Epoch 18/50\n",
      "13500/13500 [==============================] - 39s 3ms/step - loss: 0.0047 - acc: 0.8778 - val_loss: 0.0052 - val_acc: 0.8820\n",
      "Epoch 19/50\n",
      "13500/13500 [==============================] - 39s 3ms/step - loss: 0.0047 - acc: 0.8770 - val_loss: 0.0055 - val_acc: 0.8680\n",
      "Epoch 20/50\n",
      "13500/13500 [==============================] - 39s 3ms/step - loss: 0.0046 - acc: 0.8774 - val_loss: 0.0049 - val_acc: 0.8800\n",
      "Epoch 21/50\n",
      "13500/13500 [==============================] - 40s 3ms/step - loss: 0.0045 - acc: 0.8803 - val_loss: 0.0048 - val_acc: 0.8720\n",
      "Epoch 22/50\n",
      "13500/13500 [==============================] - 39s 3ms/step - loss: 0.0043 - acc: 0.8863 - val_loss: 0.0051 - val_acc: 0.8740\n",
      "Epoch 23/50\n",
      "13500/13500 [==============================] - 40s 3ms/step - loss: 0.0042 - acc: 0.8816 - val_loss: 0.0050 - val_acc: 0.8800\n",
      "Epoch 24/50\n",
      "13500/13500 [==============================] - 39s 3ms/step - loss: 0.0042 - acc: 0.8830 - val_loss: 0.0048 - val_acc: 0.8720\n",
      "Epoch 25/50\n",
      "13500/13500 [==============================] - 40s 3ms/step - loss: 0.0041 - acc: 0.8845 - val_loss: 0.0045 - val_acc: 0.8900\n",
      "Epoch 26/50\n",
      "13500/13500 [==============================] - 40s 3ms/step - loss: 0.0040 - acc: 0.8859 - val_loss: 0.0048 - val_acc: 0.8840\n",
      "Epoch 27/50\n",
      "13500/13500 [==============================] - 39s 3ms/step - loss: 0.0039 - acc: 0.8890 - val_loss: 0.0054 - val_acc: 0.8720\n",
      "Epoch 28/50\n",
      "13500/13500 [==============================] - 39s 3ms/step - loss: 0.0038 - acc: 0.8888 - val_loss: 0.0048 - val_acc: 0.8800\n",
      "Epoch 29/50\n",
      "13500/13500 [==============================] - 40s 3ms/step - loss: 0.0037 - acc: 0.8936 - val_loss: 0.0047 - val_acc: 0.8700\n",
      "Epoch 30/50\n",
      "13500/13500 [==============================] - 40s 3ms/step - loss: 0.0037 - acc: 0.8943 - val_loss: 0.0045 - val_acc: 0.8800\n",
      "Epoch 31/50\n",
      "13500/13500 [==============================] - 39s 3ms/step - loss: 0.0035 - acc: 0.8950 - val_loss: 0.0046 - val_acc: 0.8780\n",
      "Epoch 32/50\n",
      "13500/13500 [==============================] - 40s 3ms/step - loss: 0.0035 - acc: 0.8924 - val_loss: 0.0045 - val_acc: 0.8780\n",
      "Epoch 33/50\n",
      "13500/13500 [==============================] - 40s 3ms/step - loss: 0.0034 - acc: 0.8930 - val_loss: 0.0047 - val_acc: 0.8900\n",
      "Epoch 34/50\n",
      "13500/13500 [==============================] - 39s 3ms/step - loss: 0.0034 - acc: 0.8903 - val_loss: 0.0050 - val_acc: 0.8900\n",
      "Epoch 35/50\n",
      "13500/13500 [==============================] - 39s 3ms/step - loss: 0.0033 - acc: 0.8952 - val_loss: 0.0044 - val_acc: 0.8900\n",
      "Epoch 36/50\n",
      "13500/13500 [==============================] - 39s 3ms/step - loss: 0.0031 - acc: 0.8963 - val_loss: 0.0048 - val_acc: 0.8860\n",
      "Epoch 37/50\n",
      "13500/13500 [==============================] - 39s 3ms/step - loss: 0.0031 - acc: 0.8973 - val_loss: 0.0046 - val_acc: 0.8940\n",
      "Epoch 38/50\n",
      "13500/13500 [==============================] - 39s 3ms/step - loss: 0.0031 - acc: 0.8931 - val_loss: 0.0042 - val_acc: 0.8960\n",
      "Epoch 39/50\n",
      "13500/13500 [==============================] - 39s 3ms/step - loss: 0.0030 - acc: 0.8993 - val_loss: 0.0042 - val_acc: 0.8820\n",
      "Epoch 40/50\n",
      "13500/13500 [==============================] - 40s 3ms/step - loss: 0.0029 - acc: 0.9004 - val_loss: 0.0042 - val_acc: 0.8840\n",
      "Epoch 41/50\n",
      "13500/13500 [==============================] - 39s 3ms/step - loss: 0.0028 - acc: 0.9030 - val_loss: 0.0041 - val_acc: 0.8920\n",
      "Epoch 42/50\n",
      "13500/13500 [==============================] - 40s 3ms/step - loss: 0.0027 - acc: 0.9000 - val_loss: 0.0039 - val_acc: 0.8920\n",
      "Epoch 43/50\n",
      "13500/13500 [==============================] - 39s 3ms/step - loss: 0.0027 - acc: 0.9007 - val_loss: 0.0045 - val_acc: 0.8860\n",
      "Epoch 44/50\n",
      "13500/13500 [==============================] - 40s 3ms/step - loss: 0.0026 - acc: 0.9046 - val_loss: 0.0043 - val_acc: 0.8960\n",
      "Epoch 45/50\n",
      "13500/13500 [==============================] - 40s 3ms/step - loss: 0.0025 - acc: 0.9038 - val_loss: 0.0041 - val_acc: 0.8960\n",
      "Epoch 46/50\n",
      "13500/13500 [==============================] - 40s 3ms/step - loss: 0.0024 - acc: 0.9047 - val_loss: 0.0044 - val_acc: 0.8940\n",
      "Epoch 47/50\n",
      "13500/13500 [==============================] - 40s 3ms/step - loss: 0.0025 - acc: 0.9086 - val_loss: 0.0043 - val_acc: 0.9060\n",
      "Epoch 48/50\n",
      "13500/13500 [==============================] - 40s 3ms/step - loss: 0.0023 - acc: 0.9073 - val_loss: 0.0039 - val_acc: 0.9040\n",
      "Epoch 49/50\n",
      "13500/13500 [==============================] - 40s 3ms/step - loss: 0.0023 - acc: 0.9079 - val_loss: 0.0044 - val_acc: 0.9120\n",
      "Epoch 50/50\n",
      "13500/13500 [==============================] - 40s 3ms/step - loss: 0.0022 - acc: 0.9061 - val_loss: 0.0040 - val_acc: 0.9020\n",
      "Test loss: 0.003980342669412494\n",
      "Test accuracy: 0.9020000009536743\n"
     ]
    }
   ],
   "source": [
    "model = Sequential()\n",
    "model.add(ZeroPadding2D(padding=(1, 1), data_format=None))\n",
    "model.add(Conv2D(5, kernel_size=(2, 2),\n",
    "                 activation='relu',\n",
    "                 input_shape=(100,100,1)))\n",
    "model.add(Conv2D(5, (2, 2), activation='relu'))\n",
    "model.add(BatchNormalization())\n",
    "model.add(Conv2D(10, (2, 2), activation='relu'))\n",
    "model.add(Conv2D(10, (2, 2), activation='relu'))\n",
    "model.add(ZeroPadding2D(padding=(1, 1), data_format=None))\n",
    "model.add(BatchNormalization())\n",
    "model.add(Conv2D(10, (2, 2), activation='relu'))\n",
    "model.add(Conv2D(10, (2, 2), activation='relu'))\n",
    "model.add(BatchNormalization())\n",
    "model.add(Conv2D(10, (2, 2), activation='relu'))\n",
    "model.add(Conv2D(10, (2, 2), activation='relu'))\n",
    "model.add(BatchNormalization())\n",
    "model.add(Conv2D(10, (2, 2), activation='relu'))\n",
    "model.add(Conv2D(10, (2, 2), activation='relu'))\n",
    "model.add(BatchNormalization())\n",
    "model.add(Conv2D(20, (3, 3), activation='relu'))\n",
    "model.add(Conv2D(20, (3, 3), activation='relu'))\n",
    "model.add(BatchNormalization())\n",
    "model.add(Conv2D(20, (3, 3), activation='relu'))\n",
    "model.add(Conv2D(20, (3, 3), activation='relu'))\n",
    "model.add(AveragePooling2D(pool_size=(2, 2)))\n",
    "model.add(Conv2D(15, (3, 3), activation='relu'))\n",
    "model.add(AveragePooling2D(pool_size=(2, 2)))\n",
    "model.add(Conv2D(30, (3, 3), activation='relu'))\n",
    "model.add(Conv2D(30, (3, 3), activation='relu'))\n",
    "model.add(AveragePooling2D(pool_size=(2, 2)))\n",
    "model.add(Dropout(0.2))\n",
    "model.add(Flatten())\n",
    "model.add(Dense(1600, activation='relu'))\n",
    "model.add(Dropout(0.5))\n",
    "model.add(Dense(4))\n",
    "\n",
    "batch_size = 135\n",
    "epochs = 50\n",
    "\n",
    "model.compile(loss=keras.losses.mean_squared_error,\n",
    "              optimizer=keras.optimizers.Adam(),\n",
    "              metrics=['accuracy'])\n",
    "\n",
    "model.fit(x_train_new, y_train_new,\n",
    "          batch_size=batch_size,\n",
    "          epochs=epochs,\n",
    "          verbose=1,\n",
    "          validation_data=(x_test_new, y_test_new))\n",
    "score = model.evaluate(x_test_new, y_test_new, verbose=0)\n",
    "print('Test loss:', score[0])\n",
    "print('Test accuracy:', score[1])"
   ]
  },
  {
   "cell_type": "code",
   "execution_count": 127,
   "metadata": {
    "colab": {
     "base_uri": "https://localhost:8080/",
     "height": 102
    },
    "colab_type": "code",
    "executionInfo": {
     "elapsed": 28693,
     "status": "ok",
     "timestamp": 1549925699566,
     "user": {
      "displayName": "DIVYANK PANDEY",
      "photoUrl": "",
      "userId": "07089478650029820120"
     },
     "user_tz": -330
    },
    "id": "rylkYX-IMkjp",
    "outputId": "64e1fc57-d4d1-46f6-ded8-bbc8f73435ad"
   },
   "outputs": [
    {
     "name": "stdout",
     "output_type": "stream",
     "text": [
      "Train on 13500 samples, validate on 500 samples\n",
      "Epoch 1/1\n",
      "13500/13500 [==============================] - 28s 2ms/step - loss: 0.0012 - acc: 0.9282 - val_loss: 0.0042 - val_acc: 0.8920\n",
      "Test loss: 0.004228291934356094\n",
      "Test accuracy: 0.8919999990463257\n"
     ]
    }
   ],
   "source": [
    "model.fit(x_train_new, y_train_new,\n",
    "          batch_size=135,\n",
    "          epochs=1,\n",
    "          verbose=1,\n",
    "          validation_data=(x_test_new, y_test_new))\n",
    "score = model.evaluate(x_test_new, y_test_new, verbose=0)\n",
    "print('Test loss:', score[0])\n",
    "print('Test accuracy:', score[1])"
   ]
  },
  {
   "cell_type": "code",
   "execution_count": 93,
   "metadata": {
    "colab": {
     "base_uri": "https://localhost:8080/",
     "height": 136
    },
    "colab_type": "code",
    "executionInfo": {
     "elapsed": 56161,
     "status": "ok",
     "timestamp": 1549924298065,
     "user": {
      "displayName": "DIVYANK PANDEY",
      "photoUrl": "",
      "userId": "07089478650029820120"
     },
     "user_tz": -330
    },
    "id": "0PnWizEsP9SO",
    "outputId": "3d88973d-eca0-45d1-fda6-c07fab4ba69e"
   },
   "outputs": [
    {
     "name": "stdout",
     "output_type": "stream",
     "text": [
      "Train on 13500 samples, validate on 500 samples\n",
      "Epoch 1/2\n",
      "13500/13500 [==============================] - 27s 2ms/step - loss: 0.0018 - acc: 0.9165 - val_loss: 0.0042 - val_acc: 0.8920\n",
      "Epoch 2/2\n",
      "13500/13500 [==============================] - 27s 2ms/step - loss: 0.0018 - acc: 0.9146 - val_loss: 0.0040 - val_acc: 0.8900\n",
      "Test loss: 0.003980171348899603\n",
      "Test accuracy: 0.8899999995231629\n"
     ]
    }
   ],
   "source": [
    "model.fit(x_train_new, y_train_new,\n",
    "          batch_size=135,\n",
    "          epochs=2,\n",
    "          verbose=1,\n",
    "          validation_data=(x_test_new, y_test_new))\n",
    "score = model.evaluate(x_test_new, y_test_new, verbose=0)\n",
    "print('Test loss:', score[0])\n",
    "print('Test accuracy:', score[1])"
   ]
  },
  {
   "cell_type": "code",
   "execution_count": 124,
   "metadata": {
    "colab": {
     "base_uri": "https://localhost:8080/",
     "height": 34
    },
    "colab_type": "code",
    "executionInfo": {
     "elapsed": 1264,
     "status": "ok",
     "timestamp": 1549925583034,
     "user": {
      "displayName": "DIVYANK PANDEY",
      "photoUrl": "",
      "userId": "07089478650029820120"
     },
     "user_tz": -330
    },
    "id": "fod-IqFyMGz5",
    "outputId": "c405909f-4c41-42b9-a46b-cb9df9507f1e"
   },
   "outputs": [
    {
     "name": "stdout",
     "output_type": "stream",
     "text": [
      "0.8310020111113063\n"
     ]
    }
   ],
   "source": [
    "pred = model.predict(x_test_new)\n",
    "\n",
    "IOU = np.zeros((500,1))\n",
    "\n",
    "for i in range(500):\n",
    "  IOU[i,0] = iou(y_test_new[i,:], pred[i,:])\n",
    "  \n",
    "print(np.mean(IOU))\n",
    "\n"
   ]
  },
  {
   "cell_type": "code",
   "execution_count": 0,
   "metadata": {
    "colab": {},
    "colab_type": "code",
    "id": "MmSipv35Lgfd"
   },
   "outputs": [],
   "source": [
    "def iou(y_true, y_pred):\n",
    "\n",
    "  x_t = y_true[0]\n",
    "  y_t = y_true[1]\n",
    "  w_t = y_true[2]\n",
    "  h_t = y_true[3]\n",
    "\n",
    "  # Calculating the Co-ordinates from Center and Length Values (Actual Square)\n",
    "  x1_t = ((2*x_t) - w_t)/2\n",
    "  y1_t = ((2*y_t) - h_t)/2\n",
    "  x2_t = ((2*x_t) + w_t)/2\n",
    "  y2_t = ((2*y_t) + h_t)/2\n",
    "\n",
    "  x_p = y_pred[0]\n",
    "  y_p = y_pred[1]\n",
    "  w_p = y_pred[2]\n",
    "  h_p = y_pred[3]\n",
    "\n",
    "  # Calculating the Co-ordinates from center and length values (Prediction Square)\n",
    "  x1_p = ((2*x_p) - w_p)/2\n",
    "  y1_p = ((2*y_p) - h_p)/2\n",
    "  x2_p = ((2*x_p) + w_p)/2\n",
    "  y2_p = ((2*y_p) + h_p)/2\n",
    "\n",
    "  # Calculating the co-ordinates of intersecting square\n",
    "  x1 = max(x1_t,x1_p)\n",
    "  y1 = max(y1_t,y1_p)\n",
    "  x2 = min(x2_t,x2_p)\n",
    "  y2 = min(y2_t,y2_p)\n",
    "\n",
    "  # Area of Intersection\n",
    "  I_area = (x2-x1)*(y2-y1)\n",
    "\n",
    "  true_area = (x2_t-x1_t)*(y2_t-y1_t)\n",
    "  pred_area = (x2_p-x1_p)*(y2_p-y1_p)\n",
    "\n",
    "  # Union of both regions\n",
    "  U_area = true_area + pred_area - I_area\n",
    "\n",
    "  # Intersection over Union\n",
    "  IOU = I_area/U_area\n",
    "\n",
    "  return IOU"
   ]
  },
  {
   "cell_type": "code",
   "execution_count": 0,
   "metadata": {
    "colab": {},
    "colab_type": "code",
    "id": "rOjs9B9jjLog"
   },
   "outputs": [],
   "source": [
    "from keras.models import load_model\n",
    "model.save('model_0038_83_1.h5')  # creates a HDF5 file 'my_model.h5'\n"
   ]
  },
  {
   "cell_type": "code",
   "execution_count": 0,
   "metadata": {
    "colab": {},
    "colab_type": "code",
    "id": "_Lxx_X5fi_1Z"
   },
   "outputs": [],
   "source": [
    "upload = drive.CreateFile({'title':  'model_0038_83_1.h5'})\n",
    "upload.SetContentFile('model_0038_83_1.h5')\n",
    "upload.Upload()"
   ]
  },
  {
   "cell_type": "code",
   "execution_count": 0,
   "metadata": {
    "colab": {
     "base_uri": "https://localhost:8080/",
     "height": 51
    },
    "colab_type": "code",
    "executionInfo": {
     "elapsed": 6267,
     "status": "ok",
     "timestamp": 1549787974228,
     "user": {
      "displayName": "DIVYANK PANDEY",
      "photoUrl": "",
      "userId": "07089478650029820120"
     },
     "user_tz": -330
    },
    "id": "xE_uk5yF_091",
    "outputId": "b9c7c09d-168a-4354-980c-35c290e0cdb9"
   },
   "outputs": [
    {
     "name": "stdout",
     "output_type": "stream",
     "text": [
      "adc.json      my_mode3.h5  x_test.pickle   y_test.pickle\n",
      "d2c_data.tar  sample_data  x_train.pickle  y_train.pickle\n"
     ]
    }
   ],
   "source": [
    "!ls\n"
   ]
  },
  {
   "cell_type": "markdown",
   "metadata": {
    "colab_type": "text",
    "id": "TqurqNH8ASUC"
   },
   "source": [
    "## Upload weights over Google Drive"
   ]
  },
  {
   "cell_type": "code",
   "execution_count": 0,
   "metadata": {
    "colab": {},
    "colab_type": "code",
    "id": "NXlSJDueB6qs"
   },
   "outputs": [],
   "source": [
    "pred = model.predict(x_test[0:20,:,:,:], batch_size=None, verbose=0, steps=None)"
   ]
  },
  {
   "cell_type": "code",
   "execution_count": 0,
   "metadata": {
    "colab": {
     "base_uri": "https://localhost:8080/",
     "height": 374
    },
    "colab_type": "code",
    "executionInfo": {
     "elapsed": 1829,
     "status": "ok",
     "timestamp": 1549788152159,
     "user": {
      "displayName": "DIVYANK PANDEY",
      "photoUrl": "",
      "userId": "07089478650029820120"
     },
     "user_tz": -330
    },
    "id": "zqnIIqNtCgJf",
    "outputId": "e67acb56-1ec4-4f58-c306-e9bdc77c5c8d"
   },
   "outputs": [
    {
     "name": "stdout",
     "output_type": "stream",
     "text": [
      "[[0.461515   0.46832222 0.6646545  0.86366117]\n",
      " [0.4900547  0.47424704 0.16078061 0.73146963]\n",
      " [0.5066489  0.48252967 0.34943873 0.8118259 ]\n",
      " [0.5206109  0.5092855  0.5705287  0.6992403 ]\n",
      " [0.49113417 0.46084756 0.74124664 0.7876276 ]\n",
      " [0.45627138 0.40394503 0.560188   0.6628771 ]\n",
      " [0.4852527  0.4778113  0.47222722 0.8205329 ]\n",
      " [0.49408415 0.49885827 0.66369426 0.7373235 ]\n",
      " [0.49556896 0.4756223  0.42383897 0.513632  ]\n",
      " [0.4598997  0.53420705 0.9113124  0.5123726 ]\n",
      " [0.44397265 0.4348317  0.9041838  0.48331475]\n",
      " [0.52793354 0.442965   0.65437376 0.7749908 ]\n",
      " [0.5046363  0.48054296 0.8327973  0.8417196 ]\n",
      " [0.4899298  0.4934851  0.29752353 0.7210063 ]\n",
      " [0.529534   0.4796327  0.29335433 0.6420262 ]\n",
      " [0.55048716 0.48901725 0.5755739  0.47041574]\n",
      " [0.46807247 0.4874981  0.8294612  0.46987224]\n",
      " [0.47715417 0.53447956 0.65939134 0.37185448]\n",
      " [0.46615165 0.4882223  0.52729297 0.6090207 ]\n",
      " [0.4917695  0.55527043 0.88789934 0.9601669 ]]\n"
     ]
    },
    {
     "data": {
      "text/plain": [
       "(20, 4)"
      ]
     },
     "execution_count": 22,
     "metadata": {
      "tags": []
     },
     "output_type": "execute_result"
    }
   ],
   "source": [
    "print(pred)\n",
    "pred.shape"
   ]
  },
  {
   "cell_type": "code",
   "execution_count": 0,
   "metadata": {
    "colab": {},
    "colab_type": "code",
    "id": "1jY4PK48CmcV"
   },
   "outputs": [],
   "source": [
    "%matplotlib inline\n"
   ]
  },
  {
   "cell_type": "code",
   "execution_count": 0,
   "metadata": {
    "colab": {
     "base_uri": "https://localhost:8080/",
     "height": 319
    },
    "colab_type": "code",
    "executionInfo": {
     "elapsed": 1608,
     "status": "ok",
     "timestamp": 1549788159897,
     "user": {
      "displayName": "DIVYANK PANDEY",
      "photoUrl": "",
      "userId": "07089478650029820120"
     },
     "user_tz": -330
    },
    "id": "xHQZBfIhCo3u",
    "outputId": "1ad2b6a3-de95-438c-fd5d-a8b0fa0a97b3"
   },
   "outputs": [
    {
     "name": "stdout",
     "output_type": "stream",
     "text": [
      "28 70 21 73\n",
      "25 74 17 74\n"
     ]
    },
    {
     "data": {
      "text/plain": [
       "[<matplotlib.lines.Line2D at 0x7fd9aaa69be0>]"
      ]
     },
     "execution_count": 24,
     "metadata": {
      "tags": []
     },
     "output_type": "execute_result"
    },
    {
     "data": {
      "image/png": "[encoded data removed]",
      "text/plain": [
       "<Figure size 432x288 with 1 Axes>"
      ]
     },
     "metadata": {
      "tags": []
     },
     "output_type": "display_data"
    }
   ],
   "source": [
    "i = 8\n",
    "\n",
    "some = x_test[i,:,:,:]\n",
    "\n",
    "plt.imshow(some.reshape(100,100))\n",
    "#plt.hold()\n",
    "plt.plot(100*pred[i,0],100*pred[i,1],'ro')\n",
    "\n",
    "x1_ = int(100*(2*pred[i,0] - pred[i,2])/2)\n",
    "x2_ = int(100*(2*pred[i,0] + pred[i,2])/2)\n",
    "y1_ = int(100*(2*pred[i,1] - pred[i,3])/2)\n",
    "y2_ = int(100*(2*pred[i,1] + pred[i,3])/2)\n",
    "\n",
    "print(x1_,x2_,y1_,y2_)\n",
    "\n",
    "plt.plot(x1_,y1_,'ro')\n",
    "plt.plot(x2_,y2_,'ro')\n",
    "plt.plot(x2_,y1_,'ro')\n",
    "plt.plot(x1_,y2_,'ro')\n",
    "\n",
    "plt.plot(100*y_test[i,0],100*y_test[i,1],'bo')\n",
    "\n",
    "x1_ = int(100*(2*y_test[i,0] - y_test[i,2])/2)\n",
    "x2_ = int(100*(2*y_test[i,0] + y_test[i,2])/2)\n",
    "y1_ = int(100*(2*y_test[i,1] - y_test[i,3])/2)\n",
    "y2_ = int(100*(2*y_test[i,1] + y_test[i,3])/2)\n",
    "\n",
    "print(x1_,x2_,y1_,y2_)\n",
    "\n",
    "plt.plot(x1_,y1_,'bo')\n",
    "plt.plot(x2_,y2_,'bo')\n",
    "plt.plot(x2_,y1_,'bo')\n",
    "plt.plot(x1_,y2_,'bo')\n"
   ]
  },
  {
   "cell_type": "markdown",
   "metadata": {
    "colab_type": "text",
    "id": "7_WknrKIxfPy"
   },
   "source": [
    "We'll be trying out different types of models via exploring their depth and architectures and see which one gives us best results"
   ]
  },
  {
   "cell_type": "markdown",
   "metadata": {
    "colab_type": "text",
    "id": "IENsI0DMxfP0"
   },
   "source": [
    "### LeNet-5 ( 'model1' )"
   ]
  },
  {
   "cell_type": "code",
   "execution_count": 0,
   "metadata": {
    "colab": {},
    "colab_type": "code",
    "id": "ooq7V0QmxfP0"
   },
   "outputs": [],
   "source": []
  }
 ],
 "metadata": {
  "accelerator": "GPU",
  "colab": {
   "collapsed_sections": [
    "N0gKX4H5xfOS",
    "IENsI0DMxfP0"
   ],
   "name": "Object Localization Training.ipynb",
   "provenance": [],
   "version": "0.3.2"
  },
  "kernelspec": {
   "display_name": "Python 3",
   "language": "python",
   "name": "python3"
  },
  "language_info": {
   "codemirror_mode": {
    "name": "ipython",
    "version": 3
   },
   "file_extension": ".py",
   "mimetype": "text/x-python",
   "name": "python",
   "nbconvert_exporter": "python",
   "pygments_lexer": "ipython3",
   "version": "3.6.4"
  }
 },
 "nbformat": 4,
 "nbformat_minor": 1
}
