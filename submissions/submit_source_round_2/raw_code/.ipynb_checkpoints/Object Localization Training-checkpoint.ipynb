{
 "cells": [
  {
   "cell_type": "markdown",
   "metadata": {},
   "source": [
    "# Loading Images and Normalization"
   ]
  },
  {
   "cell_type": "markdown",
   "metadata": {},
   "source": [
    "### Importing Necessary Libraries"
   ]
  },
  {
   "cell_type": "code",
   "execution_count": 1,
   "metadata": {},
   "outputs": [],
   "source": [
    "import numpy as np\n",
    "import cv2\n",
    "import os\n",
    "import matplotlib.pyplot as plt\n",
    "import pickle\n",
    "import xlrd"
   ]
  },
  {
   "cell_type": "markdown",
   "metadata": {},
   "source": [
    "## Reading 'training.csv'"
   ]
  },
  {
   "cell_type": "markdown",
   "metadata": {},
   "source": [
    "#### Make a set of Image Names and their corresponding Bounding Box Coordinates"
   ]
  },
  {
   "cell_type": "code",
   "execution_count": 2,
   "metadata": {},
   "outputs": [
    {
     "ename": "ValueError",
     "evalue": "invalid literal for int() with base 10: ''",
     "output_type": "error",
     "traceback": [
      "\u001b[1;31m---------------------------------------------------------------------------\u001b[0m",
      "\u001b[1;31mValueError\u001b[0m                                Traceback (most recent call last)",
      "\u001b[1;32m<ipython-input-2-ff4e18ba59a7>\u001b[0m in \u001b[0;36m<module>\u001b[1;34m()\u001b[0m\n\u001b[0;32m     26\u001b[0m     \u001b[0msy\u001b[0m \u001b[1;33m=\u001b[0m \u001b[1;36m100\u001b[0m\u001b[1;33m\u001b[0m\u001b[0m\n\u001b[0;32m     27\u001b[0m \u001b[1;33m\u001b[0m\u001b[0m\n\u001b[1;32m---> 28\u001b[1;33m     \u001b[0mx1\u001b[0m \u001b[1;33m=\u001b[0m \u001b[0mint\u001b[0m\u001b[1;33m(\u001b[0m\u001b[0mnp\u001b[0m\u001b[1;33m.\u001b[0m\u001b[0mceil\u001b[0m\u001b[1;33m(\u001b[0m\u001b[1;33m(\u001b[0m\u001b[1;33m(\u001b[0m\u001b[0msx\u001b[0m\u001b[1;33m/\u001b[0m\u001b[1;36m640\u001b[0m\u001b[1;33m)\u001b[0m\u001b[1;33m)\u001b[0m\u001b[1;33m*\u001b[0m\u001b[0mint\u001b[0m\u001b[1;33m(\u001b[0m\u001b[0msheet\u001b[0m\u001b[1;33m.\u001b[0m\u001b[0mcell_value\u001b[0m\u001b[1;33m(\u001b[0m\u001b[0mi\u001b[0m\u001b[1;33m+\u001b[0m\u001b[1;36m1\u001b[0m\u001b[1;33m,\u001b[0m\u001b[1;36m1\u001b[0m\u001b[1;33m)\u001b[0m\u001b[1;33m)\u001b[0m\u001b[1;33m)\u001b[0m\u001b[1;33m)\u001b[0m\u001b[1;33m\u001b[0m\u001b[0m\n\u001b[0m\u001b[0;32m     29\u001b[0m     \u001b[0mx2\u001b[0m \u001b[1;33m=\u001b[0m \u001b[0mint\u001b[0m\u001b[1;33m(\u001b[0m\u001b[0mnp\u001b[0m\u001b[1;33m.\u001b[0m\u001b[0mceil\u001b[0m\u001b[1;33m(\u001b[0m\u001b[1;33m(\u001b[0m\u001b[1;33m(\u001b[0m\u001b[0msx\u001b[0m\u001b[1;33m/\u001b[0m\u001b[1;36m640\u001b[0m\u001b[1;33m)\u001b[0m\u001b[1;33m)\u001b[0m\u001b[1;33m*\u001b[0m\u001b[0mint\u001b[0m\u001b[1;33m(\u001b[0m\u001b[0msheet\u001b[0m\u001b[1;33m.\u001b[0m\u001b[0mcell_value\u001b[0m\u001b[1;33m(\u001b[0m\u001b[0mi\u001b[0m\u001b[1;33m+\u001b[0m\u001b[1;36m1\u001b[0m\u001b[1;33m,\u001b[0m\u001b[1;36m2\u001b[0m\u001b[1;33m)\u001b[0m\u001b[1;33m)\u001b[0m\u001b[1;33m)\u001b[0m\u001b[1;33m)\u001b[0m\u001b[1;33m\u001b[0m\u001b[0m\n\u001b[0;32m     30\u001b[0m     \u001b[0my1\u001b[0m \u001b[1;33m=\u001b[0m \u001b[0mint\u001b[0m\u001b[1;33m(\u001b[0m\u001b[0mnp\u001b[0m\u001b[1;33m.\u001b[0m\u001b[0mceil\u001b[0m\u001b[1;33m(\u001b[0m\u001b[1;33m(\u001b[0m\u001b[1;33m(\u001b[0m\u001b[0msy\u001b[0m\u001b[1;33m/\u001b[0m\u001b[1;36m480\u001b[0m\u001b[1;33m)\u001b[0m\u001b[1;33m)\u001b[0m\u001b[1;33m*\u001b[0m\u001b[0mint\u001b[0m\u001b[1;33m(\u001b[0m\u001b[0msheet\u001b[0m\u001b[1;33m.\u001b[0m\u001b[0mcell_value\u001b[0m\u001b[1;33m(\u001b[0m\u001b[0mi\u001b[0m\u001b[1;33m+\u001b[0m\u001b[1;36m1\u001b[0m\u001b[1;33m,\u001b[0m\u001b[1;36m3\u001b[0m\u001b[1;33m)\u001b[0m\u001b[1;33m)\u001b[0m\u001b[1;33m)\u001b[0m\u001b[1;33m)\u001b[0m\u001b[1;33m\u001b[0m\u001b[0m\n",
      "\u001b[1;31mValueError\u001b[0m: invalid literal for int() with base 10: ''"
     ]
    }
   ],
   "source": [
    "# To get their (images) locations\n",
    "folder = os.getcwd()\n",
    "parent = os.path.abspath(os.path.join(folder, os.pardir))\n",
    "im_loc = [parent, '/images']\n",
    "im_loc = ''.join(im_loc)\n",
    "\n",
    "# To get the location of 'training.csv'\n",
    "data_loc = [parent,'/training.xlsx']\n",
    "data_loc = ''.join(data_loc)\n",
    "data = xlrd.open_workbook(data_loc)\n",
    "sheet = data.sheet_by_index(0) # This will allow us to extract out the image names from 'training.csv'\n",
    "\n",
    "train = []\n",
    "image_stack = []\n",
    "box_stack = []\n",
    "\n",
    "for i in range(sheet.nrows-1):\n",
    "\n",
    "    image = sheet.cell_value(i+1,0)\n",
    "    img_loc = ''.join([im_loc,'/',image])\n",
    "\n",
    "    exists = os.path.isfile(img_loc)\n",
    "\n",
    "    # Since we'll later resize the images from 640x480 to 100x100, we have to modify the coordinates accordingly\n",
    "    sx = 100 \n",
    "    sy = 100\n",
    "\n",
    "    x1 = int(np.ceil(((sx/640))*int(sheet.cell_value(i+1,1))))\n",
    "    x2 = int(np.ceil(((sx/640))*int(sheet.cell_value(i+1,2))))\n",
    "    y1 = int(np.ceil(((sy/480))*int(sheet.cell_value(i+1,3))))\n",
    "    y2 = int(np.ceil(((sy/480))*int(sheet.cell_value(i+1,4))))\n",
    "    \n",
    "    #Converting the box corner coordinates into center coordinates and box width & height\n",
    "    w = x2-x1\n",
    "    h = y2-y1\n",
    "    x = (x1+x2)/2\n",
    "    y = (y1+y2)/2\n",
    "    \n",
    "    target = [x,y,w,h]\n",
    "    \n",
    "    if exists: # Checking if any such image actually xists in the 'images' folder so to save ourselves from future distress\n",
    "        image_name_stack.append(image)\n",
    "        box_stack.append(target)\n",
    "        train.append(image, target)\n",
    "\n",
    "        # Just for Progress Check\n",
    "        if np.remainder(i,1000)==0:\n",
    "            print(\"{} Images swooped\".format(i))"
   ]
  },
  {
   "cell_type": "code",
   "execution_count": 4,
   "metadata": {},
   "outputs": [],
   "source": [
    "# Simplifying the 'pickling' process as we'll need this quite often\n",
    "def pickleIn(name):    \n",
    "    # 'name' - name of the file we wish to load (should be a string, eg. 'train_batch.pickle')\n",
    "    pickle_in = open(name,'rb')\n",
    "    return pickle.load(pickle_in)\n",
    "\n",
    "def pickleOut(name, to_be_stored):\n",
    "    # 'name' - name of the file we wish to store (should be a string, eg. 'train_batch.pickle')\n",
    "    # 'to_be_stored' - the variable of which we'll be making the \"pickle\" \n",
    "    pickle_out = open(name,'wb')\n",
    "    pickle.dump(to_be_stored, pickle_out)\n",
    "    pickle_out.close"
   ]
  },
  {
   "cell_type": "code",
   "execution_count": null,
   "metadata": {},
   "outputs": [],
   "source": [
    "pickleOut('train.pickle', train) # Makes a pickle out of the variable 'train' and stores into local storage"
   ]
  },
  {
   "cell_type": "code",
   "execution_count": null,
   "metadata": {},
   "outputs": [],
   "source": []
  },
  {
   "cell_type": "markdown",
   "metadata": {},
   "source": [
    "## Loading Images and Noramlization"
   ]
  },
  {
   "cell_type": "code",
   "execution_count": null,
   "metadata": {},
   "outputs": [],
   "source": [
    "loc = \"C:\\\\Users\\\\npl\\\\Desktop\\\\Divyanshu\\\\Competition\\\\Dare2Complete\\\\Round_2\\\\images\\\\\"\n",
    "\n",
    "X = [] # To store all the training Images\n",
    "y = [] # To store all the training targets\n",
    "\n",
    "i = 0\n",
    "\n",
    "for image, target in train:\n",
    "    im_loc = [loc, image] \n",
    "    im_loc = ''.join(im_loc)\n",
    "    \n",
    "    im = cv2.imread(im_loc, cv2.IMREAD_GRAYSCALE) # Reads the images as grayscale\n",
    "    im = cv2.resize(im, (100,100)) # Resize from 640x480 to 100x100\n",
    "    \n",
    "    X.append(im/255) # Append images into X while also normalizing them (by dividing by 255)\n",
    "    y.append(target) # Append targets into y\n",
    "    \n",
    "    i += 1     \n",
    "\n",
    "    if np.remainder(i, 500) == 0:\n",
    "        print(i)"
   ]
  },
  {
   "cell_type": "markdown",
   "metadata": {},
   "source": [
    "#### 'Pickling' of dataset into storage"
   ]
  },
  {
   "cell_type": "markdown",
   "metadata": {},
   "source": [
    "##### Pickling is done in smaller chunks so that whole RAM isn't used up at once by this particular process. "
   ]
  },
  {
   "cell_type": "code",
   "execution_count": null,
   "metadata": {},
   "outputs": [],
   "source": [
    "pickleOut('X[0_2000].pickle',X[0:2000])"
   ]
  },
  {
   "cell_type": "code",
   "execution_count": null,
   "metadata": {},
   "outputs": [],
   "source": [
    "pickleOut('X[2000_4000].pickle',X[2000:4000])"
   ]
  },
  {
   "cell_type": "code",
   "execution_count": null,
   "metadata": {},
   "outputs": [],
   "source": [
    "pickleOut('X[4000_6000].pickle',X[4000:6000])"
   ]
  },
  {
   "cell_type": "code",
   "execution_count": null,
   "metadata": {},
   "outputs": [],
   "source": [
    "pickleOut('X[6000_8000].pickle',X[6000:8000])"
   ]
  },
  {
   "cell_type": "code",
   "execution_count": null,
   "metadata": {},
   "outputs": [],
   "source": [
    "pickleOut('X[8000_10000].pickle',X[8000:10000])"
   ]
  },
  {
   "cell_type": "code",
   "execution_count": null,
   "metadata": {},
   "outputs": [],
   "source": [
    "pickleOut('X[10000_12000].pickle',X[10000:12000])"
   ]
  },
  {
   "cell_type": "code",
   "execution_count": null,
   "metadata": {},
   "outputs": [],
   "source": [
    "pickleOut('X[12000_14000].pickle',X[12000:14000])"
   ]
  },
  {
   "cell_type": "code",
   "execution_count": null,
   "metadata": {},
   "outputs": [],
   "source": [
    "pickleOut('y.pickle',y)"
   ]
  },
  {
   "cell_type": "markdown",
   "metadata": {},
   "source": [
    "# Training"
   ]
  },
  {
   "cell_type": "markdown",
   "metadata": {},
   "source": [
    "### Importing Necessary Libraries"
   ]
  },
  {
   "cell_type": "code",
   "execution_count": 3,
   "metadata": {},
   "outputs": [
    {
     "name": "stderr",
     "output_type": "stream",
     "text": [
      "C:\\Users\\npl\\Anaconda3\\lib\\site-packages\\h5py\\__init__.py:36: FutureWarning: Conversion of the second argument of issubdtype from `float` to `np.floating` is deprecated. In future, it will be treated as `np.float64 == np.dtype(float).type`.\n",
      "  from ._conv import register_converters as _register_converters\n",
      "Using TensorFlow backend.\n"
     ]
    }
   ],
   "source": [
    "import tensorflow as tf\n",
    "import keras\n",
    "from keras.models import Sequential\n",
    "from keras.layers import Dense, Conv2D, MaxPooling2D, Dropout, Activation, Flatten\n",
    "import keras.backend as K"
   ]
  },
  {
   "cell_type": "markdown",
   "metadata": {},
   "source": [
    "### Loading X and Y from 'X_and_y.tar'"
   ]
  },
  {
   "cell_type": "code",
   "execution_count": null,
   "metadata": {},
   "outputs": [],
   "source": [
    "#!tar -x -f Race.tar"
   ]
  },
  {
   "cell_type": "code",
   "execution_count": 5,
   "metadata": {
    "collapsed": true
   },
   "outputs": [
    {
     "name": "stdout",
     "output_type": "stream",
     "text": [
      "Batch 0 appended\n",
      "Batch 1 appended\n",
      "Batch 2 appended\n",
      "Batch 3 appended\n",
      "Batch 4 appended\n",
      "Batch 5 appended\n",
      "Batch 6 appended\n"
     ]
    }
   ],
   "source": [
    "loc = ''\n",
    "\n",
    "X = []\n",
    "for i in range(7):\n",
    "    name = [loc,'X[',str(2000*i),'_',str(2000*(i+1)),'].pickle']\n",
    "    name = ''.join(name)\n",
    "    X.append(pickleIn(name))\n",
    "    print('Batch {} appended'.format(i))\n",
    "    \n",
    "yloc = [loc, 'y.pickle']\n",
    "yloc = ''.join(yloc)\n",
    "y = pickleIn(yloc)    "
   ]
  },
  {
   "cell_type": "code",
   "execution_count": 39,
   "metadata": {
    "collapsed": true
   },
   "outputs": [
    {
     "name": "stdout",
     "output_type": "stream",
     "text": [
      "[0.50703125, 0.578125, 0.35156250000000006, 0.7354166666666666]\n"
     ]
    },
    {
     "data": {
      "text/plain": [
       "<matplotlib.image.AxesImage at 0x1aaec4632b0>"
      ]
     },
     "execution_count": 39,
     "metadata": {},
     "output_type": "execute_result"
    },
    {
     "data": {
      "image/png": "[encoded data removed]",
      "text/plain": [
       "<matplotlib.figure.Figure at 0x1aaea61ee48>"
      ]
     },
     "metadata": {},
     "output_type": "display_data"
    }
   ],
   "source": [
    "%matplotlib inline\n",
    "print(y[13999])\n",
    "plt.imshow(X[6][0].reshape(100,100),cmap='gray')"
   ]
  },
  {
   "cell_type": "markdown",
   "metadata": {},
   "source": [
    "## Train-Test Set Preparation"
   ]
  },
  {
   "cell_type": "markdown",
   "metadata": {},
   "source": [
    "### Making of 4-D Array to store images"
   ]
  },
  {
   "cell_type": "code",
   "execution_count": 29,
   "metadata": {},
   "outputs": [],
   "source": [
    "Whole = np.zeros((14000,100,100,1))"
   ]
  },
  {
   "cell_type": "code",
   "execution_count": 31,
   "metadata": {},
   "outputs": [],
   "source": [
    "k = 0\n",
    "for i in range(7):\n",
    "    for j in range(2000):\n",
    "        Whole[k,:,:,:] = X[i][j].reshape(100,100,1)\n",
    "        k += 1"
   ]
  },
  {
   "cell_type": "code",
   "execution_count": 36,
   "metadata": {
    "collapsed": true
   },
   "outputs": [
    {
     "name": "stdout",
     "output_type": "stream",
     "text": [
      "0.6251694117647058\n"
     ]
    },
    {
     "data": {
      "image/png": "[encoded data removed]",
      "text/plain": [
       "<matplotlib.figure.Figure at 0x1aaea61e2e8>"
      ]
     },
     "metadata": {},
     "output_type": "display_data"
    }
   ],
   "source": [
    "%matplotlib inline\n",
    "plt.imshow(X[0][0].reshape(100,100))\n",
    "print(np.mean(Whole[0,:,:,:]))"
   ]
  },
  {
   "cell_type": "code",
   "execution_count": 37,
   "metadata": {},
   "outputs": [],
   "source": [
    "pickleOut('Whole_4D.pickle', Whole)"
   ]
  },
  {
   "cell_type": "code",
   "execution_count": 5,
   "metadata": {},
   "outputs": [],
   "source": [
    "Whole = pickleIn('Whole_4D.pickle')"
   ]
  },
  {
   "cell_type": "code",
   "execution_count": 7,
   "metadata": {},
   "outputs": [],
   "source": [
    "y = pickleIn('y.pickle')"
   ]
  },
  {
   "cell_type": "markdown",
   "metadata": {},
   "source": [
    "### Converting 'y' from 'list' to 'NumPy array' "
   ]
  },
  {
   "cell_type": "code",
   "execution_count": null,
   "metadata": {},
   "outputs": [],
   "source": [
    "y_ = np.zeros((14000, 4))\n",
    "\n",
    "for i in range(14000):\n",
    "    y_[i,0] = y[i][0]\n",
    "    y_[i,1] = y[i][1]\n",
    "    y_[i,2] = y[i][2]\n",
    "    y_[i,3] = y[i][3]"
   ]
  },
  {
   "cell_type": "code",
   "execution_count": 26,
   "metadata": {},
   "outputs": [],
   "source": [
    "x_train = Whole[0:12000, :,:,:]\n",
    "x_test = Whole[12000:14000, :,:,:]\n",
    "y_train = y_[0:12000,:] \n",
    "y_test = y_[12000:14000,:]"
   ]
  },
  {
   "cell_type": "code",
   "execution_count": 28,
   "metadata": {},
   "outputs": [
    {
     "data": {
      "text/plain": [
       "(2000, 4)"
      ]
     },
     "execution_count": 28,
     "metadata": {},
     "output_type": "execute_result"
    }
   ],
   "source": [
    "y_test.shape"
   ]
  },
  {
   "cell_type": "markdown",
   "metadata": {},
   "source": [
    "### Storing Train-Test Set in Local Memory"
   ]
  },
  {
   "cell_type": "code",
   "execution_count": 29,
   "metadata": {},
   "outputs": [],
   "source": [
    "pickleOut('x_train.pickle', x_train)\n",
    "pickleOut('y_train.pickle', y_train)\n",
    "pickleOut('x_test.pickle',  x_test)\n",
    "pickleOut('y_test.pickle',  y_test)"
   ]
  },
  {
   "cell_type": "markdown",
   "metadata": {},
   "source": [
    "## Our Model(s)"
   ]
  },
  {
   "cell_type": "markdown",
   "metadata": {},
   "source": [
    "###### Potential IOU Procedures\n",
    "\n",
    "###### Number 1 (Mine)\n",
    "'''\n",
    "Custom Metrics for keras\n",
    "\n",
    "def iou(y_true, y_pred):\n",
    "   \n",
    "    x_t = tf.constant(y_true[0])\n",
    "    y_t = tf.constant(y_true[1])\n",
    "    w_t = tf.constant(y_true[2])\n",
    "    h_t = tf.constant(y_true[3])\n",
    "    \n",
    "    # Calculating the Co-ordinates from Center and Length Values (Actual Square)\n",
    "    x1_t = tf.math.divide(tf.math.subtract(tf.math.multiply(2,x_t),w_t),2)\n",
    "    y1_t = tf.math.divide(tf.math.subtract(tf.math.multiply(2,y_t),h_t),2)\n",
    "    x2_t = tf.math.divide(tf.math.add(tf.math.multiply(2,x_t),w_t),2)\n",
    "    y2_t = tf.math.divide(tf.math.add(tf.math.multiply(2,h_t),h_t),2)\n",
    "    \n",
    "    x_p = tf.constant(y_pred[0])\n",
    "    y_p = tf.constant(y_pred[1])\n",
    "    w_p = tf.constant(y_pred[2])\n",
    "    h_p = tf.constant(y_pred[3])\n",
    "    \n",
    "    # Calculating the Co-ordinates from center and length values (Prediction Square)\n",
    "    x1_p = tf.math.divide(tf.math.subtract(tf.math.multiply(2,x_p),w_p),2)\n",
    "    y1_p = tf.math.divide(tf.math.subtract(tf.math.multiply(2,y_p),h_p),2)\n",
    "    x2_p = tf.math.divide(tf.math.add(tf.math.multiply(2,x_p),w_p),2)\n",
    "    y2_p = tf.math.divide(tf.math.add(tf.math.multiply(2,h_p),h_p),2)\n",
    "    \n",
    "    # Calculating the co-ordinates of intersecting square\n",
    "    x1 = tf.maximum((x1_t, x1_p), axis=None, keepdims=False)\n",
    "    y1 = tf.maximum((y1_t, y1_p), axis=None, keepdims=False)\n",
    "    x2 = tf.minimum((x2_t, x2_p), axis=None, keepdims=False)\n",
    "    y2 = tf.minimum((y2_t, y2_p), axis=None, keepdims=False)\n",
    "    \n",
    "    # Area of Intersection\n",
    "    I_area = tf.math.multiply(tf.math.subtract(x2,x1),tf.math.subtract(y2-y1))\n",
    "    \n",
    "    true_area = tf.math.multiply(tf.math.subtract(x2_t,x1_t),tf.math.subtract(y2_t,y1_t))\n",
    "    pred_area = tf.math.multiply(tf.math.subtract(x2_p,x1_p),tf.math.subtract(y2_p,y1_p))\n",
    "    \n",
    "    # Union of both regions\n",
    "    U_area = tf.math.subtract(tf.math.add(true_area, pred_area), I_area)\n",
    "        \n",
    "    # Intersection over Union\n",
    "    IOU = tf.math.divide(I_area,U_area)\n",
    "    \n",
    "    return IOU\n",
    "    \n",
    "    \n",
    "'''\n",
    "\n",
    "###### Number 2 \n",
    "'''\n",
    "def castF(x):\n",
    "    return K.cast(x, K.floatx())\n",
    "\n",
    "def castB(x):\n",
    "    return K.cast(x, bool)\n",
    "\n",
    "def iou_loss_core(true,pred):  #this can be used as a loss if you make it negative\n",
    "    intersection = true * pred\n",
    "    notTrue = 1 - true\n",
    "    union = true + (notTrue * pred)\n",
    "\n",
    "    return (K.sum(intersection, axis=-1) + K.epsilon()) / (K.sum(union, axis=-1) + K.epsilon())\n",
    "\n",
    "def competitionMetric2(true, pred): #any shape can go - can't be a loss function\n",
    "\n",
    "    tresholds = [0.5 + (i*.05)  for i in range(10)]\n",
    "\n",
    "    #flattened images (batch, pixels)\n",
    "    true = K.batch_flatten(true)\n",
    "    pred = K.batch_flatten(pred)\n",
    "    pred = castF(K.greater(pred, 0.5))\n",
    "\n",
    "    #total white pixels - (batch,)\n",
    "    trueSum = K.sum(true, axis=-1)\n",
    "    predSum = K.sum(pred, axis=-1)\n",
    "\n",
    "    #has mask or not per image - (batch,)\n",
    "    true1 = castF(K.greater(trueSum, 1))    \n",
    "    pred1 = castF(K.greater(predSum, 1))\n",
    "\n",
    "    #to get images that have mask in both true and pred\n",
    "    truePositiveMask = castB(true1 * pred1)\n",
    "\n",
    "    #separating only the possible true positives to check iou\n",
    "    testTrue = tf.boolean_mask(true, truePositiveMask)\n",
    "    testPred = tf.boolean_mask(pred, truePositiveMask)\n",
    "\n",
    "    #getting iou and threshold comparisons\n",
    "    iou = iou_loss_core(testTrue,testPred) \n",
    "    truePositives = [castF(K.greater(iou, tres)) for tres in tresholds]\n",
    "\n",
    "    #mean of thressholds for true positives and total sum\n",
    "    truePositives = K.mean(K.stack(truePositives, axis=-1), axis=-1)\n",
    "    truePositives = K.sum(truePositives)\n",
    "\n",
    "    #to get images that don't have mask in both true and pred\n",
    "    trueNegatives = (1-true1) * (1 - pred1) # = 1 -true1 - pred1 + true1*pred1\n",
    "    trueNegatives = K.sum(trueNegatives) \n",
    "\n",
    "    return (truePositives + trueNegatives) / castF(K.shape(true)[0])\n",
    "'''"
   ]
  },
  {
   "cell_type": "markdown",
   "metadata": {},
   "source": [
    "### Model!! ('model')"
   ]
  },
  {
   "cell_type": "code",
   "execution_count": 56,
   "metadata": {
    "collapsed": true
   },
   "outputs": [
    {
     "name": "stdout",
     "output_type": "stream",
     "text": [
      "Train on 12000 samples, validate on 2000 samples\n",
      "Epoch 1/12\n",
      " 4096/12000 [=========>....................] - ETA: 22:58 - loss: 0.1291 - competitionMetric2: 2.4414e-04  - ETA: 5:02:39 - loss: 0.1427 - "
     ]
    },
    {
     "ename": "KeyboardInterrupt",
     "evalue": "",
     "output_type": "error",
     "traceback": [
      "\u001b[1;31m---------------------------------------------------------------------------\u001b[0m",
      "\u001b[1;31mKeyboardInterrupt\u001b[0m                         Traceback (most recent call last)",
      "\u001b[1;32m<ipython-input-56-fe22604c9325>\u001b[0m in \u001b[0;36m<module>\u001b[1;34m()\u001b[0m\n\u001b[0;32m     72\u001b[0m           \u001b[0mepochs\u001b[0m\u001b[1;33m=\u001b[0m\u001b[0mepochs\u001b[0m\u001b[1;33m,\u001b[0m\u001b[1;33m\u001b[0m\u001b[0m\n\u001b[0;32m     73\u001b[0m           \u001b[0mverbose\u001b[0m\u001b[1;33m=\u001b[0m\u001b[1;36m1\u001b[0m\u001b[1;33m,\u001b[0m\u001b[1;33m\u001b[0m\u001b[0m\n\u001b[1;32m---> 74\u001b[1;33m           validation_data=(x_test, y_test))\n\u001b[0m\u001b[0;32m     75\u001b[0m \u001b[0mscore\u001b[0m \u001b[1;33m=\u001b[0m \u001b[0mmodel\u001b[0m\u001b[1;33m.\u001b[0m\u001b[0mevaluate\u001b[0m\u001b[1;33m(\u001b[0m\u001b[0mx_test\u001b[0m\u001b[1;33m,\u001b[0m \u001b[0my_test\u001b[0m\u001b[1;33m,\u001b[0m \u001b[0mverbose\u001b[0m\u001b[1;33m=\u001b[0m\u001b[1;36m0\u001b[0m\u001b[1;33m)\u001b[0m\u001b[1;33m\u001b[0m\u001b[0m\n\u001b[0;32m     76\u001b[0m \u001b[0mprint\u001b[0m\u001b[1;33m(\u001b[0m\u001b[1;34m'Test loss:'\u001b[0m\u001b[1;33m,\u001b[0m \u001b[0mscore\u001b[0m\u001b[1;33m[\u001b[0m\u001b[1;36m0\u001b[0m\u001b[1;33m]\u001b[0m\u001b[1;33m)\u001b[0m\u001b[1;33m\u001b[0m\u001b[0m\n",
      "\u001b[1;32m~\\Anaconda3\\lib\\site-packages\\keras\\engine\\training.py\u001b[0m in \u001b[0;36mfit\u001b[1;34m(self, x, y, batch_size, epochs, verbose, callbacks, validation_split, validation_data, shuffle, class_weight, sample_weight, initial_epoch, steps_per_epoch, validation_steps, **kwargs)\u001b[0m\n\u001b[0;32m   1037\u001b[0m                                         \u001b[0minitial_epoch\u001b[0m\u001b[1;33m=\u001b[0m\u001b[0minitial_epoch\u001b[0m\u001b[1;33m,\u001b[0m\u001b[1;33m\u001b[0m\u001b[0m\n\u001b[0;32m   1038\u001b[0m                                         \u001b[0msteps_per_epoch\u001b[0m\u001b[1;33m=\u001b[0m\u001b[0msteps_per_epoch\u001b[0m\u001b[1;33m,\u001b[0m\u001b[1;33m\u001b[0m\u001b[0m\n\u001b[1;32m-> 1039\u001b[1;33m                                         validation_steps=validation_steps)\n\u001b[0m\u001b[0;32m   1040\u001b[0m \u001b[1;33m\u001b[0m\u001b[0m\n\u001b[0;32m   1041\u001b[0m     def evaluate(self, x=None, y=None,\n",
      "\u001b[1;32m~\\Anaconda3\\lib\\site-packages\\keras\\engine\\training_arrays.py\u001b[0m in \u001b[0;36mfit_loop\u001b[1;34m(model, f, ins, out_labels, batch_size, epochs, verbose, callbacks, val_f, val_ins, shuffle, callback_metrics, initial_epoch, steps_per_epoch, validation_steps)\u001b[0m\n\u001b[0;32m    183\u001b[0m                         \u001b[1;31m# Do not slice the training phase flag.\u001b[0m\u001b[1;33m\u001b[0m\u001b[1;33m\u001b[0m\u001b[0m\n\u001b[0;32m    184\u001b[0m                         ins_batch = slice_arrays(\n\u001b[1;32m--> 185\u001b[1;33m                             ins[:-1], batch_ids) + [ins[-1]]\n\u001b[0m\u001b[0;32m    186\u001b[0m                     \u001b[1;32melse\u001b[0m\u001b[1;33m:\u001b[0m\u001b[1;33m\u001b[0m\u001b[0m\n\u001b[0;32m    187\u001b[0m                         \u001b[0mins_batch\u001b[0m \u001b[1;33m=\u001b[0m \u001b[0mslice_arrays\u001b[0m\u001b[1;33m(\u001b[0m\u001b[0mins\u001b[0m\u001b[1;33m,\u001b[0m \u001b[0mbatch_ids\u001b[0m\u001b[1;33m)\u001b[0m\u001b[1;33m\u001b[0m\u001b[0m\n",
      "\u001b[1;32m~\\Anaconda3\\lib\\site-packages\\keras\\utils\\generic_utils.py\u001b[0m in \u001b[0;36mslice_arrays\u001b[1;34m(arrays, start, stop)\u001b[0m\n\u001b[0;32m    524\u001b[0m             \u001b[1;32mif\u001b[0m \u001b[0mhasattr\u001b[0m\u001b[1;33m(\u001b[0m\u001b[0mstart\u001b[0m\u001b[1;33m,\u001b[0m \u001b[1;34m'shape'\u001b[0m\u001b[1;33m)\u001b[0m\u001b[1;33m:\u001b[0m\u001b[1;33m\u001b[0m\u001b[0m\n\u001b[0;32m    525\u001b[0m                 \u001b[0mstart\u001b[0m \u001b[1;33m=\u001b[0m \u001b[0mstart\u001b[0m\u001b[1;33m.\u001b[0m\u001b[0mtolist\u001b[0m\u001b[1;33m(\u001b[0m\u001b[1;33m)\u001b[0m\u001b[1;33m\u001b[0m\u001b[0m\n\u001b[1;32m--> 526\u001b[1;33m             \u001b[1;32mreturn\u001b[0m \u001b[1;33m[\u001b[0m\u001b[1;32mNone\u001b[0m \u001b[1;32mif\u001b[0m \u001b[0mx\u001b[0m \u001b[1;32mis\u001b[0m \u001b[1;32mNone\u001b[0m \u001b[1;32melse\u001b[0m \u001b[0mx\u001b[0m\u001b[1;33m[\u001b[0m\u001b[0mstart\u001b[0m\u001b[1;33m]\u001b[0m \u001b[1;32mfor\u001b[0m \u001b[0mx\u001b[0m \u001b[1;32min\u001b[0m \u001b[0marrays\u001b[0m\u001b[1;33m]\u001b[0m\u001b[1;33m\u001b[0m\u001b[0m\n\u001b[0m\u001b[0;32m    527\u001b[0m         \u001b[1;32melse\u001b[0m\u001b[1;33m:\u001b[0m\u001b[1;33m\u001b[0m\u001b[0m\n\u001b[0;32m    528\u001b[0m             \u001b[1;32mreturn\u001b[0m \u001b[1;33m[\u001b[0m\u001b[1;32mNone\u001b[0m \u001b[1;32mif\u001b[0m \u001b[0mx\u001b[0m \u001b[1;32mis\u001b[0m \u001b[1;32mNone\u001b[0m \u001b[1;32melse\u001b[0m \u001b[0mx\u001b[0m\u001b[1;33m[\u001b[0m\u001b[0mstart\u001b[0m\u001b[1;33m:\u001b[0m\u001b[0mstop\u001b[0m\u001b[1;33m]\u001b[0m \u001b[1;32mfor\u001b[0m \u001b[0mx\u001b[0m \u001b[1;32min\u001b[0m \u001b[0marrays\u001b[0m\u001b[1;33m]\u001b[0m\u001b[1;33m\u001b[0m\u001b[0m\n",
      "\u001b[1;32m~\\Anaconda3\\lib\\site-packages\\keras\\utils\\generic_utils.py\u001b[0m in \u001b[0;36m<listcomp>\u001b[1;34m(.0)\u001b[0m\n\u001b[0;32m    524\u001b[0m             \u001b[1;32mif\u001b[0m \u001b[0mhasattr\u001b[0m\u001b[1;33m(\u001b[0m\u001b[0mstart\u001b[0m\u001b[1;33m,\u001b[0m \u001b[1;34m'shape'\u001b[0m\u001b[1;33m)\u001b[0m\u001b[1;33m:\u001b[0m\u001b[1;33m\u001b[0m\u001b[0m\n\u001b[0;32m    525\u001b[0m                 \u001b[0mstart\u001b[0m \u001b[1;33m=\u001b[0m \u001b[0mstart\u001b[0m\u001b[1;33m.\u001b[0m\u001b[0mtolist\u001b[0m\u001b[1;33m(\u001b[0m\u001b[1;33m)\u001b[0m\u001b[1;33m\u001b[0m\u001b[0m\n\u001b[1;32m--> 526\u001b[1;33m             \u001b[1;32mreturn\u001b[0m \u001b[1;33m[\u001b[0m\u001b[1;32mNone\u001b[0m \u001b[1;32mif\u001b[0m \u001b[0mx\u001b[0m \u001b[1;32mis\u001b[0m \u001b[1;32mNone\u001b[0m \u001b[1;32melse\u001b[0m \u001b[0mx\u001b[0m\u001b[1;33m[\u001b[0m\u001b[0mstart\u001b[0m\u001b[1;33m]\u001b[0m \u001b[1;32mfor\u001b[0m \u001b[0mx\u001b[0m \u001b[1;32min\u001b[0m \u001b[0marrays\u001b[0m\u001b[1;33m]\u001b[0m\u001b[1;33m\u001b[0m\u001b[0m\n\u001b[0m\u001b[0;32m    527\u001b[0m         \u001b[1;32melse\u001b[0m\u001b[1;33m:\u001b[0m\u001b[1;33m\u001b[0m\u001b[0m\n\u001b[0;32m    528\u001b[0m             \u001b[1;32mreturn\u001b[0m \u001b[1;33m[\u001b[0m\u001b[1;32mNone\u001b[0m \u001b[1;32mif\u001b[0m \u001b[0mx\u001b[0m \u001b[1;32mis\u001b[0m \u001b[1;32mNone\u001b[0m \u001b[1;32melse\u001b[0m \u001b[0mx\u001b[0m\u001b[1;33m[\u001b[0m\u001b[0mstart\u001b[0m\u001b[1;33m:\u001b[0m\u001b[0mstop\u001b[0m\u001b[1;33m]\u001b[0m \u001b[1;32mfor\u001b[0m \u001b[0mx\u001b[0m \u001b[1;32min\u001b[0m \u001b[0marrays\u001b[0m\u001b[1;33m]\u001b[0m\u001b[1;33m\u001b[0m\u001b[0m\n",
      "\u001b[1;31mKeyboardInterrupt\u001b[0m: "
     ]
    }
   ],
   "source": [
    "model = Sequential()\n",
    "model.add(Conv2D(32, kernel_size=(3, 3),\n",
    "                 activation='relu',\n",
    "                 input_shape=(100,100,1)))\n",
    "model.add(Conv2D(64, (3, 3), activation='relu'))\n",
    "model.add(MaxPooling2D(pool_size=(2, 2)))\n",
    "model.add(Dropout(0.25))\n",
    "model.add(Flatten())\n",
    "model.add(Dense(128, activation='relu'))\n",
    "model.add(Dropout(0.5))\n",
    "model.add(Dense(4, activation='softmax'))\n",
    "\n",
    "batch_size = 120\n",
    "epochs = 12\n",
    "\n",
    "model.compile(loss=keras.losses.mean_squared_error,\n",
    "              optimizer=keras.optimizers.Adadelta(),\n",
    "              metrics=['accuracy', !I-NEED-HELP!])\n",
    "\n",
    "model.fit(x_train, y_train,\n",
    "          batch_size=batch_size,\n",
    "          epochs=epochs,\n",
    "          verbose=1,\n",
    "          validation_data=(x_test, y_test))\n",
    "score = model.evaluate(x_test, y_test, verbose=0)\n",
    "print('Test loss:', score[0])\n",
    "print('Test accuracy:', score[1])"
   ]
  },
  {
   "cell_type": "markdown",
   "metadata": {},
   "source": [
    "We'll be trying out different types of models via exploring their depth and architectures and see which one gives us best results"
   ]
  },
  {
   "cell_type": "markdown",
   "metadata": {},
   "source": [
    "### LeNet-5 ( 'model1' )"
   ]
  },
  {
   "cell_type": "code",
   "execution_count": null,
   "metadata": {},
   "outputs": [],
   "source": []
  },
  {
   "cell_type": "markdown",
   "metadata": {},
   "source": [
    "## Test Dataset Formation"
   ]
  },
  {
   "cell_type": "code",
   "execution_count": 4,
   "metadata": {},
   "outputs": [
    {
     "name": "stdout",
     "output_type": "stream",
     "text": [
      "0 Images swooped\n",
      "1000 Images swooped\n",
      "2000 Images swooped\n",
      "3000 Images swooped\n",
      "4000 Images swooped\n",
      "5000 Images swooped\n",
      "6000 Images swooped\n",
      "7000 Images swooped\n",
      "8000 Images swooped\n",
      "9000 Images swooped\n",
      "10000 Images swooped\n",
      "11000 Images swooped\n",
      "12000 Images swooped\n"
     ]
    }
   ],
   "source": [
    "# To get their (images) locations\n",
    "folder = os.getcwd()\n",
    "parent = os.path.abspath(os.path.join(folder, os.pardir))\n",
    "im_loc = [parent, '/images']\n",
    "im_loc = ''.join(im_loc)\n",
    "\n",
    "# To get the location of 'training.csv'\n",
    "data_loc = [parent,'/test.xlsx']\n",
    "data_loc = ''.join(data_loc)\n",
    "data = xlrd.open_workbook(data_loc)\n",
    "sheet = data.sheet_by_index(0) # This will allow us to extract out the image names from 'training.csv'\n",
    "\n",
    "test = []\n",
    "image_name_stack = []\n",
    "\n",
    "for i in range(sheet.nrows-1):\n",
    "\n",
    "    image = sheet.cell_value(i+1,0)\n",
    "    img_loc = ''.join([im_loc,'/',image])\n",
    "\n",
    "    exists = os.path.isfile(img_loc)\n",
    "\n",
    "    if exists: # Checking if any such image actually xists in the 'images' folder so to save ourselves from future distress\n",
    "        image_name_stack.append(image)\n",
    "        # Just for Progress Check\n",
    "        if np.remainder(i,1000)==0:\n",
    "            print(\"{} Images swooped\".format(i))"
   ]
  },
  {
   "cell_type": "code",
   "execution_count": 5,
   "metadata": {},
   "outputs": [
    {
     "name": "stdout",
     "output_type": "stream",
     "text": [
      "500\n",
      "1000\n",
      "1500\n",
      "2000\n",
      "2500\n",
      "3000\n",
      "3500\n",
      "4000\n",
      "4500\n",
      "5000\n",
      "5500\n",
      "6000\n",
      "6500\n",
      "7000\n",
      "7500\n",
      "8000\n",
      "8500\n",
      "9000\n",
      "9500\n",
      "10000\n",
      "10500\n",
      "11000\n",
      "11500\n",
      "12000\n",
      "12500\n"
     ]
    }
   ],
   "source": [
    "loc = \"C:\\\\Users\\\\npl\\\\Desktop\\\\Divyanshu\\\\Competition\\\\Dare2Complete\\\\Round_2\\\\images\\\\\"\n",
    "\n",
    "X = [] # To store all the test Images\n",
    "\n",
    "i = 0\n",
    "\n",
    "for image in image_name_stack:\n",
    "    im_loc = [loc, image] \n",
    "    im_loc = ''.join(im_loc)\n",
    "    \n",
    "    im = cv2.imread(im_loc, cv2.IMREAD_GRAYSCALE) # Reads the images as grayscale\n",
    "    im = cv2.resize(im, (100,100)) # Resize from 640x480 to 100x100\n",
    "    \n",
    "    X.append(im/255) # Append images into X while also normalizing them (by dividing by 255)\n",
    "    \n",
    "    i += 1     \n",
    "\n",
    "    if np.remainder(i, 500) == 0:\n",
    "        print(i)"
   ]
  },
  {
   "cell_type": "code",
   "execution_count": 6,
   "metadata": {},
   "outputs": [
    {
     "name": "stdout",
     "output_type": "stream",
     "text": [
      "12815\n"
     ]
    }
   ],
   "source": [
    "print(i)"
   ]
  },
  {
   "cell_type": "code",
   "execution_count": 7,
   "metadata": {},
   "outputs": [],
   "source": [
    "Whole = np.zeros((12815,100,100,1))"
   ]
  },
  {
   "cell_type": "code",
   "execution_count": null,
   "metadata": {},
   "outputs": [],
   "source": []
  },
  {
   "cell_type": "code",
   "execution_count": 8,
   "metadata": {},
   "outputs": [
    {
     "ename": "NameError",
     "evalue": "name 'pickleOut' is not defined",
     "output_type": "error",
     "traceback": [
      "\u001b[1;31m---------------------------------------------------------------------------\u001b[0m",
      "\u001b[1;31mNameError\u001b[0m                                 Traceback (most recent call last)",
      "\u001b[1;32m<ipython-input-8-9b0db239a577>\u001b[0m in \u001b[0;36m<module>\u001b[1;34m()\u001b[0m\n\u001b[0;32m      2\u001b[0m     \u001b[0mWhole\u001b[0m\u001b[1;33m[\u001b[0m\u001b[0mi\u001b[0m\u001b[1;33m,\u001b[0m\u001b[1;33m:\u001b[0m\u001b[1;33m,\u001b[0m\u001b[1;33m:\u001b[0m\u001b[1;33m,\u001b[0m\u001b[1;33m:\u001b[0m\u001b[1;33m]\u001b[0m \u001b[1;33m=\u001b[0m \u001b[0mX\u001b[0m\u001b[1;33m[\u001b[0m\u001b[0mi\u001b[0m\u001b[1;33m]\u001b[0m\u001b[1;33m.\u001b[0m\u001b[0mreshape\u001b[0m\u001b[1;33m(\u001b[0m\u001b[1;36m100\u001b[0m\u001b[1;33m,\u001b[0m\u001b[1;36m100\u001b[0m\u001b[1;33m,\u001b[0m\u001b[1;36m1\u001b[0m\u001b[1;33m)\u001b[0m\u001b[1;33m\u001b[0m\u001b[0m\n\u001b[0;32m      3\u001b[0m \u001b[1;33m\u001b[0m\u001b[0m\n\u001b[1;32m----> 4\u001b[1;33m \u001b[0mpickleOut\u001b[0m\u001b[1;33m(\u001b[0m\u001b[1;34m'x_submit.pickle'\u001b[0m\u001b[1;33m,\u001b[0m \u001b[0mWhole\u001b[0m\u001b[1;33m)\u001b[0m\u001b[1;33m\u001b[0m\u001b[0m\n\u001b[0m",
      "\u001b[1;31mNameError\u001b[0m: name 'pickleOut' is not defined"
     ]
    }
   ],
   "source": [
    "for i in range(12815):\n",
    "    Whole[i,:,:,:] = X[i].reshape(100,100,1)\n",
    "    \n",
    "pickleOut('x_submit.pickle', Whole)"
   ]
  },
  {
   "cell_type": "code",
   "execution_count": 10,
   "metadata": {},
   "outputs": [],
   "source": [
    "pickleOut('x_submit.pickle', Whole)"
   ]
  },
  {
   "cell_type": "code",
   "execution_count": null,
   "metadata": {},
   "outputs": [],
   "source": []
  },
  {
   "cell_type": "code",
   "execution_count": null,
   "metadata": {},
   "outputs": [],
   "source": []
  },
  {
   "cell_type": "markdown",
   "metadata": {},
   "source": [
    "## Making a new Training Set"
   ]
  },
  {
   "cell_type": "markdown",
   "metadata": {},
   "source": [
    "### 100x100 but Coloured"
   ]
  },
  {
   "cell_type": "code",
   "execution_count": 3,
   "metadata": {},
   "outputs": [
    {
     "name": "stdout",
     "output_type": "stream",
     "text": [
      "0 Images swooped\n",
      "1000 Images swooped\n",
      "2000 Images swooped\n",
      "3000 Images swooped\n",
      "4000 Images swooped\n",
      "5000 Images swooped\n",
      "6000 Images swooped\n",
      "7000 Images swooped\n",
      "8000 Images swooped\n",
      "9000 Images swooped\n",
      "10000 Images swooped\n",
      "11000 Images swooped\n",
      "12000 Images swooped\n",
      "13000 Images swooped\n"
     ]
    }
   ],
   "source": [
    "# To get their (images) locations\n",
    "folder = os.getcwd()\n",
    "parent = os.path.abspath(os.path.join(folder, os.pardir))\n",
    "im_loc = [parent, '/images']\n",
    "im_loc = ''.join(im_loc)\n",
    "\n",
    "# To get the location of 'training.csv'\n",
    "data_loc = [parent,'/training.xlsx']\n",
    "data_loc = ''.join(data_loc)\n",
    "data = xlrd.open_workbook(data_loc)\n",
    "sheet = data.sheet_by_index(0) # This will allow us to extract out the image names from 'training.csv'\n",
    "\n",
    "image_name_stack = np.zeros((14000,100,100,3))\n",
    "\n",
    "for i in range(sheet.nrows-1):\n",
    "\n",
    "    image = sheet.cell_value(i+1,0)\n",
    "    img_loc = ''.join([im_loc,'/',image])\n",
    "\n",
    "    exists = os.path.isfile(img_loc)\n",
    "\n",
    "    if exists: # Checking if any such image actually xists in the 'images' folder so to save ourselves from future distress\n",
    "        im = cv2.imread(img_loc)\n",
    "        im = cv2.resize(im, (100,100))\n",
    "        image_name_stack[i,:,:,:] = im\n",
    "        # Just for Progress Check\n",
    "        if np.remainder(i,1000)==0:\n",
    "            print(\"{} Images swooped\".format(i))"
   ]
  },
  {
   "cell_type": "code",
   "execution_count": 12,
   "metadata": {},
   "outputs": [
    {
     "name": "stdout",
     "output_type": "stream",
     "text": [
      "501\n",
      "1001\n",
      "1501\n",
      "2001\n",
      "2501\n",
      "3001\n",
      "3501\n",
      "4001\n",
      "4501\n",
      "5001\n",
      "5501\n",
      "6001\n",
      "6501\n",
      "7001\n",
      "7501\n",
      "8001\n",
      "8501\n",
      "9001\n",
      "9501\n",
      "10001\n",
      "10501\n",
      "11001\n",
      "11501\n",
      "12001\n",
      "12501\n",
      "13001\n",
      "13501\n",
      "14001\n"
     ]
    }
   ],
   "source": [
    "loc = \"C:\\\\Users\\\\npl\\\\Desktop\\\\Divyanshu\\\\Competition\\\\Dare2Complete\\\\Round_2\\\\images\\\\\"\n",
    "\n",
    "X = [] # To store all the test Images\n",
    "\n",
    "i = 0\n",
    "\n",
    "for image in image_name_stack:\n",
    "    im_loc = [loc, image] \n",
    "    im_loc = ''.join(im_loc)\n",
    "    \n",
    "    im = cv2.imread(im_loc) # Reads the images as it is\n",
    "    im = cv2.resize(im, (100,100)) # Resize from 640x480 to 100x100\n",
    "    \n",
    "    X.append(im/255) # Append images into X while also normalizing them (by dividing by 255)\n",
    "    \n",
    "    i += 1     \n",
    "\n",
    "    if np.remainder(i, 500) == 0:\n",
    "        print(i+1)"
   ]
  },
  {
   "cell_type": "code",
   "execution_count": 17,
   "metadata": {},
   "outputs": [
    {
     "ename": "MemoryError",
     "evalue": "",
     "output_type": "error",
     "traceback": [
      "\u001b[1;31m---------------------------------------------------------------------------\u001b[0m",
      "\u001b[1;31mMemoryError\u001b[0m                               Traceback (most recent call last)",
      "\u001b[1;32m<ipython-input-17-447457f502fe>\u001b[0m in \u001b[0;36m<module>\u001b[1;34m()\u001b[0m\n\u001b[1;32m----> 1\u001b[1;33m \u001b[0mWhole\u001b[0m \u001b[1;33m=\u001b[0m \u001b[0mnp\u001b[0m\u001b[1;33m.\u001b[0m\u001b[0mzeros\u001b[0m\u001b[1;33m(\u001b[0m\u001b[1;33m(\u001b[0m\u001b[1;36m14000\u001b[0m\u001b[1;33m,\u001b[0m\u001b[1;36m100\u001b[0m\u001b[1;33m,\u001b[0m\u001b[1;36m100\u001b[0m\u001b[1;33m,\u001b[0m\u001b[1;36m3\u001b[0m\u001b[1;33m)\u001b[0m\u001b[1;33m)\u001b[0m\u001b[1;33m\u001b[0m\u001b[0m\n\u001b[0m",
      "\u001b[1;31mMemoryError\u001b[0m: "
     ]
    }
   ],
   "source": [
    "Whole = np.zeros((14000,100,100,3))"
   ]
  },
  {
   "cell_type": "code",
   "execution_count": 15,
   "metadata": {},
   "outputs": [
    {
     "ename": "ValueError",
     "evalue": "could not broadcast input array from shape (100,100,3) into shape (100,100,1)",
     "output_type": "error",
     "traceback": [
      "\u001b[1;31m---------------------------------------------------------------------------\u001b[0m",
      "\u001b[1;31mValueError\u001b[0m                                Traceback (most recent call last)",
      "\u001b[1;32m<ipython-input-15-234c049ebb45>\u001b[0m in \u001b[0;36m<module>\u001b[1;34m()\u001b[0m\n\u001b[0;32m      1\u001b[0m \u001b[1;32mfor\u001b[0m \u001b[0mi\u001b[0m \u001b[1;32min\u001b[0m \u001b[0mrange\u001b[0m\u001b[1;33m(\u001b[0m\u001b[1;36m14000\u001b[0m\u001b[1;33m)\u001b[0m\u001b[1;33m:\u001b[0m\u001b[1;33m\u001b[0m\u001b[0m\n\u001b[1;32m----> 2\u001b[1;33m     \u001b[0mWhole\u001b[0m\u001b[1;33m[\u001b[0m\u001b[0mi\u001b[0m\u001b[1;33m,\u001b[0m\u001b[1;33m:\u001b[0m\u001b[1;33m,\u001b[0m\u001b[1;33m:\u001b[0m\u001b[1;33m,\u001b[0m\u001b[1;33m:\u001b[0m\u001b[1;33m]\u001b[0m \u001b[1;33m=\u001b[0m \u001b[0mX\u001b[0m\u001b[1;33m[\u001b[0m\u001b[0mi\u001b[0m\u001b[1;33m]\u001b[0m\u001b[1;33m.\u001b[0m\u001b[0mreshape\u001b[0m\u001b[1;33m(\u001b[0m\u001b[1;36m100\u001b[0m\u001b[1;33m,\u001b[0m\u001b[1;36m100\u001b[0m\u001b[1;33m,\u001b[0m\u001b[1;36m3\u001b[0m\u001b[1;33m)\u001b[0m\u001b[1;33m\u001b[0m\u001b[0m\n\u001b[0m",
      "\u001b[1;31mValueError\u001b[0m: could not broadcast input array from shape (100,100,3) into shape (100,100,1)"
     ]
    }
   ],
   "source": [
    "for i in range(14000):\n",
    "    Whole[i,:,:,:] = X[i].reshape(100,100,3)"
   ]
  },
  {
   "cell_type": "code",
   "execution_count": 4,
   "metadata": {},
   "outputs": [
    {
     "ename": "MemoryError",
     "evalue": "",
     "output_type": "error",
     "traceback": [
      "\u001b[1;31m---------------------------------------------------------------------------\u001b[0m",
      "\u001b[1;31mMemoryError\u001b[0m                               Traceback (most recent call last)",
      "\u001b[1;32m<ipython-input-4-fc0ece2ee0e0>\u001b[0m in \u001b[0;36m<module>\u001b[1;34m()\u001b[0m\n\u001b[1;32m----> 1\u001b[1;33m \u001b[0mpickleOut\u001b[0m\u001b[1;33m(\u001b[0m\u001b[1;34m'x_100_colour.pickle'\u001b[0m\u001b[1;33m,\u001b[0m \u001b[0mimage_name_stack\u001b[0m\u001b[1;33m)\u001b[0m\u001b[1;33m\u001b[0m\u001b[0m\n\u001b[0m",
      "\u001b[1;32m<ipython-input-2-735fb6b3f35e>\u001b[0m in \u001b[0;36mpickleOut\u001b[1;34m(name, to_be_stored)\u001b[0m\n\u001b[0;32m      9\u001b[0m     \u001b[1;31m# 'to_be_stored' - the variable of which we'll be making the \"pickle\"\u001b[0m\u001b[1;33m\u001b[0m\u001b[1;33m\u001b[0m\u001b[0m\n\u001b[0;32m     10\u001b[0m     \u001b[0mpickle_out\u001b[0m \u001b[1;33m=\u001b[0m \u001b[0mopen\u001b[0m\u001b[1;33m(\u001b[0m\u001b[0mname\u001b[0m\u001b[1;33m,\u001b[0m\u001b[1;34m'wb'\u001b[0m\u001b[1;33m)\u001b[0m\u001b[1;33m\u001b[0m\u001b[0m\n\u001b[1;32m---> 11\u001b[1;33m     \u001b[0mpickle\u001b[0m\u001b[1;33m.\u001b[0m\u001b[0mdump\u001b[0m\u001b[1;33m(\u001b[0m\u001b[0mto_be_stored\u001b[0m\u001b[1;33m,\u001b[0m \u001b[0mpickle_out\u001b[0m\u001b[1;33m)\u001b[0m\u001b[1;33m\u001b[0m\u001b[0m\n\u001b[0m\u001b[0;32m     12\u001b[0m     \u001b[0mpickle_out\u001b[0m\u001b[1;33m.\u001b[0m\u001b[0mclose\u001b[0m\u001b[1;33m\u001b[0m\u001b[0m\n",
      "\u001b[1;31mMemoryError\u001b[0m: "
     ]
    }
   ],
   "source": [
    "pickleOut('x_100_colour.pickle', image_name_stack)"
   ]
  },
  {
   "cell_type": "code",
   "execution_count": null,
   "metadata": {},
   "outputs": [],
   "source": [
    "image_name_stack"
   ]
  },
  {
   "cell_type": "code",
   "execution_count": 11,
   "metadata": {},
   "outputs": [],
   "source": [
    "x_train_100c_1 = image_name_stack[0:3000,:,:,:]\n",
    "x_train_100c_2 = image_name_stack[3000:6000,:,:,:]\n",
    "x_train_100c_3 = image_name_stack[6000:9000,:,:,:]\n",
    "x_train_100c_4 = image_name_stack[9000:12000,:,:,:]\n",
    "x_train_100c_5 = image_name_stack[12000:13500,:,:,:]\n",
    "x_valid_100c = image_name_stack[13500:14000,:,:,:]"
   ]
  },
  {
   "cell_type": "code",
   "execution_count": 12,
   "metadata": {},
   "outputs": [],
   "source": [
    "pickleOut('x_train_100c_1.pickle', x_train_100c_1)"
   ]
  },
  {
   "cell_type": "code",
   "execution_count": 13,
   "metadata": {},
   "outputs": [],
   "source": [
    "pickleOut('x_train_100c_2.pickle', x_train_100c_2)"
   ]
  },
  {
   "cell_type": "code",
   "execution_count": 14,
   "metadata": {},
   "outputs": [],
   "source": [
    "pickleOut('x_train_100c_3.pickle', x_train_100c_3)"
   ]
  },
  {
   "cell_type": "code",
   "execution_count": 15,
   "metadata": {},
   "outputs": [],
   "source": [
    "pickleOut('x_train_100c_4.pickle', x_train_100c_4)"
   ]
  },
  {
   "cell_type": "code",
   "execution_count": 17,
   "metadata": {},
   "outputs": [],
   "source": [
    "pickleOut('x_train_100c_5.pickle', x_train_100c_5)"
   ]
  },
  {
   "cell_type": "code",
   "execution_count": 18,
   "metadata": {},
   "outputs": [],
   "source": [
    "pickleOut('x_valid_100c.pickle', x_valid_100c)"
   ]
  },
  {
   "cell_type": "markdown",
   "metadata": {},
   "source": [
    "### 640x480 and coloured"
   ]
  },
  {
   "cell_type": "markdown",
   "metadata": {},
   "source": [
    "# Test"
   ]
  },
  {
   "cell_type": "code",
   "execution_count": 13,
   "metadata": {},
   "outputs": [],
   "source": [
    "from keras.models import load_model\n",
    "\n",
    "model_1 = load_model('model_0038_83_1.h5')"
   ]
  },
  {
   "cell_type": "code",
   "execution_count": 5,
   "metadata": {},
   "outputs": [],
   "source": [
    "x_submit = pickleIn('x_submit.pickle')"
   ]
  },
  {
   "cell_type": "code",
   "execution_count": 14,
   "metadata": {},
   "outputs": [],
   "source": [
    "pred_submit = model_1.predict(x_submit) "
   ]
  },
  {
   "cell_type": "code",
   "execution_count": 15,
   "metadata": {},
   "outputs": [
    {
     "data": {
      "text/plain": [
       "(12815, 4)"
      ]
     },
     "execution_count": 15,
     "metadata": {},
     "output_type": "execute_result"
    }
   ],
   "source": [
    "pred_submit.shape"
   ]
  },
  {
   "cell_type": "code",
   "execution_count": 25,
   "metadata": {},
   "outputs": [
    {
     "data": {
      "text/plain": [
       "[<matplotlib.lines.Line2D at 0x1884e8a1e48>]"
      ]
     },
     "execution_count": 25,
     "metadata": {},
     "output_type": "execute_result"
    },
    {
     "data": {
      "image/png": "[encoded data removed]",
      "text/plain": [
       "<matplotlib.figure.Figure at 0x1884e9babe0>"
      ]
     },
     "metadata": {},
     "output_type": "display_data"
    }
   ],
   "source": [
    "%matplotlib inline\n",
    "\n",
    "i = 700\n",
    "\n",
    "some = x_submit[i,:,:,:]\n",
    "\n",
    "plt.imshow(some.reshape(100,100),cmap = 'gray')\n",
    "plt.plot(100*pred_submit[i,0],100*pred_submit[i,1],'ro')\n",
    "\n",
    "x1_ = 100*((2*pred_submit[i,0]) - pred_submit[i,2])/2\n",
    "y1_ = 100*((2*pred_submit[i,1]) - pred_submit[i,3])/2\n",
    "x2_ = 100*((2*pred_submit[i,0]) + pred_submit[i,2])/2\n",
    "y2_ = 100*((2*pred_submit[i,1]) + pred_submit[i,3])/2\n",
    "\n",
    "plt.plot(x1_,y1_,'ro')\n",
    "plt.plot(x2_,y2_,'ro')\n",
    "plt.plot(x1_,y2_,'ro')\n",
    "plt.plot(x2_,y1_,'ro')\n"
   ]
  },
  {
   "cell_type": "code",
   "execution_count": 19,
   "metadata": {},
   "outputs": [],
   "source": [
    "import xlwt\n",
    "\n",
    "wb = xlwt.Workbook()\n",
    "\n",
    "ws = wb.add_sheet(\"Sheet1\")\n",
    "\n",
    "ws.write(0,0,\"x1\")\n",
    "ws.write(0,1,\"x2\")\n",
    "ws.write(0,2,\"y1\")\n",
    "ws.write(0,3,\"y2\")\n",
    "\n",
    "for i in range(12815):\n",
    "    \n",
    "    x1_ = 640*((2*pred_submit[i,0]) - pred_submit[i,2])/2\n",
    "    y1_ = 480*((2*pred_submit[i,1]) - pred_submit[i,3])/2\n",
    "    x2_ = 640*((2*pred_submit[i,0]) + pred_submit[i,2])/2\n",
    "    y2_ = 480*((2*pred_submit[i,1]) + pred_submit[i,3])/2\n",
    "    \n",
    "    ws.write(i+1,0,x1_)\n",
    "    ws.write(i+1,1,x2_)\n",
    "    ws.write(i+1,2,y1_)\n",
    "    ws.write(i+1,3,y2_)\n",
    "    \n",
    "wb.save(\"submit.xls\")"
   ]
  },
  {
   "cell_type": "code",
   "execution_count": null,
   "metadata": {},
   "outputs": [],
   "source": []
  }
 ],
 "metadata": {
  "kernelspec": {
   "display_name": "Python 3",
   "language": "python",
   "name": "python3"
  },
  "language_info": {
   "codemirror_mode": {
    "name": "ipython",
    "version": 3
   },
   "file_extension": ".py",
   "mimetype": "text/x-python",
   "name": "python",
   "nbconvert_exporter": "python",
   "pygments_lexer": "ipython3",
   "version": "3.6.4"
  }
 },
 "nbformat": 4,
 "nbformat_minor": 2
}
