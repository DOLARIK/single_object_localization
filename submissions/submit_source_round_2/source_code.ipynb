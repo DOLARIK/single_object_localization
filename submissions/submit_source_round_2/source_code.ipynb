{
 "cells": [
  {
   "cell_type": "markdown",
   "metadata": {},
   "source": [
    "# Importing Necessary Libraries"
   ]
  },
  {
   "cell_type": "code",
   "execution_count": 76,
   "metadata": {},
   "outputs": [],
   "source": [
    "import numpy as np\n",
    "import cv2\n",
    "import os\n",
    "import matplotlib.pyplot as plt\n",
    "import pickle\n",
    "import xlrd\n",
    "import tensorflow as tf\n",
    "import keras\n",
    "from keras.models import Sequential\n",
    "from keras.layers import Dense, Conv2D, MaxPooling2D, Dropout, Activation, Flatten\n",
    "from keras.layers.normalization import BatchNormalization\n",
    "import keras.backend as K\n",
    "from keras.models import load_model\n",
    "import time\n",
    "\n",
    "%matplotlib inline"
   ]
  },
  {
   "cell_type": "markdown",
   "metadata": {},
   "source": [
    "# Data Preparation"
   ]
  },
  {
   "cell_type": "markdown",
   "metadata": {},
   "source": [
    "## Defining some funcitons"
   ]
  },
  {
   "cell_type": "code",
   "execution_count": 4,
   "metadata": {},
   "outputs": [],
   "source": [
    "def process(image):\n",
    "    \n",
    "    image_og = image\n",
    "    image = cv2.cvtColor(image, cv2.COLOR_BGR2GRAY)\n",
    "    some = cv2.resize(image, (100, 100))/255\n",
    "    some = some.reshape(1, 100, 100, 1)\n",
    "    \n",
    "    return some\n",
    "\n",
    "# Simplifying the 'pickling' process as we'll need this quite often\n",
    "def pickleIn(name):    \n",
    "    # 'name' - name of the file we wish to load (should be a string, eg. 'train_batch.pickle')\n",
    "    pickle_in = open(name,'rb')\n",
    "    return pickle.load(pickle_in)\n",
    "\n",
    "def pickleOut(name, to_be_stored):\n",
    "    # 'name' - name of the file we wish to store (should be a string, eg. 'train_batch.pickle')\n",
    "    # 'to_be_stored' - the variable of which we'll be making the \"pickle\" \n",
    "    pickle_out = open(name,'wb')\n",
    "    pickle.dump(to_be_stored, pickle_out)\n",
    "    pickle_out.close"
   ]
  },
  {
   "cell_type": "markdown",
   "metadata": {},
   "source": [
    "Below have we provided 4 variables - *'x_train', 'y_train', 'x_valid', 'y_valid'*\n",
    "\n",
    "'x_train' and 'x_valid' are 4D Tensors\n",
    "'y_train' and 'y_valid' are 2D Tensors\n",
    "\n",
    "All of them are initialized with '0'\n",
    "\n",
    "Now to train the model we have to feed it with actual 12000 images in the form of x_train (pre-processed) and 2000 images in x_valid and their respective labels in y_train and y_labels\n",
    "\n",
    "*Kindly refer Approach_text.pdf to know how to make the image labels*"
   ]
  },
  {
   "cell_type": "code",
   "execution_count": null,
   "metadata": {},
   "outputs": [],
   "source": [
    "x_train = np.zeros((12000,100,100,1))\n",
    "y_train = np.zeros((12000,4))\n",
    "x_valid = np.zeros((2000,100,100,1))\n",
    "y_valid = np.zeros((2000,4))"
   ]
  },
  {
   "cell_type": "markdown",
   "metadata": {},
   "source": [
    "Google drive link to *d2c_data.tar* - https://drive.google.com/open?id=1RVoKzP6IeulTmuLRg6cgsoVEr3RcJAe-\n",
    "\n",
    "It containes -\n",
    "    *x_train.pickle*\n",
    "    *y_train.pickle*\n",
    "    *x_valid.pickle*\n",
    "    *y_valid.pickle*"
   ]
  },
  {
   "cell_type": "code",
   "execution_count": 5,
   "metadata": {},
   "outputs": [],
   "source": [
    "# Write your code here or use this code of mine #\n",
    "\n",
    "# the Training Files\n",
    "x_train = pickleIn('x_train.pickle')\n",
    "y_train = pickleIn('y_train.pickle')\n",
    "x_valid = pickleIn('x_valid.pickle')\n",
    "y_valid = pickleIn('y_valid.pickle')"
   ]
  },
  {
   "cell_type": "markdown",
   "metadata": {},
   "source": [
    "# Training Phase"
   ]
  },
  {
   "cell_type": "markdown",
   "metadata": {},
   "source": [
    "## EITHER we can DIRECTLY LOAD the MODEL OR skip to 'Building our Model'"
   ]
  },
  {
   "cell_type": "markdown",
   "metadata": {},
   "source": [
    "We have stored the weights in the file named *model_0038_83_1.h5*\n",
    "\n",
    "and here is the google drive link to the model - https://drive.google.com/open?id=1Ed81aWjZ_tH_CdjbC7j2RddalnuWYpmh"
   ]
  },
  {
   "cell_type": "code",
   "execution_count": 5,
   "metadata": {},
   "outputs": [],
   "source": [
    "model = load_model('model_0038_83_1.h5')"
   ]
  },
  {
   "cell_type": "markdown",
   "metadata": {},
   "source": [
    "## Building our Model"
   ]
  },
  {
   "cell_type": "code",
   "execution_count": null,
   "metadata": {},
   "outputs": [],
   "source": [
    "model = Sequential()\n",
    "\n",
    "model.add(ZeroPadding2D(padding=(1, 1), data_format=None))\n",
    "\n",
    "model.add(Conv2D(5, kernel_size=(2, 2),\n",
    "                 activation='relu',\n",
    "                 input_shape=(100,100,1)))\n",
    "model.add(Conv2D(5, (2, 2), activation='relu'))\n",
    "model.add(BatchNormalization())\n",
    "\n",
    "model.add(Conv2D(10, (2, 2), activation='relu'))\n",
    "model.add(Conv2D(10, (2, 2), activation='relu'))\n",
    "model.add(ZeroPadding2D(padding=(1, 1), data_format=None))\n",
    "model.add(BatchNormalization())\n",
    "\n",
    "model.add(Conv2D(10, (2, 2), activation='relu'))\n",
    "model.add(Conv2D(10, (2, 2), activation='relu'))\n",
    "model.add(BatchNormalization())\n",
    "\n",
    "model.add(Conv2D(10, (2, 2), activation='relu'))\n",
    "model.add(Conv2D(10, (2, 2), activation='relu'))\n",
    "model.add(BatchNormalization())\n",
    "\n",
    "model.add(Conv2D(20, (3, 3), activation='relu'))\n",
    "model.add(Conv2D(20, (3, 3), activation='relu'))\n",
    "model.add(AveragePooling2D(pool_size=(2, 2)))\n",
    "\n",
    "model.add(Conv2D(15, (3, 3), activation='relu'))\n",
    "model.add(AveragePooling2D(pool_size=(2, 2)))\n",
    "\n",
    "model.add(Conv2D(30, (3, 3), activation='relu'))\n",
    "model.add(Conv2D(30, (3, 3), activation='relu'))\n",
    "model.add(AveragePooling2D(pool_size=(2, 2)))\n",
    "model.add(Dropout(0.2))\n",
    "\n",
    "model.add(Flatten())\n",
    "model.add(Dense(1600, activation='relu'))\n",
    "model.add(Dropout(0.5))\n",
    "\n",
    "model.add(Dense(4))"
   ]
  },
  {
   "cell_type": "markdown",
   "metadata": {},
   "source": [
    "## Compliling Our Model"
   ]
  },
  {
   "cell_type": "code",
   "execution_count": null,
   "metadata": {},
   "outputs": [],
   "source": [
    "model.compile(loss=keras.losses.mean_squared_error,\n",
    "              optimizer=keras.optimizers.Adam(),\n",
    "              metrics=['accuracy'])"
   ]
  },
  {
   "cell_type": "markdown",
   "metadata": {},
   "source": [
    "## Training the Model"
   ]
  },
  {
   "cell_type": "code",
   "execution_count": null,
   "metadata": {},
   "outputs": [],
   "source": [
    "batch_size = 120\n",
    "epochs = 125\n",
    "\n",
    "model.fit(x_train, y_train,\n",
    "          batch_size=batch_size,\n",
    "          epochs=epochs,\n",
    "          verbose=1,\n",
    "          validation_data=(x_valid, y_valid))\n",
    "\n",
    "score = model.evaluate(x_valid, y_valid, verbose=0)\n",
    "print('Test loss:', score[0])\n",
    "print('Test accuracy:', score[1])"
   ]
  },
  {
   "cell_type": "markdown",
   "metadata": {},
   "source": [
    "# Prediction Phase"
   ]
  },
  {
   "cell_type": "markdown",
   "metadata": {},
   "source": [
    "## Test Data Preparation"
   ]
  },
  {
   "cell_type": "markdown",
   "metadata": {},
   "source": [
    "*x_test* is also a 4D Tensor of size *(Number, 100, 100, 1)* where *Number* is the number of test samples one plans to give to the model to predict "
   ]
  },
  {
   "cell_type": "code",
   "execution_count": null,
   "metadata": {},
   "outputs": [],
   "source": [
    "Number = #Enter a number here#\n",
    "\n",
    "x_test = np.zeros((Number, 100, 100, 1))"
   ]
  },
  {
   "cell_type": "code",
   "execution_count": null,
   "metadata": {},
   "outputs": [],
   "source": [
    "for i in range(Number):\n",
    "    \n",
    "    im_loc = 'C:/location/example'\n",
    "    \n",
    "    x [i,:,:,:] = process(cv2.imread(im_loc))"
   ]
  },
  {
   "cell_type": "markdown",
   "metadata": {},
   "source": [
    "*x_submit.pickle* has the test images mentioned in the *test.csv*\n",
    "\n",
    "Google Drive Link - https://drive.google.com/open?id=1igc5FSytG8iZ6otXhkEyubuc9M8S4LQ5"
   ]
  },
  {
   "cell_type": "code",
   "execution_count": null,
   "metadata": {},
   "outputs": [],
   "source": [
    "# Or use this code of mine #\n",
    "\n",
    "x_test = pickleIn('x_submit.pickle')"
   ]
  },
  {
   "cell_type": "code",
   "execution_count": 30,
   "metadata": {},
   "outputs": [],
   "source": [
    "pred = model.predict(x_test[0:2,:,:,:])"
   ]
  },
  {
   "cell_type": "code",
   "execution_count": 31,
   "metadata": {},
   "outputs": [
    {
     "name": "stdout",
     "output_type": "stream",
     "text": [
      "[[0.5267871  0.5094267  0.35535783 0.66509175]\n",
      " [0.50417024 0.52293444 0.7433772  0.43731084]]\n"
     ]
    }
   ],
   "source": [
    "print(pred)"
   ]
  },
  {
   "cell_type": "markdown",
   "metadata": {},
   "source": [
    "## Defining Some Functions "
   ]
  },
  {
   "cell_type": "markdown",
   "metadata": {},
   "source": [
    "***iou*** would be used to calculate the Intersection over Union for bounding boxes"
   ]
  },
  {
   "cell_type": "code",
   "execution_count": null,
   "metadata": {},
   "outputs": [],
   "source": [
    "def iou(y_true, y_pred):\n",
    "\n",
    "    x_t = y_true[0]\n",
    "    y_t = y_true[1]\n",
    "    w_t = y_true[2]\n",
    "    h_t = y_true[3]\n",
    "\n",
    "    # Calculating the Co-ordinates from Center and Length Values (Actual Square)\n",
    "    x1_t = ((2*x_t) - w_t)/2\n",
    "    y1_t = ((2*y_t) - h_t)/2\n",
    "    x2_t = ((2*x_t) + w_t)/2\n",
    "    y2_t = ((2*y_t) + h_t)/2\n",
    "\n",
    "    x_p = y_pred[0]\n",
    "    y_p = y_pred[1]\n",
    "    w_p = y_pred[2]\n",
    "    h_p = y_pred[3]\n",
    "\n",
    "    # Calculating the Co-ordinates from center and length values (Prediction Square)\n",
    "    x1_p = ((2*x_p) - w_p)/2\n",
    "    y1_p = ((2*y_p) - h_p)/2\n",
    "    x2_p = ((2*x_p) + w_p)/2\n",
    "    y2_p = ((2*y_p) + h_p)/2\n",
    "\n",
    "    # Calculating the co-ordinates of intersecting square\n",
    "    x1 = max(x1_t,x1_p)\n",
    "    y1 = max(y1_t,y1_p)\n",
    "    x2 = min(x2_t,x2_p)\n",
    "    y2 = min(y2_t,y2_p)\n",
    "\n",
    "    # Area of Intersection\n",
    "    I_area = (x2-x1)*(y2-y1)\n",
    "\n",
    "    true_area = (x2_t-x1_t)*(y2_t-y1_t)\n",
    "    pred_area = (x2_p-x1_p)*(y2_p-y1_p)\n",
    "\n",
    "    # Union of both regions\n",
    "    U_area = true_area + pred_area - I_area\n",
    "\n",
    "    # Intersection over Union\n",
    "    IOU = I_area/U_area\n",
    "\n",
    "    return IOU"
   ]
  },
  {
   "cell_type": "markdown",
   "metadata": {},
   "source": [
    "If given the location of a particular image then we can use the following definition over the image"
   ]
  },
  {
   "cell_type": "code",
   "execution_count": 110,
   "metadata": {},
   "outputs": [],
   "source": [
    "def predict_1x100x100x1(image):\n",
    "    \n",
    "    some = image[i,:,:,:]\n",
    "\n",
    "    plt.imshow(some.reshape(100,100))\n",
    "    plt.plot(100*pred[i,0],100*pred[i,1],'ro')\n",
    "\n",
    "    x1_ = 100*((2*pred[i,0]) - pred[i,2])/2\n",
    "    y1_ = 100*((2*pred[i,1]) - pred[i,3])/2\n",
    "    x2_ = 100*((2*pred[i,0]) + pred[i,2])/2\n",
    "    y2_ = 100*((2*pred[i,1]) + pred[i,3])/2\n",
    "\n",
    "    plt.plot(x1_,y1_,'ro')\n",
    "    plt.plot(x2_,y2_,'ro')\n",
    "    plt.plot(x1_,y2_,'ro')\n",
    "    plt.plot(x2_,y1_,'ro')\n",
    "    \n",
    "def predict_640x480x3(image, model):\n",
    "    \n",
    "    # image - is the original image without any preprocessing step\n",
    "    # model - is the model we used to train\n",
    "    start = time.time()\n",
    "    pred = model.predict(process(image))\n",
    "    end = time.time()\n",
    "\n",
    "    x1_ = 640*((2*pred[0,0]) - pred[0,2])/2\n",
    "    y1_ = 480*((2*pred[0,1]) - pred[0,3])/2\n",
    "    x2_ = 640*((2*pred[0,0]) + pred[0,2])/2\n",
    "    y2_ = 480*((2*pred[0,1]) + pred[0,3])/2\n",
    "    \n",
    "    '''cv2.imshow('hi',image)\n",
    "    '''\n",
    "    \n",
    "    cv2.rectangle(image, (int(x1_),int(y1_)), (int(x2_),int(y2_)),(0,0,255),3)\n",
    "    \n",
    "    plt.imshow(cv2.cvtColor(image, cv2.COLOR_BGR2RGB))\n",
    "\n",
    "    print(end - start)\n",
    "    \n",
    "    '''plt.plot(640*pred[0,0], 480*pred[0,1],'ro')\n",
    "    \n",
    "    plt.plot(x1_,y1_,'ro')\n",
    "    plt.plot(x2_,y2_,'ro')\n",
    "    plt.plot(x1_,y2_,'ro')\n",
    "    plt.plot(x2_,y1_,'ro')'''"
   ]
  },
  {
   "cell_type": "code",
   "execution_count": 26,
   "metadata": {},
   "outputs": [
    {
     "name": "stdout",
     "output_type": "stream",
     "text": [
      "_________________________________________________________________\n",
      "Layer (type)                 Output Shape              Param #   \n",
      "=================================================================\n",
      "zero_padding2d_11 (ZeroPaddi (None, 102, 102, 1)       0         \n",
      "_________________________________________________________________\n",
      "conv2d_784 (Conv2D)          (None, 101, 101, 5)       25        \n",
      "_________________________________________________________________\n",
      "conv2d_785 (Conv2D)          (None, 100, 100, 5)       105       \n",
      "_________________________________________________________________\n",
      "batch_normalization_99 (Batc (None, 100, 100, 5)       20        \n",
      "_________________________________________________________________\n",
      "conv2d_786 (Conv2D)          (None, 99, 99, 10)        210       \n",
      "_________________________________________________________________\n",
      "conv2d_787 (Conv2D)          (None, 98, 98, 10)        410       \n",
      "_________________________________________________________________\n",
      "zero_padding2d_12 (ZeroPaddi (None, 100, 100, 10)      0         \n",
      "_________________________________________________________________\n",
      "batch_normalization_100 (Bat (None, 100, 100, 10)      40        \n",
      "_________________________________________________________________\n",
      "conv2d_788 (Conv2D)          (None, 99, 99, 10)        410       \n",
      "_________________________________________________________________\n",
      "conv2d_789 (Conv2D)          (None, 98, 98, 10)        410       \n",
      "_________________________________________________________________\n",
      "batch_normalization_101 (Bat (None, 98, 98, 10)        40        \n",
      "_________________________________________________________________\n",
      "conv2d_790 (Conv2D)          (None, 97, 97, 10)        410       \n",
      "_________________________________________________________________\n",
      "conv2d_791 (Conv2D)          (None, 96, 96, 10)        410       \n",
      "_________________________________________________________________\n",
      "batch_normalization_102 (Bat (None, 96, 96, 10)        40        \n",
      "_________________________________________________________________\n",
      "conv2d_792 (Conv2D)          (None, 94, 94, 20)        1820      \n",
      "_________________________________________________________________\n",
      "conv2d_793 (Conv2D)          (None, 92, 92, 20)        3620      \n",
      "_________________________________________________________________\n",
      "average_pooling2d_1 (Average (None, 46, 46, 20)        0         \n",
      "_________________________________________________________________\n",
      "conv2d_794 (Conv2D)          (None, 44, 44, 15)        2715      \n",
      "_________________________________________________________________\n",
      "average_pooling2d_2 (Average (None, 22, 22, 15)        0         \n",
      "_________________________________________________________________\n",
      "conv2d_795 (Conv2D)          (None, 20, 20, 30)        4080      \n",
      "_________________________________________________________________\n",
      "conv2d_796 (Conv2D)          (None, 18, 18, 30)        8130      \n",
      "_________________________________________________________________\n",
      "average_pooling2d_3 (Average (None, 9, 9, 30)          0         \n",
      "_________________________________________________________________\n",
      "dropout_19 (Dropout)         (None, 9, 9, 30)          0         \n",
      "_________________________________________________________________\n",
      "flatten_9 (Flatten)          (None, 2430)              0         \n",
      "_________________________________________________________________\n",
      "dense_16 (Dense)             (None, 1600)              3889600   \n",
      "_________________________________________________________________\n",
      "dropout_20 (Dropout)         (None, 1600)              0         \n",
      "_________________________________________________________________\n",
      "dense_17 (Dense)             (None, 4)                 6404      \n",
      "=================================================================\n",
      "Total params: 3,918,899\n",
      "Trainable params: 3,918,829\n",
      "Non-trainable params: 70\n",
      "_________________________________________________________________\n"
     ]
    }
   ],
   "source": [
    "model.summary()"
   ]
  },
  {
   "cell_type": "markdown",
   "metadata": {},
   "source": [
    "# Writing into *test.csv*"
   ]
  },
  {
   "cell_type": "code",
   "execution_count": null,
   "metadata": {},
   "outputs": [],
   "source": [
    "pred_submit = model_1.predict(x_submit) "
   ]
  },
  {
   "cell_type": "markdown",
   "metadata": {},
   "source": [
    "We first wrote the prediction values in *submit.xls* then copied the cells in *test.csv* and uploaded it on the portal"
   ]
  },
  {
   "cell_type": "code",
   "execution_count": null,
   "metadata": {},
   "outputs": [],
   "source": [
    "import xlwt\n",
    "\n",
    "wb = xlwt.Workbook()\n",
    "\n",
    "ws = wb.add_sheet(\"Sheet1\")\n",
    "\n",
    "ws.write(0,0,\"x1\")\n",
    "ws.write(0,1,\"x2\")\n",
    "ws.write(0,2,\"y1\")\n",
    "ws.write(0,3,\"y2\")\n",
    "\n",
    "for i in range(12815):\n",
    "    \n",
    "    x1_ = 640*((2*pred_submit[i,0]) - pred_submit[i,2])/2\n",
    "    y1_ = 480*((2*pred_submit[i,1]) - pred_submit[i,3])/2\n",
    "    x2_ = 640*((2*pred_submit[i,0]) + pred_submit[i,2])/2\n",
    "    y2_ = 480*((2*pred_submit[i,1]) + pred_submit[i,3])/2\n",
    "    \n",
    "    ws.write(i+1,0,x1_)\n",
    "    ws.write(i+1,1,x2_)\n",
    "    ws.write(i+1,2,y1_)\n",
    "    ws.write(i+1,3,y2_)\n",
    "    \n",
    "wb.save(\"submit.xls\")"
   ]
  },
  {
   "cell_type": "code",
   "execution_count": 67,
   "metadata": {},
   "outputs": [],
   "source": [
    "import cv2"
   ]
  },
  {
   "cell_type": "markdown",
   "metadata": {},
   "source": [
    "## Working of *predict_640x480x3(image, model)*\n",
    "\n",
    "- read an *image* from computer and then feed it, along with the *model*\n",
    "- it will output an image with bounding box co-ordinates marked over it"
   ]
  },
  {
   "cell_type": "code",
   "execution_count": 160,
   "metadata": {},
   "outputs": [
    {
     "name": "stdout",
     "output_type": "stream",
     "text": [
      "0.1534886360168457\n"
     ]
    },
    {
     "data": {
      "image/png": "[encoded data removed]",
      "text/plain": [
       "<matplotlib.figure.Figure at 0x23fda868cf8>"
      ]
     },
     "metadata": {},
     "output_type": "display_data"
    }
   ],
   "source": [
    "name = \"1474640473704DSC07045.png\"\n",
    "loc = [\"C:\\\\Users\\\\npl\\\\Desktop\\\\Divyanshu\\\\Competition\\\\Dare2Complete\\\\Round_2\\\\images\\\\\",name]\n",
    "loc = ''.join(loc)\n",
    "image = cv2.imread(loc)\n",
    "\n",
    "# Evaluator can give any image location the above is just an example...\n",
    "# but the model has to either be trained or loaded from Google drive link\n",
    "\n",
    "predict_640x480x3(image, model)"
   ]
  },
  {
   "cell_type": "code",
   "execution_count": null,
   "metadata": {},
   "outputs": [],
   "source": []
  }
 ],
 "metadata": {
  "kernelspec": {
   "display_name": "Python 3",
   "language": "python",
   "name": "python3"
  },
  "language_info": {
   "codemirror_mode": {
    "name": "ipython",
    "version": 3
   },
   "file_extension": ".py",
   "mimetype": "text/x-python",
   "name": "python",
   "nbconvert_exporter": "python",
   "pygments_lexer": "ipython3",
   "version": "3.6.4"
  }
 },
 "nbformat": 4,
 "nbformat_minor": 2
}
